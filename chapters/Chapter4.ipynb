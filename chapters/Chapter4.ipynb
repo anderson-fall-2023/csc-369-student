{
 "cells": [
  {
   "cell_type": "markdown",
   "metadata": {
    "hideCode": false,
    "hidePrompt": false,
    "slideshow": {
     "slide_type": "slide"
    }
   },
   "source": [
    "# Chapter 4 - When old models of computing fail\n",
    "\n",
    "## Hadoop and Spark\n",
    "\n",
    "Paul E. Anderson"
   ]
  },
  {
   "cell_type": "markdown",
   "metadata": {
    "slideshow": {
     "slide_type": "subslide"
    }
   },
   "source": [
    "## Ice Breaker\n",
    "\n",
    "What is the best dessert in SLO?"
   ]
  },
  {
   "cell_type": "markdown",
   "metadata": {
    "slideshow": {
     "slide_type": "subslide"
    }
   },
   "source": [
    "While this text can be viewed as PDF, it is most useful to have a Jupyter environment. I have an environment ready for each of you, but you can get your own local environment going in several ways. One popular way is with Anaconda (<a href=\"https://www.anaconda.com/\">https://www.anaconda.com/</a>). Because of the limited time, you can use my server."
   ]
  },
  {
   "cell_type": "markdown",
   "metadata": {},
   "source": [
    "## What's wrong with our language extensions (Ray and Dask)?\n",
    "They are tied to a specific language, and designed for a specific purpose. They are not intended for every distributed computing task. Well. Nothing is created to cover every use case, but many engineers and data scientists would consider Ray and Dask not sufficient for enterprise big data analytics needs. "
   ]
  },
  {
   "cell_type": "markdown",
   "metadata": {
    "slideshow": {
     "slide_type": "slide"
    }
   },
   "source": [
    "## What's wrong with our previous approaches?\n",
    "* Apache Hadoop is a framework for distributed computation and storage of very large data sets on computer clusters\n",
    "* Hadoop began as a project to implement Google’s MapReduce programming model\n",
    "* Hadoop has seen widespread adoption by many companies including Facebook, Yahoo!, Adobe, Cisco, eBay, Netflix, and Datadog"
   ]
  },
  {
   "cell_type": "markdown",
   "metadata": {
    "slideshow": {
     "slide_type": "subslide"
    }
   },
   "source": [
    "Consider our needs:\n",
    "* We want a programming model that can process data many times the size that can be processed by a single computer\n",
    "* This level of coordination and abstraction can be difficult to achieve for a general purpose computing language such a Python. \n",
    "* Hadoop brings a paradigm shift in the following sense:\n",
    "    * Simplifying our programming constructs (i.e., limit us to Map Reduce)\n",
    "    * Providing the architecture to support the computing we need"
   ]
  },
  {
   "cell_type": "markdown",
   "metadata": {},
   "source": [
    "## Hadoop Ecosystem\n",
    "Software suite that provides various services to solve the big data problems.\n",
    "\n",
    "Four major elements of Hadoop:\n",
    "* HDFS\n",
    "* MapReduce\n",
    "* YARN\n",
    "* Hadoop Common"
   ]
  },
  {
   "cell_type": "markdown",
   "metadata": {},
   "source": [
    "<img src=\"https://media.geeksforgeeks.org/wp-content/cdn-uploads/HadoopEcosystem-min.png\">"
   ]
  },
  {
   "cell_type": "markdown",
   "metadata": {},
   "source": [
    "## History of Hadoop\n",
    "Core software co-founders are Doug Cutting and Mike Cafarella.\n",
    "\n",
    "The name Hadoop is from Doug Cutting son’s toy elephant.\n",
    "\n",
    "Their work was based on two papers: The first paper on the Google File System was published in 2003.  The second paper published in 2004 described Google's implementation of MapReduce at scale (map/reduce is a programming concept that predated Google's paper).\n",
    "\n",
    "In January 2006, MapReduce development started and consisted of around 6000 lines of code and around 5000 lines of code for HDFS.\n",
    "\n",
    "In April 2006 Hadoop 0.1.0 was released. "
   ]
  },
  {
   "cell_type": "markdown",
   "metadata": {},
   "source": [
    "### The shortest history of the hype and reality\n",
    "\n",
    "Top tier companies could afford the significant high end skill aquisition to make Hadoop and analytics beneficial. Mid-tier companies had more of a challenge. With talent in short supply, Hadoop data lakes became “data swamps” full of stale and unused data. These data lake were typically an on-premise deployment. As companies migrated their assets to the cloud, they typically found alternatives to both the Hadoop storage layer (HDFS) and the Hadoop processing engine."
   ]
  },
  {
   "cell_type": "markdown",
   "metadata": {},
   "source": [
    "The architecture of Hadoop remains important for distributed systems, and the Hadoop ecosystem is still used across the world today."
   ]
  },
  {
   "cell_type": "markdown",
   "metadata": {
    "slideshow": {
     "slide_type": "subslide"
    }
   },
   "source": [
    "### Hadoop Distributed File System\n",
    "* underlying file system of a Hadoop cluster\n",
    "* designed with hardware failure in mind\n",
    "* built for large datasets, with a default block size of 128 MB\n",
    "* optimized for sequential operations\n",
    "* rack-aware\n",
    "* cross-platform and supports heterogeneous clusters"
   ]
  },
  {
   "cell_type": "markdown",
   "metadata": {
    "slideshow": {
     "slide_type": "subslide"
    }
   },
   "source": [
    "* Data in a Hadoop cluster is broken down into smaller units (called blocks) \n",
    "* Blocks are distributed throughout the cluster\n",
    "* Each block is duplicated twice (for a total of three copies) \n",
    "* Two replicas stored on two nodes in a rack somewhere else in the cluster\n",
    "* Highly available and fault-tolerant\n",
    "* HDFS will automatically re-replicate it elsewhere in the cluster"
   ]
  },
  {
   "cell_type": "markdown",
   "metadata": {
    "slideshow": {
     "slide_type": "subslide"
    }
   },
   "source": [
    "<img src=\"https://imgix.datadoghq.com/img/blog/hadoop-architecture-overview/hadoop-architecture-diagram3.png?auto=format&fit=max&w=847\">"
   ]
  },
  {
   "cell_type": "markdown",
   "metadata": {
    "slideshow": {
     "slide_type": "subslide"
    }
   },
   "source": [
    "### NameNode\n",
    "* this is our leader\n",
    "* brokers access to files by clients\n",
    "* operates entirely in memory\n",
    "* persisting its state to disk\n",
    "* One single point of failure for a Hadoop cluster (though can be configured to have replica)\n",
    "\n",
    "Clients communicate directly with DataNodes"
   ]
  },
  {
   "cell_type": "markdown",
   "metadata": {
    "slideshow": {
     "slide_type": "subslide"
    }
   },
   "source": [
    "## MapReduce\n",
    "* Perfect for distributed computing of large data\n",
    "* three operations: \n",
    "    * map an input data set into a collection of <key,value> pairs\n",
    "    * shuffle the resulting data (transfer data to the reducers)\n",
    "    * then reduce over all pairs with the same key"
   ]
  },
  {
   "cell_type": "markdown",
   "metadata": {},
   "source": [
    "Map:\n",
    "* performs sorting and filtering of data and thereby organizing them in the form of group \n",
    "* generates a key-value pair based result which is later on processed by the reduce method\n",
    "\n",
    "Reduce:\n",
    "* summarization by aggregating the mapped data\n",
    "* takes the output generated by map as input and combines those tuples into smaller set of tuples"
   ]
  },
  {
   "cell_type": "markdown",
   "metadata": {
    "slideshow": {
     "slide_type": "subslide"
    }
   },
   "source": [
    "<img src=\"https://imgix.datadoghq.com/img/blog/hadoop-architecture-overview/hadoop-architecture-diagram1-3.png?auto=format&fit=max&w=847\" width=2000>"
   ]
  },
  {
   "cell_type": "markdown",
   "metadata": {
    "slideshow": {
     "slide_type": "subslide"
    }
   },
   "source": [
    "### YARN (Yet Another Resource Negotiator)\n",
    "Consists of three components\n",
    "* ResourceManager (one per cluster)\n",
    "* ApplicationMaster (one per application)\n",
    "* NodeManagers (one per node)"
   ]
  },
  {
   "cell_type": "markdown",
   "metadata": {
    "slideshow": {
     "slide_type": "subslide"
    }
   },
   "source": [
    "<img src=\"https://imgix.datadoghq.com/img/blog/hadoop-architecture-overview/hadoop-architecture-diagram8.png?auto=format&fit=max&w=847\">"
   ]
  },
  {
   "cell_type": "markdown",
   "metadata": {
    "slideshow": {
     "slide_type": "subslide"
    }
   },
   "source": [
    "### ResourceManager\n",
    "* Rack-aware leader node in YARN. \n",
    "* Takes inventory of available resources\n",
    "* Runs Scheduler.\n",
    "\n"
   ]
  },
  {
   "cell_type": "markdown",
   "metadata": {
    "slideshow": {
     "slide_type": "subslide"
    }
   },
   "source": [
    "### ApplicationMaster\n",
    "* Each application running on Hadoop has its own dedicated ApplicationMaster instance. \n",
    "* Each application’s ApplicationMaster periodically sends heartbeat messages to the ResourceManager, as well as requests for additional resources, if needed. "
   ]
  },
  {
   "cell_type": "markdown",
   "metadata": {
    "slideshow": {
     "slide_type": "subslide"
    }
   },
   "source": [
    "### Yarn Flow\n",
    "1. Client program submits the MapReduce application to the ResourceManager, along with information to launch the application-specific ApplicationMaster.\n",
    "2. ResourceManager negotiates a container for the ApplicationMaster and launches the ApplicationMaster.\n",
    "3. ApplicationMaster boots and registers with the ResourceManager, allowing the original calling client to interface directly with the ApplicationMaster.\n",
    "4. ApplicationMaster negotiates resources (resource containers) for client application.\n",
    "5. ApplicationMaster gives the container launch specification to the NodeManager, which launches a container for the application.\n",
    "6. During execution, client polls ApplicationMaster for application status and progress.\n",
    "7. Upon completion, ApplicationMaster deregisters with the ResourceManager and shuts down, returning its containers to the resource pool.\n"
   ]
  },
  {
   "cell_type": "markdown",
   "metadata": {
    "slideshow": {
     "slide_type": "subslide"
    }
   },
   "source": [
    "## Let's code some Hadoop\n",
    "\n",
    "Well. Don't forget that cloud native ecosystems are on the rise now. Even Cloudera which was synonymous with Hadoop years ago has broken away from HDFS and their recent offerings are now new solutions architected from scratch.\n",
    "\n",
    "We won't cover all of the emerging and established technologies. We will focus on one that was inspired by Hadoop, and definitely is on the rise and is well established."
   ]
  },
  {
   "cell_type": "markdown",
   "metadata": {
    "slideshow": {
     "slide_type": "slide"
    }
   },
   "source": [
    "## Introduction to Spark\n",
    "* Built around speed (in-memory enabled)\n",
    "* ETL (extract, transform, load)\n",
    "* Interactive queries (SQL)\n",
    "* Advanced analytics (e.g., machine learning)\n",
    "* Streaming over large datasets in a wide range of data stores (e.g., HDFS, Cassandra, HBase, S3)"
   ]
  },
  {
   "cell_type": "markdown",
   "metadata": {
    "slideshow": {
     "slide_type": "subslide"
    }
   },
   "source": [
    "### RDDs\n",
    "* Resilient Distributed Dataset (RDD)\n",
    "* Fault tolerant like hadoop\n",
    "* Allows parallel operations upon itself\n",
    "* RDDs can be created from Hadoop InputFormats (such as HDFS files) OR\n",
    "* by transforming other RDDs OR\n",
    "* by loading text files OR\n",
    "* by parallizing a list of data\n",
    "* and more..."
   ]
  },
  {
   "cell_type": "markdown",
   "metadata": {},
   "source": [
    "There are other important portions of Spark that we will not cover in this chapter. They include Spark SQL, MLLib, Streaming, and GraphX."
   ]
  },
  {
   "cell_type": "markdown",
   "metadata": {
    "slideshow": {
     "slide_type": "subslide"
    }
   },
   "source": [
    "### Spark SQL\n",
    "* Designed for processing structured and semi-structured data\n",
    "* Provides a DataFrame API for data manipulations. \n",
    "* DataFrame is conceptually similar to a table in relational database.\n",
    "* Represents a distributed collection of data organized into named columns. "
   ]
  },
  {
   "cell_type": "markdown",
   "metadata": {
    "slideshow": {
     "slide_type": "subslide"
    }
   },
   "source": [
    "### MLLib\n",
    "<a href=\"https://spark.apache.org/mllib/\">https://spark.apache.org/mllib/</a>"
   ]
  },
  {
   "cell_type": "markdown",
   "metadata": {
    "slideshow": {
     "slide_type": "subslide"
    }
   },
   "source": [
    "### Streaming\n",
    "<a href=\"https://spark.apache.org/docs/latest/streaming-programming-guide.html\">https://spark.apache.org/docs/latest/streaming-programming-guide.html</a>"
   ]
  },
  {
   "cell_type": "markdown",
   "metadata": {
    "slideshow": {
     "slide_type": "subslide"
    }
   },
   "source": [
    "### GraphX\n",
    "<a href=\"https://spark.apache.org/graphx/\">https://spark.apache.org/graphx/</a>"
   ]
  },
  {
   "cell_type": "markdown",
   "metadata": {},
   "source": [
    "## Questions"
   ]
  },
  {
   "cell_type": "markdown",
   "metadata": {},
   "source": [
    "### 1. What are the main responsibilities of the NameNode?\n",
    "\n",
    "\n",
    "#### Your solution here"
   ]
  },
  {
   "cell_type": "markdown",
   "metadata": {},
   "source": [
    "### 2. In general terms (i.e., don't get into Spark and language details), what is the output of the map stage?\n",
    "\n",
    "\n",
    "#### Your solution here"
   ]
  },
  {
   "cell_type": "markdown",
   "metadata": {},
   "source": [
    "### 3. Has Spark replaced Hadoop? Should it replace Hadoop?\n",
    "\n",
    "\n",
    "#### Your solution here"
   ]
  },
  {
   "cell_type": "markdown",
   "metadata": {},
   "source": [
    "## Spark and MapReduce"
   ]
  },
  {
   "cell_type": "markdown",
   "metadata": {},
   "source": [
    "We've seen with Ray that you call ray.init() to connect to a Ray cluster. Spark works in a similar manner, and so does Dask. I have pyspark ready for you on the server, and we need to either connect to an existing Spark master node. Below we will connect to a local master and retrieve a spark context. This is our way to run and communicate with Spark. "
   ]
  },
  {
   "cell_type": "code",
   "execution_count": 1,
   "metadata": {},
   "outputs": [],
   "source": [
    "from pyspark import SparkConf\n",
    "from pyspark.context import SparkContext\n",
    "\n",
    "sc = SparkContext.getOrCreate(SparkConf().setMaster(\"local[*]\"))"
   ]
  },
  {
   "cell_type": "markdown",
   "metadata": {},
   "source": [
    "For our first example, we will load data manually into a Spark RDD and then use the collect function to return each element in the rdd one at a time."
   ]
  },
  {
   "cell_type": "code",
   "execution_count": 4,
   "metadata": {},
   "outputs": [
    {
     "name": "stdout",
     "output_type": "stream",
     "text": [
      "Project Gutenberg’s\n",
      "Alice’s Adventures in Wonderland\n",
      "Project Gutenberg’s\n",
      "Adventures in Wonderland\n",
      "Project Gutenberg’s\n"
     ]
    }
   ],
   "source": [
    "data = [\"Project Gutenberg’s\",\n",
    "        \"Alice’s Adventures in Wonderland\",\n",
    "        \"Project Gutenberg’s\",\n",
    "        \"Adventures in Wonderland\",\n",
    "        \"Project Gutenberg’s\"]\n",
    "rdd=sc.parallelize(data) # distributes data\n",
    "for element in rdd.collect():\n",
    "    print(element)"
   ]
  },
  {
   "cell_type": "markdown",
   "metadata": {},
   "source": [
    "What if you wanted to perform a transformation on each element, such as making the string lowercase?"
   ]
  },
  {
   "cell_type": "code",
   "execution_count": 7,
   "metadata": {},
   "outputs": [
    {
     "name": "stdout",
     "output_type": "stream",
     "text": [
      "project gutenberg’s\n",
      "alice’s adventures in wonderland\n",
      "project gutenberg’s\n",
      "adventures in wonderland\n",
      "project gutenberg’s\n"
     ]
    }
   ],
   "source": [
    "for element in rdd.map(lambda x: x.lower()).collect():\n",
    "    print(element)"
   ]
  },
  {
   "cell_type": "markdown",
   "metadata": {},
   "source": [
    "**Stop and think:** Why would we want to go to any of this trouble?"
   ]
  },
  {
   "cell_type": "markdown",
   "metadata": {},
   "source": [
    "For starters, we can easily apply operations to extremely large datasets using this fundamental pattern."
   ]
  },
  {
   "cell_type": "markdown",
   "metadata": {},
   "source": [
    "We will now split the data up using the space separator."
   ]
  },
  {
   "cell_type": "code",
   "execution_count": 8,
   "metadata": {},
   "outputs": [
    {
     "name": "stdout",
     "output_type": "stream",
     "text": [
      "['project', 'gutenberg’s']\n",
      "['alice’s', 'adventures', 'in', 'wonderland']\n",
      "['project', 'gutenberg’s']\n",
      "['adventures', 'in', 'wonderland']\n",
      "['project', 'gutenberg’s']\n"
     ]
    }
   ],
   "source": [
    "for element in rdd.map(lambda x: x.lower().split(\" \")).collect():\n",
    "    print(element)"
   ]
  },
  {
   "cell_type": "markdown",
   "metadata": {},
   "source": [
    "What if you wanted to flatten out the individual arrays into a single array? We switch to ``flatMap``."
   ]
  },
  {
   "cell_type": "code",
   "execution_count": 9,
   "metadata": {},
   "outputs": [
    {
     "name": "stdout",
     "output_type": "stream",
     "text": [
      "project\n",
      "gutenberg’s\n",
      "alice’s\n",
      "adventures\n",
      "in\n",
      "wonderland\n",
      "project\n",
      "gutenberg’s\n",
      "adventures\n",
      "in\n",
      "wonderland\n",
      "project\n",
      "gutenberg’s\n"
     ]
    }
   ],
   "source": [
    "for element in rdd.flatMap(lambda x: x.lower().split(\" \")).collect():\n",
    "    print(element)"
   ]
  },
  {
   "cell_type": "markdown",
   "metadata": {},
   "source": [
    "A big change is that each word is now its own element. This will be imporant for our first exercise."
   ]
  },
  {
   "cell_type": "markdown",
   "metadata": {},
   "source": [
    "**Exercise 1:** Finish the Python code below and use ``flatMap``, ``map``, and a new function ``reduceByKey`` that applies a function to all elements with the same key."
   ]
  },
  {
   "cell_type": "code",
   "execution_count": 13,
   "metadata": {},
   "outputs": [
    {
     "data": {
      "text/plain": [
       "[('Gutenberg’s', 3),\n",
       " ('Adventures', 2),\n",
       " ('Wonderland', 2),\n",
       " ('Alice’s', 1),\n",
       " ('in', 2),\n",
       " ('Project', 3)]"
      ]
     },
     "execution_count": 13,
     "metadata": {},
     "output_type": "execute_result"
    }
   ],
   "source": [
    "counts = rdd.flatMap(lambda x: x.split(' '))\n",
    "# Your solution here\n",
    "output = counts.collect()\n",
    "output"
   ]
  },
  {
   "cell_type": "markdown",
   "metadata": {
    "slideshow": {
     "slide_type": "subslide"
    }
   },
   "source": [
    "## Conclusion\n",
    "* Hadoop and Spark make up two pillars of the modern data engineering ecosystem. \n",
    "* We won't need to implement these (already done). We do need to understand them and use them.\n",
    "* We will work our way through these technologies."
   ]
  },
  {
   "cell_type": "markdown",
   "metadata": {},
   "source": [
    "## References:\n",
    "* Source: https://www.datadoghq.com/blog/hadoop-architecture-overview/"
   ]
  }
 ],
 "metadata": {
  "celltoolbar": "Slideshow",
  "hide_code_all_hidden": false,
  "jupytext": {
   "encoding": "# -*- coding: utf-8 -*-",
   "formats": "ipynb,md,py"
  },
  "kernelspec": {
   "display_name": "Python 3",
   "language": "python",
   "name": "python3"
  },
  "language_info": {
   "codemirror_mode": {
    "name": "ipython",
    "version": 3
   },
   "file_extension": ".py",
   "mimetype": "text/x-python",
   "name": "python",
   "nbconvert_exporter": "python",
   "pygments_lexer": "ipython3",
   "version": "3.7.3"
  }
 },
 "nbformat": 4,
 "nbformat_minor": 4
}
