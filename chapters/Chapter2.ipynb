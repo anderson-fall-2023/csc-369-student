{
 "cells": [
  {
   "cell_type": "markdown",
   "metadata": {
    "hideCode": false,
    "hidePrompt": false,
    "slideshow": {
     "slide_type": "slide"
    }
   },
   "source": [
    "# Chapter 2\n",
    "\n",
    "## Distributed computing at the command line\n",
    "\n",
    "Paul E. Anderson"
   ]
  },
  {
   "cell_type": "markdown",
   "metadata": {
    "slideshow": {
     "slide_type": "subslide"
    }
   },
   "source": [
    "## Ice Breaker\n",
    "\n",
    "What's is the best pizza place in SLO?"
   ]
  },
  {
   "cell_type": "markdown",
   "metadata": {
    "slideshow": {
     "slide_type": "subslide"
    }
   },
   "source": [
    "While this text can be viewed as PDF, it is most useful to have a Jupyter environment. I have an environment ready for each of you, but you can get your own local environment going in several ways. One popular way is with Anaconda (<a href=\"https://www.anaconda.com/\">https://www.anaconda.com/</a>. Because of the limited time, you can use my server."
   ]
  },
  {
   "cell_type": "code",
   "execution_count": 15,
   "metadata": {
    "slideshow": {
     "slide_type": "skip"
    }
   },
   "outputs": [
    {
     "name": "stdout",
     "output_type": "stream",
     "text": [
      "The autoreload extension is already loaded. To reload it, use:\n",
      "  %reload_ext autoreload\n"
     ]
    }
   ],
   "source": [
    "%load_ext autoreload\n",
    "%autoreload 2\n",
    "\n",
    "\n",
    "# Put all your solutions into Lab1_helper.py as this script which is autograded\n",
    "import Chapter2_helper \n",
    "\n",
    "from pathlib import Path\n",
    "home = str(Path.home()) # all other paths are relative to this path. \n",
    "# This is not relevant to most people because I recommended you use my server, but\n",
    "# change home to where you are storing everything. Again. Not recommended."
   ]
  },
  {
   "cell_type": "markdown",
   "metadata": {
    "slideshow": {
     "slide_type": "subslide"
    }
   },
   "source": [
    "## Command Line\n",
    "\n",
    "In Chapter 1, I included several videos where you had to follow along as I entered commands on the command line. In this chapter we are going to increase our mastery of the command line and distributed computing at the same time. \n",
    "\n",
    "The command line is very agile. It has a read-eval-print loop that lends itself to interactive exploration as well as automation. It has been a mainstay in the toolkit of modern computer science, and it will remain so for a long time to come.\n",
    "\n",
    "The command line augments and amplifies technology we are already using. We'll use Spark, Hadoop, MongoDB, and other programs in this class. The command line is important across these technologies. \n",
    "\n",
    "The command line is scalable which is very important for distributed computing. It allows us to automate many tasks and scale them in a distributed manner.\n",
    "\n",
    "The command line is ubiquitous. 95% of the worlds supercomputers use Unix/Linux and are accessible by the command line. "
   ]
  },
  {
   "cell_type": "markdown",
   "metadata": {
    "slideshow": {
     "slide_type": "subslide"
    }
   },
   "source": [
    "### How are distributed systems different?\n",
    "While we can abstract away some of elements of distributed computing, we are going to study approaches for:\n",
    "1. How to store data on multiple systems?\n",
    "2. How to handle updates and fix (or handle) inconsistencies?\n",
    "3. How do we assemble the full answer?"
   ]
  },
  {
   "cell_type": "markdown",
   "metadata": {
    "slideshow": {
     "slide_type": "subslide"
    }
   },
   "source": [
    "## Practical Considerations\n",
    "Most real world examples that need distributed computing need distributed computing because they would otherwise (and may still) require a long time to run. This isn't practical for learning. More importantly to remember, even in the real world we test on small subsets of data before scaling up. All of the examples throughout are scaled down representations of a real problem that may require distributed computing depending on time and resources."
   ]
  },
  {
   "cell_type": "markdown",
   "metadata": {
    "slideshow": {
     "slide_type": "subslide"
    }
   },
   "source": [
    "## Parallel Processing Logs\n",
    "Consider the cybersecurity task of examining web server logs. Specifically, read/skim this article:\n",
    "<a href=\"https://resources.infosecinstitute.com/topic/log-analysis-web-attacks-beginners-guide/\">Log Analysis</a>.\n",
    "\n",
    "Once you have read the article, consider the problem of running Scalp on a single log. Probably not an issue. Consider running it on a very large log (web server logs can get very very big). \n",
    "\n",
    "Because they can get big they are often archived routinely. So now you have a problem of looking through many different log files. We may want to run Scalp on the logs over a long period of time. We may want to run it with different parameters. We may make mistakes and need to run it again quickly. You are starting to get my point I think.\n",
    "\n",
    "Would this problem need distributed computing. Discuss in your groups and bring the answer back in a few minutes."
   ]
  },
  {
   "cell_type": "markdown",
   "metadata": {
    "slideshow": {
     "slide_type": "subslide"
    }
   },
   "source": [
    "**It boils down to these questions for us over and over again (some of these overlap):**\n",
    "* Do I need a more efficient (i.e., faster) approach?\n",
    "* Can my task be broken down into components that may be analyzed and then combined?\n",
    "* Is it worth the effort? \n",
    "* Can you just wait for this answer?\n",
    "* Can you estimate how long a non-distributed approach will take?"
   ]
  },
  {
   "cell_type": "markdown",
   "metadata": {
    "slideshow": {
     "slide_type": "slide"
    }
   },
   "source": [
    "## Detour: Linux and Bash\n",
    "\n",
    "While there are many tutorials and introduction to Bash, I like this one: https://ubuntu.com/tutorials/command-line-for-beginners. You may do almost the entire tutorial directly in this notebook. There are several ways to run Bash within Jupyter. Here are some examples."
   ]
  },
  {
   "cell_type": "markdown",
   "metadata": {
    "slideshow": {
     "slide_type": "slide"
    }
   },
   "source": [
    "## Example Data: Project Gutenberg"
   ]
  },
  {
   "cell_type": "markdown",
   "metadata": {
    "slideshow": {
     "slide_type": "subslide"
    }
   },
   "source": [
    "Consider another example. What if you were interested in looking for patterns in the top 100 books last year? Your first idea is to compare the word frequencies in the top 25 books to the next 25 books. \n",
    "* You have a level of programming skill that makes writing a Python program to look through a single book (text file) within range. \n",
    "* You are familiar with Python dictionaries and can sequentially process a book. \n",
    "\n",
    "Let's design such a program together!"
   ]
  },
  {
   "cell_type": "markdown",
   "metadata": {
    "slideshow": {
     "slide_type": "subslide"
    }
   },
   "source": [
    "There is a list of books downloaded from Project Gutenberg in the data folder\n",
    "* Website has over 60,000 books. \n",
    "* I downloaded the most popular books on 1/12/2021 \n",
    "* The order in which they are ranked is in order.txt. \n",
    "\n",
    "Let's see a few Bash commands to take a look at the books."
   ]
  },
  {
   "cell_type": "code",
   "execution_count": 16,
   "metadata": {
    "slideshow": {
     "slide_type": "subslide"
    }
   },
   "outputs": [
    {
     "name": "stdout",
     "output_type": "stream",
     "text": [
      "1080-0.txt  158-0.txt\t 2542-0.txt   41-0.txt\t     6130-0.txt   84-0.txt\r\n",
      "11-0.txt    160-0.txt\t 2554-0.txt   42108-0.txt    6133-0.txt   863-0.txt\r\n",
      "113-0.txt   16-0.txt\t 2591-0.txt   4300-0.txt     64238-0.txt  902-0.txt\r\n",
      "1184-0.txt  1661-0.txt\t 25929-0.txt  43-0.txt\t     64239-0.txt  98-0.txt\r\n",
      "120-0.txt   1727-0.txt\t 2600-0.txt   45-0.txt\t     64241-0.txt  996-0.txt\r\n",
      "1232-0.txt  1952-0.txt\t 2701-0.txt   4517-0.txt     64242-0.txt  group1\r\n",
      "1250-0.txt  1998-0.txt\t 28054-0.txt  46-0.txt\t     64244-0.txt  group2\r\n",
      "1260-0.txt  203-0.txt\t 2814-0.txt   50040-0.txt    64246-0.txt  group3\r\n",
      "1342-0.txt  205-0.txt\t 2852-0.txt   50040-0.txt.1  64247-0.txt  order.txt\r\n",
      "135-0.txt   209-0.txt\t 30254-0.txt  521-0.txt      730-0.txt\r\n",
      "1399-0.txt  215-0.txt\t 35-0.txt     53854-0.txt    74-0.txt\r\n",
      "1400-0.txt  219-0.txt\t 3600-0.txt   57426-0.txt    76-0.txt\r\n",
      "140-0.txt   244-0.txt\t 36-0.txt     58585-0.txt    766-0.txt\r\n",
      "147-0.txt   25344-0.txt  408-0.txt    60479-0.txt    768-0.txt\r\n"
     ]
    }
   ],
   "source": [
    "!ls {home}/csc-369-student/data/gutenberg"
   ]
  },
  {
   "cell_type": "code",
   "execution_count": 17,
   "metadata": {
    "slideshow": {
     "slide_type": "subslide"
    }
   },
   "outputs": [
    {
     "name": "stdout",
     "output_type": "stream",
     "text": [
      "80\r\n"
     ]
    }
   ],
   "source": [
    "!ls -l {home}/csc-369-student/data/gutenberg | wc -l"
   ]
  },
  {
   "cell_type": "code",
   "execution_count": 18,
   "metadata": {
    "slideshow": {
     "slide_type": "subslide"
    }
   },
   "outputs": [
    {
     "name": "stdout",
     "output_type": "stream",
     "text": [
      "50040\r\n",
      "1342\r\n",
      "84\r\n",
      "6133\r\n",
      "46\r\n",
      "11\r\n",
      "1080\r\n",
      "1661\r\n",
      "98\r\n",
      "25344\r\n"
     ]
    }
   ],
   "source": [
    "!head {home}/csc-369-student/data/gutenberg/order.txt"
   ]
  },
  {
   "cell_type": "markdown",
   "metadata": {
    "slideshow": {
     "slide_type": "subslide"
    }
   },
   "source": [
    "**Python code to create a list of files in the ranked order**"
   ]
  },
  {
   "cell_type": "code",
   "execution_count": 19,
   "metadata": {
    "slideshow": {
     "slide_type": "fragment"
    }
   },
   "outputs": [
    {
     "data": {
      "text/plain": [
       "['/home/jupyter-pander14/csc-369-student/data/gutenberg/50040-0.txt',\n",
       " '/home/jupyter-pander14/csc-369-student/data/gutenberg/1342-0.txt',\n",
       " '/home/jupyter-pander14/csc-369-student/data/gutenberg/84-0.txt',\n",
       " '/home/jupyter-pander14/csc-369-student/data/gutenberg/6133-0.txt',\n",
       " '/home/jupyter-pander14/csc-369-student/data/gutenberg/46-0.txt',\n",
       " '/home/jupyter-pander14/csc-369-student/data/gutenberg/11-0.txt',\n",
       " '/home/jupyter-pander14/csc-369-student/data/gutenberg/1080-0.txt',\n",
       " '/home/jupyter-pander14/csc-369-student/data/gutenberg/1661-0.txt',\n",
       " '/home/jupyter-pander14/csc-369-student/data/gutenberg/98-0.txt',\n",
       " '/home/jupyter-pander14/csc-369-student/data/gutenberg/25344-0.txt']"
      ]
     },
     "execution_count": 19,
     "metadata": {},
     "output_type": "execute_result"
    }
   ],
   "source": [
    "from os import path\n",
    "book_files = []\n",
    "for book in open(f\"{home}/csc-369-student/data/gutenberg/order.txt\").read().split(\"\\n\"):\n",
    "    if path.isfile(f'{home}/csc-369-student/data/gutenberg/{book}-0.txt'):\n",
    "        book_files.append(f'{home}/csc-369-student/data/gutenberg/{book}-0.txt')\n",
    "book_files[:10]"
   ]
  },
  {
   "cell_type": "markdown",
   "metadata": {
    "slideshow": {
     "slide_type": "subslide"
    }
   },
   "source": [
    "### What is our top book?"
   ]
  },
  {
   "cell_type": "code",
   "execution_count": 20,
   "metadata": {
    "slideshow": {
     "slide_type": "fragment"
    }
   },
   "outputs": [
    {
     "name": "stdout",
     "output_type": "stream",
     "text": [
      "﻿                  St. Benedict’s Rule for Monasteries\r",
      "\r\n",
      "\r",
      "\r\n",
      "\r",
      "\r\n",
      "\r",
      "\r\n",
      "\r",
      "\r\n",
      "This ebook is for the use of anyone anywhere in the United States and\r",
      "\r\n",
      "most other parts of the world at no cost and with almost no restrictions\r",
      "\r\n",
      "whatsoever. You may copy it, give it away or re-use it under the terms\r",
      "\r\n",
      "of the Project Gutenberg License included with this ebook or online at\r",
      "\r\n",
      "http://www.gutenberg.org/license. If you are not located in the United\r",
      "\r\n"
     ]
    }
   ],
   "source": [
    "!head {book_files[0]}"
   ]
  },
  {
   "cell_type": "markdown",
   "metadata": {
    "slideshow": {
     "slide_type": "subslide"
    }
   },
   "source": [
    "### What is our second book?"
   ]
  },
  {
   "cell_type": "code",
   "execution_count": 21,
   "metadata": {
    "slideshow": {
     "slide_type": "fragment"
    }
   },
   "outputs": [
    {
     "name": "stdout",
     "output_type": "stream",
     "text": [
      "﻿\r",
      "\r\n",
      "The Project Gutenberg EBook of Pride and Prejudice, by Jane Austen\r",
      "\r\n",
      "\r",
      "\r\n",
      "This eBook is for the use of anyone anywhere at no cost and with\r",
      "\r\n",
      "almost no restrictions whatsoever.  You may copy it, give it away or\r",
      "\r\n",
      "re-use it under the terms of the Project Gutenberg License included\r",
      "\r\n",
      "with this eBook or online at www.gutenberg.org\r",
      "\r\n",
      "\r",
      "\r\n",
      "\r",
      "\r\n",
      "Title: Pride and Prejudice\r",
      "\r\n"
     ]
    }
   ],
   "source": [
    "!head {book_files[1]}"
   ]
  },
  {
   "cell_type": "markdown",
   "metadata": {
    "slideshow": {
     "slide_type": "subslide"
    }
   },
   "source": [
    "**Exercise 1:** Write a function that counts the number of times a word appears in a book. In other words, we want to know the frequencies of the words in each book. One way to store this is in a dictionary for each book. Do not worry about punctuation or capitalization. This is just an exercise."
   ]
  },
  {
   "cell_type": "code",
   "execution_count": 22,
   "metadata": {
    "slideshow": {
     "slide_type": "subslide"
    }
   },
   "outputs": [
    {
     "data": {
      "text/plain": [
       "/home/jupyter-pander14/csc-369-student/data/gutenberg/50040-0.txt    {'﻿': 1, 'St.': 6, 'Benedict’s': 2, 'Rule': 22...\n",
       "/home/jupyter-pander14/csc-369-student/data/gutenberg/1342-0.txt     {'﻿': 1, 'The': 271, 'Project': 78, 'Gutenberg...\n",
       "/home/jupyter-pander14/csc-369-student/data/gutenberg/84-0.txt       {'﻿Project': 1, 'Gutenberg's': 1, 'Frankenstei...\n",
       "/home/jupyter-pander14/csc-369-student/data/gutenberg/6133-0.txt     {'﻿The': 1, 'Project': 78, 'Gutenberg': 21, 'E...\n",
       "/home/jupyter-pander14/csc-369-student/data/gutenberg/46-0.txt       {'﻿The': 1, 'Project': 78, 'Gutenberg': 21, 'E...\n",
       "                                                                                           ...                        \n",
       "/home/jupyter-pander14/csc-369-student/data/gutenberg/730-0.txt      {'﻿The': 1, 'Project': 79, 'Gutenberg': 22, 'E...\n",
       "/home/jupyter-pander14/csc-369-student/data/gutenberg/113-0.txt      {'﻿': 1, 'The': 219, 'Project': 79, 'Gutenberg...\n",
       "/home/jupyter-pander14/csc-369-student/data/gutenberg/1998-0.txt     {'﻿The': 1, 'Project': 78, 'Gutenberg': 20, 'E...\n",
       "/home/jupyter-pander14/csc-369-student/data/gutenberg/53854-0.txt    {'﻿The': 1, 'Project': 79, 'Gutenberg': 22, 'E...\n",
       "/home/jupyter-pander14/csc-369-student/data/gutenberg/209-0.txt      {'﻿': 1, 'The': 112, 'Project': 79, 'Gutenberg...\n",
       "Length: 74, dtype: object"
      ]
     },
     "execution_count": 22,
     "metadata": {},
     "output_type": "execute_result"
    }
   ],
   "source": [
    "book_word_freq = Chapter2_helper.count_words(book_files)\n",
    "import pandas as pd\n",
    "pd.Series(book_word_freq)"
   ]
  },
  {
   "cell_type": "markdown",
   "metadata": {
    "slideshow": {
     "slide_type": "fragment"
    }
   },
   "source": [
    "**If you want to time it, there is a magic command for that.**"
   ]
  },
  {
   "cell_type": "code",
   "execution_count": 29,
   "metadata": {
    "slideshow": {
     "slide_type": "fragment"
    }
   },
   "outputs": [
    {
     "name": "stdout",
     "output_type": "stream",
     "text": [
      "10.6 s ± 19.8 ms per loop (mean ± std. dev. of 7 runs, 1 loop each)\n"
     ]
    }
   ],
   "source": [
    "%%timeit -n 1\n",
    "book_word_freq = Chapter2_helper.count_words(book_files)"
   ]
  },
  {
   "cell_type": "markdown",
   "metadata": {
    "slideshow": {
     "slide_type": "slide"
    }
   },
   "source": [
    "## Motivating Example: Inverted Index\n",
    "\n",
    "Information retrieval (IR) is a field concerned with the structure, analysis, organization, storage, searching, and retrieval of information.\n",
    "\n",
    "IR is the science of searching for documents, information within documents, and metadata about documents. Documents as used here describe an abstract piece of information that includes databases and the World Wide Web (WWW)."
   ]
  },
  {
   "cell_type": "markdown",
   "metadata": {
    "slideshow": {
     "slide_type": "subslide"
    }
   },
   "source": [
    "**Stop and think:** Take a moment and a piece of paper. Sketch out how you think the backend and the frontend process/architecture of search engine is constructed. Very high level of course. "
   ]
  },
  {
   "cell_type": "markdown",
   "metadata": {
    "slideshow": {
     "slide_type": "subslide"
    }
   },
   "source": [
    "Image commented out by default.\n",
    "\n",
    "<!--<img src=\"https://www.researchgate.net/profile/Yoshiki-Mikami/publication/224197661/figure/fig1/AS:341147890274356@1458347403868/Architecture-of-Search-Engine.png\" width=400>-->"
   ]
  },
  {
   "cell_type": "markdown",
   "metadata": {
    "slideshow": {
     "slide_type": "subslide"
    }
   },
   "source": [
    "We will not dig into all of the aspects shown in that image. \n",
    "\n",
    "We will focus on one important algorithm: the creation of the inverted index. \n",
    "\n",
    "We will implement this algorithm and apply it to produce an inverted index of our Project Gutenberg Dataset."
   ]
  },
  {
   "cell_type": "markdown",
   "metadata": {
    "slideshow": {
     "slide_type": "subslide"
    }
   },
   "source": [
    "<img src=\"https://hdscorp--c.na74.content.force.com/servlet/servlet.ImageServer?id=0151J000004MM9EQAW&oid=00Do0000000IJig\">"
   ]
  },
  {
   "cell_type": "markdown",
   "metadata": {
    "slideshow": {
     "slide_type": "subslide"
    }
   },
   "source": [
    "**Stop and think:** How could it help someone trying to retrieve information from Project Gutenberg?"
   ]
  },
  {
   "cell_type": "markdown",
   "metadata": {
    "slideshow": {
     "slide_type": "fragment"
    }
   },
   "source": [
    "It provides a quick and efficient data structure to find the location of words/terms in our dataset. We could imagine a situation where an author or scholar would want to look up all occurences of a word, and it is reasonable to assume that they would benefit from viewing the nearby text containing the word/term."
   ]
  },
  {
   "cell_type": "markdown",
   "metadata": {
    "slideshow": {
     "slide_type": "subslide"
    }
   },
   "source": [
    "### Implementation thoughts\n",
    "\n",
    "We will write algorithms throughout this course using different technology. \n",
    "\n",
    "Our first approach to creating an inverted index using distributed computing will rely on minimal technology. Specifically, we will rely on our knowledge of Python and the command line.\n",
    "\n",
    "Later in the class, we will repeat this example using Hadoop and Spark."
   ]
  },
  {
   "cell_type": "markdown",
   "metadata": {
    "slideshow": {
     "slide_type": "subslide"
    }
   },
   "source": [
    "Before you stop drop and code, please consider the following questions:\n",
    "\n",
    "1. What part of computing the inverted index could be distributed? Think in terms of subtasks that can run in parallel.\n",
    "\n",
    "2. Once you have the results of these subtasks (i.e., the parallel processing finishes), how do you combine the results into a single inverted index?"
   ]
  },
  {
   "cell_type": "markdown",
   "metadata": {
    "slideshow": {
     "slide_type": "slide"
    }
   },
   "source": [
    "## GNU Parallel\n",
    "One of my favorite command line finds of all time: <a href=\"https://www.gnu.org/software/parallel/\">https://www.gnu.org/software/parallel/</a>. This flexible program provides an easy to use way of running a command in *parrallel*. We will illustrate with a silly example, but it illustrates the point of *parallel*. "
   ]
  },
  {
   "cell_type": "markdown",
   "metadata": {
    "slideshow": {
     "slide_type": "subslide"
    }
   },
   "source": [
    "Let's say you want to list the contents of three directors: dir1, dir2, and dir3. You can do this with:\n",
    "\n",
    "```bash\n",
    "$ ls dir1\n",
    "\n",
    "$ ls dir2\n",
    "\n",
    "$ ls dir3\n",
    "```"
   ]
  },
  {
   "cell_type": "markdown",
   "metadata": {
    "slideshow": {
     "slide_type": "subslide"
    }
   },
   "source": [
    "Using parallel you can do:\n",
    "\n",
    "```bash\n",
    "parallel ls {} ::: dir1 dir2 dir3\n",
    "```\n",
    "\n",
    "This command can be brocken down into the list after ::: that is split and inserted into {}. Each of these commands are excuted in parallel now. \n",
    "\n",
    "**Stop and think:** Do you know which directory will be listed first?"
   ]
  },
  {
   "cell_type": "markdown",
   "metadata": {
    "slideshow": {
     "slide_type": "subslide"
    }
   },
   "source": [
    "Consider creating an inverted index for our small example of <100 books. \n",
    "\n",
    "Technically, our small example wouldn't classify as something that needs distributed computing, but consider computing the architecture of a search engine we described previously. Creating an inverted index for the WWW is an application that needs distributed computing. \n",
    "\n",
    "In both scenarios, the algorithms and processes are conceptually similar."
   ]
  },
  {
   "cell_type": "markdown",
   "metadata": {
    "slideshow": {
     "slide_type": "subslide"
    }
   },
   "source": [
    "We will be leaving the implementation of an inverted index for Project Gutenberg to a lab exercise.\n",
    "\n",
    "For this lecture, we will discuss and demonstrate *parallel* by constructing a distributed computing version of our word/term frequency algorithm."
   ]
  },
  {
   "cell_type": "markdown",
   "metadata": {
    "slideshow": {
     "slide_type": "subslide"
    }
   },
   "source": [
    "The **strength** of the GNU parallel project is it seamlessly takes something written (e.g., program, script) and executes it in parallel.\n",
    "\n",
    "The burden of constructing a merged/final output is not covered by parallel and must be done by you. More sophisticated technologies such as Spark provide built-in support for this task.\n",
    "\n",
    "Still, we all have many useful programs not optimized for distributed computing that nevertheless could benefit from distributed computing."
   ]
  },
  {
   "cell_type": "markdown",
   "metadata": {
    "slideshow": {
     "slide_type": "slide"
    }
   },
   "source": [
    "## Case study: Term Frequency"
   ]
  },
  {
   "cell_type": "markdown",
   "metadata": {
    "slideshow": {
     "slide_type": "subslide"
    }
   },
   "source": [
    "### Running parallel\n",
    "\n",
    "We will break down a more sophisticated *parallel* command and answer the following:\n",
    "* Identify the pipes. What are they doing?\n",
    "* What is the structure of the find command?\n",
    "* What happened to the ::: in the parallel command\n",
    "* What does the -v mean in the egrep command?"
   ]
  },
  {
   "cell_type": "code",
   "execution_count": 9,
   "metadata": {
    "slideshow": {
     "slide_type": "subslide"
    }
   },
   "outputs": [
    {
     "name": "stdout",
     "output_type": "stream",
     "text": [
      "Academic tradition requires you to cite works you base your article on.\n",
      "When using programs that use GNU Parallel to process data for publication\n",
      "please cite:\n",
      "\n",
      "  O. Tange (2011): GNU Parallel - The Command-Line Power Tool,\n",
      "  ;login: The USENIX Magazine, February 2011:42-47.\n",
      "\n",
      "This helps funding further development; AND IT WON'T COST YOU A CENT.\n",
      "If you pay 10000 EUR you should feel free to use GNU Parallel without citing.\n",
      "\n",
      "To silence this citation notice: run 'parallel --citation'.\n",
      "\n",
      "/home/jupyter-pander14/csc-369-student/data/gutenberg/1232-0.txt\n",
      "/home/jupyter-pander14/csc-369-student/data/gutenberg/45-0.txt\n",
      "/home/jupyter-pander14/csc-369-student/data/gutenberg/6133-0.txt\n",
      "/home/jupyter-pander14/csc-369-student/data/gutenberg/2814-0.txt\n",
      "/home/jupyter-pander14/csc-369-student/data/gutenberg/46-0.txt\n",
      "/home/jupyter-pander14/csc-369-student/data/gutenberg/30254-0.txt\n",
      "/home/jupyter-pander14/csc-369-student/data/gutenberg/3600-0.txt\n",
      "/home/jupyter-pander14/csc-369-student/data/gutenberg/219-0.txt\n",
      "/home/jupyter-pander14/csc-369-student/data/gutenberg/76-0.txt\n",
      "/home/jupyter-pander14/csc-369-student/data/gutenberg/25344-0.txt\n",
      "/home/jupyter-pander14/csc-369-student/data/gutenberg/1399-0.txt\n",
      "/home/jupyter-pander14/csc-369-student/data/gutenberg/64239-0.txt\n",
      "/home/jupyter-pander14/csc-369-student/data/gutenberg/98-0.txt\n",
      "/home/jupyter-pander14/csc-369-student/data/gutenberg/57426-0.txt\n",
      "/home/jupyter-pander14/csc-369-student/data/gutenberg/766-0.txt\n",
      "/home/jupyter-pander14/csc-369-student/data/gutenberg/41-0.txt\n",
      "/home/jupyter-pander14/csc-369-student/data/gutenberg/28054-0.txt\n",
      "/home/jupyter-pander14/csc-369-student/data/gutenberg/863-0.txt\n",
      "/home/jupyter-pander14/csc-369-student/data/gutenberg/50040-0.txt\n",
      "/home/jupyter-pander14/csc-369-student/data/gutenberg/64246-0.txt\n",
      "/home/jupyter-pander14/csc-369-student/data/gutenberg/205-0.txt\n",
      "/home/jupyter-pander14/csc-369-student/data/gutenberg/140-0.txt\n",
      "/home/jupyter-pander14/csc-369-student/data/gutenberg/group2/1232-0.txt\n",
      "/home/jupyter-pander14/csc-369-student/data/gutenberg/group2/45-0.txt\n",
      "/home/jupyter-pander14/csc-369-student/data/gutenberg/group2/3600-0.txt\n",
      "/home/jupyter-pander14/csc-369-student/data/gutenberg/group2/64239-0.txt\n",
      "/home/jupyter-pander14/csc-369-student/data/gutenberg/group2/57426-0.txt\n",
      "/home/jupyter-pander14/csc-369-student/data/gutenberg/group2/140-0.txt\n",
      "/home/jupyter-pander14/csc-369-student/data/gutenberg/group2/1184-0.txt\n",
      "/home/jupyter-pander14/csc-369-student/data/gutenberg/group2/64242-0.txt\n",
      "/home/jupyter-pander14/csc-369-student/data/gutenberg/group2/2852-0.txt\n",
      "/home/jupyter-pander14/csc-369-student/data/gutenberg/group2/16-0.txt\n",
      "/home/jupyter-pander14/csc-369-student/data/gutenberg/group2/60479-0.txt\n",
      "/home/jupyter-pander14/csc-369-student/data/gutenberg/group2/996-0.txt\n",
      "/home/jupyter-pander14/csc-369-student/data/gutenberg/group2/2591-0.txt\n",
      "/home/jupyter-pander14/csc-369-student/data/gutenberg/group2/64247-0.txt\n",
      "/home/jupyter-pander14/csc-369-student/data/gutenberg/group2/2600-0.txt\n",
      "/home/jupyter-pander14/csc-369-student/data/gutenberg/group2/408-0.txt\n",
      "/home/jupyter-pander14/csc-369-student/data/gutenberg/group2/58585-0.txt\n",
      "/home/jupyter-pander14/csc-369-student/data/gutenberg/group2/768-0.txt\n",
      "/home/jupyter-pander14/csc-369-student/data/gutenberg/group2/2554-0.txt\n",
      "/home/jupyter-pander14/csc-369-student/data/gutenberg/group2/120-0.txt\n",
      "/home/jupyter-pander14/csc-369-student/data/gutenberg/group2/36-0.txt\n",
      "/home/jupyter-pander14/csc-369-student/data/gutenberg/group2/135-0.txt\n",
      "/home/jupyter-pander14/csc-369-student/data/gutenberg/group2/158-0.txt\n",
      "/home/jupyter-pander14/csc-369-student/data/gutenberg/group2/147-0.txt\n",
      "/home/jupyter-pander14/csc-369-student/data/gutenberg/group2/4300-0.txt\n",
      "/home/jupyter-pander14/csc-369-student/data/gutenberg/1727-0.txt\n",
      "/home/jupyter-pander14/csc-369-student/data/gutenberg/1184-0.txt\n",
      "/home/jupyter-pander14/csc-369-student/data/gutenberg/group1/6133-0.txt\n",
      "/home/jupyter-pander14/csc-369-student/data/gutenberg/group1/46-0.txt\n",
      "/home/jupyter-pander14/csc-369-student/data/gutenberg/group1/219-0.txt\n",
      "/home/jupyter-pander14/csc-369-student/data/gutenberg/group1/76-0.txt\n",
      "/home/jupyter-pander14/csc-369-student/data/gutenberg/group1/25344-0.txt\n",
      "/home/jupyter-pander14/csc-369-student/data/gutenberg/group1/98-0.txt\n",
      "/home/jupyter-pander14/csc-369-student/data/gutenberg/group1/50040-0.txt\n",
      "/home/jupyter-pander14/csc-369-student/data/gutenberg/group1/205-0.txt\n",
      "/home/jupyter-pander14/csc-369-student/data/gutenberg/group1/74-0.txt\n",
      "/home/jupyter-pander14/csc-369-student/data/gutenberg/group1/43-0.txt\n",
      "/home/jupyter-pander14/csc-369-student/data/gutenberg/group1/1080-0.txt\n",
      "/home/jupyter-pander14/csc-369-student/data/gutenberg/group1/1661-0.txt\n",
      "/home/jupyter-pander14/csc-369-student/data/gutenberg/group1/1342-0.txt\n",
      "/home/jupyter-pander14/csc-369-student/data/gutenberg/group1/11-0.txt\n",
      "/home/jupyter-pander14/csc-369-student/data/gutenberg/group1/1952-0.txt\n",
      "/home/jupyter-pander14/csc-369-student/data/gutenberg/group1/1250-0.txt\n",
      "/home/jupyter-pander14/csc-369-student/data/gutenberg/group1/25929-0.txt\n",
      "/home/jupyter-pander14/csc-369-student/data/gutenberg/group1/2542-0.txt\n",
      "/home/jupyter-pander14/csc-369-student/data/gutenberg/group1/1260-0.txt\n",
      "/home/jupyter-pander14/csc-369-student/data/gutenberg/group1/2701-0.txt\n",
      "/home/jupyter-pander14/csc-369-student/data/gutenberg/group1/64241-0.txt\n",
      "/home/jupyter-pander14/csc-369-student/data/gutenberg/group1/64244-0.txt\n",
      "/home/jupyter-pander14/csc-369-student/data/gutenberg/group1/1400-0.txt\n",
      "/home/jupyter-pander14/csc-369-student/data/gutenberg/group1/160-0.txt\n",
      "/home/jupyter-pander14/csc-369-student/data/gutenberg/group1/84-0.txt\n",
      "/home/jupyter-pander14/csc-369-student/data/gutenberg/244-0.txt\n",
      "/home/jupyter-pander14/csc-369-student/data/gutenberg/64242-0.txt\n",
      "/home/jupyter-pander14/csc-369-student/data/gutenberg/53854-0.txt\n",
      "/home/jupyter-pander14/csc-369-student/data/gutenberg/2852-0.txt\n",
      "/home/jupyter-pander14/csc-369-student/data/gutenberg/74-0.txt\n",
      "/home/jupyter-pander14/csc-369-student/data/gutenberg/730-0.txt\n",
      "/home/jupyter-pander14/csc-369-student/data/gutenberg/4517-0.txt\n",
      "/home/jupyter-pander14/csc-369-student/data/gutenberg/113-0.txt\n",
      "/home/jupyter-pander14/csc-369-student/data/gutenberg/42108-0.txt\n",
      "/home/jupyter-pander14/csc-369-student/data/gutenberg/16-0.txt\n",
      "/home/jupyter-pander14/csc-369-student/data/gutenberg/group3/2814-0.txt\n",
      "/home/jupyter-pander14/csc-369-student/data/gutenberg/group3/30254-0.txt\n",
      "/home/jupyter-pander14/csc-369-student/data/gutenberg/group3/1399-0.txt\n",
      "/home/jupyter-pander14/csc-369-student/data/gutenberg/group3/766-0.txt\n",
      "/home/jupyter-pander14/csc-369-student/data/gutenberg/group3/41-0.txt\n",
      "/home/jupyter-pander14/csc-369-student/data/gutenberg/group3/28054-0.txt\n",
      "/home/jupyter-pander14/csc-369-student/data/gutenberg/group3/863-0.txt\n",
      "/home/jupyter-pander14/csc-369-student/data/gutenberg/group3/64246-0.txt\n",
      "/home/jupyter-pander14/csc-369-student/data/gutenberg/group3/1727-0.txt\n",
      "/home/jupyter-pander14/csc-369-student/data/gutenberg/group3/244-0.txt\n",
      "/home/jupyter-pander14/csc-369-student/data/gutenberg/group3/53854-0.txt\n",
      "/home/jupyter-pander14/csc-369-student/data/gutenberg/group3/730-0.txt\n",
      "/home/jupyter-pander14/csc-369-student/data/gutenberg/group3/4517-0.txt\n",
      "/home/jupyter-pander14/csc-369-student/data/gutenberg/group3/113-0.txt\n",
      "/home/jupyter-pander14/csc-369-student/data/gutenberg/group3/42108-0.txt\n",
      "/home/jupyter-pander14/csc-369-student/data/gutenberg/group3/1998-0.txt\n",
      "/home/jupyter-pander14/csc-369-student/data/gutenberg/group3/6130-0.txt\n",
      "/home/jupyter-pander14/csc-369-student/data/gutenberg/group3/203-0.txt\n",
      "/home/jupyter-pander14/csc-369-student/data/gutenberg/group3/902-0.txt\n",
      "/home/jupyter-pander14/csc-369-student/data/gutenberg/group3/64238-0.txt\n",
      "/home/jupyter-pander14/csc-369-student/data/gutenberg/group3/35-0.txt\n",
      "/home/jupyter-pander14/csc-369-student/data/gutenberg/group3/209-0.txt\n",
      "/home/jupyter-pander14/csc-369-student/data/gutenberg/group3/215-0.txt\n",
      "/home/jupyter-pander14/csc-369-student/data/gutenberg/group3/521-0.txt\n",
      "/home/jupyter-pander14/csc-369-student/data/gutenberg/43-0.txt\n",
      "/home/jupyter-pander14/csc-369-student/data/gutenberg/1998-0.txt\n",
      "/home/jupyter-pander14/csc-369-student/data/gutenberg/60479-0.txt\n",
      "/home/jupyter-pander14/csc-369-student/data/gutenberg/1080-0.txt\n",
      "/home/jupyter-pander14/csc-369-student/data/gutenberg/6130-0.txt\n",
      "/home/jupyter-pander14/csc-369-student/data/gutenberg/1661-0.txt\n",
      "/home/jupyter-pander14/csc-369-student/data/gutenberg/996-0.txt\n",
      "/home/jupyter-pander14/csc-369-student/data/gutenberg/203-0.txt\n",
      "/home/jupyter-pander14/csc-369-student/data/gutenberg/2591-0.txt\n",
      "/home/jupyter-pander14/csc-369-student/data/gutenberg/902-0.txt\n",
      "/home/jupyter-pander14/csc-369-student/data/gutenberg/1342-0.txt\n",
      "/home/jupyter-pander14/csc-369-student/data/gutenberg/64247-0.txt\n",
      "/home/jupyter-pander14/csc-369-student/data/gutenberg/11-0.txt\n",
      "/home/jupyter-pander14/csc-369-student/data/gutenberg/64238-0.txt\n",
      "/home/jupyter-pander14/csc-369-student/data/gutenberg/2600-0.txt\n",
      "/home/jupyter-pander14/csc-369-student/data/gutenberg/408-0.txt\n",
      "/home/jupyter-pander14/csc-369-student/data/gutenberg/1952-0.txt\n",
      "/home/jupyter-pander14/csc-369-student/data/gutenberg/1250-0.txt\n",
      "/home/jupyter-pander14/csc-369-student/data/gutenberg/25929-0.txt\n",
      "/home/jupyter-pander14/csc-369-student/data/gutenberg/58585-0.txt\n"
     ]
    },
    {
     "name": "stdout",
     "output_type": "stream",
     "text": [
      "/home/jupyter-pander14/csc-369-student/data/gutenberg/768-0.txt\r\n",
      "/home/jupyter-pander14/csc-369-student/data/gutenberg/2554-0.txt\r\n",
      "/home/jupyter-pander14/csc-369-student/data/gutenberg/120-0.txt\r\n",
      "/home/jupyter-pander14/csc-369-student/data/gutenberg/2542-0.txt\r\n",
      "/home/jupyter-pander14/csc-369-student/data/gutenberg/1260-0.txt\r\n",
      "/home/jupyter-pander14/csc-369-student/data/gutenberg/36-0.txt\r\n",
      "/home/jupyter-pander14/csc-369-student/data/gutenberg/35-0.txt\r\n",
      "/home/jupyter-pander14/csc-369-student/data/gutenberg/2701-0.txt\r\n",
      "/home/jupyter-pander14/csc-369-student/data/gutenberg/64241-0.txt\r\n",
      "/home/jupyter-pander14/csc-369-student/data/gutenberg/64244-0.txt\r\n",
      "/home/jupyter-pander14/csc-369-student/data/gutenberg/1400-0.txt\r\n",
      "/home/jupyter-pander14/csc-369-student/data/gutenberg/135-0.txt\r\n",
      "/home/jupyter-pander14/csc-369-student/data/gutenberg/158-0.txt\r\n",
      "/home/jupyter-pander14/csc-369-student/data/gutenberg/209-0.txt\r\n",
      "/home/jupyter-pander14/csc-369-student/data/gutenberg/160-0.txt\r\n",
      "/home/jupyter-pander14/csc-369-student/data/gutenberg/84-0.txt\r\n",
      "/home/jupyter-pander14/csc-369-student/data/gutenberg/215-0.txt\r\n",
      "/home/jupyter-pander14/csc-369-student/data/gutenberg/147-0.txt\r\n",
      "/home/jupyter-pander14/csc-369-student/data/gutenberg/4300-0.txt\r\n",
      "/home/jupyter-pander14/csc-369-student/data/gutenberg/521-0.txt\r\n"
     ]
    }
   ],
   "source": [
    "!find ~/csc-369-student/data/gutenberg -name \"*.txt\" | egrep -v order.txt | parallel echo {}"
   ]
  },
  {
   "cell_type": "markdown",
   "metadata": {
    "slideshow": {
     "slide_type": "subslide"
    }
   },
   "source": [
    "Often I use this pattern where echo is the last command. This helps me debug before I even get started. To me programming is about debugging more than anything. The better I am at debugging, the better programmer. \n",
    "\n",
    "Next we will use a script ``Chapter2_count_words_book.py`` and *parallel* to perform a distributed computation of counting words in parallel."
   ]
  },
  {
   "cell_type": "code",
   "execution_count": 30,
   "metadata": {
    "slideshow": {
     "slide_type": "subslide"
    }
   },
   "outputs": [
    {
     "name": "stdout",
     "output_type": "stream",
     "text": [
      "Academic tradition requires you to cite works you base your article on.\n",
      "When using programs that use GNU Parallel to process data for publication\n",
      "please cite:\n",
      "\n",
      "  O. Tange (2011): GNU Parallel - The Command-Line Power Tool,\n",
      "  ;login: The USENIX Magazine, February 2011:42-47.\n",
      "\n",
      "This helps funding further development; AND IT WON'T COST YOU A CENT.\n",
      "If you pay 10000 EUR you should feel free to use GNU Parallel without citing.\n",
      "\n",
      "To silence this citation notice: run 'parallel --citation'.\n",
      "\n",
      "Academic tradition requires you to cite works you base your article on.\n",
      "When using programs that use GNU Parallel to process data for publication\n",
      "please cite:\n",
      "\n",
      "  O. Tange (2011): GNU Parallel - The Command-Line Power Tool,\n",
      "  ;login: The USENIX Magazine, February 2011:42-47.\n",
      "\n",
      "This helps funding further development; AND IT WON'T COST YOU A CENT.\n",
      "If you pay 10000 EUR you should feel free to use GNU Parallel without citing.\n",
      "\n",
      "To silence this citation notice: run 'parallel --citation'.\n",
      "\n",
      "Academic tradition requires you to cite works you base your article on.\n",
      "When using programs that use GNU Parallel to process data for publication\n",
      "please cite:\n",
      "\n",
      "  O. Tange (2011): GNU Parallel - The Command-Line Power Tool,\n",
      "  ;login: The USENIX Magazine, February 2011:42-47.\n",
      "\n",
      "This helps funding further development; AND IT WON'T COST YOU A CENT.\n",
      "If you pay 10000 EUR you should feel free to use GNU Parallel without citing.\n",
      "\n",
      "To silence this citation notice: run 'parallel --citation'.\n",
      "\n",
      "Academic tradition requires you to cite works you base your article on.\n",
      "When using programs that use GNU Parallel to process data for publication\n",
      "please cite:\n",
      "\n",
      "  O. Tange (2011): GNU Parallel - The Command-Line Power Tool,\n",
      "  ;login: The USENIX Magazine, February 2011:42-47.\n",
      "\n",
      "This helps funding further development; AND IT WON'T COST YOU A CENT.\n",
      "If you pay 10000 EUR you should feel free to use GNU Parallel without citing.\n",
      "\n",
      "To silence this citation notice: run 'parallel --citation'.\n",
      "\n",
      "Academic tradition requires you to cite works you base your article on.\n",
      "When using programs that use GNU Parallel to process data for publication\n",
      "please cite:\n",
      "\n",
      "  O. Tange (2011): GNU Parallel - The Command-Line Power Tool,\n",
      "  ;login: The USENIX Magazine, February 2011:42-47.\n",
      "\n",
      "This helps funding further development; AND IT WON'T COST YOU A CENT.\n",
      "If you pay 10000 EUR you should feel free to use GNU Parallel without citing.\n",
      "\n",
      "To silence this citation notice: run 'parallel --citation'.\n",
      "\n",
      "Academic tradition requires you to cite works you base your article on.\n",
      "When using programs that use GNU Parallel to process data for publication\n",
      "please cite:\n",
      "\n",
      "  O. Tange (2011): GNU Parallel - The Command-Line Power Tool,\n",
      "  ;login: The USENIX Magazine, February 2011:42-47.\n",
      "\n",
      "This helps funding further development; AND IT WON'T COST YOU A CENT.\n",
      "If you pay 10000 EUR you should feel free to use GNU Parallel without citing.\n",
      "\n",
      "To silence this citation notice: run 'parallel --citation'.\n",
      "\n",
      "Academic tradition requires you to cite works you base your article on.\n",
      "When using programs that use GNU Parallel to process data for publication\n",
      "please cite:\n",
      "\n",
      "  O. Tange (2011): GNU Parallel - The Command-Line Power Tool,\n",
      "  ;login: The USENIX Magazine, February 2011:42-47.\n",
      "\n",
      "This helps funding further development; AND IT WON'T COST YOU A CENT.\n",
      "If you pay 10000 EUR you should feel free to use GNU Parallel without citing.\n",
      "\n",
      "To silence this citation notice: run 'parallel --citation'.\n",
      "\n",
      "3.68 s ± 19 ms per loop (mean ± std. dev. of 7 runs, 1 loop each)\n"
     ]
    }
   ],
   "source": [
    "%%timeit -n 1\n",
    "!find ~/csc-369-student/data/gutenberg -name \"*.txt\" | egrep -v order.txt | parallel python Chapter2_count_words_book.py"
   ]
  },
  {
   "cell_type": "markdown",
   "metadata": {
    "slideshow": {
     "slide_type": "subslide"
    }
   },
   "source": [
    "### Results\n",
    "* We got a speedup even though we had to start Python multiple times (our results may vary on a shared environment). \n",
    "* There is always overhead when moving towards distributed computing. \n",
    "* We aren't going to do the actual comparison of top 25 to next 25. \n",
    "* Well... why not. We are almost there. This material is definitely not part of this class though."
   ]
  },
  {
   "cell_type": "code",
   "execution_count": 14,
   "metadata": {
    "slideshow": {
     "slide_type": "subslide"
    }
   },
   "outputs": [],
   "source": [
    "import pandas as pd\n",
    "import altair as alt\n",
    "\n",
    "book_word_freq = Chapter2_helper.count_words(book_files)\n",
    "\n",
    "top_books = book_files[:25]\n",
    "next_books = book_files[25:50]\n",
    "\n",
    "top_df = pd.DataFrame(columns=[\"book\",\"word\",\"freq\",\"group\"]).set_index([\"book\",\"word\"])\n",
    "next_df = pd.DataFrame(columns=[\"book\",\"word\",\"freq\",\"group\"]).set_index([\"book\",\"word\"])\n",
    "\n",
    "# Normalize the counts for each book\n",
    "for book in top_books:\n",
    "    data = pd.Series(book_word_freq[book])\n",
    "    data = (data/data.sum()).to_frame().reset_index()\n",
    "    data.columns=[\"word\",\"freq\"]\n",
    "    data[\"book\"] = book\n",
    "    data[\"group\"] = \"top\"\n",
    "    top_df = top_df.append(data.set_index([\"book\",\"word\"]))\n",
    "    \n",
    "for book in next_books:\n",
    "    data = pd.Series(book_word_freq[book])\n",
    "    data = (data/data.sum()).to_frame().reset_index()\n",
    "    data.columns=[\"word\",\"freq\"]\n",
    "    data[\"book\"] = book\n",
    "    data[\"group\"] = \"bottom\"\n",
    "    next_df = next_df.append(data.set_index([\"book\",\"word\"]))"
   ]
  },
  {
   "cell_type": "code",
   "execution_count": 15,
   "metadata": {
    "slideshow": {
     "slide_type": "subslide"
    }
   },
   "outputs": [],
   "source": [
    "next_df = next_df.reset_index()\n",
    "top_df = top_df.reset_index()"
   ]
  },
  {
   "cell_type": "code",
   "execution_count": 16,
   "metadata": {
    "slideshow": {
     "slide_type": "subslide"
    }
   },
   "outputs": [
    {
     "data": {
      "text/html": [
       "<div>\n",
       "<style scoped>\n",
       "    .dataframe tbody tr th:only-of-type {\n",
       "        vertical-align: middle;\n",
       "    }\n",
       "\n",
       "    .dataframe tbody tr th {\n",
       "        vertical-align: top;\n",
       "    }\n",
       "\n",
       "    .dataframe thead th {\n",
       "        text-align: right;\n",
       "    }\n",
       "</style>\n",
       "<table border=\"1\" class=\"dataframe\">\n",
       "  <thead>\n",
       "    <tr style=\"text-align: right;\">\n",
       "      <th></th>\n",
       "      <th>book</th>\n",
       "      <th>word</th>\n",
       "      <th>freq</th>\n",
       "      <th>group</th>\n",
       "    </tr>\n",
       "  </thead>\n",
       "  <tbody>\n",
       "    <tr>\n",
       "      <th>0</th>\n",
       "      <td>/home/jupyter-pander14/csc-369-student/data/gu...</td>\n",
       "      <td>﻿</td>\n",
       "      <td>0.000040</td>\n",
       "      <td>top</td>\n",
       "    </tr>\n",
       "    <tr>\n",
       "      <th>1</th>\n",
       "      <td>/home/jupyter-pander14/csc-369-student/data/gu...</td>\n",
       "      <td>St.</td>\n",
       "      <td>0.000238</td>\n",
       "      <td>top</td>\n",
       "    </tr>\n",
       "    <tr>\n",
       "      <th>2</th>\n",
       "      <td>/home/jupyter-pander14/csc-369-student/data/gu...</td>\n",
       "      <td>Benedict’s</td>\n",
       "      <td>0.000079</td>\n",
       "      <td>top</td>\n",
       "    </tr>\n",
       "    <tr>\n",
       "      <th>3</th>\n",
       "      <td>/home/jupyter-pander14/csc-369-student/data/gu...</td>\n",
       "      <td>Rule</td>\n",
       "      <td>0.000872</td>\n",
       "      <td>top</td>\n",
       "    </tr>\n",
       "    <tr>\n",
       "      <th>4</th>\n",
       "      <td>/home/jupyter-pander14/csc-369-student/data/gu...</td>\n",
       "      <td>for</td>\n",
       "      <td>0.009237</td>\n",
       "      <td>top</td>\n",
       "    </tr>\n",
       "    <tr>\n",
       "      <th>...</th>\n",
       "      <td>...</td>\n",
       "      <td>...</td>\n",
       "      <td>...</td>\n",
       "      <td>...</td>\n",
       "    </tr>\n",
       "    <tr>\n",
       "      <th>496984</th>\n",
       "      <td>/home/jupyter-pander14/csc-369-student/data/gu...</td>\n",
       "      <td>produce</td>\n",
       "      <td>0.000015</td>\n",
       "      <td>bottom</td>\n",
       "    </tr>\n",
       "    <tr>\n",
       "      <th>496985</th>\n",
       "      <td>/home/jupyter-pander14/csc-369-student/data/gu...</td>\n",
       "      <td>subscribe</td>\n",
       "      <td>0.000015</td>\n",
       "      <td>bottom</td>\n",
       "    </tr>\n",
       "    <tr>\n",
       "      <th>496986</th>\n",
       "      <td>/home/jupyter-pander14/csc-369-student/data/gu...</td>\n",
       "      <td>email</td>\n",
       "      <td>0.000015</td>\n",
       "      <td>bottom</td>\n",
       "    </tr>\n",
       "    <tr>\n",
       "      <th>496987</th>\n",
       "      <td>/home/jupyter-pander14/csc-369-student/data/gu...</td>\n",
       "      <td>newsletter</td>\n",
       "      <td>0.000015</td>\n",
       "      <td>bottom</td>\n",
       "    </tr>\n",
       "    <tr>\n",
       "      <th>496988</th>\n",
       "      <td>/home/jupyter-pander14/csc-369-student/data/gu...</td>\n",
       "      <td>eBooks.</td>\n",
       "      <td>0.000015</td>\n",
       "      <td>bottom</td>\n",
       "    </tr>\n",
       "  </tbody>\n",
       "</table>\n",
       "<p>794284 rows × 4 columns</p>\n",
       "</div>"
      ],
      "text/plain": [
       "                                                     book        word  \\\n",
       "0       /home/jupyter-pander14/csc-369-student/data/gu...           ﻿   \n",
       "1       /home/jupyter-pander14/csc-369-student/data/gu...         St.   \n",
       "2       /home/jupyter-pander14/csc-369-student/data/gu...  Benedict’s   \n",
       "3       /home/jupyter-pander14/csc-369-student/data/gu...        Rule   \n",
       "4       /home/jupyter-pander14/csc-369-student/data/gu...         for   \n",
       "...                                                   ...         ...   \n",
       "496984  /home/jupyter-pander14/csc-369-student/data/gu...     produce   \n",
       "496985  /home/jupyter-pander14/csc-369-student/data/gu...   subscribe   \n",
       "496986  /home/jupyter-pander14/csc-369-student/data/gu...       email   \n",
       "496987  /home/jupyter-pander14/csc-369-student/data/gu...  newsletter   \n",
       "496988  /home/jupyter-pander14/csc-369-student/data/gu...     eBooks.   \n",
       "\n",
       "            freq   group  \n",
       "0       0.000040     top  \n",
       "1       0.000238     top  \n",
       "2       0.000079     top  \n",
       "3       0.000872     top  \n",
       "4       0.009237     top  \n",
       "...          ...     ...  \n",
       "496984  0.000015  bottom  \n",
       "496985  0.000015  bottom  \n",
       "496986  0.000015  bottom  \n",
       "496987  0.000015  bottom  \n",
       "496988  0.000015  bottom  \n",
       "\n",
       "[794284 rows x 4 columns]"
      ]
     },
     "execution_count": 16,
     "metadata": {},
     "output_type": "execute_result"
    }
   ],
   "source": [
    "plot_df = top_df.append(next_df)\n",
    "plot_df"
   ]
  },
  {
   "cell_type": "code",
   "execution_count": 17,
   "metadata": {
    "slideshow": {
     "slide_type": "subslide"
    }
   },
   "outputs": [],
   "source": [
    "pivot_df = plot_df.groupby(['word','group']).mean().reset_index().pivot_table(index='group',columns='word').T"
   ]
  },
  {
   "cell_type": "code",
   "execution_count": 18,
   "metadata": {
    "slideshow": {
     "slide_type": "subslide"
    }
   },
   "outputs": [
    {
     "data": {
      "text/plain": [
       "['MRS',\n",
       " 'I',\n",
       " 'Scott',\n",
       " 'Hester',\n",
       " 'of',\n",
       " 'he',\n",
       " 'Alice',\n",
       " 'and',\n",
       " 'the',\n",
       " 'Martians',\n",
       " 'hee',\n",
       " 'Abbot',\n",
       " 'vnto',\n",
       " 'Quixote,',\n",
       " '\"I',\n",
       " 'Chap.',\n",
       " 'Tom',\n",
       " 'Harriet',\n",
       " 'Weston',\n",
       " 'his',\n",
       " 'Office',\n",
       " 'Jennie',\n",
       " 'my',\n",
       " 'Elizabeth',\n",
       " 'Jekyll',\n",
       " 'or',\n",
       " 'Jim',\n",
       " 'Anne.',\n",
       " 'Anne',\n",
       " 'PART']"
      ]
     },
     "execution_count": 18,
     "metadata": {},
     "output_type": "execute_result"
    }
   ],
   "source": [
    "top_k = 30\n",
    "top_words = [v[1] for v in (pivot_df[\"bottom\"] - pivot_df[\"top\"]).abs().sort_values(ascending=False)[:top_k].index]\n",
    "top_words"
   ]
  },
  {
   "cell_type": "code",
   "execution_count": 19,
   "metadata": {
    "slideshow": {
     "slide_type": "subslide"
    }
   },
   "outputs": [
    {
     "data": {
      "text/html": [
       "\n",
       "<div id=\"altair-viz-7e93f882152147bf8379020a29c89aa9\"></div>\n",
       "<script type=\"text/javascript\">\n",
       "  (function(spec, embedOpt){\n",
       "    let outputDiv = document.currentScript.previousElementSibling;\n",
       "    if (outputDiv.id !== \"altair-viz-7e93f882152147bf8379020a29c89aa9\") {\n",
       "      outputDiv = document.getElementById(\"altair-viz-7e93f882152147bf8379020a29c89aa9\");\n",
       "    }\n",
       "    const paths = {\n",
       "      \"vega\": \"https://cdn.jsdelivr.net/npm//vega@5?noext\",\n",
       "      \"vega-lib\": \"https://cdn.jsdelivr.net/npm//vega-lib?noext\",\n",
       "      \"vega-lite\": \"https://cdn.jsdelivr.net/npm//vega-lite@4.8.1?noext\",\n",
       "      \"vega-embed\": \"https://cdn.jsdelivr.net/npm//vega-embed@6?noext\",\n",
       "    };\n",
       "\n",
       "    function loadScript(lib) {\n",
       "      return new Promise(function(resolve, reject) {\n",
       "        var s = document.createElement('script');\n",
       "        s.src = paths[lib];\n",
       "        s.async = true;\n",
       "        s.onload = () => resolve(paths[lib]);\n",
       "        s.onerror = () => reject(`Error loading script: ${paths[lib]}`);\n",
       "        document.getElementsByTagName(\"head\")[0].appendChild(s);\n",
       "      });\n",
       "    }\n",
       "\n",
       "    function showError(err) {\n",
       "      outputDiv.innerHTML = `<div class=\"error\" style=\"color:red;\">${err}</div>`;\n",
       "      throw err;\n",
       "    }\n",
       "\n",
       "    function displayChart(vegaEmbed) {\n",
       "      vegaEmbed(outputDiv, spec, embedOpt)\n",
       "        .catch(err => showError(`Javascript Error: ${err.message}<br>This usually means there's a typo in your chart specification. See the javascript console for the full traceback.`));\n",
       "    }\n",
       "\n",
       "    if(typeof define === \"function\" && define.amd) {\n",
       "      requirejs.config({paths});\n",
       "      require([\"vega-embed\"], displayChart, err => showError(`Error loading script: ${err.message}`));\n",
       "    } else if (typeof vegaEmbed === \"function\") {\n",
       "      displayChart(vegaEmbed);\n",
       "    } else {\n",
       "      loadScript(\"vega\")\n",
       "        .then(() => loadScript(\"vega-lite\"))\n",
       "        .then(() => loadScript(\"vega-embed\"))\n",
       "        .catch(showError)\n",
       "        .then(() => displayChart(vegaEmbed));\n",
       "    }\n",
       "  })({\"config\": {\"view\": {\"continuousWidth\": 400, \"continuousHeight\": 300}}, \"data\": {\"name\": \"data-4fbc7b0d933d7587b51aa3fdc4867740\"}, \"mark\": \"bar\", \"encoding\": {\"color\": {\"type\": \"nominal\", \"field\": \"group\"}, \"column\": {\"type\": \"nominal\", \"field\": \"word\"}, \"x\": {\"type\": \"nominal\", \"field\": \"group\"}, \"y\": {\"type\": \"quantitative\", \"field\": \"freq\"}}, \"$schema\": \"https://vega.github.io/schema/vega-lite/v4.8.1.json\", \"datasets\": {\"data-4fbc7b0d933d7587b51aa3fdc4867740\": [{\"word\": \"MRS\", \"book\": \"/home/jupyter-pander14/csc-369-student/data/gutenberg/2542-0.txt\", \"freq\": 0.0065207108588418135, \"group\": \"top\"}, {\"word\": \"MRS\", \"book\": \"/home/jupyter-pander14/csc-369-student/data/gutenberg/2591-0.txt\", \"freq\": 1.9203625644521686e-05, \"group\": \"bottom\"}, {\"word\": \"MRS\", \"book\": \"/home/jupyter-pander14/csc-369-student/data/gutenberg/4300-0.txt\", \"freq\": 0.00014172124177643848, \"group\": \"bottom\"}, {\"word\": \"I\", \"book\": \"/home/jupyter-pander14/csc-369-student/data/gutenberg/50040-0.txt\", \"freq\": 0.0012289395441030723, \"group\": \"top\"}, {\"word\": \"I\", \"book\": \"/home/jupyter-pander14/csc-369-student/data/gutenberg/1342-0.txt\", \"freq\": 0.013832423199980754, \"group\": \"top\"}, {\"word\": \"I\", \"book\": \"/home/jupyter-pander14/csc-369-student/data/gutenberg/84-0.txt\", \"freq\": 0.034774712555474555, \"group\": \"top\"}, {\"word\": \"I\", \"book\": \"/home/jupyter-pander14/csc-369-student/data/gutenberg/6133-0.txt\", \"freq\": 0.014523295225049611, \"group\": \"top\"}, {\"word\": \"I\", \"book\": \"/home/jupyter-pander14/csc-369-student/data/gutenberg/46-0.txt\", \"freq\": 0.007475924987328941, \"group\": \"top\"}, {\"word\": \"I\", \"book\": \"/home/jupyter-pander14/csc-369-student/data/gutenberg/11-0.txt\", \"freq\": 0.008398826188147199, \"group\": \"top\"}, {\"word\": \"I\", \"book\": \"/home/jupyter-pander14/csc-369-student/data/gutenberg/1080-0.txt\", \"freq\": 0.008265727843257308, \"group\": \"top\"}, {\"word\": \"I\", \"book\": \"/home/jupyter-pander14/csc-369-student/data/gutenberg/1661-0.txt\", \"freq\": 0.02354023586702973, \"group\": \"top\"}, {\"word\": \"I\", \"book\": \"/home/jupyter-pander14/csc-369-student/data/gutenberg/98-0.txt\", \"freq\": 0.010401306277468872, \"group\": \"top\"}, {\"word\": \"I\", \"book\": \"/home/jupyter-pander14/csc-369-student/data/gutenberg/25344-0.txt\", \"freq\": 0.004530558270568619, \"group\": \"top\"}, {\"word\": \"I\", \"book\": \"/home/jupyter-pander14/csc-369-student/data/gutenberg/2701-0.txt\", \"freq\": 0.00798313487466988, \"group\": \"top\"}, {\"word\": \"I\", \"book\": \"/home/jupyter-pander14/csc-369-student/data/gutenberg/1260-0.txt\", \"freq\": 0.034090185676392576, \"group\": \"top\"}, {\"word\": \"I\", \"book\": \"/home/jupyter-pander14/csc-369-student/data/gutenberg/64241-0.txt\", \"freq\": 0.011736230824148078, \"group\": \"top\"}, {\"word\": \"I\", \"book\": \"/home/jupyter-pander14/csc-369-student/data/gutenberg/1952-0.txt\", \"freq\": 0.031450647513331154, \"group\": \"top\"}, {\"word\": \"I\", \"book\": \"/home/jupyter-pander14/csc-369-student/data/gutenberg/205-0.txt\", \"freq\": 0.01654623608879617, \"group\": \"top\"}, {\"word\": \"I\", \"book\": \"/home/jupyter-pander14/csc-369-student/data/gutenberg/43-0.txt\", \"freq\": 0.019119391528853533, \"group\": \"top\"}, {\"word\": \"I\", \"book\": \"/home/jupyter-pander14/csc-369-student/data/gutenberg/25929-0.txt\", \"freq\": 0.00776581017658777, \"group\": \"top\"}, {\"word\": \"I\", \"book\": \"/home/jupyter-pander14/csc-369-student/data/gutenberg/76-0.txt\", \"freq\": 0.026662580447441006, \"group\": \"top\"}, {\"word\": \"I\", \"book\": \"/home/jupyter-pander14/csc-369-student/data/gutenberg/2542-0.txt\", \"freq\": 0.030711534563146157, \"group\": \"top\"}, {\"word\": \"I\", \"book\": \"/home/jupyter-pander14/csc-369-student/data/gutenberg/74-0.txt\", \"freq\": 0.008369334109776411, \"group\": \"top\"}, {\"word\": \"I\", \"book\": \"/home/jupyter-pander14/csc-369-student/data/gutenberg/1250-0.txt\", \"freq\": 0.0045881876658719805, \"group\": \"top\"}, {\"word\": \"I\", \"book\": \"/home/jupyter-pander14/csc-369-student/data/gutenberg/219-0.txt\", \"freq\": 0.023961895456766, \"group\": \"top\"}, {\"word\": \"I\", \"book\": \"/home/jupyter-pander14/csc-369-student/data/gutenberg/64244-0.txt\", \"freq\": 0.002049753097922296, \"group\": \"top\"}, {\"word\": \"I\", \"book\": \"/home/jupyter-pander14/csc-369-student/data/gutenberg/160-0.txt\", \"freq\": 0.006460276016411787, \"group\": \"top\"}, {\"word\": \"I\", \"book\": \"/home/jupyter-pander14/csc-369-student/data/gutenberg/1400-0.txt\", \"freq\": 0.030086250093286564, \"group\": \"top\"}, {\"word\": \"I\", \"book\": \"/home/jupyter-pander14/csc-369-student/data/gutenberg/60479-0.txt\", \"freq\": 0.0006177076183939602, \"group\": \"bottom\"}, {\"word\": \"I\", \"book\": \"/home/jupyter-pander14/csc-369-student/data/gutenberg/16-0.txt\", \"freq\": 0.004983748645720477, \"group\": \"bottom\"}, {\"word\": \"I\", \"book\": \"/home/jupyter-pander14/csc-369-student/data/gutenberg/2600-0.txt\", \"freq\": 0.005694690429565067, \"group\": \"bottom\"}, {\"word\": \"I\", \"book\": \"/home/jupyter-pander14/csc-369-student/data/gutenberg/1184-0.txt\", \"freq\": 0.014049700735557098, \"group\": \"bottom\"}, {\"word\": \"I\", \"book\": \"/home/jupyter-pander14/csc-369-student/data/gutenberg/1232-0.txt\", \"freq\": 0.003902347063813743, \"group\": \"bottom\"}, {\"word\": \"I\", \"book\": \"/home/jupyter-pander14/csc-369-student/data/gutenberg/2852-0.txt\", \"freq\": 0.02022666709474428, \"group\": \"bottom\"}, {\"word\": \"I\", \"book\": \"/home/jupyter-pander14/csc-369-student/data/gutenberg/120-0.txt\", \"freq\": 0.02214197074694293, \"group\": \"bottom\"}, {\"word\": \"I\", \"book\": \"/home/jupyter-pander14/csc-369-student/data/gutenberg/158-0.txt\", \"freq\": 0.015879544803001407, \"group\": \"bottom\"}, {\"word\": \"I\", \"book\": \"/home/jupyter-pander14/csc-369-student/data/gutenberg/2591-0.txt\", \"freq\": 0.007249368680806936, \"group\": \"bottom\"}, {\"word\": \"I\", \"book\": \"/home/jupyter-pander14/csc-369-student/data/gutenberg/4300-0.txt\", \"freq\": 0.009058970954604449, \"group\": \"bottom\"}, {\"word\": \"I\", \"book\": \"/home/jupyter-pander14/csc-369-student/data/gutenberg/408-0.txt\", \"freq\": 0.003902710990312914, \"group\": \"bottom\"}, {\"word\": \"I\", \"book\": \"/home/jupyter-pander14/csc-369-student/data/gutenberg/3600-0.txt\", \"freq\": 0.011820871817657569, \"group\": \"bottom\"}, {\"word\": \"I\", \"book\": \"/home/jupyter-pander14/csc-369-student/data/gutenberg/64247-0.txt\", \"freq\": 0.006192696696919411, \"group\": \"bottom\"}, {\"word\": \"I\", \"book\": \"/home/jupyter-pander14/csc-369-student/data/gutenberg/140-0.txt\", \"freq\": 0.001845139600241641, \"group\": \"bottom\"}, {\"word\": \"I\", \"book\": \"/home/jupyter-pander14/csc-369-student/data/gutenberg/64239-0.txt\", \"freq\": 0.0015082956259426848, \"group\": \"bottom\"}, {\"word\": \"I\", \"book\": \"/home/jupyter-pander14/csc-369-student/data/gutenberg/135-0.txt\", \"freq\": 0.005109657181740976, \"group\": \"bottom\"}, {\"word\": \"I\", \"book\": \"/home/jupyter-pander14/csc-369-student/data/gutenberg/36-0.txt\", \"freq\": 0.0191008213194917, \"group\": \"bottom\"}, {\"word\": \"I\", \"book\": \"/home/jupyter-pander14/csc-369-student/data/gutenberg/147-0.txt\", \"freq\": 0.003080123204928197, \"group\": \"bottom\"}, {\"word\": \"I\", \"book\": \"/home/jupyter-pander14/csc-369-student/data/gutenberg/996-0.txt\", \"freq\": 0.013377708776855355, \"group\": \"bottom\"}, {\"word\": \"I\", \"book\": \"/home/jupyter-pander14/csc-369-student/data/gutenberg/45-0.txt\", \"freq\": 0.020039378277578995, \"group\": \"bottom\"}, {\"word\": \"I\", \"book\": \"/home/jupyter-pander14/csc-369-student/data/gutenberg/57426-0.txt\", \"freq\": 0.01956587777194775, \"group\": \"bottom\"}, {\"word\": \"I\", \"book\": \"/home/jupyter-pander14/csc-369-student/data/gutenberg/768-0.txt\", \"freq\": 0.026995009326006958, \"group\": \"bottom\"}, {\"word\": \"I\", \"book\": \"/home/jupyter-pander14/csc-369-student/data/gutenberg/58585-0.txt\", \"freq\": 0.006154041365308971, \"group\": \"bottom\"}, {\"word\": \"I\", \"book\": \"/home/jupyter-pander14/csc-369-student/data/gutenberg/2554-0.txt\", \"freq\": 0.016578705272841717, \"group\": \"bottom\"}, {\"word\": \"I\", \"book\": \"/home/jupyter-pander14/csc-369-student/data/gutenberg/64242-0.txt\", \"freq\": 0.010669074989667682, \"group\": \"bottom\"}, {\"word\": \"Scott\", \"book\": \"/home/jupyter-pander14/csc-369-student/data/gutenberg/64244-0.txt\", \"freq\": 0.0032609708376036524, \"group\": \"top\"}, {\"word\": \"Scott\", \"book\": \"/home/jupyter-pander14/csc-369-student/data/gutenberg/4300-0.txt\", \"freq\": 3.7295063625378545e-06, \"group\": \"bottom\"}, {\"word\": \"Scott\", \"book\": \"/home/jupyter-pander14/csc-369-student/data/gutenberg/140-0.txt\", \"freq\": 6.566333096945342e-06, \"group\": \"bottom\"}, {\"word\": \"Hester\", \"book\": \"/home/jupyter-pander14/csc-369-student/data/gutenberg/25344-0.txt\", \"freq\": 0.0027942275628126258, \"group\": \"top\"}, {\"word\": \"Hester\", \"book\": \"/home/jupyter-pander14/csc-369-student/data/gutenberg/4300-0.txt\", \"freq\": 1.1188519087613563e-05, \"group\": \"bottom\"}, {\"word\": \"of\", \"book\": \"/home/jupyter-pander14/csc-369-student/data/gutenberg/50040-0.txt\", \"freq\": 0.03322101090188305, \"group\": \"top\"}, {\"word\": \"of\", \"book\": \"/home/jupyter-pander14/csc-369-student/data/gutenberg/1342-0.txt\", \"freq\": 0.029364831164249, \"group\": \"top\"}, {\"word\": \"of\", \"book\": \"/home/jupyter-pander14/csc-369-student/data/gutenberg/84-0.txt\", \"freq\": 0.035107240148870046, \"group\": \"top\"}, {\"word\": \"of\", \"book\": \"/home/jupyter-pander14/csc-369-student/data/gutenberg/6133-0.txt\", \"freq\": 0.02869536202869536, \"group\": \"top\"}, {\"word\": \"of\", \"book\": \"/home/jupyter-pander14/csc-369-student/data/gutenberg/46-0.txt\", \"freq\": 0.023948302078053724, \"group\": \"top\"}, {\"word\": \"of\", \"book\": \"/home/jupyter-pander14/csc-369-student/data/gutenberg/11-0.txt\", \"freq\": 0.02037305629574662, \"group\": \"top\"}, {\"word\": \"of\", \"book\": \"/home/jupyter-pander14/csc-369-student/data/gutenberg/1080-0.txt\", \"freq\": 0.036583499158120314, \"group\": \"top\"}, {\"word\": \"of\", \"book\": \"/home/jupyter-pander14/csc-369-student/data/gutenberg/1661-0.txt\", \"freq\": 0.02530598589258664, \"group\": \"top\"}, {\"word\": \"of\", \"book\": \"/home/jupyter-pander14/csc-369-student/data/gutenberg/98-0.txt\", \"freq\": 0.0292689593658512, \"group\": \"top\"}, {\"word\": \"of\", \"book\": \"/home/jupyter-pander14/csc-369-student/data/gutenberg/25344-0.txt\", \"freq\": 0.03827976772264704, \"group\": \"top\"}, {\"word\": \"of\", \"book\": \"/home/jupyter-pander14/csc-369-student/data/gutenberg/2701-0.txt\", \"freq\": 0.030755687346522727, \"group\": \"top\"}, {\"word\": \"of\", \"book\": \"/home/jupyter-pander14/csc-369-student/data/gutenberg/1260-0.txt\", \"freq\": 0.023395225464190983, \"group\": \"top\"}, {\"word\": \"of\", \"book\": \"/home/jupyter-pander14/csc-369-student/data/gutenberg/64241-0.txt\", \"freq\": 0.0205296975395706, \"group\": \"top\"}, {\"word\": \"of\", \"book\": \"/home/jupyter-pander14/csc-369-student/data/gutenberg/1952-0.txt\", \"freq\": 0.022853411687887692, \"group\": \"top\"}, {\"word\": \"of\", \"book\": \"/home/jupyter-pander14/csc-369-student/data/gutenberg/205-0.txt\", \"freq\": 0.03003894716476417, \"group\": \"top\"}, {\"word\": \"of\", \"book\": \"/home/jupyter-pander14/csc-369-student/data/gutenberg/43-0.txt\", \"freq\": 0.036040750819900914, \"group\": \"top\"}, {\"word\": \"of\", \"book\": \"/home/jupyter-pander14/csc-369-student/data/gutenberg/25929-0.txt\", \"freq\": 0.03987574703717459, \"group\": \"top\"}, {\"word\": \"of\", \"book\": \"/home/jupyter-pander14/csc-369-student/data/gutenberg/76-0.txt\", \"freq\": 0.015165710783240664, \"group\": \"top\"}, {\"word\": \"of\", \"book\": \"/home/jupyter-pander14/csc-369-student/data/gutenberg/2542-0.txt\", \"freq\": 0.016588958713426583, \"group\": \"top\"}, {\"word\": \"of\", \"book\": \"/home/jupyter-pander14/csc-369-student/data/gutenberg/74-0.txt\", \"freq\": 0.021045218780894083, \"group\": \"top\"}, {\"word\": \"of\", \"book\": \"/home/jupyter-pander14/csc-369-student/data/gutenberg/1250-0.txt\", \"freq\": 0.03202734919706716, \"group\": \"top\"}, {\"word\": \"of\", \"book\": \"/home/jupyter-pander14/csc-369-student/data/gutenberg/219-0.txt\", \"freq\": 0.0356619443087445, \"group\": \"top\"}, {\"word\": \"of\", \"book\": \"/home/jupyter-pander14/csc-369-student/data/gutenberg/64244-0.txt\", \"freq\": 0.03270287897139663, \"group\": \"top\"}, {\"word\": \"of\", \"book\": \"/home/jupyter-pander14/csc-369-student/data/gutenberg/160-0.txt\", \"freq\": 0.024871316672883254, \"group\": \"top\"}, {\"word\": \"of\", \"book\": \"/home/jupyter-pander14/csc-369-student/data/gutenberg/1400-0.txt\", \"freq\": 0.023726771645148567, \"group\": \"top\"}, {\"word\": \"of\", \"book\": \"/home/jupyter-pander14/csc-369-student/data/gutenberg/60479-0.txt\", \"freq\": 0.05072065888812629, \"group\": \"bottom\"}, {\"word\": \"of\", \"book\": \"/home/jupyter-pander14/csc-369-student/data/gutenberg/16-0.txt\", \"freq\": 0.018300009849305625, \"group\": \"bottom\"}, {\"word\": \"of\", \"book\": \"/home/jupyter-pander14/csc-369-student/data/gutenberg/2600-0.txt\", \"freq\": 0.026234423476604093, \"group\": \"bottom\"}, {\"word\": \"of\", \"book\": \"/home/jupyter-pander14/csc-369-student/data/gutenberg/1184-0.txt\", \"freq\": 0.02748320542597245, \"group\": \"bottom\"}, {\"word\": \"of\", \"book\": \"/home/jupyter-pander14/csc-369-student/data/gutenberg/1232-0.txt\", \"freq\": 0.033405599019700256, \"group\": \"bottom\"}, {\"word\": \"of\", \"book\": \"/home/jupyter-pander14/csc-369-student/data/gutenberg/2852-0.txt\", \"freq\": 0.02725784184672681, \"group\": \"bottom\"}, {\"word\": \"of\", \"book\": \"/home/jupyter-pander14/csc-369-student/data/gutenberg/120-0.txt\", \"freq\": 0.024735425758864456, \"group\": \"bottom\"}, {\"word\": \"of\", \"book\": \"/home/jupyter-pander14/csc-369-student/data/gutenberg/158-0.txt\", \"freq\": 0.026754664772089893, \"group\": \"bottom\"}, {\"word\": \"of\", \"book\": \"/home/jupyter-pander14/csc-369-student/data/gutenberg/2591-0.txt\", \"freq\": 0.013922628592278222, \"group\": \"bottom\"}, {\"word\": \"of\", \"book\": \"/home/jupyter-pander14/csc-369-student/data/gutenberg/4300-0.txt\", \"freq\": 0.030339534259245446, \"group\": \"bottom\"}, {\"word\": \"of\", \"book\": \"/home/jupyter-pander14/csc-369-student/data/gutenberg/408-0.txt\", \"freq\": 0.04493692940274584, \"group\": \"bottom\"}, {\"word\": \"of\", \"book\": \"/home/jupyter-pander14/csc-369-student/data/gutenberg/3600-0.txt\", \"freq\": 0.03626617759668743, \"group\": \"bottom\"}, {\"word\": \"of\", \"book\": \"/home/jupyter-pander14/csc-369-student/data/gutenberg/64247-0.txt\", \"freq\": 0.056123631441841494, \"group\": \"bottom\"}, {\"word\": \"of\", \"book\": \"/home/jupyter-pander14/csc-369-student/data/gutenberg/140-0.txt\", \"freq\": 0.02899692695611063, \"group\": \"bottom\"}, {\"word\": \"of\", \"book\": \"/home/jupyter-pander14/csc-369-student/data/gutenberg/64239-0.txt\", \"freq\": 0.021232161503654718, \"group\": \"bottom\"}, {\"word\": \"of\", \"book\": \"/home/jupyter-pander14/csc-369-student/data/gutenberg/135-0.txt\", \"freq\": 0.0343838080485013, \"group\": \"bottom\"}, {\"word\": \"of\", \"book\": \"/home/jupyter-pander14/csc-369-student/data/gutenberg/36-0.txt\", \"freq\": 0.037900966909844756, \"group\": \"bottom\"}, {\"word\": \"of\", \"book\": \"/home/jupyter-pander14/csc-369-student/data/gutenberg/147-0.txt\", \"freq\": 0.044961798471938874, \"group\": \"bottom\"}, {\"word\": \"of\", \"book\": \"/home/jupyter-pander14/csc-369-student/data/gutenberg/996-0.txt\", \"freq\": 0.029902293454312195, \"group\": \"bottom\"}, {\"word\": \"of\", \"book\": \"/home/jupyter-pander14/csc-369-student/data/gutenberg/45-0.txt\", \"freq\": 0.018685749985801102, \"group\": \"bottom\"}, {\"word\": \"of\", \"book\": \"/home/jupyter-pander14/csc-369-student/data/gutenberg/57426-0.txt\", \"freq\": 0.03360857198088978, \"group\": \"bottom\"}, {\"word\": \"of\", \"book\": \"/home/jupyter-pander14/csc-369-student/data/gutenberg/768-0.txt\", \"freq\": 0.019483792912234715, \"group\": \"bottom\"}, {\"word\": \"of\", \"book\": \"/home/jupyter-pander14/csc-369-student/data/gutenberg/58585-0.txt\", \"freq\": 0.03286384976525822, \"group\": \"bottom\"}, {\"word\": \"of\", \"book\": \"/home/jupyter-pander14/csc-369-student/data/gutenberg/2554-0.txt\", \"freq\": 0.018437999322132376, \"group\": \"bottom\"}, {\"word\": \"of\", \"book\": \"/home/jupyter-pander14/csc-369-student/data/gutenberg/64242-0.txt\", \"freq\": 0.03228275344793277, \"group\": \"bottom\"}, {\"word\": \"he\", \"book\": \"/home/jupyter-pander14/csc-369-student/data/gutenberg/50040-0.txt\", \"freq\": 0.009593657086223985, \"group\": \"top\"}, {\"word\": \"he\", \"book\": \"/home/jupyter-pander14/csc-369-student/data/gutenberg/1342-0.txt\", \"freq\": 0.008331529104220293, \"group\": \"top\"}, {\"word\": \"he\", \"book\": \"/home/jupyter-pander14/csc-369-student/data/gutenberg/84-0.txt\", \"freq\": 0.005729706224660758, \"group\": \"top\"}, {\"word\": \"he\", \"book\": \"/home/jupyter-pander14/csc-369-student/data/gutenberg/6133-0.txt\", \"freq\": 0.010659782589607151, \"group\": \"top\"}, {\"word\": \"he\", \"book\": \"/home/jupyter-pander14/csc-369-student/data/gutenberg/46-0.txt\", \"freq\": 0.011689052204764318, \"group\": \"top\"}, {\"word\": \"he\", \"book\": \"/home/jupyter-pander14/csc-369-student/data/gutenberg/11-0.txt\", \"freq\": 0.0032381016629001247, \"group\": \"top\"}, {\"word\": \"he\", \"book\": \"/home/jupyter-pander14/csc-369-student/data/gutenberg/1080-0.txt\", \"freq\": 0.0010714832389407624, \"group\": \"top\"}, {\"word\": \"he\", \"book\": \"/home/jupyter-pander14/csc-369-student/data/gutenberg/1661-0.txt\", \"freq\": 0.009423529083761605, \"group\": \"top\"}, {\"word\": \"he\", \"book\": \"/home/jupyter-pander14/csc-369-student/data/gutenberg/98-0.txt\", \"freq\": 0.009991296278979435, \"group\": \"top\"}, {\"word\": \"he\", \"book\": \"/home/jupyter-pander14/csc-369-student/data/gutenberg/25344-0.txt\", \"freq\": 0.005220491002127293, \"group\": \"top\"}, {\"word\": \"he\", \"book\": \"/home/jupyter-pander14/csc-369-student/data/gutenberg/2701-0.txt\", \"freq\": 0.006926747903442524, \"group\": \"top\"}, {\"word\": \"he\", \"book\": \"/home/jupyter-pander14/csc-369-student/data/gutenberg/1260-0.txt\", \"freq\": 0.007416445623342175, \"group\": \"top\"}, {\"word\": \"he\", \"book\": \"/home/jupyter-pander14/csc-369-student/data/gutenberg/64241-0.txt\", \"freq\": 0.0075571575336502465, \"group\": \"top\"}, {\"word\": \"he\", \"book\": \"/home/jupyter-pander14/csc-369-student/data/gutenberg/1952-0.txt\", \"freq\": 0.004026553487865927, \"group\": \"top\"}, {\"word\": \"he\", \"book\": \"/home/jupyter-pander14/csc-369-student/data/gutenberg/205-0.txt\", \"freq\": 0.005400449196241557, \"group\": \"top\"}, {\"word\": \"he\", \"book\": \"/home/jupyter-pander14/csc-369-student/data/gutenberg/43-0.txt\", \"freq\": 0.010815714186030284, \"group\": \"top\"}, {\"word\": \"he\", \"book\": \"/home/jupyter-pander14/csc-369-student/data/gutenberg/25929-0.txt\", \"freq\": 0.008373569233885944, \"group\": \"top\"}, {\"word\": \"he\", \"book\": \"/home/jupyter-pander14/csc-369-student/data/gutenberg/76-0.txt\", \"freq\": 0.012022240707499672, \"group\": \"top\"}, {\"word\": \"he\", \"book\": \"/home/jupyter-pander14/csc-369-student/data/gutenberg/2542-0.txt\", \"freq\": 0.004594905061152781, \"group\": \"top\"}, {\"word\": \"he\", \"book\": \"/home/jupyter-pander14/csc-369-student/data/gutenberg/74-0.txt\", \"freq\": 0.011497677442071478, \"group\": \"top\"}, {\"word\": \"he\", \"book\": \"/home/jupyter-pander14/csc-369-student/data/gutenberg/1250-0.txt\", \"freq\": 0.0006297512482569386, \"group\": \"top\"}, {\"word\": \"he\", \"book\": \"/home/jupyter-pander14/csc-369-student/data/gutenberg/219-0.txt\", \"freq\": 0.008744504152418174, \"group\": \"top\"}, {\"word\": \"he\", \"book\": \"/home/jupyter-pander14/csc-369-student/data/gutenberg/64244-0.txt\", \"freq\": 0.007360477033448244, \"group\": \"top\"}, {\"word\": \"he\", \"book\": \"/home/jupyter-pander14/csc-369-student/data/gutenberg/160-0.txt\", \"freq\": 0.00856396866840731, \"group\": \"top\"}, {\"word\": \"he\", \"book\": \"/home/jupyter-pander14/csc-369-student/data/gutenberg/1400-0.txt\", \"freq\": 0.009238035331620414, \"group\": \"top\"}, {\"word\": \"he\", \"book\": \"/home/jupyter-pander14/csc-369-student/data/gutenberg/60479-0.txt\", \"freq\": 0.0019217570350034316, \"group\": \"bottom\"}, {\"word\": \"he\", \"book\": \"/home/jupyter-pander14/csc-369-student/data/gutenberg/16-0.txt\", \"freq\": 0.01705899734068748, \"group\": \"bottom\"}, {\"word\": \"he\", \"book\": \"/home/jupyter-pander14/csc-369-student/data/gutenberg/2600-0.txt\", \"freq\": 0.013474785323414272, \"group\": \"bottom\"}, {\"word\": \"he\", \"book\": \"/home/jupyter-pander14/csc-369-student/data/gutenberg/1184-0.txt\", \"freq\": 0.011720652047451404, \"group\": \"bottom\"}, {\"word\": \"he\", \"book\": \"/home/jupyter-pander14/csc-369-student/data/gutenberg/1232-0.txt\", \"freq\": 0.015684795927985672, \"group\": \"bottom\"}, {\"word\": \"he\", \"book\": \"/home/jupyter-pander14/csc-369-student/data/gutenberg/2852-0.txt\", \"freq\": 0.010562815038366456, \"group\": \"bottom\"}, {\"word\": \"he\", \"book\": \"/home/jupyter-pander14/csc-369-student/data/gutenberg/120-0.txt\", \"freq\": 0.009774257867510702, \"group\": \"bottom\"}, {\"word\": \"he\", \"book\": \"/home/jupyter-pander14/csc-369-student/data/gutenberg/158-0.txt\", \"freq\": 0.007821361353126674, \"group\": \"bottom\"}, {\"word\": \"he\", \"book\": \"/home/jupyter-pander14/csc-369-student/data/gutenberg/2591-0.txt\", \"freq\": 0.017446493898047952, \"group\": \"bottom\"}, {\"word\": \"he\", \"book\": \"/home/jupyter-pander14/csc-369-student/data/gutenberg/4300-0.txt\", \"freq\": 0.010114421255202661, \"group\": \"bottom\"}, {\"word\": \"he\", \"book\": \"/home/jupyter-pander14/csc-369-student/data/gutenberg/408-0.txt\", \"freq\": 0.005185030315701443, \"group\": \"bottom\"}, {\"word\": \"he\", \"book\": \"/home/jupyter-pander14/csc-369-student/data/gutenberg/3600-0.txt\", \"freq\": 0.007538358275272029, \"group\": \"bottom\"}, {\"word\": \"he\", \"book\": \"/home/jupyter-pander14/csc-369-student/data/gutenberg/64247-0.txt\", \"freq\": 0.0035135210301384086, \"group\": \"bottom\"}, {\"word\": \"he\", \"book\": \"/home/jupyter-pander14/csc-369-student/data/gutenberg/140-0.txt\", \"freq\": 0.017190660047802904, \"group\": \"bottom\"}, {\"word\": \"he\", \"book\": \"/home/jupyter-pander14/csc-369-student/data/gutenberg/64239-0.txt\", \"freq\": 0.021000116022740458, \"group\": \"bottom\"}, {\"word\": \"he\", \"book\": \"/home/jupyter-pander14/csc-369-student/data/gutenberg/135-0.txt\", \"freq\": 0.011492332876758092, \"group\": \"bottom\"}, {\"word\": \"he\", \"book\": \"/home/jupyter-pander14/csc-369-student/data/gutenberg/36-0.txt\", \"freq\": 0.004225285246316723, \"group\": \"bottom\"}, {\"word\": \"he\", \"book\": \"/home/jupyter-pander14/csc-369-student/data/gutenberg/147-0.txt\", \"freq\": 0.002360094403776151, \"group\": \"bottom\"}, {\"word\": \"he\", \"book\": \"/home/jupyter-pander14/csc-369-student/data/gutenberg/996-0.txt\", \"freq\": 0.013108109364396143, \"group\": \"bottom\"}, {\"word\": \"he\", \"book\": \"/home/jupyter-pander14/csc-369-student/data/gutenberg/45-0.txt\", \"freq\": 0.003284678442286212, \"group\": \"bottom\"}, {\"word\": \"he\", \"book\": \"/home/jupyter-pander14/csc-369-student/data/gutenberg/57426-0.txt\", \"freq\": 0.004073347877716716, \"group\": \"bottom\"}, {\"word\": \"he\", \"book\": \"/home/jupyter-pander14/csc-369-student/data/gutenberg/768-0.txt\", \"freq\": 0.012745542840819345, \"group\": \"bottom\"}, {\"word\": \"he\", \"book\": \"/home/jupyter-pander14/csc-369-student/data/gutenberg/58585-0.txt\", \"freq\": 0.006471259992386753, \"group\": \"bottom\"}, {\"word\": \"he\", \"book\": \"/home/jupyter-pander14/csc-369-student/data/gutenberg/2554-0.txt\", \"freq\": 0.01629303248922675, \"group\": \"bottom\"}, {\"word\": \"he\", \"book\": \"/home/jupyter-pander14/csc-369-student/data/gutenberg/64242-0.txt\", \"freq\": 0.007485190344257527, \"group\": \"bottom\"}, {\"word\": \"Alice\", \"book\": \"/home/jupyter-pander14/csc-369-student/data/gutenberg/11-0.txt\", \"freq\": 0.007454379869801329, \"group\": \"top\"}, {\"word\": \"Alice\", \"book\": \"/home/jupyter-pander14/csc-369-student/data/gutenberg/1661-0.txt\", \"freq\": 5.576052712284973e-05, \"group\": \"top\"}, {\"word\": \"Alice\", \"book\": \"/home/jupyter-pander14/csc-369-student/data/gutenberg/1260-0.txt\", \"freq\": 5.305039787798409e-06, \"group\": \"top\"}, {\"word\": \"Alice\", \"book\": \"/home/jupyter-pander14/csc-369-student/data/gutenberg/4300-0.txt\", \"freq\": 1.4918025450151418e-05, \"group\": \"bottom\"}, {\"word\": \"Alice\", \"book\": \"/home/jupyter-pander14/csc-369-student/data/gutenberg/45-0.txt\", \"freq\": 2.8397796331004714e-05, \"group\": \"bottom\"}, {\"word\": \"Alice\", \"book\": \"/home/jupyter-pander14/csc-369-student/data/gutenberg/64242-0.txt\", \"freq\": 0.0002602213412114069, \"group\": \"bottom\"}, {\"word\": \"and\", \"book\": \"/home/jupyter-pander14/csc-369-student/data/gutenberg/50040-0.txt\", \"freq\": 0.025807730426164518, \"group\": \"top\"}, {\"word\": \"and\", \"book\": \"/home/jupyter-pander14/csc-369-student/data/gutenberg/1342-0.txt\", \"freq\": 0.02655825254396305, \"group\": \"top\"}, {\"word\": \"and\", \"book\": \"/home/jupyter-pander14/csc-369-student/data/gutenberg/84-0.txt\", \"freq\": 0.038023251352492037, \"group\": \"top\"}, {\"word\": \"and\", \"book\": \"/home/jupyter-pander14/csc-369-student/data/gutenberg/6133-0.txt\", \"freq\": 0.023795725550111516, \"group\": \"top\"}, {\"word\": \"and\", \"book\": \"/home/jupyter-pander14/csc-369-student/data/gutenberg/46-0.txt\", \"freq\": 0.03300810947795236, \"group\": \"top\"}, {\"word\": \"and\", \"book\": \"/home/jupyter-pander14/csc-369-student/data/gutenberg/11-0.txt\", \"freq\": 0.026545687590649982, \"group\": \"top\"}, {\"word\": \"and\", \"book\": \"/home/jupyter-pander14/csc-369-student/data/gutenberg/1080-0.txt\", \"freq\": 0.02785856421245982, \"group\": \"top\"}, {\"word\": \"and\", \"book\": \"/home/jupyter-pander14/csc-369-student/data/gutenberg/1661-0.txt\", \"freq\": 0.02600299248162226, \"group\": \"top\"}, {\"word\": \"and\", \"book\": \"/home/jupyter-pander14/csc-369-student/data/gutenberg/98-0.txt\", \"freq\": 0.034160306716251504, \"group\": \"top\"}, {\"word\": \"and\", \"book\": \"/home/jupyter-pander14/csc-369-student/data/gutenberg/25344-0.txt\", \"freq\": 0.029977577186224343, \"group\": \"top\"}, {\"word\": \"and\", \"book\": \"/home/jupyter-pander14/csc-369-student/data/gutenberg/2701-0.txt\", \"freq\": 0.02779965713756197, \"group\": \"top\"}, {\"word\": \"and\", \"book\": \"/home/jupyter-pander14/csc-369-student/data/gutenberg/1260-0.txt\", \"freq\": 0.03279575596816976, \"group\": \"top\"}, {\"word\": \"and\", \"book\": \"/home/jupyter-pander14/csc-369-student/data/gutenberg/64241-0.txt\", \"freq\": 0.026902784307579794, \"group\": \"top\"}, {\"word\": \"and\", \"book\": \"/home/jupyter-pander14/csc-369-student/data/gutenberg/1952-0.txt\", \"freq\": 0.03623898139079334, \"group\": \"top\"}, {\"word\": \"and\", \"book\": \"/home/jupyter-pander14/csc-369-student/data/gutenberg/205-0.txt\", \"freq\": 0.03792932309322925, \"group\": \"top\"}, {\"word\": \"and\", \"book\": \"/home/jupyter-pander14/csc-369-student/data/gutenberg/43-0.txt\", \"freq\": 0.03331937757309329, \"group\": \"top\"}, {\"word\": \"and\", \"book\": \"/home/jupyter-pander14/csc-369-student/data/gutenberg/25929-0.txt\", \"freq\": 0.024850592565080865, \"group\": \"top\"}, {\"word\": \"and\", \"book\": \"/home/jupyter-pander14/csc-369-student/data/gutenberg/76-0.txt\", \"freq\": 0.05296615734862747, \"group\": \"top\"}, {\"word\": \"and\", \"book\": \"/home/jupyter-pander14/csc-369-student/data/gutenberg/2542-0.txt\", \"freq\": 0.019021555510507465, \"group\": \"top\"}, {\"word\": \"and\", \"book\": \"/home/jupyter-pander14/csc-369-student/data/gutenberg/74-0.txt\", \"freq\": 0.039557969149930254, \"group\": \"top\"}, {\"word\": \"and\", \"book\": \"/home/jupyter-pander14/csc-369-student/data/gutenberg/1250-0.txt\", \"freq\": 0.034636318654131616, \"group\": \"top\"}, {\"word\": \"and\", \"book\": \"/home/jupyter-pander14/csc-369-student/data/gutenberg/219-0.txt\", \"freq\": 0.022129946262823646, \"group\": \"top\"}, {\"word\": \"and\", \"book\": \"/home/jupyter-pander14/csc-369-student/data/gutenberg/64244-0.txt\", \"freq\": 0.02441069598434734, \"group\": \"top\"}, {\"word\": \"and\", \"book\": \"/home/jupyter-pander14/csc-369-student/data/gutenberg/160-0.txt\", \"freq\": 0.031107795598657218, \"group\": \"top\"}, {\"word\": \"and\", \"book\": \"/home/jupyter-pander14/csc-369-student/data/gutenberg/1400-0.txt\", \"freq\": 0.034707933089544445, \"group\": \"top\"}, {\"word\": \"and\", \"book\": \"/home/jupyter-pander14/csc-369-student/data/gutenberg/60479-0.txt\", \"freq\": 0.03685655456417296, \"group\": \"bottom\"}, {\"word\": \"and\", \"book\": \"/home/jupyter-pander14/csc-369-student/data/gutenberg/16-0.txt\", \"freq\": 0.027499261302078203, \"group\": \"bottom\"}, {\"word\": \"and\", \"book\": \"/home/jupyter-pander14/csc-369-student/data/gutenberg/2600-0.txt\", \"freq\": 0.03631181829258172, \"group\": \"bottom\"}, {\"word\": \"and\", \"book\": \"/home/jupyter-pander14/csc-369-student/data/gutenberg/1184-0.txt\", \"freq\": 0.02402518216564901, \"group\": \"bottom\"}, {\"word\": \"and\", \"book\": \"/home/jupyter-pander14/csc-369-student/data/gutenberg/1232-0.txt\", \"freq\": 0.033311339428786876, \"group\": \"bottom\"}, {\"word\": \"and\", \"book\": \"/home/jupyter-pander14/csc-369-student/data/gutenberg/2852-0.txt\", \"freq\": 0.025090698943718497, \"group\": \"bottom\"}, {\"word\": \"and\", \"book\": \"/home/jupyter-pander14/csc-369-student/data/gutenberg/120-0.txt\", \"freq\": 0.03766087089892497, \"group\": \"bottom\"}, {\"word\": \"and\", \"book\": \"/home/jupyter-pander14/csc-369-student/data/gutenberg/158-0.txt\", \"freq\": 0.02684191501826023, \"group\": \"bottom\"}, {\"word\": \"and\", \"book\": \"/home/jupyter-pander14/csc-369-student/data/gutenberg/2591-0.txt\", \"freq\": 0.05040951731686943, \"group\": \"bottom\"}, {\"word\": \"and\", \"book\": \"/home/jupyter-pander14/csc-369-student/data/gutenberg/4300-0.txt\", \"freq\": 0.024413348649172797, \"group\": \"bottom\"}, {\"word\": \"and\", \"book\": \"/home/jupyter-pander14/csc-369-student/data/gutenberg/408-0.txt\", \"freq\": 0.049090528956721724, \"group\": \"bottom\"}, {\"word\": \"and\", \"book\": \"/home/jupyter-pander14/csc-369-student/data/gutenberg/3600-0.txt\", \"freq\": 0.037718261658741335, \"group\": \"bottom\"}, {\"word\": \"and\", \"book\": \"/home/jupyter-pander14/csc-369-student/data/gutenberg/64247-0.txt\", \"freq\": 0.03329965050199779, \"group\": \"bottom\"}, {\"word\": \"and\", \"book\": \"/home/jupyter-pander14/csc-369-student/data/gutenberg/140-0.txt\", \"freq\": 0.04448034039870775, \"group\": \"bottom\"}, {\"word\": \"and\", \"book\": \"/home/jupyter-pander14/csc-369-student/data/gutenberg/64239-0.txt\", \"freq\": 0.024016707274625827, \"group\": \"bottom\"}, {\"word\": \"and\", \"book\": \"/home/jupyter-pander14/csc-369-student/data/gutenberg/135-0.txt\", \"freq\": 0.02424537607674684, \"group\": \"bottom\"}, {\"word\": \"and\", \"book\": \"/home/jupyter-pander14/csc-369-student/data/gutenberg/36-0.txt\", \"freq\": 0.03771106644933614, \"group\": \"bottom\"}, {\"word\": \"and\", \"book\": \"/home/jupyter-pander14/csc-369-student/data/gutenberg/147-0.txt\", \"freq\": 0.03232129285171407, \"group\": \"bottom\"}, {\"word\": \"and\", \"book\": \"/home/jupyter-pander14/csc-369-student/data/gutenberg/996-0.txt\", \"freq\": 0.03859455037325574, \"group\": \"bottom\"}, {\"word\": \"and\", \"book\": \"/home/jupyter-pander14/csc-369-student/data/gutenberg/45-0.txt\", \"freq\": 0.029751424622782605, \"group\": \"bottom\"}, {\"word\": \"and\", \"book\": \"/home/jupyter-pander14/csc-369-student/data/gutenberg/57426-0.txt\", \"freq\": 0.032793902405346444, \"group\": \"bottom\"}, {\"word\": \"and\", \"book\": \"/home/jupyter-pander14/csc-369-student/data/gutenberg/768-0.txt\", \"freq\": 0.03575809514207457, \"group\": \"bottom\"}, {\"word\": \"and\", \"book\": \"/home/jupyter-pander14/csc-369-student/data/gutenberg/58585-0.txt\", \"freq\": 0.03400583682273823, \"group\": \"bottom\"}, {\"word\": \"and\", \"book\": \"/home/jupyter-pander14/csc-369-student/data/gutenberg/2554-0.txt\", \"freq\": 0.029332300392194838, \"group\": \"bottom\"}, {\"word\": \"and\", \"book\": \"/home/jupyter-pander14/csc-369-student/data/gutenberg/64242-0.txt\", \"freq\": 0.02142999280564527, \"group\": \"bottom\"}, {\"word\": \"the\", \"book\": \"/home/jupyter-pander14/csc-369-student/data/gutenberg/50040-0.txt\", \"freq\": 0.07072348860257681, \"group\": \"top\"}, {\"word\": \"the\", \"book\": \"/home/jupyter-pander14/csc-369-student/data/gutenberg/1342-0.txt\", \"freq\": 0.033719037423721204, \"group\": \"top\"}, {\"word\": \"the\", \"book\": \"/home/jupyter-pander14/csc-369-student/data/gutenberg/84-0.txt\", \"freq\": 0.05200219979792554, \"group\": \"top\"}, {\"word\": \"the\", \"book\": \"/home/jupyter-pander14/csc-369-student/data/gutenberg/6133-0.txt\", \"freq\": 0.06534604780218815, \"group\": \"top\"}, {\"word\": \"the\", \"book\": \"/home/jupyter-pander14/csc-369-student/data/gutenberg/46-0.txt\", \"freq\": 0.0496705524581855, \"group\": \"top\"}, {\"word\": \"the\", \"book\": \"/home/jupyter-pander14/csc-369-student/data/gutenberg/11-0.txt\", \"freq\": 0.0567342395520626, \"group\": \"top\"}, {\"word\": \"the\", \"book\": \"/home/jupyter-pander14/csc-369-student/data/gutenberg/1080-0.txt\", \"freq\": 0.05051278126435022, \"group\": \"top\"}, {\"word\": \"the\", \"book\": \"/home/jupyter-pander14/csc-369-student/data/gutenberg/1661-0.txt\", \"freq\": 0.05024952835887475, \"group\": \"top\"}, {\"word\": \"the\", \"book\": \"/home/jupyter-pander14/csc-369-student/data/gutenberg/98-0.txt\", \"freq\": 0.054121319800605666, \"group\": \"top\"}, {\"word\": \"the\", \"book\": \"/home/jupyter-pander14/csc-369-student/data/gutenberg/25344-0.txt\", \"freq\": 0.05809233599724027, \"group\": \"top\"}, {\"word\": \"the\", \"book\": \"/home/jupyter-pander14/csc-369-student/data/gutenberg/2701-0.txt\", \"freq\": 0.0641755085020618, \"group\": \"top\"}, {\"word\": \"the\", \"book\": \"/home/jupyter-pander14/csc-369-student/data/gutenberg/1260-0.txt\", \"freq\": 0.039607427055702915, \"group\": \"top\"}, {\"word\": \"the\", \"book\": \"/home/jupyter-pander14/csc-369-student/data/gutenberg/64241-0.txt\", \"freq\": 0.05340507409148688, \"group\": \"top\"}, {\"word\": \"the\", \"book\": \"/home/jupyter-pander14/csc-369-student/data/gutenberg/1952-0.txt\", \"freq\": 0.04168026988790946, \"group\": \"top\"}, {\"word\": \"the\", \"book\": \"/home/jupyter-pander14/csc-369-student/data/gutenberg/205-0.txt\", \"freq\": 0.05947223647574425, \"group\": \"top\"}, {\"word\": \"the\", \"book\": \"/home/jupyter-pander14/csc-369-student/data/gutenberg/43-0.txt\", \"freq\": 0.057707068592561576, \"group\": \"top\"}, {\"word\": \"the\", \"book\": \"/home/jupyter-pander14/csc-369-student/data/gutenberg/25929-0.txt\", \"freq\": 0.05506972346962893, \"group\": \"top\"}, {\"word\": \"the\", \"book\": \"/home/jupyter-pander14/csc-369-student/data/gutenberg/76-0.txt\", \"freq\": 0.04120660216277746, \"group\": \"top\"}, {\"word\": \"the\", \"book\": \"/home/jupyter-pander14/csc-369-student/data/gutenberg/2542-0.txt\", \"freq\": 0.030779106696398405, \"group\": \"top\"}, {\"word\": \"the\", \"book\": \"/home/jupyter-pander14/csc-369-student/data/gutenberg/74-0.txt\", \"freq\": 0.04714183177367587, \"group\": \"top\"}, {\"word\": \"the\", \"book\": \"/home/jupyter-pander14/csc-369-student/data/gutenberg/1250-0.txt\", \"freq\": 0.06405469839413432, \"group\": \"top\"}, {\"word\": \"the\", \"book\": \"/home/jupyter-pander14/csc-369-student/data/gutenberg/219-0.txt\", \"freq\": 0.053419638495359065, \"group\": \"top\"}, {\"word\": \"the\", \"book\": \"/home/jupyter-pander14/csc-369-student/data/gutenberg/64244-0.txt\", \"freq\": 0.07155501723656015, \"group\": \"top\"}, {\"word\": \"the\", \"book\": \"/home/jupyter-pander14/csc-369-student/data/gutenberg/160-0.txt\", \"freq\": 0.04902648265572548, \"group\": \"top\"}, {\"word\": \"the\", \"book\": \"/home/jupyter-pander14/csc-369-student/data/gutenberg/1400-0.txt\", \"freq\": 0.04207490644690129, \"group\": \"top\"}, {\"word\": \"the\", \"book\": \"/home/jupyter-pander14/csc-369-student/data/gutenberg/60479-0.txt\", \"freq\": 0.07549759780370624, \"group\": \"bottom\"}, {\"word\": \"the\", \"book\": \"/home/jupyter-pander14/csc-369-student/data/gutenberg/16-0.txt\", \"freq\": 0.04591746281887127, \"group\": \"bottom\"}, {\"word\": \"the\", \"book\": \"/home/jupyter-pander14/csc-369-student/data/gutenberg/2600-0.txt\", \"freq\": 0.055982779962459185, \"group\": \"bottom\"}, {\"word\": \"the\", \"book\": \"/home/jupyter-pander14/csc-369-student/data/gutenberg/1184-0.txt\", \"freq\": 0.05662324567262323, \"group\": \"bottom\"}, {\"word\": \"the\", \"book\": \"/home/jupyter-pander14/csc-369-student/data/gutenberg/1232-0.txt\", \"freq\": 0.05574512206617023, \"group\": \"bottom\"}, {\"word\": \"the\", \"book\": \"/home/jupyter-pander14/csc-369-student/data/gutenberg/2852-0.txt\", \"freq\": 0.05183484765788037, \"group\": \"bottom\"}, {\"word\": \"the\", \"book\": \"/home/jupyter-pander14/csc-369-student/data/gutenberg/120-0.txt\", \"freq\": 0.05867343381809562, \"group\": \"bottom\"}, {\"word\": \"the\", \"book\": \"/home/jupyter-pander14/csc-369-student/data/gutenberg/158-0.txt\", \"freq\": 0.030911515786062396, \"group\": \"bottom\"}, {\"word\": \"the\", \"book\": \"/home/jupyter-pander14/csc-369-student/data/gutenberg/2591-0.txt\", \"freq\": 0.062469394221629046, \"group\": \"bottom\"}, {\"word\": \"the\", \"book\": \"/home/jupyter-pander14/csc-369-student/data/gutenberg/4300-0.txt\", \"freq\": 0.05075112258141513, \"group\": \"bottom\"}, {\"word\": \"the\", \"book\": \"/home/jupyter-pander14/csc-369-student/data/gutenberg/408-0.txt\", \"freq\": 0.07468116245034497, \"group\": \"bottom\"}, {\"word\": \"the\", \"book\": \"/home/jupyter-pander14/csc-369-student/data/gutenberg/3600-0.txt\", \"freq\": 0.04347365734219458, \"group\": \"bottom\"}, {\"word\": \"the\", \"book\": \"/home/jupyter-pander14/csc-369-student/data/gutenberg/64247-0.txt\", \"freq\": 0.07494275463756965, \"group\": \"bottom\"}, {\"word\": \"the\", \"book\": \"/home/jupyter-pander14/csc-369-student/data/gutenberg/140-0.txt\", \"freq\": 0.05587292832190791, \"group\": \"bottom\"}, {\"word\": \"the\", \"book\": \"/home/jupyter-pander14/csc-369-student/data/gutenberg/64239-0.txt\", \"freq\": 0.05429864253393665, \"group\": \"bottom\"}, {\"word\": \"the\", \"book\": \"/home/jupyter-pander14/csc-369-student/data/gutenberg/135-0.txt\", \"freq\": 0.06408874556685369, \"group\": \"bottom\"}, {\"word\": \"the\", \"book\": \"/home/jupyter-pander14/csc-369-student/data/gutenberg/36-0.txt\", \"freq\": 0.07220965010840151, \"group\": \"bottom\"}, {\"word\": \"the\", \"book\": \"/home/jupyter-pander14/csc-369-student/data/gutenberg/147-0.txt\", \"freq\": 0.062282491299651986, \"group\": \"bottom\"}, {\"word\": \"the\", \"book\": \"/home/jupyter-pander14/csc-369-student/data/gutenberg/996-0.txt\", \"freq\": 0.048627831955897254, \"group\": \"bottom\"}, {\"word\": \"the\", \"book\": \"/home/jupyter-pander14/csc-369-student/data/gutenberg/45-0.txt\", \"freq\": 0.03626398591469302, \"group\": \"bottom\"}, {\"word\": \"the\", \"book\": \"/home/jupyter-pander14/csc-369-student/data/gutenberg/57426-0.txt\", \"freq\": 0.05151749468393582, \"group\": \"bottom\"}, {\"word\": \"the\", \"book\": \"/home/jupyter-pander14/csc-369-student/data/gutenberg/768-0.txt\", \"freq\": 0.03732083144292652, \"group\": \"bottom\"}, {\"word\": \"the\", \"book\": \"/home/jupyter-pander14/csc-369-student/data/gutenberg/58585-0.txt\", \"freq\": 0.06065220149727192, \"group\": \"bottom\"}, {\"word\": \"the\", \"book\": \"/home/jupyter-pander14/csc-369-student/data/gutenberg/2554-0.txt\", \"freq\": 0.0357962523604319, \"group\": \"bottom\"}, {\"word\": \"the\", \"book\": \"/home/jupyter-pander14/csc-369-student/data/gutenberg/64242-0.txt\", \"freq\": 0.04769704113027905, \"group\": \"bottom\"}, {\"word\": \"Martians\", \"book\": \"/home/jupyter-pander14/csc-369-student/data/gutenberg/64244-0.txt\", \"freq\": 9.317059536010435e-05, \"group\": \"top\"}, {\"word\": \"Martians\", \"book\": \"/home/jupyter-pander14/csc-369-student/data/gutenberg/36-0.txt\", \"freq\": 0.0018515294899590132, \"group\": \"bottom\"}, {\"word\": \"hee\", \"book\": \"/home/jupyter-pander14/csc-369-student/data/gutenberg/25929-0.txt\", \"freq\": 0.0017895127798223992, \"group\": \"top\"}, {\"word\": \"hee\", \"book\": \"/home/jupyter-pander14/csc-369-student/data/gutenberg/4300-0.txt\", \"freq\": 4.475407635045425e-05, \"group\": \"bottom\"}, {\"word\": \"Abbot\", \"book\": \"/home/jupyter-pander14/csc-369-student/data/gutenberg/50040-0.txt\", \"freq\": 0.003330029732408325, \"group\": \"top\"}, {\"word\": \"Abbot\", \"book\": \"/home/jupyter-pander14/csc-369-student/data/gutenberg/1260-0.txt\", \"freq\": 5.305039787798409e-05, \"group\": \"top\"}, {\"word\": \"Abbot\", \"book\": \"/home/jupyter-pander14/csc-369-student/data/gutenberg/135-0.txt\", \"freq\": 3.5166257272821583e-06, \"group\": \"bottom\"}, {\"word\": \"vnto\", \"book\": \"/home/jupyter-pander14/csc-369-student/data/gutenberg/25929-0.txt\", \"freq\": 0.0016206908194617957, \"group\": \"top\"}, {\"word\": \"vnto\", \"book\": \"/home/jupyter-pander14/csc-369-student/data/gutenberg/3600-0.txt\", \"freq\": 1.8907344557993553e-06, \"group\": \"bottom\"}, {\"word\": \"Quixote,\", \"book\": \"/home/jupyter-pander14/csc-369-student/data/gutenberg/76-0.txt\", \"freq\": 8.756184054988836e-06, \"group\": \"top\"}, {\"word\": \"Quixote,\", \"book\": \"/home/jupyter-pander14/csc-369-student/data/gutenberg/996-0.txt\", \"freq\": 0.0014549071741333309, \"group\": \"bottom\"}, {\"word\": \"\\\"I\", \"book\": \"/home/jupyter-pander14/csc-369-student/data/gutenberg/46-0.txt\", \"freq\": 0.002597567156614293, \"group\": \"top\"}, {\"word\": \"\\\"I\", \"book\": \"/home/jupyter-pander14/csc-369-student/data/gutenberg/64244-0.txt\", \"freq\": 0.0007453647628808348, \"group\": \"top\"}, {\"word\": \"\\\"I\", \"book\": \"/home/jupyter-pander14/csc-369-student/data/gutenberg/64239-0.txt\", \"freq\": 0.00046409096182851837, \"group\": \"bottom\"}, {\"word\": \"\\\"I\", \"book\": \"/home/jupyter-pander14/csc-369-student/data/gutenberg/147-0.txt\", \"freq\": 4.000160006400256e-05, \"group\": \"bottom\"}, {\"word\": \"Chap.\", \"book\": \"/home/jupyter-pander14/csc-369-student/data/gutenberg/25929-0.txt\", \"freq\": 0.0013843400749569503, \"group\": \"top\"}, {\"word\": \"Chap.\", \"book\": \"/home/jupyter-pander14/csc-369-student/data/gutenberg/3600-0.txt\", \"freq\": 1.8907344557993553e-06, \"group\": \"bottom\"}, {\"word\": \"Chap.\", \"book\": \"/home/jupyter-pander14/csc-369-student/data/gutenberg/996-0.txt\", \"freq\": 2.324132866027685e-06, \"group\": \"bottom\"}, {\"word\": \"Tom\", \"book\": \"/home/jupyter-pander14/csc-369-student/data/gutenberg/2701-0.txt\", \"freq\": 4.633276189593662e-06, \"group\": \"top\"}, {\"word\": \"Tom\", \"book\": \"/home/jupyter-pander14/csc-369-student/data/gutenberg/64241-0.txt\", \"freq\": 0.001218896376395201, \"group\": \"top\"}, {\"word\": \"Tom\", \"book\": \"/home/jupyter-pander14/csc-369-student/data/gutenberg/205-0.txt\", \"freq\": 8.411914635890275e-06, \"group\": \"top\"}, {\"word\": \"Tom\", \"book\": \"/home/jupyter-pander14/csc-369-student/data/gutenberg/76-0.txt\", \"freq\": 0.0014973074734030908, \"group\": \"top\"}, {\"word\": \"Tom\", \"book\": \"/home/jupyter-pander14/csc-369-student/data/gutenberg/74-0.txt\", \"freq\": 0.006134803158137078, \"group\": \"top\"}, {\"word\": \"Tom\", \"book\": \"/home/jupyter-pander14/csc-369-student/data/gutenberg/64244-0.txt\", \"freq\": 0.0001863411907202087, \"group\": \"top\"}, {\"word\": \"Tom\", \"book\": \"/home/jupyter-pander14/csc-369-student/data/gutenberg/16-0.txt\", \"freq\": 5.9095833743721065e-05, \"group\": \"bottom\"}, {\"word\": \"Tom\", \"book\": \"/home/jupyter-pander14/csc-369-student/data/gutenberg/1184-0.txt\", \"freq\": 4.309063252739487e-06, \"group\": \"bottom\"}, {\"word\": \"Tom\", \"book\": \"/home/jupyter-pander14/csc-369-student/data/gutenberg/120-0.txt\", \"freq\": 0.00019520629121989988, \"group\": \"bottom\"}, {\"word\": \"Tom\", \"book\": \"/home/jupyter-pander14/csc-369-student/data/gutenberg/158-0.txt\", \"freq\": 6.2321604407383864e-06, \"group\": \"bottom\"}, {\"word\": \"Tom\", \"book\": \"/home/jupyter-pander14/csc-369-student/data/gutenberg/2591-0.txt\", \"freq\": 0.00019203625644521684, \"group\": \"bottom\"}, {\"word\": \"Tom\", \"book\": \"/home/jupyter-pander14/csc-369-student/data/gutenberg/4300-0.txt\", \"freq\": 0.0001305327226888249, \"group\": \"bottom\"}, {\"word\": \"Tom\", \"book\": \"/home/jupyter-pander14/csc-369-student/data/gutenberg/140-0.txt\", \"freq\": 6.566333096945342e-06, \"group\": \"bottom\"}, {\"word\": \"Tom\", \"book\": \"/home/jupyter-pander14/csc-369-student/data/gutenberg/996-0.txt\", \"freq\": 3.4861992990415273e-05, \"group\": \"bottom\"}, {\"word\": \"Tom\", \"book\": \"/home/jupyter-pander14/csc-369-student/data/gutenberg/64242-0.txt\", \"freq\": 0.0005969783710144041, \"group\": \"bottom\"}, {\"word\": \"Harriet\", \"book\": \"/home/jupyter-pander14/csc-369-student/data/gutenberg/1342-0.txt\", \"freq\": 8.018796057959858e-06, \"group\": \"top\"}, {\"word\": \"Harriet\", \"book\": \"/home/jupyter-pander14/csc-369-student/data/gutenberg/158-0.txt\", \"freq\": 0.001371075296962445, \"group\": \"bottom\"}, {\"word\": \"Weston\", \"book\": \"/home/jupyter-pander14/csc-369-student/data/gutenberg/205-0.txt\", \"freq\": 1.682382927178055e-05, \"group\": \"top\"}, {\"word\": \"Weston\", \"book\": \"/home/jupyter-pander14/csc-369-student/data/gutenberg/158-0.txt\", \"freq\": 0.0013586109760809683, \"group\": \"bottom\"}, {\"word\": \"his\", \"book\": \"/home/jupyter-pander14/csc-369-student/data/gutenberg/50040-0.txt\", \"freq\": 0.007730426164519326, \"group\": \"top\"}, {\"word\": \"his\", \"book\": \"/home/jupyter-pander14/csc-369-student/data/gutenberg/1342-0.txt\", \"freq\": 0.009349916203581195, \"group\": \"top\"}, {\"word\": \"his\", \"book\": \"/home/jupyter-pander14/csc-369-student/data/gutenberg/84-0.txt\", \"freq\": 0.006394761411451739, \"group\": \"top\"}, {\"word\": \"his\", \"book\": \"/home/jupyter-pander14/csc-369-student/data/gutenberg/6133-0.txt\", \"freq\": 0.009377798851483063, \"group\": \"top\"}, {\"word\": \"his\", \"book\": \"/home/jupyter-pander14/csc-369-student/data/gutenberg/46-0.txt\", \"freq\": 0.012702736948808921, \"group\": \"top\"}, {\"word\": \"his\", \"book\": \"/home/jupyter-pander14/csc-369-student/data/gutenberg/11-0.txt\", \"freq\": 0.003136910985934496, \"group\": \"top\"}, {\"word\": \"his\", \"book\": \"/home/jupyter-pander14/csc-369-student/data/gutenberg/1080-0.txt\", \"freq\": 0.001530690341343946, \"group\": \"top\"}, {\"word\": \"his\", \"book\": \"/home/jupyter-pander14/csc-369-student/data/gutenberg/1661-0.txt\", \"freq\": 0.010185589621107218, \"group\": \"top\"}, {\"word\": \"his\", \"book\": \"/home/jupyter-pander14/csc-369-student/data/gutenberg/98-0.txt\", \"freq\": 0.013746124686198489, \"group\": \"top\"}, {\"word\": \"his\", \"book\": \"/home/jupyter-pander14/csc-369-student/data/gutenberg/25344-0.txt\", \"freq\": 0.010050020123038003, \"group\": \"top\"}, {\"word\": \"his\", \"book\": \"/home/jupyter-pander14/csc-369-student/data/gutenberg/2701-0.txt\", \"freq\": 0.011249594588333411, \"group\": \"top\"}, {\"word\": \"his\", \"book\": \"/home/jupyter-pander14/csc-369-student/data/gutenberg/1260-0.txt\", \"freq\": 0.005883289124668435, \"group\": \"top\"}, {\"word\": \"his\", \"book\": \"/home/jupyter-pander14/csc-369-student/data/gutenberg/64241-0.txt\", \"freq\": 0.003534799491546083, \"group\": \"top\"}, {\"word\": \"his\", \"book\": \"/home/jupyter-pander14/csc-369-student/data/gutenberg/1952-0.txt\", \"freq\": 0.0009794319294809011, \"group\": \"top\"}, {\"word\": \"his\", \"book\": \"/home/jupyter-pander14/csc-369-student/data/gutenberg/205-0.txt\", \"freq\": 0.0058378687573078505, \"group\": \"top\"}, {\"word\": \"his\", \"book\": \"/home/jupyter-pander14/csc-369-student/data/gutenberg/43-0.txt\", \"freq\": 0.009769032168027353, \"group\": \"top\"}, {\"word\": \"his\", \"book\": \"/home/jupyter-pander14/csc-369-student/data/gutenberg/25929-0.txt\", \"freq\": 0.0073606374717223215, \"group\": \"top\"}, {\"word\": \"his\", \"book\": \"/home/jupyter-pander14/csc-369-student/data/gutenberg/76-0.txt\", \"freq\": 0.004710827021583994, \"group\": \"top\"}, {\"word\": \"his\", \"book\": \"/home/jupyter-pander14/csc-369-student/data/gutenberg/2542-0.txt\", \"freq\": 0.003682681262247449, \"group\": \"top\"}, {\"word\": \"his\", \"book\": \"/home/jupyter-pander14/csc-369-student/data/gutenberg/74-0.txt\", \"freq\": 0.01048198155496269, \"group\": \"top\"}, {\"word\": \"his\", \"book\": \"/home/jupyter-pander14/csc-369-student/data/gutenberg/1250-0.txt\", \"freq\": 0.0009446268723854078, \"group\": \"top\"}, {\"word\": \"his\", \"book\": \"/home/jupyter-pander14/csc-369-student/data/gutenberg/219-0.txt\", \"freq\": 0.007401074743527113, \"group\": \"top\"}, {\"word\": \"his\", \"book\": \"/home/jupyter-pander14/csc-369-student/data/gutenberg/64244-0.txt\", \"freq\": 0.006149259293766887, \"group\": \"top\"}, {\"word\": \"his\", \"book\": \"/home/jupyter-pander14/csc-369-student/data/gutenberg/160-0.txt\", \"freq\": 0.008026855650876538, \"group\": \"top\"}, {\"word\": \"his\", \"book\": \"/home/jupyter-pander14/csc-369-student/data/gutenberg/1400-0.txt\", \"freq\": 0.009568536307131358, \"group\": \"top\"}, {\"word\": \"his\", \"book\": \"/home/jupyter-pander14/csc-369-student/data/gutenberg/60479-0.txt\", \"freq\": 0.003912148249828415, \"group\": \"bottom\"}, {\"word\": \"his\", \"book\": \"/home/jupyter-pander14/csc-369-student/data/gutenberg/16-0.txt\", \"freq\": 0.008962868117797696, \"group\": \"bottom\"}, {\"word\": \"his\", \"book\": \"/home/jupyter-pander14/csc-369-student/data/gutenberg/2600-0.txt\", \"freq\": 0.013473019527932235, \"group\": \"bottom\"}, {\"word\": \"his\", \"book\": \"/home/jupyter-pander14/csc-369-student/data/gutenberg/1184-0.txt\", \"freq\": 0.012397174978131503, \"group\": \"bottom\"}, {\"word\": \"his\", \"book\": \"/home/jupyter-pander14/csc-369-student/data/gutenberg/1232-0.txt\", \"freq\": 0.01185785653690263, \"group\": \"bottom\"}, {\"word\": \"his\", \"book\": \"/home/jupyter-pander14/csc-369-student/data/gutenberg/2852-0.txt\", \"freq\": 0.010562815038366456, \"group\": \"bottom\"}, {\"word\": \"his\", \"book\": \"/home/jupyter-pander14/csc-369-student/data/gutenberg/120-0.txt\", \"freq\": 0.008853999637474031, \"group\": \"bottom\"}, {\"word\": \"his\", \"book\": \"/home/jupyter-pander14/csc-369-student/data/gutenberg/158-0.txt\", \"freq\": 0.006593625746301213, \"group\": \"bottom\"}, {\"word\": \"his\", \"book\": \"/home/jupyter-pander14/csc-369-student/data/gutenberg/2591-0.txt\", \"freq\": 0.009736238201772494, \"group\": \"bottom\"}, {\"word\": \"his\", \"book\": \"/home/jupyter-pander14/csc-369-student/data/gutenberg/4300-0.txt\", \"freq\": 0.01131532230393985, \"group\": \"bottom\"}, {\"word\": \"his\", \"book\": \"/home/jupyter-pander14/csc-369-student/data/gutenberg/408-0.txt\", \"freq\": 0.005937696006690362, \"group\": \"bottom\"}, {\"word\": \"his\", \"book\": \"/home/jupyter-pander14/csc-369-student/data/gutenberg/3600-0.txt\", \"freq\": 0.008894014880080167, \"group\": \"bottom\"}, {\"word\": \"his\", \"book\": \"/home/jupyter-pander14/csc-369-student/data/gutenberg/64247-0.txt\", \"freq\": 0.0074905672621420425, \"group\": \"bottom\"}, {\"word\": \"his\", \"book\": \"/home/jupyter-pander14/csc-369-student/data/gutenberg/140-0.txt\", \"freq\": 0.010598061618469781, \"group\": \"bottom\"}, {\"word\": \"his\", \"book\": \"/home/jupyter-pander14/csc-369-student/data/gutenberg/64239-0.txt\", \"freq\": 0.008005569091541943, \"group\": \"bottom\"}, {\"word\": \"his\", \"book\": \"/home/jupyter-pander14/csc-369-student/data/gutenberg/135-0.txt\", \"freq\": 0.010685267272346838, \"group\": \"bottom\"}, {\"word\": \"his\", \"book\": \"/home/jupyter-pander14/csc-369-student/data/gutenberg/36-0.txt\", \"freq\": 0.0036714089031665903, \"group\": \"bottom\"}, {\"word\": \"his\", \"book\": \"/home/jupyter-pander14/csc-369-student/data/gutenberg/147-0.txt\", \"freq\": 0.0030401216048641946, \"group\": \"bottom\"}, {\"word\": \"his\", \"book\": \"/home/jupyter-pander14/csc-369-student/data/gutenberg/996-0.txt\", \"freq\": 0.010500432288713082, \"group\": \"bottom\"}, {\"word\": \"his\", \"book\": \"/home/jupyter-pander14/csc-369-student/data/gutenberg/45-0.txt\", \"freq\": 0.0019215842183979857, \"group\": \"bottom\"}, {\"word\": \"his\", \"book\": \"/home/jupyter-pander14/csc-369-student/data/gutenberg/57426-0.txt\", \"freq\": 0.006876363535942117, \"group\": \"bottom\"}, {\"word\": \"his\", \"book\": \"/home/jupyter-pander14/csc-369-student/data/gutenberg/768-0.txt\", \"freq\": 0.011384449933625716, \"group\": \"bottom\"}, {\"word\": \"his\", \"book\": \"/home/jupyter-pander14/csc-369-student/data/gutenberg/58585-0.txt\", \"freq\": 0.006090597639893415, \"group\": \"bottom\"}, {\"word\": \"his\", \"book\": \"/home/jupyter-pander14/csc-369-student/data/gutenberg/2554-0.txt\", \"freq\": 0.009611194499588438, \"group\": \"bottom\"}, {\"word\": \"his\", \"book\": \"/home/jupyter-pander14/csc-369-student/data/gutenberg/64242-0.txt\", \"freq\": 0.010393546510737957, \"group\": \"bottom\"}, {\"word\": \"Office\", \"book\": \"/home/jupyter-pander14/csc-369-student/data/gutenberg/50040-0.txt\", \"freq\": 0.0013082259663032706, \"group\": \"top\"}, {\"word\": \"Office\", \"book\": \"/home/jupyter-pander14/csc-369-student/data/gutenberg/1184-0.txt\", \"freq\": 4.309063252739487e-06, \"group\": \"bottom\"}, {\"word\": \"Office\", \"book\": \"/home/jupyter-pander14/csc-369-student/data/gutenberg/4300-0.txt\", \"freq\": 3.7295063625378545e-06, \"group\": \"bottom\"}, {\"word\": \"Office\", \"book\": \"/home/jupyter-pander14/csc-369-student/data/gutenberg/3600-0.txt\", \"freq\": 3.7814689115987105e-06, \"group\": \"bottom\"}, {\"word\": \"Office\", \"book\": \"/home/jupyter-pander14/csc-369-student/data/gutenberg/140-0.txt\", \"freq\": 1.3132666193890684e-05, \"group\": \"bottom\"}, {\"word\": \"Office\", \"book\": \"/home/jupyter-pander14/csc-369-student/data/gutenberg/135-0.txt\", \"freq\": 1.7583128636410791e-06, \"group\": \"bottom\"}, {\"word\": \"Office\", \"book\": \"/home/jupyter-pander14/csc-369-student/data/gutenberg/996-0.txt\", \"freq\": 2.324132866027685e-06, \"group\": \"bottom\"}, {\"word\": \"Jennie\", \"book\": \"/home/jupyter-pander14/csc-369-student/data/gutenberg/1952-0.txt\", \"freq\": 0.001305909239307868, \"group\": \"top\"}, {\"word\": \"Jennie\", \"book\": \"/home/jupyter-pander14/csc-369-student/data/gutenberg/408-0.txt\", \"freq\": 2.787650707366367e-05, \"group\": \"bottom\"}, {\"word\": \"my\", \"book\": \"/home/jupyter-pander14/csc-369-student/data/gutenberg/50040-0.txt\", \"freq\": 0.0009514370664023786, \"group\": \"top\"}, {\"word\": \"my\", \"book\": \"/home/jupyter-pander14/csc-369-student/data/gutenberg/1342-0.txt\", \"freq\": 0.004650901713616718, \"group\": \"top\"}, {\"word\": \"my\", \"book\": \"/home/jupyter-pander14/csc-369-student/data/gutenberg/84-0.txt\", \"freq\": 0.020859711724155572, \"group\": \"top\"}, {\"word\": \"my\", \"book\": \"/home/jupyter-pander14/csc-369-student/data/gutenberg/6133-0.txt\", \"freq\": 0.005830391795304076, \"group\": \"top\"}, {\"word\": \"my\", \"book\": \"/home/jupyter-pander14/csc-369-student/data/gutenberg/46-0.txt\", \"freq\": 0.002217435377597567, \"group\": \"top\"}, {\"word\": \"my\", \"book\": \"/home/jupyter-pander14/csc-369-student/data/gutenberg/11-0.txt\", \"freq\": 0.0018551624110365297, \"group\": \"top\"}, {\"word\": \"my\", \"book\": \"/home/jupyter-pander14/csc-369-student/data/gutenberg/1080-0.txt\", \"freq\": 0.003061380682687892, \"group\": \"top\"}, {\"word\": \"my\", \"book\": \"/home/jupyter-pander14/csc-369-student/data/gutenberg/1661-0.txt\", \"freq\": 0.008373372489614601, \"group\": \"top\"}, {\"word\": \"my\", \"book\": \"/home/jupyter-pander14/csc-369-student/data/gutenberg/98-0.txt\", \"freq\": 0.004085713669157897, \"group\": \"top\"}, {\"word\": \"my\", \"book\": \"/home/jupyter-pander14/csc-369-student/data/gutenberg/25344-0.txt\", \"freq\": 0.0031966883228885185, \"group\": \"top\"}, {\"word\": \"my\", \"book\": \"/home/jupyter-pander14/csc-369-student/data/gutenberg/2701-0.txt\", \"freq\": 0.0025946346661724507, \"group\": \"top\"}, {\"word\": \"my\", \"book\": \"/home/jupyter-pander14/csc-369-student/data/gutenberg/1260-0.txt\", \"freq\": 0.010854111405835544, \"group\": \"top\"}, {\"word\": \"my\", \"book\": \"/home/jupyter-pander14/csc-369-student/data/gutenberg/64241-0.txt\", \"freq\": 0.002019885423740619, \"group\": \"top\"}, {\"word\": \"my\", \"book\": \"/home/jupyter-pander14/csc-369-student/data/gutenberg/1952-0.txt\", \"freq\": 0.004135379257808249, \"group\": \"top\"}, {\"word\": \"my\", \"book\": \"/home/jupyter-pander14/csc-369-student/data/gutenberg/205-0.txt\", \"freq\": 0.006216404915922913, \"group\": \"top\"}, {\"word\": \"my\", \"book\": \"/home/jupyter-pander14/csc-369-student/data/gutenberg/43-0.txt\", \"freq\": 0.010117926174028331, \"group\": \"top\"}, {\"word\": \"my\", \"book\": \"/home/jupyter-pander14/csc-369-student/data/gutenberg/25929-0.txt\", \"freq\": 0.0009791673700915015, \"group\": \"top\"}, {\"word\": \"my\", \"book\": \"/home/jupyter-pander14/csc-369-student/data/gutenberg/76-0.txt\", \"freq\": 0.003362374677115713, \"group\": \"top\"}, {\"word\": \"my\", \"book\": \"/home/jupyter-pander14/csc-369-student/data/gutenberg/2542-0.txt\", \"freq\": 0.006013919859449963, \"group\": \"top\"}, {\"word\": \"my\", \"book\": \"/home/jupyter-pander14/csc-369-student/data/gutenberg/74-0.txt\", \"freq\": 0.0011646646172180767, \"group\": \"top\"}, {\"word\": \"my\", \"book\": \"/home/jupyter-pander14/csc-369-student/data/gutenberg/1250-0.txt\", \"freq\": 0.003283702937339751, \"group\": \"top\"}, {\"word\": \"my\", \"book\": \"/home/jupyter-pander14/csc-369-student/data/gutenberg/219-0.txt\", \"freq\": 0.005544699560332193, \"group\": \"top\"}, {\"word\": \"my\", \"book\": \"/home/jupyter-pander14/csc-369-student/data/gutenberg/64244-0.txt\", \"freq\": 9.317059536010435e-05, \"group\": \"top\"}, {\"word\": \"my\", \"book\": \"/home/jupyter-pander14/csc-369-student/data/gutenberg/160-0.txt\", \"freq\": 0.0012532637075718016, \"group\": \"top\"}, {\"word\": \"my\", \"book\": \"/home/jupyter-pander14/csc-369-student/data/gutenberg/1400-0.txt\", \"freq\": 0.010272183545315948, \"group\": \"top\"}, {\"word\": \"my\", \"book\": \"/home/jupyter-pander14/csc-369-student/data/gutenberg/60479-0.txt\", \"freq\": 0.0006863417982155113, \"group\": \"bottom\"}, {\"word\": \"my\", \"book\": \"/home/jupyter-pander14/csc-369-student/data/gutenberg/16-0.txt\", \"freq\": 0.0013592041761055845, \"group\": \"bottom\"}, {\"word\": \"my\", \"book\": \"/home/jupyter-pander14/csc-369-student/data/gutenberg/2600-0.txt\", \"freq\": 0.0019088249160805696, \"group\": \"bottom\"}, {\"word\": \"my\", \"book\": \"/home/jupyter-pander14/csc-369-student/data/gutenberg/1184-0.txt\", \"freq\": 0.00629985047550513, \"group\": \"bottom\"}, {\"word\": \"my\", \"book\": \"/home/jupyter-pander14/csc-369-student/data/gutenberg/1232-0.txt\", \"freq\": 0.000640965218210953, \"group\": \"bottom\"}, {\"word\": \"my\", \"book\": \"/home/jupyter-pander14/csc-369-student/data/gutenberg/2852-0.txt\", \"freq\": 0.006742222364914759, \"group\": \"bottom\"}, {\"word\": \"my\", \"book\": \"/home/jupyter-pander14/csc-369-student/data/gutenberg/120-0.txt\", \"freq\": 0.008212607537751502, \"group\": \"bottom\"}, {\"word\": \"my\", \"book\": \"/home/jupyter-pander14/csc-369-student/data/gutenberg/158-0.txt\", \"freq\": 0.003807850029291154, \"group\": \"bottom\"}, {\"word\": \"my\", \"book\": \"/home/jupyter-pander14/csc-369-student/data/gutenberg/2591-0.txt\", \"freq\": 0.0029573583492563398, \"group\": \"bottom\"}, {\"word\": \"my\", \"book\": \"/home/jupyter-pander14/csc-369-student/data/gutenberg/4300-0.txt\", \"freq\": 0.002640490504676801, \"group\": \"bottom\"}, {\"word\": \"my\", \"book\": \"/home/jupyter-pander14/csc-369-student/data/gutenberg/408-0.txt\", \"freq\": 0.0011708132970938742, \"group\": \"bottom\"}, {\"word\": \"my\", \"book\": \"/home/jupyter-pander14/csc-369-student/data/gutenberg/3600-0.txt\", \"freq\": 0.005063386872630673, \"group\": \"bottom\"}, {\"word\": \"my\", \"book\": \"/home/jupyter-pander14/csc-369-student/data/gutenberg/64247-0.txt\", \"freq\": 0.001186624516774977, \"group\": \"bottom\"}, {\"word\": \"my\", \"book\": \"/home/jupyter-pander14/csc-369-student/data/gutenberg/140-0.txt\", \"freq\": 0.0004399443174953379, \"group\": \"bottom\"}, {\"word\": \"my\", \"book\": \"/home/jupyter-pander14/csc-369-student/data/gutenberg/64239-0.txt\", \"freq\": 0.00046409096182851837, \"group\": \"bottom\"}, {\"word\": \"my\", \"book\": \"/home/jupyter-pander14/csc-369-student/data/gutenberg/135-0.txt\", \"freq\": 0.001731938170686463, \"group\": \"bottom\"}, {\"word\": \"my\", \"book\": \"/home/jupyter-pander14/csc-369-student/data/gutenberg/36-0.txt\", \"freq\": 0.006504090772420123, \"group\": \"bottom\"}, {\"word\": \"my\", \"book\": \"/home/jupyter-pander14/csc-369-student/data/gutenberg/147-0.txt\", \"freq\": 0.00036001440057602306, \"group\": \"bottom\"}, {\"word\": \"my\", \"book\": \"/home/jupyter-pander14/csc-369-student/data/gutenberg/996-0.txt\", \"freq\": 0.0063053724655331095, \"group\": \"bottom\"}, {\"word\": \"my\", \"book\": \"/home/jupyter-pander14/csc-369-student/data/gutenberg/45-0.txt\", \"freq\": 0.0034550652202722403, \"group\": \"bottom\"}, {\"word\": \"my\", \"book\": \"/home/jupyter-pander14/csc-369-student/data/gutenberg/57426-0.txt\", \"freq\": 0.009983154290132832, \"group\": \"bottom\"}, {\"word\": \"my\", \"book\": \"/home/jupyter-pander14/csc-369-student/data/gutenberg/768-0.txt\", \"freq\": 0.008595049654685688, \"group\": \"bottom\"}, {\"word\": \"my\", \"book\": \"/home/jupyter-pander14/csc-369-student/data/gutenberg/58585-0.txt\", \"freq\": 0.0036797360741022715, \"group\": \"bottom\"}, {\"word\": \"my\", \"book\": \"/home/jupyter-pander14/csc-369-student/data/gutenberg/2554-0.txt\", \"freq\": 0.0035539631046337095, \"group\": \"bottom\"}, {\"word\": \"my\", \"book\": \"/home/jupyter-pander14/csc-369-student/data/gutenberg/64242-0.txt\", \"freq\": 0.004056391495354284, \"group\": \"bottom\"}, {\"word\": \"Elizabeth\", \"book\": \"/home/jupyter-pander14/csc-369-student/data/gutenberg/1342-0.txt\", \"freq\": 0.0031914808310680234, \"group\": \"top\"}, {\"word\": \"Elizabeth\", \"book\": \"/home/jupyter-pander14/csc-369-student/data/gutenberg/84-0.txt\", \"freq\": 0.0005499494813848495, \"group\": \"top\"}, {\"word\": \"Elizabeth\", \"book\": \"/home/jupyter-pander14/csc-369-student/data/gutenberg/25344-0.txt\", \"freq\": 1.1498878859311217e-05, \"group\": \"top\"}, {\"word\": \"Elizabeth\", \"book\": \"/home/jupyter-pander14/csc-369-student/data/gutenberg/2600-0.txt\", \"freq\": 1.7657954820356796e-06, \"group\": \"bottom\"}, {\"word\": \"Elizabeth\", \"book\": \"/home/jupyter-pander14/csc-369-student/data/gutenberg/158-0.txt\", \"freq\": 2.4928641762953546e-05, \"group\": \"bottom\"}, {\"word\": \"Elizabeth\", \"book\": \"/home/jupyter-pander14/csc-369-student/data/gutenberg/4300-0.txt\", \"freq\": 3.7295063625378545e-06, \"group\": \"bottom\"}, {\"word\": \"Elizabeth\", \"book\": \"/home/jupyter-pander14/csc-369-student/data/gutenberg/64242-0.txt\", \"freq\": 1.530713771831805e-05, \"group\": \"bottom\"}, {\"word\": \"Jekyll\", \"book\": \"/home/jupyter-pander14/csc-369-student/data/gutenberg/43-0.txt\", \"freq\": 0.001116460819203126, \"group\": \"top\"}, {\"word\": \"Jekyll\", \"book\": \"/home/jupyter-pander14/csc-369-student/data/gutenberg/57426-0.txt\", \"freq\": 1.3807958907514292e-05, \"group\": \"bottom\"}, {\"word\": \"or\", \"book\": \"/home/jupyter-pander14/csc-369-student/data/gutenberg/50040-0.txt\", \"freq\": 0.009435084241823587, \"group\": \"top\"}, {\"word\": \"or\", \"book\": \"/home/jupyter-pander14/csc-369-student/data/gutenberg/1342-0.txt\", \"freq\": 0.002862710192691669, \"group\": \"top\"}, {\"word\": \"or\", \"book\": \"/home/jupyter-pander14/csc-369-student/data/gutenberg/84-0.txt\", \"freq\": 0.003056695954673931, \"group\": \"top\"}, {\"word\": \"or\", \"book\": \"/home/jupyter-pander14/csc-369-student/data/gutenberg/6133-0.txt\", \"freq\": 0.002897634476581845, \"group\": \"top\"}, {\"word\": \"or\", \"book\": \"/home/jupyter-pander14/csc-369-student/data/gutenberg/46-0.txt\", \"freq\": 0.004910035478966041, \"group\": \"top\"}, {\"word\": \"or\", \"book\": \"/home/jupyter-pander14/csc-369-student/data/gutenberg/11-0.txt\", \"freq\": 0.0046210409147637195, \"group\": \"top\"}, {\"word\": \"or\", \"book\": \"/home/jupyter-pander14/csc-369-student/data/gutenberg/1080-0.txt\", \"freq\": 0.015766110515842646, \"group\": \"top\"}, {\"word\": \"or\", \"book\": \"/home/jupyter-pander14/csc-369-student/data/gutenberg/1661-0.txt\", \"freq\": 0.002416289508656822, \"group\": \"top\"}, {\"word\": \"or\", \"book\": \"/home/jupyter-pander14/csc-369-student/data/gutenberg/98-0.txt\", \"freq\": 0.0030067399889225368, \"group\": \"top\"}, {\"word\": \"or\", \"book\": \"/home/jupyter-pander14/csc-369-student/data/gutenberg/25344-0.txt\", \"freq\": 0.005036508940378313, \"group\": \"top\"}, {\"word\": \"or\", \"book\": \"/home/jupyter-pander14/csc-369-student/data/gutenberg/2701-0.txt\", \"freq\": 0.0035351897326599637, \"group\": \"top\"}, {\"word\": \"or\", \"book\": \"/home/jupyter-pander14/csc-369-student/data/gutenberg/1260-0.txt\", \"freq\": 0.0035543766578249336, \"group\": \"top\"}, {\"word\": \"or\", \"book\": \"/home/jupyter-pander14/csc-369-student/data/gutenberg/64241-0.txt\", \"freq\": 0.0047536958679412844, \"group\": \"top\"}, {\"word\": \"or\", \"book\": \"/home/jupyter-pander14/csc-369-student/data/gutenberg/1952-0.txt\", \"freq\": 0.009032538905212755, \"group\": \"top\"}, {\"word\": \"or\", \"book\": \"/home/jupyter-pander14/csc-369-student/data/gutenberg/205-0.txt\", \"freq\": 0.0077053138064754915, \"group\": \"top\"}, {\"word\": \"or\", \"book\": \"/home/jupyter-pander14/csc-369-student/data/gutenberg/43-0.txt\", \"freq\": 0.004221617472611821, \"group\": \"top\"}, {\"word\": \"or\", \"book\": \"/home/jupyter-pander14/csc-369-student/data/gutenberg/25929-0.txt\", \"freq\": 0.009183914643616842, \"group\": \"top\"}, {\"word\": \"or\", \"book\": \"/home/jupyter-pander14/csc-369-student/data/gutenberg/76-0.txt\", \"freq\": 0.003301081388730791, \"group\": \"top\"}, {\"word\": \"or\", \"book\": \"/home/jupyter-pander14/csc-369-student/data/gutenberg/2542-0.txt\", \"freq\": 0.003074532062977228, \"group\": \"top\"}, {\"word\": \"or\", \"book\": \"/home/jupyter-pander14/csc-369-student/data/gutenberg/74-0.txt\", \"freq\": 0.002857491095732723, \"group\": \"top\"}, {\"word\": \"or\", \"book\": \"/home/jupyter-pander14/csc-369-student/data/gutenberg/1250-0.txt\", \"freq\": 0.004048400881651748, \"group\": \"top\"}, {\"word\": \"or\", \"book\": \"/home/jupyter-pander14/csc-369-student/data/gutenberg/219-0.txt\", \"freq\": 0.004005862237420616, \"group\": \"top\"}, {\"word\": \"or\", \"book\": \"/home/jupyter-pander14/csc-369-student/data/gutenberg/64244-0.txt\", \"freq\": 0.006801453461287617, \"group\": \"top\"}, {\"word\": \"or\", \"book\": \"/home/jupyter-pander14/csc-369-student/data/gutenberg/160-0.txt\", \"freq\": 0.0037001118985453187, \"group\": \"top\"}, {\"word\": \"or\", \"book\": \"/home/jupyter-pander14/csc-369-student/data/gutenberg/1400-0.txt\", \"freq\": 0.0031610819109353177, \"group\": \"top\"}, {\"word\": \"or\", \"book\": \"/home/jupyter-pander14/csc-369-student/data/gutenberg/60479-0.txt\", \"freq\": 0.007892930679478381, \"group\": \"bottom\"}, {\"word\": \"or\", \"book\": \"/home/jupyter-pander14/csc-369-student/data/gutenberg/16-0.txt\", \"freq\": 0.002619915295971634, \"group\": \"bottom\"}, {\"word\": \"or\", \"book\": \"/home/jupyter-pander14/csc-369-student/data/gutenberg/2600-0.txt\", \"freq\": 0.0027140276558888397, \"group\": \"bottom\"}, {\"word\": \"or\", \"book\": \"/home/jupyter-pander14/csc-369-student/data/gutenberg/1184-0.txt\", \"freq\": 0.0028676815946981284, \"group\": \"bottom\"}, {\"word\": \"or\", \"book\": \"/home/jupyter-pander14/csc-369-student/data/gutenberg/1232-0.txt\", \"freq\": 0.004958054482043548, \"group\": \"bottom\"}, {\"word\": \"or\", \"book\": \"/home/jupyter-pander14/csc-369-student/data/gutenberg/2852-0.txt\", \"freq\": 0.0030340000642116415, \"group\": \"bottom\"}, {\"word\": \"or\", \"book\": \"/home/jupyter-pander14/csc-369-student/data/gutenberg/120-0.txt\", \"freq\": 0.003430053402863955, \"group\": \"bottom\"}, {\"word\": \"or\", \"book\": \"/home/jupyter-pander14/csc-369-student/data/gutenberg/158-0.txt\", \"freq\": 0.0033030450335913447, \"group\": \"bottom\"}, {\"word\": \"or\", \"book\": \"/home/jupyter-pander14/csc-369-student/data/gutenberg/2591-0.txt\", \"freq\": 0.0018435480618740818, \"group\": \"bottom\"}, {\"word\": \"or\", \"book\": \"/home/jupyter-pander14/csc-369-student/data/gutenberg/4300-0.txt\", \"freq\": 0.0035020064744230453, \"group\": \"bottom\"}, {\"word\": \"or\", \"book\": \"/home/jupyter-pander14/csc-369-student/data/gutenberg/408-0.txt\", \"freq\": 0.004125723046902223, \"group\": \"bottom\"}, {\"word\": \"or\", \"book\": \"/home/jupyter-pander14/csc-369-student/data/gutenberg/3600-0.txt\", \"freq\": 0.004014029249662031, \"group\": \"bottom\"}, {\"word\": \"or\", \"book\": \"/home/jupyter-pander14/csc-369-student/data/gutenberg/64247-0.txt\", \"freq\": 0.004727957059025299, \"group\": \"bottom\"}, {\"word\": \"or\", \"book\": \"/home/jupyter-pander14/csc-369-student/data/gutenberg/140-0.txt\", \"freq\": 0.0030861765555643106, \"group\": \"bottom\"}, {\"word\": \"or\", \"book\": \"/home/jupyter-pander14/csc-369-student/data/gutenberg/64239-0.txt\", \"freq\": 0.00881772827474185, \"group\": \"bottom\"}, {\"word\": \"or\", \"book\": \"/home/jupyter-pander14/csc-369-student/data/gutenberg/135-0.txt\", \"freq\": 0.0015930314544588178, \"group\": \"bottom\"}, {\"word\": \"or\", \"book\": \"/home/jupyter-pander14/csc-369-student/data/gutenberg/36-0.txt\", \"freq\": 0.0034498583659065374, \"group\": \"bottom\"}, {\"word\": \"or\", \"book\": \"/home/jupyter-pander14/csc-369-student/data/gutenberg/147-0.txt\", \"freq\": 0.00876035041401656, \"group\": \"bottom\"}, {\"word\": \"or\", \"book\": \"/home/jupyter-pander14/csc-369-student/data/gutenberg/996-0.txt\", \"freq\": 0.005052664850744187, \"group\": \"bottom\"}, {\"word\": \"or\", \"book\": \"/home/jupyter-pander14/csc-369-student/data/gutenberg/45-0.txt\", \"freq\": 0.002177164385377028, \"group\": \"bottom\"}, {\"word\": \"or\", \"book\": \"/home/jupyter-pander14/csc-369-student/data/gutenberg/57426-0.txt\", \"freq\": 0.0035210295214161444, \"group\": \"bottom\"}, {\"word\": \"or\", \"book\": \"/home/jupyter-pander14/csc-369-student/data/gutenberg/768-0.txt\", \"freq\": 0.0030246509048747292, \"group\": \"bottom\"}, {\"word\": \"or\", \"book\": \"/home/jupyter-pander14/csc-369-student/data/gutenberg/58585-0.txt\", \"freq\": 0.005773379012815633, \"group\": \"bottom\"}, {\"word\": \"or\", \"book\": \"/home/jupyter-pander14/csc-369-student/data/gutenberg/2554-0.txt\", \"freq\": 0.0022611727109862973, \"group\": \"bottom\"}, {\"word\": \"or\", \"book\": \"/home/jupyter-pander14/csc-369-student/data/gutenberg/64242-0.txt\", \"freq\": 0.003000198992790338, \"group\": \"bottom\"}, {\"word\": \"Jim\", \"book\": \"/home/jupyter-pander14/csc-369-student/data/gutenberg/76-0.txt\", \"freq\": 0.00218028982969222, \"group\": \"top\"}, {\"word\": \"Jim\", \"book\": \"/home/jupyter-pander14/csc-369-student/data/gutenberg/74-0.txt\", \"freq\": 0.00017605395376552323, \"group\": \"top\"}, {\"word\": \"Jim\", \"book\": \"/home/jupyter-pander14/csc-369-student/data/gutenberg/120-0.txt\", \"freq\": 0.00023703621076702128, \"group\": \"bottom\"}, {\"word\": \"Jim\", \"book\": \"/home/jupyter-pander14/csc-369-student/data/gutenberg/4300-0.txt\", \"freq\": 7.459012725075709e-06, \"group\": \"bottom\"}, {\"word\": \"Jim\", \"book\": \"/home/jupyter-pander14/csc-369-student/data/gutenberg/408-0.txt\", \"freq\": 2.787650707366367e-05, \"group\": \"bottom\"}, {\"word\": \"Anne.\", \"book\": \"/home/jupyter-pander14/csc-369-student/data/gutenberg/2542-0.txt\", \"freq\": 6.757213325224677e-05, \"group\": \"top\"}, {\"word\": \"Anne.\", \"book\": \"/home/jupyter-pander14/csc-369-student/data/gutenberg/45-0.txt\", \"freq\": 0.0011453777853505235, \"group\": \"bottom\"}, {\"word\": \"Anne\", \"book\": \"/home/jupyter-pander14/csc-369-student/data/gutenberg/1342-0.txt\", \"freq\": 1.6037592115919717e-05, \"group\": \"top\"}, {\"word\": \"Anne\", \"book\": \"/home/jupyter-pander14/csc-369-student/data/gutenberg/2542-0.txt\", \"freq\": 6.757213325224677e-05, \"group\": \"top\"}, {\"word\": \"Anne\", \"book\": \"/home/jupyter-pander14/csc-369-student/data/gutenberg/2600-0.txt\", \"freq\": 1.7657954820356796e-06, \"group\": \"bottom\"}, {\"word\": \"Anne\", \"book\": \"/home/jupyter-pander14/csc-369-student/data/gutenberg/1232-0.txt\", \"freq\": 1.8851918182675087e-05, \"group\": \"bottom\"}, {\"word\": \"Anne\", \"book\": \"/home/jupyter-pander14/csc-369-student/data/gutenberg/158-0.txt\", \"freq\": 1.2464320881476773e-05, \"group\": \"bottom\"}, {\"word\": \"Anne\", \"book\": \"/home/jupyter-pander14/csc-369-student/data/gutenberg/4300-0.txt\", \"freq\": 1.4918025450151418e-05, \"group\": \"bottom\"}, {\"word\": \"Anne\", \"book\": \"/home/jupyter-pander14/csc-369-student/data/gutenberg/135-0.txt\", \"freq\": 1.7583128636410791e-06, \"group\": \"bottom\"}, {\"word\": \"Anne\", \"book\": \"/home/jupyter-pander14/csc-369-student/data/gutenberg/45-0.txt\", \"freq\": 0.006493629427689745, \"group\": \"bottom\"}, {\"word\": \"PART\", \"book\": \"/home/jupyter-pander14/csc-369-student/data/gutenberg/1250-0.txt\", \"freq\": 0.001079573568440466, \"group\": \"top\"}, {\"word\": \"PART\", \"book\": \"/home/jupyter-pander14/csc-369-student/data/gutenberg/120-0.txt\", \"freq\": 0.00016731967818848562, \"group\": \"bottom\"}, {\"word\": \"PART\", \"book\": \"/home/jupyter-pander14/csc-369-student/data/gutenberg/64247-0.txt\", \"freq\": 1.8541008074609016e-05, \"group\": \"bottom\"}, {\"word\": \"PART\", \"book\": \"/home/jupyter-pander14/csc-369-student/data/gutenberg/996-0.txt\", \"freq\": 6.9723985980830555e-06, \"group\": \"bottom\"}, {\"word\": \"PART\", \"book\": \"/home/jupyter-pander14/csc-369-student/data/gutenberg/2554-0.txt\", \"freq\": 2.905146952016656e-05, \"group\": \"bottom\"}, {\"word\": \"PART\", \"book\": \"/home/jupyter-pander14/csc-369-student/data/gutenberg/64242-0.txt\", \"freq\": 1.530713771831805e-05, \"group\": \"bottom\"}]}}, {\"mode\": \"vega-lite\"});\n",
       "</script>"
      ],
      "text/plain": [
       "alt.Chart(...)"
      ]
     },
     "execution_count": 19,
     "metadata": {},
     "output_type": "execute_result"
    }
   ],
   "source": [
    "alt.Chart(plot_df.set_index('word').loc[top_words].reset_index()).mark_bar().encode(\n",
    "    x='group',\n",
    "    y='freq',\n",
    "    column='word',\n",
    "    color='group'\n",
    ")"
   ]
  },
  {
   "cell_type": "markdown",
   "metadata": {
    "slideshow": {
     "slide_type": "subslide"
    }
   },
   "source": [
    "**Anyways...** I feel like we've gotten that out of our system. In reality, we need to perform a lot more data cleaning and data organization before such an analysis will yield what we want.\n",
    "\n",
    "Now back to distributed computing."
   ]
  },
  {
   "cell_type": "markdown",
   "metadata": {
    "slideshow": {
     "slide_type": "slide"
    }
   },
   "source": [
    "## Wrapping up our warmup\n",
    "There is so much more to Parallel then we can discuss here. \n",
    "\n",
    "For example, you can use Parallel to execute commands on multiple nodes: <a href=\"https://www.gnu.org/software/parallel/parallel_tutorial.html#Remote-execution\">https://www.gnu.org/software/parallel/parallel_tutorial.html#Remote-execution</a>. \n",
    "\n",
    "Parallel is one of the most useful distributed computing tools at your disposal. If you have a command line program that would benefit from running in a distributed fashion. Do NOT rewrite it until you have considered running it this way."
   ]
  },
  {
   "cell_type": "markdown",
   "metadata": {
    "slideshow": {
     "slide_type": "subslide"
    }
   },
   "source": [
    "## Questions\n",
    "1. Describe an instance where you would reach for GNU parallel instead of more advanced and integrated solutions.\n",
    "\n",
    "\n",
    "2. When solving a distributed computing problem, what doesn't GNU parallel do for you? What are going to have to implement in the lab?\n",
    "\n",
    "\n",
    "\n"
   ]
  },
  {
   "cell_type": "code",
   "execution_count": 20,
   "metadata": {
    "slideshow": {
     "slide_type": "skip"
    }
   },
   "outputs": [],
   "source": [
    "# Don't forget to push!"
   ]
  }
 ],
 "metadata": {
  "celltoolbar": "Slideshow",
  "hide_code_all_hidden": false,
  "jupytext": {
   "encoding": "# -*- coding: utf-8 -*-",
   "formats": "ipynb,md,py"
  },
  "kernelspec": {
   "display_name": "Python 3 (ipykernel)",
   "language": "python",
   "name": "python3"
  },
  "language_info": {
   "codemirror_mode": {
    "name": "ipython",
    "version": 3
   },
   "file_extension": ".py",
   "mimetype": "text/x-python",
   "name": "python",
   "nbconvert_exporter": "python",
   "pygments_lexer": "ipython3",
   "version": "3.10.12"
  }
 },
 "nbformat": 4,
 "nbformat_minor": 4
}
