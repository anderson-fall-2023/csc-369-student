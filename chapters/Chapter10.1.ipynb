{
 "cells": [
  {
   "cell_type": "markdown",
   "metadata": {
    "hideCode": false,
    "hidePrompt": false,
    "slideshow": {
     "slide_type": "slide"
    }
   },
   "source": [
    "# Chapter 10.1 - Putting it all together\n",
    "\n",
    "Paul E. Anderson"
   ]
  },
  {
   "cell_type": "markdown",
   "metadata": {
    "slideshow": {
     "slide_type": "subslide"
    }
   },
   "source": [
    "## Ice Breaker\n",
    "\n",
    "What is the first thing you are going to do once all your assignments are finished and exams are over?"
   ]
  },
  {
   "cell_type": "markdown",
   "metadata": {
    "slideshow": {
     "slide_type": "subslide"
    }
   },
   "source": [
    "**Learning objectives:** Understand how most of the tools discussed in this textbook work together."
   ]
  },
  {
   "cell_type": "code",
   "execution_count": 1,
   "metadata": {},
   "outputs": [],
   "source": [
    "%load_ext autoreload\n",
    "%autoreload 2\n",
    "\n",
    "from pathlib import Path\n",
    "home = str(Path.home()) # all other paths are relative to this path. \n",
    "# This is not relevant to most people because I recommended you use my server, but\n",
    "# change home to where you are storing everything. Again. Not recommended."
   ]
  },
  {
   "cell_type": "markdown",
   "metadata": {
    "slideshow": {
     "slide_type": "subslide"
    }
   },
   "source": [
    "## Dataset Overview\n",
    "\n",
    "AirBnB provides a lot of data about their listings, reviews, and neighborhoods in different formats. I have downloaded only a small subset."
   ]
  },
  {
   "cell_type": "code",
   "execution_count": 2,
   "metadata": {},
   "outputs": [
    {
     "name": "stdout",
     "output_type": "stream",
     "text": [
      "total 57100\n",
      "-rw-r--r-- 1 jupyter-pander14 jupyter-pander14 35253051 Nov 27 16:30 calendar.csv.gz\n",
      "-rw-r--r-- 1 jupyter-pander14 jupyter-pander14 22483928 Nov 27 16:30 listings.csv.gz\n",
      "-rw-r--r-- 1 jupyter-pander14 jupyter-pander14     8392 Nov 27 16:30 neighbourhoods.csv\n",
      "-rw-r--r-- 1 jupyter-pander14 jupyter-pander14   713261 Nov 27 16:30 neighbourhoods.geojson\n",
      "-rw-r--r-- 1 jupyter-pander14 jupyter-pander14        0 Nov 27 16:30 output.geojson\n"
     ]
    }
   ],
   "source": [
    "!ls -l {home}/csc-369-student/data/airbnb/LA/02_November_2021"
   ]
  },
  {
   "cell_type": "markdown",
   "metadata": {},
   "source": [
    "## Exploring the files"
   ]
  },
  {
   "cell_type": "code",
   "execution_count": 27,
   "metadata": {},
   "outputs": [],
   "source": [
    "import os\n",
    "\n",
    "os.environ['PYSPARK_SUBMIT_ARGS'] = \"--packages com.datastax.spark:spark-cassandra-connector_2.12:3.1.0,org.mongodb.spark:mongo-spark-connector_2.12:3.0.1\"\n",
    "os.environ['PYSPARK_SUBMIT_ARGS'] += \" --conf spark.cassandra.connection.host=127.0.0.1\"\n",
    "\n",
    "os.environ['PYSPARK_SUBMIT_ARGS'] += ' --conf \"spark.mongodb.input.uri=mongodb://127.0.0.1/csc-369.neighbourhoods_geo?readPreference=primaryPreferred\"'\n",
    "os.environ['PYSPARK_SUBMIT_ARGS'] += ' --conf \"spark.mongodb.output.uri=mongodb://127.0.0.1/csc-369.neighbourhoods_geo\"'\n",
    "os.environ['PYSPARK_SUBMIT_ARGS'] += \" pyspark-shell\"\n"
   ]
  },
  {
   "cell_type": "code",
   "execution_count": 4,
   "metadata": {},
   "outputs": [],
   "source": [
    "from pyspark import SparkConf\n",
    "from pyspark.context import SparkContext\n",
    "\n",
    "sc = SparkContext.getOrCreate(SparkConf().setMaster(\"local[*]\"))"
   ]
  },
  {
   "cell_type": "markdown",
   "metadata": {},
   "source": [
    "RDDs are great for taking a look at a file you are unfamiliar with:"
   ]
  },
  {
   "cell_type": "markdown",
   "metadata": {},
   "source": [
    "### Calendar.csv.gz"
   ]
  },
  {
   "cell_type": "code",
   "execution_count": 5,
   "metadata": {},
   "outputs": [
    {
     "name": "stdout",
     "output_type": "stream",
     "text": [
      "listing_id,date,available,price,adjusted_price,minimum_nights,maximum_nights\n",
      "37171,2021-11-03,f,$100.00,$100.00,1,30\n",
      "106061,2021-11-03,f,$83.00,$83.00,30,365\n",
      "106061,2021-11-04,f,$83.00,$83.00,30,365\n",
      "106061,2021-11-05,f,$83.00,$83.00,30,365\n",
      "106061,2021-11-06,f,$83.00,$83.00,30,365\n",
      "106061,2021-11-07,f,$83.00,$83.00,30,365\n",
      "106061,2021-11-08,f,$83.00,$83.00,30,365\n",
      "106061,2021-11-09,f,$83.00,$83.00,30,365\n",
      "106061,2021-11-10,f,$83.00,$83.00,30,365\n"
     ]
    }
   ],
   "source": [
    "rdd = sc.textFile(f\"{home}/csc-369-student/data/airbnb/LA/02_November_2021/calendar.csv.gz\")\n",
    "\n",
    "print(\"\\n\".join(rdd.take(10)))"
   ]
  },
  {
   "cell_type": "markdown",
   "metadata": {},
   "source": [
    "We can read that directly with Spark SQL"
   ]
  },
  {
   "cell_type": "code",
   "execution_count": 6,
   "metadata": {},
   "outputs": [],
   "source": [
    "from pyspark.sql import SparkSession\n",
    "\n",
    "spark = SparkSession \\\n",
    "    .builder \\\n",
    "    .appName(\"Chapter10\") \\\n",
    "    .getOrCreate()"
   ]
  },
  {
   "cell_type": "code",
   "execution_count": 7,
   "metadata": {},
   "outputs": [
    {
     "data": {
      "text/plain": [
       "DataFrame[listing_id: string, date: string, available: string, price: string, adjusted_price: string, minimum_nights: string, maximum_nights: string]"
      ]
     },
     "execution_count": 7,
     "metadata": {},
     "output_type": "execute_result"
    }
   ],
   "source": [
    "df = spark.read.csv(f\"{home}/csc-369-student/data/airbnb/LA/02_November_2021/calendar.csv.gz\",header=True) \n",
    "df"
   ]
  },
  {
   "cell_type": "markdown",
   "metadata": {},
   "source": [
    "It read the file, but it had trouble with the fields. We'll need to process them correctly."
   ]
  },
  {
   "cell_type": "code",
   "execution_count": 8,
   "metadata": {},
   "outputs": [
    {
     "data": {
      "text/plain": [
       "DataFrame[listing_id: bigint, date: date, available: string, price: double, adjusted_price: double, minimum_nights: int, maximum_nights: int]"
      ]
     },
     "execution_count": 8,
     "metadata": {},
     "output_type": "execute_result"
    }
   ],
   "source": [
    "from pyspark.sql.functions import col\n",
    "from pyspark.sql.types import IntegerType\n",
    "from pyspark.sql.functions import to_date\n",
    "from pyspark.sql.functions import regexp_replace\n",
    "\n",
    "\n",
    "df = df.withColumn(\"listing_id\", df[\"listing_id\"].cast(\"long\"))\n",
    "df = df.withColumn(\"date\", to_date(df[\"date\"], \"yyyy-MM-dd\"))\n",
    "df = df.withColumn(\"date\", to_date(df[\"date\"], \"yyyy-MM-dd\"))\n",
    "df = df.withColumn('price', regexp_replace('price', '\\$', '')).withColumn('price',col('price').cast('double'))\n",
    "df = df.withColumn('adjusted_price', regexp_replace('adjusted_price', '\\$', '')).withColumn('adjusted_price',col('adjusted_price').cast('double'))\n",
    "df = df.withColumn(\"minimum_nights\", df[\"minimum_nights\"].cast(\"int\"))\n",
    "df = df.withColumn(\"maximum_nights\", df[\"maximum_nights\"].cast(\"int\"))\n",
    "\n",
    "df"
   ]
  },
  {
   "cell_type": "code",
   "execution_count": 9,
   "metadata": {},
   "outputs": [],
   "source": [
    "df = df.na.drop(subset='price') # Remove any listings without price because we want to use it in a primary key later"
   ]
  },
  {
   "cell_type": "code",
   "execution_count": 10,
   "metadata": {},
   "outputs": [
    {
     "data": {
      "text/plain": [
       "[Row(listing_id=37171, date=datetime.date(2021, 11, 3), available='f', price=100.0, adjusted_price=100.0, minimum_nights=1, maximum_nights=30),\n",
       " Row(listing_id=106061, date=datetime.date(2021, 11, 3), available='f', price=83.0, adjusted_price=83.0, minimum_nights=30, maximum_nights=365),\n",
       " Row(listing_id=106061, date=datetime.date(2021, 11, 4), available='f', price=83.0, adjusted_price=83.0, minimum_nights=30, maximum_nights=365),\n",
       " Row(listing_id=106061, date=datetime.date(2021, 11, 5), available='f', price=83.0, adjusted_price=83.0, minimum_nights=30, maximum_nights=365),\n",
       " Row(listing_id=106061, date=datetime.date(2021, 11, 6), available='f', price=83.0, adjusted_price=83.0, minimum_nights=30, maximum_nights=365)]"
      ]
     },
     "execution_count": 10,
     "metadata": {},
     "output_type": "execute_result"
    }
   ],
   "source": [
    "df.take(5)"
   ]
  },
  {
   "cell_type": "code",
   "execution_count": 11,
   "metadata": {},
   "outputs": [
    {
     "name": "stdout",
     "output_type": "stream",
     "text": [
      "root\n",
      " |-- listing_id: long (nullable = true)\n",
      " |-- date: date (nullable = true)\n",
      " |-- available: string (nullable = true)\n",
      " |-- price: double (nullable = true)\n",
      " |-- adjusted_price: double (nullable = true)\n",
      " |-- minimum_nights: integer (nullable = true)\n",
      " |-- maximum_nights: integer (nullable = true)\n",
      "\n"
     ]
    }
   ],
   "source": [
    "df.printSchema()"
   ]
  },
  {
   "cell_type": "markdown",
   "metadata": {},
   "source": [
    "Since we are going to have a lot of these files in theory, it is good to process them and then insert them into a Cassandra database."
   ]
  },
  {
   "cell_type": "code",
   "execution_count": 12,
   "metadata": {},
   "outputs": [],
   "source": [
    "from cassandra.cluster import Cluster\n",
    "cluster = Cluster(['0.0.0.0'],port=9042)\n",
    "session = cluster.connect()"
   ]
  },
  {
   "cell_type": "code",
   "execution_count": 13,
   "metadata": {},
   "outputs": [
    {
     "name": "stdout",
     "output_type": "stream",
     "text": [
      "Row(release_version='4.0.1')\n"
     ]
    }
   ],
   "source": [
    "for row in session.execute('select release_version from system.local;'):\n",
    "    print(row)"
   ]
  },
  {
   "cell_type": "code",
   "execution_count": 14,
   "metadata": {},
   "outputs": [
    {
     "data": {
      "text/plain": [
       "<cassandra.cluster.ResultSet at 0x7fca225fcf98>"
      ]
     },
     "execution_count": 14,
     "metadata": {},
     "output_type": "execute_result"
    }
   ],
   "source": [
    "session.execute(\"DROP KEYSPACE IF EXISTS airbnb\")"
   ]
  },
  {
   "cell_type": "code",
   "execution_count": 15,
   "metadata": {},
   "outputs": [],
   "source": [
    "for row in session.execute(\"CREATE KEYSPACE airbnb WITH replication = {'class':'SimpleStrategy', 'replication_factor' : 1};\"):\n",
    "    print(row)\n",
    "\n",
    "# We are using the first replica placement strategy, i.e.., Simple Strategy.\n",
    "\n",
    "# And we are choosing the replication factor to 3 replica."
   ]
  },
  {
   "cell_type": "code",
   "execution_count": 16,
   "metadata": {},
   "outputs": [],
   "source": [
    "for row in session.execute('DROP TABLE IF EXISTS airbnb.calendar;'):\n",
    "    print(row)\n",
    "for row in session.execute(\"\"\"\n",
    "CREATE TABLE airbnb.calendar \n",
    "( listing_id int, \n",
    "  date timestamp, \n",
    "  available text, \n",
    "  price double,\n",
    "  adjusted_price double,\n",
    "  minimum_nights int,\n",
    "  maximum_nights int,\n",
    "  \n",
    "  PRIMARY KEY (date, price, listing_id)\n",
    ");\n",
    "\"\"\"):\n",
    "    print(row)\n",
    "\n",
    "#Item one is the partition key\n",
    "#Item two is the first clustering column. Added_date is a timestamp so the sort order is chronological, ascending.\n",
    "#Item three is the second clustering column. Since videoid is a UUID, we are including it so simply show that it is a part of a unique record."
   ]
  },
  {
   "cell_type": "code",
   "execution_count": 17,
   "metadata": {},
   "outputs": [],
   "source": [
    "df.write.format(\"org.apache.spark.sql.cassandra\").mode('append').options(table='calendar',keyspace='airbnb').save()"
   ]
  },
  {
   "cell_type": "code",
   "execution_count": 18,
   "metadata": {},
   "outputs": [
    {
     "name": "stdout",
     "output_type": "stream",
     "text": [
      "Row(price=0.0)\n",
      "Row(price=0.0)\n",
      "Row(price=0.0)\n",
      "Row(price=0.0)\n",
      "Row(price=0.0)\n",
      "Row(price=0.0)\n",
      "Row(price=0.0)\n",
      "Row(price=0.0)\n",
      "Row(price=0.0)\n",
      "Row(price=0.0)\n",
      "Row(price=0.0)\n",
      "Row(price=0.0)\n",
      "Row(price=10.0)\n",
      "Row(price=10.0)\n",
      "Row(price=10.0)\n",
      "Row(price=10.0)\n",
      "Row(price=10.0)\n",
      "Row(price=10.0)\n",
      "Row(price=11.0)\n",
      "Row(price=11.0)\n",
      "Row(price=12.0)\n",
      "Row(price=12.0)\n",
      "Row(price=14.0)\n",
      "Row(price=15.0)\n",
      "Row(price=16.0)\n",
      "Row(price=16.0)\n",
      "Row(price=16.0)\n",
      "Row(price=16.0)\n",
      "Row(price=16.0)\n",
      "Row(price=16.0)\n",
      "Row(price=17.0)\n",
      "Row(price=17.0)\n",
      "Row(price=17.0)\n",
      "Row(price=17.0)\n",
      "Row(price=17.0)\n",
      "Row(price=18.0)\n",
      "Row(price=18.0)\n",
      "Row(price=18.0)\n",
      "Row(price=18.0)\n",
      "Row(price=18.0)\n",
      "Row(price=18.0)\n",
      "Row(price=18.0)\n",
      "Row(price=18.0)\n",
      "Row(price=19.0)\n",
      "Row(price=19.0)\n",
      "Row(price=19.0)\n",
      "Row(price=19.0)\n",
      "Row(price=19.0)\n",
      "Row(price=19.0)\n",
      "Row(price=19.0)\n"
     ]
    }
   ],
   "source": [
    "for row in session.execute(\"SELECT price FROM airbnb.calendar LIMIT 50;\"):\n",
    "    print(row)"
   ]
  },
  {
   "cell_type": "markdown",
   "metadata": {},
   "source": [
    "### listings.csv.gz"
   ]
  },
  {
   "cell_type": "code",
   "execution_count": 19,
   "metadata": {},
   "outputs": [
    {
     "name": "stdout",
     "output_type": "stream",
     "text": [
      "id,listing_url,scrape_id,last_scraped,name,description,neighborhood_overview,picture_url,host_id,host_url,host_name,host_since,host_location,host_about,host_response_time,host_response_rate,host_acceptance_rate,host_is_superhost,host_thumbnail_url,host_picture_url,host_neighbourhood,host_listings_count,host_total_listings_count,host_verifications,host_has_profile_pic,host_identity_verified,neighbourhood,neighbourhood_cleansed,neighbourhood_group_cleansed,latitude,longitude,property_type,room_type,accommodates,bathrooms,bathrooms_text,bedrooms,beds,amenities,price,minimum_nights,maximum_nights,minimum_minimum_nights,maximum_minimum_nights,minimum_maximum_nights,maximum_maximum_nights,minimum_nights_avg_ntm,maximum_nights_avg_ntm,calendar_updated,has_availability,availability_30,availability_60,availability_90,availability_365,calendar_last_scraped,number_of_reviews,number_of_reviews_ltm,number_of_reviews_l30d,first_review,last_review,review_scores_rating,review_scores_accuracy,review_scores_cleanliness,review_scores_checkin,review_scores_communication,review_scores_location,review_scores_value,license,instant_bookable,calculated_host_listings_count,calculated_host_listings_count_entire_homes,calculated_host_listings_count_private_rooms,calculated_host_listings_count_shared_rooms,reviews_per_month\n",
      "109,https://www.airbnb.com/rooms/109,20211102175612,2021-11-03,Amazing bright elegant condo park front *UPGRADED*,\"*** Unit upgraded with new bamboo flooring, brand new Ultra HD 50\"\" Sony TV, new paint, new lighting, new mattresses, ultra fast cable Internet connection, Apple TV, Google Chromecast. ***<br /><br />Gorgeous and Elegant Furnished Condo in front of Culver City Fox Hills Park. <br />Upper corner unit, total silence protected by trees.<br />Short walk to the new Westfield Mall.<br />Tennis courts, heated pool and jacuzzi hot tub.<br /><br /><b>The space</b><br />*** Unit upgraded with new bamboo flooring, brand new Ultra HD 50\"\" Sony TV, new paint, new lighting, new mattresses, ultra fast cable Internet connection. ***<br /><br />Gorgeous and Elegant Furnished Apartment in front of Culver City Fox Hills Park. <br />Upper corner unit, total silence protected by trees.<br />Short walk to the new Westfield Mall.<br />Tennis courts, heated pool and jacuzzi hot tub.<br /><br />*** Upgraded with bamboo flooring and new paint the whole apartment ***<br />Just installed gorgeous high quality bambo\",,https://a0.muscache.com/pictures/4321499/1da9892a_original.jpg,521,https://www.airbnb.com/users/show/521,Paolo,2008-06-27,\"San Francisco, California, United States\",\"Paolo Privitera, CEO Evensi\n",
      "\n",
      "Paolo, MIT MBA (Phone number hidden by Airbnb) , is currently the CEO and co-founder of Evensi, the world's largest events discovery and promotion network, with more than 200 million events, 50 million users, 10 million event organizers. The company has been approved for an IPO.\n",
      "\n",
      "Paolo is a Silicon Valley-based global entrepreneur and strategist with a passion for innovation and growth using the power of data, strategic analysis, creativity, and teamwork.\n",
      "Born and raised in Venice Italy, he founded his first Internet company in (Phone number hidden by Airbnb) when he was 16 years old.\n",
      "Paolo has been a U.S. resident since (Phone number hidden by Airbnb) He has more than 25 years of experience in tech and internet-based businesses. During this time, he has founded from scratch 6 companies, invested in more than 50, and advised hundreds. Paolo has received 10 career awards and 4 of the companies he founded had an exit. \n",
      "\n",
      "He is also a mentor and advisor at 500 Startups, (Hidden by Airbnb) Launchpad, China Accelerator, Alchemist, Start-Up Chile, Health Wildcatters, Nana Bianca, The Vault Korea, Galvanize, and Future Food Institute. \n"
     ]
    }
   ],
   "source": [
    "rdd = sc.textFile(f\"{home}/csc-369-student/data/airbnb/LA/02_November_2021/listings.csv.gz\")\n",
    "\n",
    "print(\"\\n\".join(rdd.take(10)))"
   ]
  },
  {
   "cell_type": "code",
   "execution_count": 20,
   "metadata": {},
   "outputs": [
    {
     "data": {
      "text/plain": [
       "DataFrame[id: string, listing_url: string, scrape_id: string, last_scraped: string, name: string, description: string, neighborhood_overview: string, picture_url: string, host_id: string, host_url: string, host_name: string, host_since: string, host_location: string, host_about: string, host_response_time: string, host_response_rate: string, host_acceptance_rate: string, host_is_superhost: string, host_thumbnail_url: string, host_picture_url: string, host_neighbourhood: string, host_listings_count: string, host_total_listings_count: string, host_verifications: string, host_has_profile_pic: string, host_identity_verified: string, neighbourhood: string, neighbourhood_cleansed: string, neighbourhood_group_cleansed: string, latitude: string, longitude: string, property_type: string, room_type: string, accommodates: string, bathrooms: string, bathrooms_text: string, bedrooms: string, beds: string, amenities: string, price: string, minimum_nights: string, maximum_nights: string, minimum_minimum_nights: string, maximum_minimum_nights: string, minimum_maximum_nights: string, maximum_maximum_nights: string, minimum_nights_avg_ntm: string, maximum_nights_avg_ntm: string, calendar_updated: string, has_availability: string, availability_30: string, availability_60: string, availability_90: string, availability_365: string, calendar_last_scraped: string, number_of_reviews: string, number_of_reviews_ltm: string, number_of_reviews_l30d: string, first_review: string, last_review: string, review_scores_rating: string, review_scores_accuracy: string, review_scores_cleanliness: string, review_scores_checkin: string, review_scores_communication: string, review_scores_location: string, review_scores_value: string, license: string, instant_bookable: string, calculated_host_listings_count: string, calculated_host_listings_count_entire_homes: string, calculated_host_listings_count_private_rooms: string, calculated_host_listings_count_shared_rooms: string, reviews_per_month: string]"
      ]
     },
     "execution_count": 20,
     "metadata": {},
     "output_type": "execute_result"
    }
   ],
   "source": [
    "listings_df = spark.read.csv(f\"{home}/csc-369-student/data/airbnb/LA/02_November_2021/listings.csv.gz\",header=True,quote=\"\\\"\",escape=\"\\\"\",multiLine=True)\n",
    "listings_df"
   ]
  },
  {
   "cell_type": "code",
   "execution_count": 21,
   "metadata": {},
   "outputs": [
    {
     "data": {
      "text/plain": [
       "DataFrame[id: string, host_id: string, name: string, description: string, bedrooms: string, host_neighbourhood: string, neighbourhood_group_cleansed: string]"
      ]
     },
     "execution_count": 21,
     "metadata": {},
     "output_type": "execute_result"
    }
   ],
   "source": [
    "listings_df = listings_df.select(['id','host_id','name','description','bedrooms','host_neighbourhood','neighbourhood_group_cleansed'])\n",
    "listings_df"
   ]
  },
  {
   "cell_type": "code",
   "execution_count": 22,
   "metadata": {},
   "outputs": [
    {
     "data": {
      "text/plain": [
       "[Row(id='109', host_id='521', name='Amazing bright elegant condo park front *UPGRADED*', description='*** Unit upgraded with new bamboo flooring, brand new Ultra HD 50\" Sony TV, new paint, new lighting, new mattresses, ultra fast cable Internet connection, Apple TV, Google Chromecast. ***<br /><br />Gorgeous and Elegant Furnished Condo in front of Culver City Fox Hills Park. <br />Upper corner unit, total silence protected by trees.<br />Short walk to the new Westfield Mall.<br />Tennis courts, heated pool and jacuzzi hot tub.<br /><br /><b>The space</b><br />*** Unit upgraded with new bamboo flooring, brand new Ultra HD 50\" Sony TV, new paint, new lighting, new mattresses, ultra fast cable Internet connection. ***<br /><br />Gorgeous and Elegant Furnished Apartment in front of Culver City Fox Hills Park. <br />Upper corner unit, total silence protected by trees.<br />Short walk to the new Westfield Mall.<br />Tennis courts, heated pool and jacuzzi hot tub.<br /><br />*** Upgraded with bamboo flooring and new paint the whole apartment ***<br />Just installed gorgeous high quality bambo', bedrooms='2', host_neighbourhood='Culver City', neighbourhood_group_cleansed='Other Cities'),\n",
       " Row(id='2708', host_id='3008', name='Runyon Canyon | Beau Furn Mirror Mini-Suite Firplc', description=\"Run Runyon Canyon, Our Gym & Sauna Open <br /><br />Beautifully Furnished Mirrored Mini-Suite with Fireplace<br /><br />Dyson Hot + Cool Bladeless Fan/Heater<br /><br />Beekman Goat Milk Soap<br /><br />Premium memory foam pillows<br /><br />First Morning: complementary, Starbuck's coffee, latte-style coffee, protein bars, granola bars, a fresh-baked Swedish cinnamon roll, continental breakfast<br /><br />Welcome bottle of artesian or sparkling mineral water<br /><br />Terry robe, slippers<br /><br />Handmade Amish wildflower soap<br /><br />Candy bowl<br /><br />Trail mix jar<br /><br />CDC Cleaning<br /><br /><b>The space</b><br />We Opportunely Strive for Peace & Quiet, Cleanness & Neatness, by means of Happiness here.<br /><br />Runyon Canyon | Beau Furn Mir Mini-Suite Fireplace<br /><br />Run Runyon Canyon | Beautifully Furnished Mirrored Mini-Suite With Fireplace.<br /><br />Gyms are open.<br /><br />Plunge Pool Jacuzzi & Sundeck. <br /><br />Runyon Canyon is within walking and r\", bedrooms='1', host_neighbourhood='Hollywood', neighbourhood_group_cleansed='City of Los Angeles'),\n",
       " Row(id='2732', host_id='3041', name='Zen Life at the Beach', description='An oasis of tranquility awaits you.<br /><br /><b>The space</b><br />This is a beautiful three story townhouse that will enhance your Santa Monica experience. This airy, light filled, quiet safe haven will be the perfect spot to land after a busy day or just wanting to chill. The first floor is the living room -a bright, cheerful open space looking out onto the peaceful patio overflowing with flowers. Lots of natural light. Also a large kitchen fully stocked with utensils  if you care to make a healthy meal for yourself.<br /><br />The 2nd floor is my guest room and private bath. The third floor is my quarters. My townhome is large and quite possibly we could not run into one another. <br /><br />Located in the best part of Santa Monica, a few blocks from the very hip Main Street area that has cafes, both fine and casual dining that will appeal to those of you who are foodies. Walking distance to yoga studios, farmers markets and wonderful unique shops. The pristine clean beach is only', bedrooms='1', host_neighbourhood='Santa Monica', neighbourhood_group_cleansed='Other Cities'),\n",
       " Row(id='2864', host_id='3207', name='* Beautiful Master Suite/Jacuzzi Tub/*', description=\"Centrally located.... Furnished with King Size Bed etc., Desk,   Spectrum 200 mbps WIFI,  4.6 cu ft. refridgerator, Microwave,.  There is a large counter space to do some basic food prep but no heavy cooking.  For example:  Preparation of salad, sandwiches, protein shakes, warm up in microwave meals, etc.  Extra Large bathroom with Jacuzzi and large shower, Brazilian cherry hardwood floors, Thomasville bedroom furniture, huge walk in closet etc.<br /><br /><b>The space</b><br />Safe living on a cul de sac in newer neighborhood with 3 gated communities of large 2 story homes.  The space is furnished with Thomasville furniture, brazillian cherry hardwood flooring, jacuzzi, large bathroom, large closet, large office desk area/furniture.   2 minutes to the freeway, 12 minutes to closest beach, 30 minutes to Hollywood, 5 minutes to restaurants, shopping and grocery stores.  There are many parks close by and very close to the San Gabriel Pass where the cyclists ride down to Seal Beach.  It's\", bedrooms='1', host_neighbourhood='Bellflower', neighbourhood_group_cleansed='Other Cities'),\n",
       " Row(id='3021', host_id='3415', name='Hollywood Hills Zen Modern style Apt/Guesthouse', description=\"A very Modern Hollywood Hills Zen style gallery-esque abode , Dark Brazilian Hardwood Floors, Sleek modern Concrete decor infused with Asian feng shui sensibilities, Artisinal in all aspects  with all the modern conveniences. Located in beautiful and Musically  Historic  Laurel Canyon.  Approximate size is 460 sq feet.<br /><br /><b>The space</b><br />Stay amongst the Stars when you visit the Hollywood Hills! One of the safest areas !!! Sleep just minutes away from Jim Morrison's house, .....The Mamas and Papas home, and many more present and past celebrities!! ...the Hollywood Hills / Laurel Canyon Welcome to Paradise , quiet, lush ,song birds greenery, , and refreshing breezes; yet in the heart of Hollywood, quick access to Sunset Strip, West Hollywood, Downtown, Beverly Hills, and Universal City Walk and other film studios. This gem is nestled up the infamous Laurel Canyon and has all of the amenities and comforts of a custom designer home , completely separate entrance, plenty of e\", bedrooms='1', host_neighbourhood='Laurel Canyon', neighbourhood_group_cleansed='City of Los Angeles')]"
      ]
     },
     "execution_count": 22,
     "metadata": {},
     "output_type": "execute_result"
    }
   ],
   "source": [
    "listings_df.take(5)"
   ]
  },
  {
   "cell_type": "code",
   "execution_count": 23,
   "metadata": {},
   "outputs": [
    {
     "data": {
      "text/plain": [
       "DataFrame[id: bigint, host_id: bigint, name: string, description: string, bedrooms: int, host_neighbourhood: string, neighbourhood_group_cleansed: string]"
      ]
     },
     "execution_count": 23,
     "metadata": {},
     "output_type": "execute_result"
    }
   ],
   "source": [
    "listings_df = listings_df.withColumn(\"id\", listings_df[\"id\"].cast(\"long\"))\n",
    "listings_df = listings_df.withColumn(\"host_id\", listings_df[\"host_id\"].cast(\"long\"))\n",
    "listings_df = listings_df.withColumn(\"bedrooms\", listings_df[\"bedrooms\"].cast(\"int\"))\n",
    "\n",
    "listings_df"
   ]
  },
  {
   "cell_type": "code",
   "execution_count": 24,
   "metadata": {},
   "outputs": [],
   "source": [
    "for row in session.execute('DROP TABLE IF EXISTS airbnb.listings;'):\n",
    "    print(row)\n",
    "for row in session.execute(\"\"\"\n",
    "CREATE TABLE airbnb.listings \n",
    "( id bigint, \n",
    "  host_id bigint,\n",
    "  name text,\n",
    "  description text,\n",
    "  bedrooms int,\n",
    "  host_neighbourhood text,\n",
    "  neighbourhood_group_cleansed text,\n",
    "  PRIMARY KEY (host_id, id)\n",
    ");\n",
    "\"\"\"):\n",
    "    print(row)"
   ]
  },
  {
   "cell_type": "code",
   "execution_count": 28,
   "metadata": {},
   "outputs": [],
   "source": [
    "listings_df.write.format(\"org.apache.spark.sql.cassandra\").mode('append').options(table='listings',keyspace='airbnb').save()"
   ]
  },
  {
   "cell_type": "code",
   "execution_count": 29,
   "metadata": {},
   "outputs": [
    {
     "name": "stdout",
     "output_type": "stream",
     "text": [
      "Row(host_neighbourhood='Manhattan Beach')\n",
      "Row(host_neighbourhood='South LA')\n",
      "Row(host_neighbourhood='Venice')\n",
      "Row(host_neighbourhood='Pico')\n",
      "Row(host_neighbourhood='Mid-Wilshire')\n",
      "Row(host_neighbourhood='Mid-Wilshire')\n",
      "Row(host_neighbourhood=None)\n",
      "Row(host_neighbourhood='Mid-Wilshire')\n",
      "Row(host_neighbourhood='Mid-Wilshire')\n",
      "Row(host_neighbourhood='Mid-Wilshire')\n",
      "Row(host_neighbourhood='Mid-Wilshire')\n",
      "Row(host_neighbourhood='Mid-Wilshire')\n",
      "Row(host_neighbourhood='South LA')\n",
      "Row(host_neighbourhood='Signal Hill')\n",
      "Row(host_neighbourhood='Signal Hill')\n",
      "Row(host_neighbourhood='Silver Lake')\n",
      "Row(host_neighbourhood='Westchester/Playa Del Rey')\n",
      "Row(host_neighbourhood='Whittier')\n",
      "Row(host_neighbourhood='Mid-Wilshire')\n",
      "Row(host_neighbourhood='Mid-Wilshire')\n",
      "Row(host_neighbourhood='Mid-Wilshire')\n",
      "Row(host_neighbourhood='Mid-Wilshire')\n",
      "Row(host_neighbourhood=None)\n",
      "Row(host_neighbourhood='West Hollywood')\n",
      "Row(host_neighbourhood='Topanga')\n",
      "Row(host_neighbourhood='North Campus')\n",
      "Row(host_neighbourhood=None)\n",
      "Row(host_neighbourhood=None)\n",
      "Row(host_neighbourhood=None)\n",
      "Row(host_neighbourhood='West Hollywood')\n",
      "Row(host_neighbourhood='Mid-City')\n",
      "Row(host_neighbourhood='Long Beach')\n",
      "Row(host_neighbourhood='Fairfax')\n",
      "Row(host_neighbourhood='Fairfax')\n",
      "Row(host_neighbourhood='Tarzana')\n",
      "Row(host_neighbourhood='Mid-Wilshire')\n",
      "Row(host_neighbourhood='South Robertson')\n",
      "Row(host_neighbourhood='Culver City')\n",
      "Row(host_neighbourhood='Culver City')\n",
      "Row(host_neighbourhood='Pico - Robertson')\n",
      "Row(host_neighbourhood='Venice')\n",
      "Row(host_neighbourhood='Venice')\n",
      "Row(host_neighbourhood='Malibu')\n",
      "Row(host_neighbourhood='Westchester')\n",
      "Row(host_neighbourhood='Westchester')\n",
      "Row(host_neighbourhood='Westchester')\n",
      "Row(host_neighbourhood='Westchester')\n",
      "Row(host_neighbourhood='Westchester')\n",
      "Row(host_neighbourhood='Westchester')\n",
      "Row(host_neighbourhood='Westchester')\n"
     ]
    }
   ],
   "source": [
    "for row in session.execute(\"SELECT host_neighbourhood FROM airbnb.listings LIMIT 50;\"):\n",
    "    print(row)"
   ]
  },
  {
   "cell_type": "markdown",
   "metadata": {},
   "source": [
    "### Spark Pushdown Filters\n",
    "\n",
    "Spark will work to push down filters to the database to only return the data we need."
   ]
  },
  {
   "cell_type": "code",
   "execution_count": 30,
   "metadata": {},
   "outputs": [
    {
     "data": {
      "text/plain": [
       "[Row(date=datetime.datetime(2022, 7, 20, 0, 0), price=51.0, listing_id=2007610, adjusted_price=51.0, available='t', maximum_nights=1125, minimum_nights=5),\n",
       " Row(date=datetime.datetime(2022, 7, 20, 0, 0), price=51.0, listing_id=3782877, adjusted_price=51.0, available='t', maximum_nights=1125, minimum_nights=2),\n",
       " Row(date=datetime.datetime(2022, 7, 20, 0, 0), price=51.0, listing_id=4129717, adjusted_price=51.0, available='t', maximum_nights=1125, minimum_nights=1),\n",
       " Row(date=datetime.datetime(2022, 7, 20, 0, 0), price=51.0, listing_id=5070776, adjusted_price=51.0, available='t', maximum_nights=1125, minimum_nights=9),\n",
       " Row(date=datetime.datetime(2022, 7, 20, 0, 0), price=51.0, listing_id=7131026, adjusted_price=51.0, available='f', maximum_nights=62, minimum_nights=30)]"
      ]
     },
     "execution_count": 30,
     "metadata": {},
     "output_type": "execute_result"
    }
   ],
   "source": [
    "df2 = spark.read.format(\"org.apache.spark.sql.cassandra\").options(table='calendar',keyspace='airbnb').load()\n",
    "df_with_pushdown = df2.filter(df2[\"price\"] > 50)\n",
    "df_with_pushdown.take(5)"
   ]
  },
  {
   "cell_type": "markdown",
   "metadata": {},
   "source": [
    "## neighbourhoods.geojson"
   ]
  },
  {
   "cell_type": "code",
   "execution_count": 31,
   "metadata": {},
   "outputs": [],
   "source": [
    "!jq --compact-output \".features\" {home}/csc-369-student/data/airbnb/LA/02_November_2021/neighbourhoods.geojson > {home}/output.geojson"
   ]
  },
  {
   "cell_type": "code",
   "execution_count": 34,
   "metadata": {},
   "outputs": [
    {
     "name": "stdout",
     "output_type": "stream",
     "text": [
      "2021-12-03T08:14:59.905-0800\tconnected to: localhost\n",
      "2021-12-03T08:14:59.965-0800\timported 270 documents\n"
     ]
    }
   ],
   "source": [
    "!mongoimport --db \"csc-369\" -c neighbourhoods_geo --file {home}/output.geojson --jsonArray"
   ]
  },
  {
   "cell_type": "code",
   "execution_count": 35,
   "metadata": {},
   "outputs": [],
   "source": [
    "from pymongo import MongoClient\n",
    "client = MongoClient()\n",
    "\n",
    "db = client[\"csc-369\"]\n",
    "\n",
    "col = db[\"neighbourhoods_geo\"]"
   ]
  },
  {
   "cell_type": "code",
   "execution_count": 36,
   "metadata": {},
   "outputs": [
    {
     "name": "stdout",
     "output_type": "stream",
     "text": [
      "{'_id': ObjectId('61a2be5424cd91bbb3894ff0'), 'type': 'Feature', 'geometry': {'type': 'MultiPolygon', 'coordinates': [[[[-118.207034, 34.539023], [-118.189414, 34.538559], [-118.189506, 34.534963], [-118.185162, 34.534773], [-118.185164, 34.531246], [-118.176015, 34.531354], [-118.176189, 34.523803], [-118.167025, 34.523512], [-118.16294, 34.523716], [-118.162988, 34.527586], [-118.154267, 34.527789], [-118.154027, 34.52732], [-118.153655, 34.527429], [-118.150635, 34.52459], [-118.150644, 34.524313], [-118.150334, 34.524307], [-118.148505, 34.522586], [-118.148506, 34.521995], [-118.147866, 34.52197], [-118.142992, 34.517388], [-118.142992, 34.516884], [-118.142442, 34.516859], [-118.13288, 34.507909], [-118.131474, 34.507935], [-118.123438, 34.500307], [-118.122797, 34.498797], [-118.122389, 34.498701], [-118.122692, 34.498368], [-118.122468, 34.497536], [-118.122742, 34.49722], [-118.122089, 34.496825], [-118.122098, 34.496531], [-118.120985, 34.49508], [-118.07974, 34.495369], [-118.07963, 34.473521], [-118.09667, 34.473482], [-118.096721, 34.480757], [-118.118501, 34.48063], [-118.118412, 34.477018], [-118.118208, 34.477029], [-118.117841, 34.476393], [-118.118648, 34.476393], [-118.118707, 34.466196], [-118.132618, 34.46641], [-118.148617, 34.466259], [-118.149116, 34.451954], [-118.154431, 34.451935], [-118.184744, 34.4537], [-118.184687, 34.455689], [-118.199295, 34.455879], [-118.206285, 34.456131], [-118.206625, 34.462882], [-118.207806, 34.462865], [-118.207846, 34.463492], [-118.208006, 34.463674], [-118.207992, 34.466057], [-118.21967, 34.465697], [-118.21965, 34.462676], [-118.237018, 34.46341], [-118.236997, 34.467388], [-118.245306, 34.467315], [-118.245037, 34.478058], [-118.246047, 34.478086], [-118.246014, 34.481722], [-118.257722, 34.481838], [-118.2599, 34.495885], [-118.255525, 34.495911], [-118.255686, 34.519886], [-118.255505, 34.539293], [-118.237883, 34.538948], [-118.220247, 34.53909], [-118.220182, 34.542752], [-118.213289, 34.542733], [-118.206984, 34.542696], [-118.207034, 34.539023]]]]}, 'properties': {'neighbourhood': 'Acton', 'neighbourhood_group': 'Unincorporated Areas'}}\n",
      "{'_id': ObjectId('61a2be5424cd91bbb3894ff1'), 'type': 'Feature', 'geometry': {'type': 'MultiPolygon', 'coordinates': [[[[-118.378224, 34.488109], [-118.378315, 34.487946], [-118.378942, 34.4881], [-118.378503, 34.488422], [-118.378121, 34.488259], [-118.378224, 34.488109]]], [[[-118.254677, 34.558304], [-118.25551, 34.539], [-118.255686, 34.519886], [-118.255633, 34.501779], [-118.257825, 34.4998], [-118.259146, 34.498982], [-118.261198, 34.498284], [-118.271377, 34.496848], [-118.276484, 34.494923], [-118.284033, 34.491752], [-118.285211, 34.490817], [-118.286071, 34.489656], [-118.286594, 34.488098], [-118.286792, 34.48485], [-118.287265, 34.483556], [-118.288661, 34.481888], [-118.289942, 34.481032], [-118.29184, 34.480392], [-118.295325, 34.479987], [-118.297301, 34.479593], [-118.299135, 34.478816], [-118.310784, 34.473046], [-118.312518, 34.472465], [-118.317409, 34.471567], [-118.319144, 34.470637], [-118.322519, 34.467991], [-118.324571, 34.467012], [-118.325706, 34.466698], [-118.329571, 34.466237], [-118.334798, 34.466239], [-118.329713, 34.466516], [-118.329813, 34.466712], [-118.336795, 34.466273], [-118.338915, 34.465803], [-118.340162, 34.465205], [-118.34152, 34.464025], [-118.342103, 34.463278], [-118.343297, 34.4611], [-118.343226, 34.467366], [-118.357098, 34.467406], [-118.360024, 34.467173], [-118.378982, 34.467259], [-118.377713, 34.479232], [-118.378463, 34.479316], [-118.378621, 34.479489], [-118.378405, 34.479786], [-118.377765, 34.479966], [-118.378049, 34.480182], [-118.378037, 34.480963], [-118.377512, 34.481201], [-118.377994, 34.48899], [-118.377554, 34.490025], [-118.377547, 34.490906], [-118.377181, 34.49202], [-118.377295, 34.492467], [-118.377127, 34.492894], [-118.375517, 34.494858], [-118.374747, 34.495404], [-118.373587, 34.495644], [-118.373144, 34.496041], [-118.37261, 34.496217], [-118.371756, 34.496052], [-118.371321, 34.496228], [-118.370741, 34.496083], [-118.370127, 34.496387], [-118.361504, 34.49658], [-118.361593, 34.50988], [-118.361816, 34.510156], [-118.361838, 34.511244], [-118.36168, 34.511858], [-118.361768, 34.521061], [-118.361651, 34.525685], [-118.344068, 34.525656], [-118.343268, 34.539916], [-118.325832, 34.540183], [-118.308311, 34.540236], [-118.306965, 34.558303], [-118.274302, 34.558093], [-118.274394, 34.558275], [-118.254677, 34.558304]]]]}, 'properties': {'neighbourhood': 'Agua Dulce', 'neighbourhood_group': 'Unincorporated Areas'}}\n",
      "{'_id': ObjectId('61a2be5424cd91bbb3894ff2'), 'type': 'Feature', 'geometry': {'type': 'MultiPolygon', 'coordinates': [[[[-118.291525, 33.930962], [-118.291607, 33.916422], [-118.313913, 33.916452], [-118.313982, 33.918361], [-118.315333, 33.918536], [-118.31681, 33.917679], [-118.317787, 33.917683], [-118.317769, 33.921606], [-118.313391, 33.92341], [-118.313392, 33.930912], [-118.291525, 33.930962]]]]}, 'properties': {'neighbourhood': 'Athens', 'neighbourhood_group': 'Unincorporated Areas'}}\n",
      "{'_id': ObjectId('61a2be5424cd91bbb3894ff3'), 'type': 'Feature', 'geometry': {'type': 'MultiPolygon', 'coordinates': [[[[-118.326513, 33.897572], [-118.326492, 33.882916], [-118.343775, 33.877302], [-118.343821, 33.893392], [-118.342324, 33.893402], [-118.342308, 33.894658], [-118.335174, 33.894663], [-118.335178, 33.898287], [-118.333, 33.89829], [-118.333012, 33.897337], [-118.331577, 33.897338], [-118.326492, 33.901811], [-118.326513, 33.897572]]]]}, 'properties': {'neighbourhood': 'Alondra Park', 'neighbourhood_group': 'Unincorporated Areas'}}\n",
      "{'_id': ObjectId('61a2be5424cd91bbb3894ff4'), 'type': 'Feature', 'geometry': {'type': 'MultiPolygon', 'coordinates': [[[[-118.256436, 33.989498], [-118.239021, 33.989403], [-118.238954, 33.977176], [-118.23765, 33.977166], [-118.237632, 33.974738], [-118.230233, 33.974745], [-118.230276, 33.961994], [-118.229366, 33.961248], [-118.231485, 33.960938], [-118.227476, 33.943091], [-118.229497, 33.9431], [-118.230165, 33.945648], [-118.234823, 33.945569], [-118.234855, 33.947132], [-118.230631, 33.947234], [-118.230622, 33.948278], [-118.234026, 33.948243], [-118.233995, 33.953264], [-118.244219, 33.95326], [-118.24421, 33.95427], [-118.24745, 33.954257], [-118.247485, 33.953358], [-118.248839, 33.953358], [-118.249138, 33.943273], [-118.25364, 33.943277], [-118.253533, 33.95126], [-118.253985, 33.951256], [-118.2541, 33.951032], [-118.25593, 33.95306], [-118.255899, 33.960169], [-118.256393, 33.960171], [-118.256436, 33.989498]]]]}, 'properties': {'neighbourhood': 'Florence-Firestone', 'neighbourhood_group': 'Unincorporated Areas'}}\n"
     ]
    }
   ],
   "source": [
    "for record in col.find().limit(5):\n",
    "    print(record)"
   ]
  },
  {
   "cell_type": "code",
   "execution_count": 37,
   "metadata": {},
   "outputs": [],
   "source": [
    "df = spark.read.format(\"com.mongodb.spark.sql.DefaultSource\").load()"
   ]
  },
  {
   "cell_type": "code",
   "execution_count": 38,
   "metadata": {},
   "outputs": [
    {
     "data": {
      "text/plain": [
       "[Row(_id=Row(oid='61a2be5424cd91bbb3894ff0'), geometry=Row(type='MultiPolygon', coordinates=[[[[-118.207034, 34.539023], [-118.189414, 34.538559], [-118.189506, 34.534963], [-118.185162, 34.534773], [-118.185164, 34.531246], [-118.176015, 34.531354], [-118.176189, 34.523803], [-118.167025, 34.523512], [-118.16294, 34.523716], [-118.162988, 34.527586], [-118.154267, 34.527789], [-118.154027, 34.52732], [-118.153655, 34.527429], [-118.150635, 34.52459], [-118.150644, 34.524313], [-118.150334, 34.524307], [-118.148505, 34.522586], [-118.148506, 34.521995], [-118.147866, 34.52197], [-118.142992, 34.517388], [-118.142992, 34.516884], [-118.142442, 34.516859], [-118.13288, 34.507909], [-118.131474, 34.507935], [-118.123438, 34.500307], [-118.122797, 34.498797], [-118.122389, 34.498701], [-118.122692, 34.498368], [-118.122468, 34.497536], [-118.122742, 34.49722], [-118.122089, 34.496825], [-118.122098, 34.496531], [-118.120985, 34.49508], [-118.07974, 34.495369], [-118.07963, 34.473521], [-118.09667, 34.473482], [-118.096721, 34.480757], [-118.118501, 34.48063], [-118.118412, 34.477018], [-118.118208, 34.477029], [-118.117841, 34.476393], [-118.118648, 34.476393], [-118.118707, 34.466196], [-118.132618, 34.46641], [-118.148617, 34.466259], [-118.149116, 34.451954], [-118.154431, 34.451935], [-118.184744, 34.4537], [-118.184687, 34.455689], [-118.199295, 34.455879], [-118.206285, 34.456131], [-118.206625, 34.462882], [-118.207806, 34.462865], [-118.207846, 34.463492], [-118.208006, 34.463674], [-118.207992, 34.466057], [-118.21967, 34.465697], [-118.21965, 34.462676], [-118.237018, 34.46341], [-118.236997, 34.467388], [-118.245306, 34.467315], [-118.245037, 34.478058], [-118.246047, 34.478086], [-118.246014, 34.481722], [-118.257722, 34.481838], [-118.2599, 34.495885], [-118.255525, 34.495911], [-118.255686, 34.519886], [-118.255505, 34.539293], [-118.237883, 34.538948], [-118.220247, 34.53909], [-118.220182, 34.542752], [-118.213289, 34.542733], [-118.206984, 34.542696], [-118.207034, 34.539023]]]]), properties=Row(neighbourhood='Acton', neighbourhood_group='Unincorporated Areas'), type='Feature'),\n",
       " Row(_id=Row(oid='61a2be5424cd91bbb3894ff1'), geometry=Row(type='MultiPolygon', coordinates=[[[[-118.378224, 34.488109], [-118.378315, 34.487946], [-118.378942, 34.4881], [-118.378503, 34.488422], [-118.378121, 34.488259], [-118.378224, 34.488109]]], [[[-118.254677, 34.558304], [-118.25551, 34.539], [-118.255686, 34.519886], [-118.255633, 34.501779], [-118.257825, 34.4998], [-118.259146, 34.498982], [-118.261198, 34.498284], [-118.271377, 34.496848], [-118.276484, 34.494923], [-118.284033, 34.491752], [-118.285211, 34.490817], [-118.286071, 34.489656], [-118.286594, 34.488098], [-118.286792, 34.48485], [-118.287265, 34.483556], [-118.288661, 34.481888], [-118.289942, 34.481032], [-118.29184, 34.480392], [-118.295325, 34.479987], [-118.297301, 34.479593], [-118.299135, 34.478816], [-118.310784, 34.473046], [-118.312518, 34.472465], [-118.317409, 34.471567], [-118.319144, 34.470637], [-118.322519, 34.467991], [-118.324571, 34.467012], [-118.325706, 34.466698], [-118.329571, 34.466237], [-118.334798, 34.466239], [-118.329713, 34.466516], [-118.329813, 34.466712], [-118.336795, 34.466273], [-118.338915, 34.465803], [-118.340162, 34.465205], [-118.34152, 34.464025], [-118.342103, 34.463278], [-118.343297, 34.4611], [-118.343226, 34.467366], [-118.357098, 34.467406], [-118.360024, 34.467173], [-118.378982, 34.467259], [-118.377713, 34.479232], [-118.378463, 34.479316], [-118.378621, 34.479489], [-118.378405, 34.479786], [-118.377765, 34.479966], [-118.378049, 34.480182], [-118.378037, 34.480963], [-118.377512, 34.481201], [-118.377994, 34.48899], [-118.377554, 34.490025], [-118.377547, 34.490906], [-118.377181, 34.49202], [-118.377295, 34.492467], [-118.377127, 34.492894], [-118.375517, 34.494858], [-118.374747, 34.495404], [-118.373587, 34.495644], [-118.373144, 34.496041], [-118.37261, 34.496217], [-118.371756, 34.496052], [-118.371321, 34.496228], [-118.370741, 34.496083], [-118.370127, 34.496387], [-118.361504, 34.49658], [-118.361593, 34.50988], [-118.361816, 34.510156], [-118.361838, 34.511244], [-118.36168, 34.511858], [-118.361768, 34.521061], [-118.361651, 34.525685], [-118.344068, 34.525656], [-118.343268, 34.539916], [-118.325832, 34.540183], [-118.308311, 34.540236], [-118.306965, 34.558303], [-118.274302, 34.558093], [-118.274394, 34.558275], [-118.254677, 34.558304]]]]), properties=Row(neighbourhood='Agua Dulce', neighbourhood_group='Unincorporated Areas'), type='Feature'),\n",
       " Row(_id=Row(oid='61a2be5424cd91bbb3894ff2'), geometry=Row(type='MultiPolygon', coordinates=[[[[-118.291525, 33.930962], [-118.291607, 33.916422], [-118.313913, 33.916452], [-118.313982, 33.918361], [-118.315333, 33.918536], [-118.31681, 33.917679], [-118.317787, 33.917683], [-118.317769, 33.921606], [-118.313391, 33.92341], [-118.313392, 33.930912], [-118.291525, 33.930962]]]]), properties=Row(neighbourhood='Athens', neighbourhood_group='Unincorporated Areas'), type='Feature'),\n",
       " Row(_id=Row(oid='61a2be5424cd91bbb3894ff3'), geometry=Row(type='MultiPolygon', coordinates=[[[[-118.326513, 33.897572], [-118.326492, 33.882916], [-118.343775, 33.877302], [-118.343821, 33.893392], [-118.342324, 33.893402], [-118.342308, 33.894658], [-118.335174, 33.894663], [-118.335178, 33.898287], [-118.333, 33.89829], [-118.333012, 33.897337], [-118.331577, 33.897338], [-118.326492, 33.901811], [-118.326513, 33.897572]]]]), properties=Row(neighbourhood='Alondra Park', neighbourhood_group='Unincorporated Areas'), type='Feature'),\n",
       " Row(_id=Row(oid='61a2be5424cd91bbb3894ff4'), geometry=Row(type='MultiPolygon', coordinates=[[[[-118.256436, 33.989498], [-118.239021, 33.989403], [-118.238954, 33.977176], [-118.23765, 33.977166], [-118.237632, 33.974738], [-118.230233, 33.974745], [-118.230276, 33.961994], [-118.229366, 33.961248], [-118.231485, 33.960938], [-118.227476, 33.943091], [-118.229497, 33.9431], [-118.230165, 33.945648], [-118.234823, 33.945569], [-118.234855, 33.947132], [-118.230631, 33.947234], [-118.230622, 33.948278], [-118.234026, 33.948243], [-118.233995, 33.953264], [-118.244219, 33.95326], [-118.24421, 33.95427], [-118.24745, 33.954257], [-118.247485, 33.953358], [-118.248839, 33.953358], [-118.249138, 33.943273], [-118.25364, 33.943277], [-118.253533, 33.95126], [-118.253985, 33.951256], [-118.2541, 33.951032], [-118.25593, 33.95306], [-118.255899, 33.960169], [-118.256393, 33.960171], [-118.256436, 33.989498]]]]), properties=Row(neighbourhood='Florence-Firestone', neighbourhood_group='Unincorporated Areas'), type='Feature')]"
      ]
     },
     "execution_count": 38,
     "metadata": {},
     "output_type": "execute_result"
    }
   ],
   "source": [
    "df.take(5)"
   ]
  },
  {
   "cell_type": "markdown",
   "metadata": {},
   "source": [
    "### Viewing prices over time for each neighborhood"
   ]
  },
  {
   "cell_type": "code",
   "execution_count": 39,
   "metadata": {},
   "outputs": [
    {
     "data": {
      "text/plain": [
       "Row(date=datetime.datetime(2022, 10, 11, 0, 0), price=51.0, listing_id=5728, adjusted_price=51.0, available='f', maximum_nights=1125, minimum_nights=30)"
      ]
     },
     "execution_count": 39,
     "metadata": {},
     "output_type": "execute_result"
    }
   ],
   "source": [
    "df2 = spark.read.format(\"org.apache.spark.sql.cassandra\").options(table='calendar',keyspace='airbnb').load()\n",
    "df2_with_pushdown = df2.filter(df2[\"price\"] > 50)\n",
    "df2_with_pushdown.head()"
   ]
  },
  {
   "cell_type": "code",
   "execution_count": 40,
   "metadata": {},
   "outputs": [
    {
     "data": {
      "text/plain": [
       "Row(host_id=52276423, id=10179859, bedrooms=1, description='Beautiful and luxury high rise in the heart of West Los Angeles. Condo with partial ocean views, Olympic pool, tennis and gym. Only 10min away from Santa Monica beach and 5min from UCLA. Many shops and restaurants within walk-in distance.<br /><br /><b>Other things to note</b><br />Home theatre system with 65\" Samsung curved Ultra High Definition smart TV. Netflix and premium channels.', host_neighbourhood='West Los Angeles', name='High Rise ocean view in West LA', neighbourhood_group_cleansed='City of Los Angeles')"
      ]
     },
     "execution_count": 40,
     "metadata": {},
     "output_type": "execute_result"
    }
   ],
   "source": [
    "df3 = spark.read.format(\"org.apache.spark.sql.cassandra\").options(table='listings',keyspace='airbnb').load()\n",
    "df3_with_pushdown = df3.filter(\"host_neighbourhood is not null\")\n",
    "df3_with_pushdown.head()"
   ]
  },
  {
   "cell_type": "code",
   "execution_count": 41,
   "metadata": {},
   "outputs": [
    {
     "data": {
      "text/plain": [
       "[Row(date=datetime.datetime(2022, 7, 20, 0, 0), price=66.0, listing_id=1375509, adjusted_price=66.0, available='f', maximum_nights=1125, minimum_nights=30, host_id=6602626, id=1375509, bedrooms=1, description=\"<b>The space</b><br />A private and cozy home. Queen size bed with own PRIVATE BATHROOM, Clean linens and towels as well as complimentary soap and shampoo. Free WiFi and street parking. You are welcome to leave your luggage in case you arrive early or leave late. <br /><br />From LAX, you can take the Flyaway to the Union Station for $9. From Union Station take the gold line train to Pico Aliso Station and the house is 3 minutes away from the station.  Less than a mile from the 5 freeway, 10 freeway, 60 freeway, 101 freeway, and the 710 freeway.<br /><br />A mile away to Starbucks, Yogurtland, Wurstkuche, Pie Hole, Zip Fusion Sushi, Nola's New Orleans, District Korean BBQ, Woori Korean Market, Urth Cafe, Daikokuya Ramen House, Sushi-Gen, Mikawaya Mochi Ice Cream Store, Phillipe's French Dip, Olvera Street, Gill's Indian Cuisine, Weiland Brewery and Restaurant in Little Tokyo. <br /><br />Places to see around are The Japanese American National Museum, Japanese Village, The Art and Fashi\", host_neighbourhood='Boyle Heights', name='Room close to White Memorial Memorial and Mariachi', neighbourhood_group_cleansed='City of Los Angeles'),\n",
       " Row(date=datetime.datetime(2022, 3, 7, 0, 0), price=66.0, listing_id=1375509, adjusted_price=66.0, available='f', maximum_nights=1125, minimum_nights=30, host_id=6602626, id=1375509, bedrooms=1, description=\"<b>The space</b><br />A private and cozy home. Queen size bed with own PRIVATE BATHROOM, Clean linens and towels as well as complimentary soap and shampoo. Free WiFi and street parking. You are welcome to leave your luggage in case you arrive early or leave late. <br /><br />From LAX, you can take the Flyaway to the Union Station for $9. From Union Station take the gold line train to Pico Aliso Station and the house is 3 minutes away from the station.  Less than a mile from the 5 freeway, 10 freeway, 60 freeway, 101 freeway, and the 710 freeway.<br /><br />A mile away to Starbucks, Yogurtland, Wurstkuche, Pie Hole, Zip Fusion Sushi, Nola's New Orleans, District Korean BBQ, Woori Korean Market, Urth Cafe, Daikokuya Ramen House, Sushi-Gen, Mikawaya Mochi Ice Cream Store, Phillipe's French Dip, Olvera Street, Gill's Indian Cuisine, Weiland Brewery and Restaurant in Little Tokyo. <br /><br />Places to see around are The Japanese American National Museum, Japanese Village, The Art and Fashi\", host_neighbourhood='Boyle Heights', name='Room close to White Memorial Memorial and Mariachi', neighbourhood_group_cleansed='City of Los Angeles'),\n",
       " Row(date=datetime.datetime(2021, 11, 16, 0, 0), price=65.0, listing_id=1375509, adjusted_price=65.0, available='f', maximum_nights=1125, minimum_nights=30, host_id=6602626, id=1375509, bedrooms=1, description=\"<b>The space</b><br />A private and cozy home. Queen size bed with own PRIVATE BATHROOM, Clean linens and towels as well as complimentary soap and shampoo. Free WiFi and street parking. You are welcome to leave your luggage in case you arrive early or leave late. <br /><br />From LAX, you can take the Flyaway to the Union Station for $9. From Union Station take the gold line train to Pico Aliso Station and the house is 3 minutes away from the station.  Less than a mile from the 5 freeway, 10 freeway, 60 freeway, 101 freeway, and the 710 freeway.<br /><br />A mile away to Starbucks, Yogurtland, Wurstkuche, Pie Hole, Zip Fusion Sushi, Nola's New Orleans, District Korean BBQ, Woori Korean Market, Urth Cafe, Daikokuya Ramen House, Sushi-Gen, Mikawaya Mochi Ice Cream Store, Phillipe's French Dip, Olvera Street, Gill's Indian Cuisine, Weiland Brewery and Restaurant in Little Tokyo. <br /><br />Places to see around are The Japanese American National Museum, Japanese Village, The Art and Fashi\", host_neighbourhood='Boyle Heights', name='Room close to White Memorial Memorial and Mariachi', neighbourhood_group_cleansed='City of Los Angeles'),\n",
       " Row(date=datetime.datetime(2022, 1, 28, 0, 0), price=65.0, listing_id=1375509, adjusted_price=65.0, available='f', maximum_nights=1125, minimum_nights=30, host_id=6602626, id=1375509, bedrooms=1, description=\"<b>The space</b><br />A private and cozy home. Queen size bed with own PRIVATE BATHROOM, Clean linens and towels as well as complimentary soap and shampoo. Free WiFi and street parking. You are welcome to leave your luggage in case you arrive early or leave late. <br /><br />From LAX, you can take the Flyaway to the Union Station for $9. From Union Station take the gold line train to Pico Aliso Station and the house is 3 minutes away from the station.  Less than a mile from the 5 freeway, 10 freeway, 60 freeway, 101 freeway, and the 710 freeway.<br /><br />A mile away to Starbucks, Yogurtland, Wurstkuche, Pie Hole, Zip Fusion Sushi, Nola's New Orleans, District Korean BBQ, Woori Korean Market, Urth Cafe, Daikokuya Ramen House, Sushi-Gen, Mikawaya Mochi Ice Cream Store, Phillipe's French Dip, Olvera Street, Gill's Indian Cuisine, Weiland Brewery and Restaurant in Little Tokyo. <br /><br />Places to see around are The Japanese American National Museum, Japanese Village, The Art and Fashi\", host_neighbourhood='Boyle Heights', name='Room close to White Memorial Memorial and Mariachi', neighbourhood_group_cleansed='City of Los Angeles'),\n",
       " Row(date=datetime.datetime(2022, 5, 9, 0, 0), price=66.0, listing_id=1375509, adjusted_price=66.0, available='f', maximum_nights=1125, minimum_nights=30, host_id=6602626, id=1375509, bedrooms=1, description=\"<b>The space</b><br />A private and cozy home. Queen size bed with own PRIVATE BATHROOM, Clean linens and towels as well as complimentary soap and shampoo. Free WiFi and street parking. You are welcome to leave your luggage in case you arrive early or leave late. <br /><br />From LAX, you can take the Flyaway to the Union Station for $9. From Union Station take the gold line train to Pico Aliso Station and the house is 3 minutes away from the station.  Less than a mile from the 5 freeway, 10 freeway, 60 freeway, 101 freeway, and the 710 freeway.<br /><br />A mile away to Starbucks, Yogurtland, Wurstkuche, Pie Hole, Zip Fusion Sushi, Nola's New Orleans, District Korean BBQ, Woori Korean Market, Urth Cafe, Daikokuya Ramen House, Sushi-Gen, Mikawaya Mochi Ice Cream Store, Phillipe's French Dip, Olvera Street, Gill's Indian Cuisine, Weiland Brewery and Restaurant in Little Tokyo. <br /><br />Places to see around are The Japanese American National Museum, Japanese Village, The Art and Fashi\", host_neighbourhood='Boyle Heights', name='Room close to White Memorial Memorial and Mariachi', neighbourhood_group_cleansed='City of Los Angeles')]"
      ]
     },
     "execution_count": 41,
     "metadata": {},
     "output_type": "execute_result"
    }
   ],
   "source": [
    "df4 = df2_with_pushdown.join(df3_with_pushdown,df2_with_pushdown[\"listing_id\"] ==  df3_with_pushdown[\"id\"],\"inner\")\n",
    "df4.take(5)"
   ]
  },
  {
   "cell_type": "code",
   "execution_count": 42,
   "metadata": {},
   "outputs": [
    {
     "name": "stdout",
     "output_type": "stream",
     "text": [
      "+--------------------+------+\n",
      "|  host_neighbourhood| count|\n",
      "+--------------------+------+\n",
      "|      West Vancouver|   365|\n",
      "|           Mar Vista|104120|\n",
      "|     Rose Park South|  2190|\n",
      "|North Alamitos Beach|  7289|\n",
      "|           HollyGlen|   730|\n",
      "|    Westover Estates|   365|\n",
      "|             Truckee|   730|\n",
      "|       Magnolia Park|   730|\n",
      "|          Sagepointe|   730|\n",
      "| Calabasas Highlands|   365|\n",
      "|          West Hills| 15069|\n",
      "| West Loop/Greektown|   973|\n",
      "|        West Gateway|  1095|\n",
      "|             Ipanema|   365|\n",
      "|           Hollywood|381820|\n",
      "|       Glassell Park| 14235|\n",
      "|         Malaga Cove|  2873|\n",
      "|          Menlo Park|   365|\n",
      "|    Pico - Robertson| 22266|\n",
      "|              Harbor|  2190|\n",
      "+--------------------+------+\n",
      "only showing top 20 rows\n",
      "\n"
     ]
    }
   ],
   "source": [
    "df4.groupBy(\"host_neighbourhood\").count().show()"
   ]
  },
  {
   "cell_type": "code",
   "execution_count": 43,
   "metadata": {},
   "outputs": [
    {
     "name": "stdout",
     "output_type": "stream",
     "text": [
      "+--------------------+-------------------+\n",
      "|  host_neighbourhood|avg(adjusted_price)|\n",
      "+--------------------+-------------------+\n",
      "|      West Vancouver|  302.8493150684931|\n",
      "|           Mar Vista| 201.91054552439493|\n",
      "|     Rose Park South| 205.74474885844748|\n",
      "|North Alamitos Beach|  175.0854712580601|\n",
      "|           HollyGlen|              174.5|\n",
      "|    Westover Estates|  120.6986301369863|\n",
      "|             Truckee|              295.0|\n",
      "|       Magnolia Park|  92.67260273972603|\n",
      "|          Sagepointe|  200.7972602739726|\n",
      "| Calabasas Highlands|              179.0|\n",
      "|          West Hills| 182.89521534275664|\n",
      "| West Loop/Greektown|   684.726618705036|\n",
      "|        West Gateway| 156.12328767123287|\n",
      "|             Ipanema|  221.4054794520548|\n",
      "|           Hollywood| 150.64238384579122|\n",
      "|       Glassell Park| 133.84931506849315|\n",
      "|         Malaga Cove|  354.7977723633832|\n",
      "|          Menlo Park|              395.0|\n",
      "|    Pico - Robertson|  179.5206143896524|\n",
      "|              Harbor|  154.6200913242009|\n",
      "+--------------------+-------------------+\n",
      "only showing top 20 rows\n",
      "\n"
     ]
    }
   ],
   "source": [
    "df4.groupBy(\"host_neighbourhood\").avg(\"adjusted_price\").show()"
   ]
  },
  {
   "cell_type": "code",
   "execution_count": 44,
   "metadata": {},
   "outputs": [
    {
     "name": "stdout",
     "output_type": "stream",
     "text": [
      "+--------------------+------+--------------------+-------------------+\n",
      "|  host_neighbourhood| count|  host_neighbourhood|avg(adjusted_price)|\n",
      "+--------------------+------+--------------------+-------------------+\n",
      "|      West Vancouver|   365|      West Vancouver|  302.8493150684931|\n",
      "|           HollyGlen|   730|           HollyGlen|              174.5|\n",
      "|           Mar Vista|104120|           Mar Vista| 201.91054552439493|\n",
      "|North Alamitos Beach|  7289|North Alamitos Beach|  175.0854712580601|\n",
      "|     Rose Park South|  2190|     Rose Park South| 205.74474885844748|\n",
      "|             Truckee|   730|             Truckee|              295.0|\n",
      "|    Westover Estates|   365|    Westover Estates|  120.6986301369863|\n",
      "| Calabasas Highlands|   365| Calabasas Highlands|              179.0|\n",
      "|       Magnolia Park|   730|       Magnolia Park|  92.67260273972603|\n",
      "|          Sagepointe|   730|          Sagepointe|  200.7972602739726|\n",
      "|             Ipanema|   365|             Ipanema|  221.4054794520548|\n",
      "|        West Gateway|  1095|        West Gateway| 156.12328767123287|\n",
      "|          West Hills| 15069|          West Hills| 182.89521534275664|\n",
      "| West Loop/Greektown|   973| West Loop/Greektown|   684.726618705036|\n",
      "|       Glassell Park| 14235|       Glassell Park| 133.84931506849315|\n",
      "|           Hollywood|381820|           Hollywood| 150.64238384579122|\n",
      "|         Malaga Cove|  2873|         Malaga Cove|  354.7977723633832|\n",
      "|          Menlo Park|   365|          Menlo Park|              395.0|\n",
      "|              Harbor|  2190|              Harbor|  154.6200913242009|\n",
      "|             Maywood|  1095|             Maywood|  166.6255707762557|\n",
      "+--------------------+------+--------------------+-------------------+\n",
      "only showing top 20 rows\n",
      "\n"
     ]
    }
   ],
   "source": [
    "df5 = df4.groupBy(\"host_neighbourhood\").count()\n",
    "df6 = df4.groupBy(\"host_neighbourhood\").avg(\"adjusted_price\")\n",
    "df5.join(df6,df5['host_neighbourhood'] == df6['host_neighbourhood']).show()"
   ]
  },
  {
   "cell_type": "code",
   "execution_count": null,
   "metadata": {},
   "outputs": [],
   "source": []
  },
  {
   "cell_type": "code",
   "execution_count": null,
   "metadata": {},
   "outputs": [],
   "source": []
  }
 ],
 "metadata": {
  "celltoolbar": "Slideshow",
  "hide_code_all_hidden": false,
  "jupytext": {
   "encoding": "# -*- coding: utf-8 -*-",
   "formats": "ipynb,md,py"
  },
  "kernelspec": {
   "display_name": "Python 3",
   "language": "python",
   "name": "python3"
  },
  "language_info": {
   "codemirror_mode": {
    "name": "ipython",
    "version": 3
   },
   "file_extension": ".py",
   "mimetype": "text/x-python",
   "name": "python",
   "nbconvert_exporter": "python",
   "pygments_lexer": "ipython3",
   "version": "3.7.3"
  }
 },
 "nbformat": 4,
 "nbformat_minor": 4
}
