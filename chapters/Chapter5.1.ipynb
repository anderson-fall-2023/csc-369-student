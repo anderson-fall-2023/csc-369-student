{
 "cells": [
  {
   "cell_type": "markdown",
   "metadata": {
    "hideCode": false,
    "hidePrompt": false,
    "slideshow": {
     "slide_type": "slide"
    }
   },
   "source": [
    "# Chapter 5 - What was wrong with Hadoop (take 2)?\n",
    "\n",
    "## Spark RDDs and complex multi-pass algorithms\n",
    "\n",
    "Paul E. Anderson"
   ]
  },
  {
   "cell_type": "markdown",
   "metadata": {
    "slideshow": {
     "slide_type": "subslide"
    }
   },
   "source": [
    "## Ice Breaker\n",
    "\n",
    "Who is the most famous celebrity you've ever met or seen?"
   ]
  },
  {
   "cell_type": "markdown",
   "metadata": {
    "slideshow": {
     "slide_type": "subslide"
    }
   },
   "source": [
    "While this text can be viewed as PDF, it is most useful to have a Jupyter environment. I have an environment ready for each of you, but you can get your own local environment going in several ways. One popular way is with Anaconda (<a href=\"https://www.anaconda.com/\">https://www.anaconda.com/</a>. Because of the limited time, you can use my server."
   ]
  },
  {
   "cell_type": "markdown",
   "metadata": {
    "slideshow": {
     "slide_type": "slide"
    }
   },
   "source": [
    "## Hadoop's Greatness\n",
    "* Hadoop really shined for batch processing\n",
    "* It quickly leads to frustration once users need to do more such as complex, multipass algorithms, interactive processing and queires, and real-time stream processing\n",
    "\n",
    "So what did the community do?"
   ]
  },
  {
   "cell_type": "markdown",
   "metadata": {
    "slideshow": {
     "slide_type": "subslide"
    }
   },
   "source": [
    "We create more technology:\n",
    "* Pregel, Drill, Presto, Storm, Impala, ...\n",
    "\n",
    "These have a lot of advantages, but the more systems to tune, manage, and deploy the more the complexity increases. \n",
    "\n",
    "But on top of the complexity, data exchange between technologies is the dominant cost in most applications."
   ]
  },
  {
   "cell_type": "markdown",
   "metadata": {
    "slideshow": {
     "slide_type": "subslide"
    }
   },
   "source": [
    "So we need a generic and efficient infrastructure solution. We've talked about one popular alternative, Spark, which is now an Apache top level project."
   ]
  },
  {
   "cell_type": "markdown",
   "metadata": {
    "slideshow": {
     "slide_type": "subslide"
    }
   },
   "source": [
    "### But what's wrong with Hadoop?\n",
    "<img src=\"https://qph.fs.quoracdn.net/main-qimg-dddb2a8c5f004e3c1b981a10f62221df\" width=800>"
   ]
  },
  {
   "cell_type": "markdown",
   "metadata": {
    "slideshow": {
     "slide_type": "subslide"
    }
   },
   "source": [
    "### Why is this possible now?\n",
    "* RAM is getting much cheaper\n",
    "* Commodity machines can have GBs of RAM (your own laptop!)"
   ]
  },
  {
   "cell_type": "markdown",
   "metadata": {
    "slideshow": {
     "slide_type": "slide"
    }
   },
   "source": [
    "## Spark Architecture\n",
    "<img src=\"https://intellipaat.com/mediaFiles/2017/02/Spark-Arch.jpg\">"
   ]
  },
  {
   "cell_type": "markdown",
   "metadata": {
    "slideshow": {
     "slide_type": "subslide"
    }
   },
   "source": [
    "### Spark Context\n",
    "* Get the current status of spark application\n",
    "* Set configurations\n",
    "* Access various services\n",
    "* Cancel a job\n",
    "* Cancel a stage\n",
    "* Closure cleaning\n",
    "* Register Spark-Listener\n",
    "* Programmable Dynamic allocation\n",
    "* **Access persistent RDD**"
   ]
  },
  {
   "cell_type": "markdown",
   "metadata": {
    "slideshow": {
     "slide_type": "subslide"
    }
   },
   "source": [
    "<img src=\"https://abhishekbaranwal10.files.wordpress.com/2018/09/introduction-to-apache-spark-20-12-638.jpg\">"
   ]
  },
  {
   "cell_type": "markdown",
   "metadata": {
    "slideshow": {
     "slide_type": "subslide"
    }
   },
   "source": [
    "<img src=\"https://image.slidesharecdn.com/6-150108024847-conversion-gate02/95/scala-and-spark-10-638.jpg?cb=1420685361\" width=1000>"
   ]
  },
  {
   "cell_type": "markdown",
   "metadata": {
    "slideshow": {
     "slide_type": "slide"
    }
   },
   "source": [
    "## Spark Programming Core API\n",
    "* High-level coding built in high level language (e.g., Scala, Python)\n",
    "* Spark is written in Scala making Scala the default language\n",
    "* Code is compiled to distributed parallel operations\n",
    "* Two main abstractions in the Core API\n",
    "    * RDDs: Resilient Distributed Datasets\n",
    "    * Parallel Operations"
   ]
  },
  {
   "cell_type": "markdown",
   "metadata": {
    "slideshow": {
     "slide_type": "subslide"
    }
   },
   "source": [
    "### RDDs\n",
    "* Collection of objects that act as a unit\n",
    "* Stored in main memory or on disk\n",
    "* Parallel operations are built on top of them\n",
    "* **Have fault tolerance without replication**\n",
    "* **Fault tolerance is lineage based**"
   ]
  },
  {
   "cell_type": "markdown",
   "metadata": {
    "slideshow": {
     "slide_type": "subslide"
    }
   },
   "source": [
    "Two big but easy to blow by details:\n",
    "* RDDs are read-only\n",
    "    * Wait... what how can we do anything?\n",
    "* Distributed in main memory or disk\n",
    "    * Automatically decided"
   ]
  },
  {
   "cell_type": "markdown",
   "metadata": {
    "slideshow": {
     "slide_type": "subslide"
    }
   },
   "source": [
    "<img src=\"https://i1.wp.com/sparkbyexamples.com/wp-content/uploads/2019/11/rdd-transformation-work-count.png?resize=697%2C429&ssl=1\" width=1000>"
   ]
  },
  {
   "cell_type": "markdown",
   "metadata": {
    "slideshow": {
     "slide_type": "subslide"
    }
   },
   "source": [
    "## RDD Advantage\n",
    "Hadoop MapReduce was able to harness the computational power of a cluster but not distributed memory\n",
    "\n",
    "RDDs allow in-memory storage and transfer of data to disk"
   ]
  },
  {
   "cell_type": "markdown",
   "metadata": {
    "slideshow": {
     "slide_type": "subslide"
    }
   },
   "source": [
    "### RDDs versus Distributed Shared Memory\n",
    "<img src=\"https://miro.medium.com/max/660/1*MiaofzEizdQ9LjWuKXDLrg.png\">"
   ]
  },
  {
   "cell_type": "markdown",
   "metadata": {
    "slideshow": {
     "slide_type": "subslide"
    }
   },
   "source": [
    "### So how can we create RDDs?\n",
    "1. Loading from external dataset (we've done this :)\n",
    "2. Created from another RDD"
   ]
  },
  {
   "cell_type": "markdown",
   "metadata": {
    "slideshow": {
     "slide_type": "subslide"
    }
   },
   "source": [
    "<img src=\"https://avinash333.files.wordpress.com/2019/09/rdd5.png?w=960\">"
   ]
  },
  {
   "cell_type": "markdown",
   "metadata": {
    "slideshow": {
     "slide_type": "subslide"
    }
   },
   "source": [
    "### Operations on RDDs\n",
    "Transformation operations are similar to the map-side of Hadoop and **no** execution is triggered for these operations.\n",
    "\n",
    "Action operations such as ``collect()`` are similar to the reduce-side of Hadoop. When called execution is triggered. \n",
    "\n",
    "This is a delayed execution model."
   ]
  },
  {
   "cell_type": "markdown",
   "metadata": {
    "slideshow": {
     "slide_type": "subslide"
    }
   },
   "source": [
    "Examples of transformation operations to operate on one RDD and generate a new RDD:\n",
    "* map\n",
    "* filter\n",
    "* join\n",
    "\n",
    "Lazy evaluation\n",
    "\n",
    "Input RDD is not changed (remember read-only)"
   ]
  },
  {
   "cell_type": "markdown",
   "metadata": {
    "hideCode": false,
    "slideshow": {
     "slide_type": "subslide"
    }
   },
   "source": [
    "Examples of action operations that operate on existing RDDs producing a result:\n",
    "* count\n",
    "* collect\n",
    "* reduce\n",
    "* save\n",
    "\n",
    "Results are either returned to driver program or stored in file systems."
   ]
  },
  {
   "cell_type": "markdown",
   "metadata": {
    "slideshow": {
     "slide_type": "subslide"
    }
   },
   "source": [
    "Some examples to look at: <a href=\"https://spark.apache.org/examples.html\">https://spark.apache.org/examples.html</a>"
   ]
  },
  {
   "cell_type": "markdown",
   "metadata": {
    "slideshow": {
     "slide_type": "subslide"
    }
   },
   "source": [
    "<img src=\"https://miro.medium.com/max/1160/1*xGrIK4GU1PRZ49AMPTc-0w.png\">"
   ]
  },
  {
   "cell_type": "markdown",
   "metadata": {
    "slideshow": {
     "slide_type": "subslide"
    }
   },
   "source": [
    "### Lazy Evaluation\n",
    "* Results are not physically computed right away (remember futures)\n",
    "* Metadata from transformations is recorded\n",
    "* Transformations are only performed when an action is invoked"
   ]
  },
  {
   "cell_type": "markdown",
   "metadata": {
    "slideshow": {
     "slide_type": "subslide"
    }
   },
   "source": [
    "### Lineage graph\n",
    "<img src=\"https://2.bp.blogspot.com/-7z9pTkw0EBs/Wn4ocfDTmII/AAAAAAAAEHM/yobSB13veOwwoIR2loy0p2wm-bF6miEqgCLcBGAs/s1600/RDDLineage.JPG\">"
   ]
  },
  {
   "cell_type": "markdown",
   "metadata": {
    "slideshow": {
     "slide_type": "subslide"
    }
   },
   "source": [
    "### Spark Partitions\n",
    "<img src=\"https://miro.medium.com/max/1296/1*gDz_AuuB-q0ux9Pl9CrvHA.png\">"
   ]
  },
  {
   "cell_type": "markdown",
   "metadata": {
    "slideshow": {
     "slide_type": "subslide"
    }
   },
   "source": [
    "### Narrow dependencies\n",
    "1-1 relationship between child and parent partitions\n",
    "\n",
    "Examples: **filter and map**\n",
    "\n",
    "Relatively cheap to execute\n",
    "\n",
    "**No data movement is needed as input and output stays in same partition**"
   ]
  },
  {
   "cell_type": "markdown",
   "metadata": {
    "slideshow": {
     "slide_type": "subslide"
    }
   },
   "source": [
    "### Wide dependency\n",
    "M-1 or M-M between child-parent partitions\n",
    "\n",
    "Examples: **join and grouping**\n",
    "\n",
    "More expensive\n",
    "\n",
    "Input from more than one partition is required\n",
    "\n",
    "Data shuffling is needed"
   ]
  },
  {
   "cell_type": "markdown",
   "metadata": {
    "slideshow": {
     "slide_type": "subslide"
    }
   },
   "source": [
    "### Narrow versus wide dependencies\n",
    "<img src=\"https://miro.medium.com/max/1266/0*kAw8hogu1oZPy9QU.png\">"
   ]
  },
  {
   "cell_type": "markdown",
   "metadata": {},
   "source": [
    "## Questions"
   ]
  },
  {
   "cell_type": "markdown",
   "metadata": {},
   "source": [
    "### 1. What are some of the responsibilities of the spark context?\n",
    "\n",
    "\n",
    "#### Your solution here"
   ]
  },
  {
   "cell_type": "markdown",
   "metadata": {},
   "source": [
    "### 2. How does Spark achieve fault tolerance?\n",
    "\n",
    "\n",
    "#### Your solution here"
   ]
  },
  {
   "cell_type": "markdown",
   "metadata": {},
   "source": [
    "### 3. What is the difference between RDDs and distributed shared memory?\n",
    "\n",
    "\n",
    "#### Your solution here"
   ]
  },
  {
   "cell_type": "markdown",
   "metadata": {},
   "source": [
    "### 4. What is lazy evaluation in Spark?\n",
    "\n",
    "\n",
    "#### Your solution here"
   ]
  },
  {
   "cell_type": "markdown",
   "metadata": {
    "slideshow": {
     "slide_type": "subslide"
    }
   },
   "source": [
    "## Wrap-up\n",
    "As is always the case, there is a lot more to the core Spark API. For example, we haven't discussed the scheduler in detail. But I believe we now have a better feel for what drives computations on Spark. We understand some of the differences between operations in Spark. And finally, we understand why Spark RDDs are preferred over Hadoop in many applications. "
   ]
  }
 ],
 "metadata": {
  "celltoolbar": "Slideshow",
  "hide_code_all_hidden": false,
  "jupytext": {
   "encoding": "# -*- coding: utf-8 -*-",
   "formats": "ipynb,md,py"
  },
  "kernelspec": {
   "display_name": "Python 3",
   "language": "python",
   "name": "python3"
  },
  "language_info": {
   "codemirror_mode": {
    "name": "ipython",
    "version": 3
   },
   "file_extension": ".py",
   "mimetype": "text/x-python",
   "name": "python",
   "nbconvert_exporter": "python",
   "pygments_lexer": "ipython3",
   "version": "3.7.3"
  }
 },
 "nbformat": 4,
 "nbformat_minor": 4
}
