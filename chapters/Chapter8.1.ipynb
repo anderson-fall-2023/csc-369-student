{
 "cells": [
  {
   "cell_type": "markdown",
   "metadata": {
    "hideCode": false,
    "hidePrompt": false,
    "slideshow": {
     "slide_type": "slide"
    }
   },
   "source": [
    "# Chapter 8.1 - Why NoSQL \n",
    "\n",
    "## MongoDB\n",
    "\n",
    "Paul E. Anderson"
   ]
  },
  {
   "cell_type": "markdown",
   "metadata": {
    "slideshow": {
     "slide_type": "subslide"
    }
   },
   "source": [
    "## Ice Breaker\n",
    "\n",
    "Detroit style pizza versus new york versus chicago?"
   ]
  },
  {
   "cell_type": "markdown",
   "metadata": {
    "slideshow": {
     "slide_type": "slide"
    }
   },
   "source": [
    "## Overview"
   ]
  },
  {
   "cell_type": "markdown",
   "metadata": {
    "slideshow": {
     "slide_type": "subslide"
    }
   },
   "source": [
    "## NoSQL\n",
    "> NoSQL databases (aka \"not only SQL\") are non tabular, and store data differently than relational tables. NoSQL databases come in a variety of types based on their data model. The main types are document, key-value, wide-column, and graph. They provide flexible schemas and scale easily with large amounts of data and high user loads. Source: https://www.mongodb.com/nosql-explained"
   ]
  },
  {
   "cell_type": "markdown",
   "metadata": {
    "slideshow": {
     "slide_type": "subslide"
    }
   },
   "source": [
    "## What is NoSQL?\n",
    "<img src=\"https://www.kdnuggets.com/wp-content/uploads/sql-nosql-dbs.jpg\" width=700>"
   ]
  },
  {
   "cell_type": "markdown",
   "metadata": {
    "slideshow": {
     "slide_type": "subslide"
    }
   },
   "source": [
    "### Pros and Cons\n",
    "<img src=\"https://www.clariontech.com/hs-fs/hubfs/SQL-NOSQL.png?width=813&name=SQL-NOSQL.png\" width=700>"
   ]
  },
  {
   "cell_type": "markdown",
   "metadata": {
    "slideshow": {
     "slide_type": "subslide"
    }
   },
   "source": [
    "### What performance considerations? Why is this desired in some applications?\n",
    "<img src=\"https://www.guru99.com/images/1/101818_0537_NoSQLTutori2.png\">"
   ]
  },
  {
   "cell_type": "markdown",
   "metadata": {
    "slideshow": {
     "slide_type": "subslide"
    }
   },
   "source": [
    "<img src=\"https://miro.medium.com/max/5418/1*73e3UUYS_SsBYZfLvdOcfQ.png\">"
   ]
  },
  {
   "cell_type": "markdown",
   "metadata": {
    "slideshow": {
     "slide_type": "subslide"
    }
   },
   "source": [
    "## What is a key-value database?\n",
    "First point, a key-value is a map:\n",
    "<img src=\"https://www.onlinemath4all.com/images/identifyingfunctionsfrommapping3.png\">"
   ]
  },
  {
   "cell_type": "markdown",
   "metadata": {
    "slideshow": {
     "slide_type": "subslide"
    }
   },
   "source": [
    "Put another way:\n",
    "<img src=\"https://www.educative.io/api/edpresso/shot/6707099755085824/image/5783885981941760\">"
   ]
  },
  {
   "cell_type": "markdown",
   "metadata": {},
   "source": [
    "## CAP Theorem\n",
    "\n",
    "Consistency - all nodes should see the same data at the same time\n",
    "\n",
    "Availability - node failures do not prevent surviving nodes from continuing to operate\n",
    "\n",
    "Partition tolerance - the system continues to function despite arbitrary message loss"
   ]
  },
  {
   "cell_type": "markdown",
   "metadata": {},
   "source": [
    "When a network partition failure happens, it must be decided whether to\n",
    "* cancel the operation and thus decrease the availability but ensure consistency or to\n",
    "* proceed with the operation and thus provide availability but risk inconsistency.\n",
    "\n",
    "Thus, if there is a network partition, one has to choose between consistency and availability. \n",
    "\n",
    "Eric Brewer argues that the often-used \"two out of three\" concept can be somewhat misleading because system designers only need to sacrifice consistency or availability in the presence of partitions, but that in many systems partitions are rare.\n",
    "\n",
    "In distributed systems, there is a real chance of networking failures, so partition tolerance has to be accepted (i.e., there is a network partition), so now we have to choose between consitency and availability."
   ]
  },
  {
   "cell_type": "markdown",
   "metadata": {},
   "source": [
    "Note that consistency as defined in the CAP theorem is quite different from the consistency guaranteed in ACID database transactions.\n",
    "\n",
    "ACID addresses an individual node's data consistency\n",
    "\n",
    "CAP addresses cluster-wide data consistency"
   ]
  },
  {
   "cell_type": "markdown",
   "metadata": {
    "slideshow": {
     "slide_type": "subslide"
    }
   },
   "source": [
    "## What are the tradeoffs?\n",
    "<img src=\"https://cdn.educba.com/academy/wp-content/uploads/2020/01/CAP-Theorem-last.jpg\">"
   ]
  },
  {
   "cell_type": "markdown",
   "metadata": {
    "slideshow": {
     "slide_type": "subslide"
    }
   },
   "source": [
    "### What is partition tolerance?\n",
    "> A partition is a communications break within a distributed system—a lost or temporarily delayed connection between two nodes. Partition tolerance means that the cluster must continue to work despite any number of communication breakdowns between nodes in the system.\n",
    "\n",
    "Source: https://www.ibm.com/cloud/learn/cap-theorem#:~:text=request%2C%20without%20exception.-,Partition%20tolerance,between%20nodes%20in%20the%20system."
   ]
  },
  {
   "cell_type": "markdown",
   "metadata": {
    "slideshow": {
     "slide_type": "subslide"
    }
   },
   "source": [
    "## What is distributed for performance gains?\n",
    "<img src=\"https://i2.wp.com/www.kenwalger.com/blog/wp-content/uploads/2017/06/ShardingExample.png?resize=600%2C366\">"
   ]
  },
  {
   "cell_type": "markdown",
   "metadata": {
    "slideshow": {
     "slide_type": "subslide"
    }
   },
   "source": [
    "<img src=\"https://devops.com/wp-content/uploads/2017/02/cap-theorem.jpg\" width=600>"
   ]
  },
  {
   "cell_type": "markdown",
   "metadata": {
    "slideshow": {
     "slide_type": "subslide"
    }
   },
   "source": [
    "## Don't forget about the 8 fallacies..."
   ]
  },
  {
   "cell_type": "markdown",
   "metadata": {
    "slideshow": {
     "slide_type": "subslide"
    }
   },
   "source": [
    "<img src=\"http://www.mypassionfor.net/wp-content/uploads/2020/03/8-fallacies-of-distributed-computing-1024x714.png\">"
   ]
  },
  {
   "cell_type": "markdown",
   "metadata": {},
   "source": [
    "## Introduction to pymongo\n",
    "\n",
    "We will be using pymongo for our mongo labs. This lab focuses on queries and aggregation in MongoDB.\n",
    "\n",
    "I have inserted ``data/daily.json`` into the database in the collection called ``daily`` in a database called ``csc-369``. You may gain access to it using the following commands:"
   ]
  },
  {
   "cell_type": "code",
   "execution_count": 2,
   "metadata": {},
   "outputs": [],
   "source": [
    "from pymongo import MongoClient\n",
    "client = MongoClient()"
   ]
  },
  {
   "cell_type": "code",
   "execution_count": 3,
   "metadata": {},
   "outputs": [],
   "source": [
    "db = client[\"csc-369\"]\n",
    "\n",
    "col = db[\"daily\"]"
   ]
  },
  {
   "cell_type": "markdown",
   "metadata": {},
   "source": [
    "You can take a look at one of the records using"
   ]
  },
  {
   "cell_type": "code",
   "execution_count": 4,
   "metadata": {},
   "outputs": [
    {
     "name": "stdout",
     "output_type": "stream",
     "text": [
      "{'_id': ObjectId('60392e3656264fee961ca816'), 'state': 'AK'}\n"
     ]
    }
   ],
   "source": [
    "import pprint\n",
    "pprint.pprint(col.find_one())"
   ]
  },
  {
   "cell_type": "markdown",
   "metadata": {},
   "source": [
    "## Information about the data\n",
    "The collection contains information about COVID-19\n",
    "infections in the United States. The data comes from the COVID Tracking\n",
    "Project web site, specifically, from this URL:\n",
    "\n",
    "https://covidtracking.com/api\n",
    "\n",
    "We will be using the JSON version of the daily US States data, available\n",
    "directly at this endpoint:\n",
    "\n",
    "https://covidtracking.com/api/states/daily\n",
    "\n",
    "For the sake of reproducibility, we will be using a data file Dr. Dekhtyar downloaded\n",
    "on April 5, that includes all available data from the beginning of the tracking (March 3, 2020) through April 5, 2020. \n",
    "\n",
    "The data file is available for download from the course web site.\n",
    "The COVID Tracking project Website describes the format of each JSON\n",
    "object in the collection as follows:\n",
    "* state - State or territory postal code abbreviation.\n",
    "* positive - Total cumulative positive test results.\n",
    "* positiveIncrease - Increase from the day before.\n",
    "* negative - Total cumulative negative test results.\n",
    "* negativeIncrease - Increase from the day before.\n",
    "* pending - Tests that have been submitted to a lab but no results have\n",
    "been reported yet.\n",
    "* totalTestResults - Calculated value (positive + negative) of total test\n",
    "results.\n",
    "* totalTestResultsIncrease - Increase from the day before.\n",
    "* hospitalized - Total cumulative number of people hospitalized.\n",
    "* hospitalizedIncrease - Increase from the day before.\n",
    "* death - Total cumulative number of people that have died.\n",
    "* deathIncrease - Increase from the day before.\n",
    "* dateChecked - ISO 8601 date of the time we saved visited their website\n",
    "* total - DEPRECATED Will be removed in the future. (positive + negative + pending). Pending has been an unstable value and should not count in any totals.\n",
    "\n",
    "In addition to these attributes, the JSON objects will contain the following\n",
    "attributes (explained elsewhere in the API documentation):\n",
    "* date - date for which the data is provided in the YYYYMMDD format\n",
    "(note: JSON treats this value as a number - make sure you parse\n",
    "correctly).\n",
    "* fips - Federal Information Processing Standard state code\n",
    "* hash - the hash code of the record\n",
    "* hospitalizedCurrently - number of people currently hospitalized\n",
    "* hospitalizedCumulative - appears to be the new name for the hospitalized attribute\n",
    "* inIcuCurrently - number of people currently in the ICU\n",
    "* inIcuCumulative - total cumulative number of people who required ICU hospitalization\n",
    "* onVentilatorCurrently - number of people currently on the ventilator\n",
    "* onVentilatorCumulative - total cumulative number of people who at some point were on ventilator\n",
    "* recovered - total cumulative number of people who recovered from COVID-19\n",
    "\n",
    "Note: ”DEPRECATED” attribute means an attribute that can be found\n",
    "in some of the earlier JSON records, that that is not found in the most\n",
    "recent ones."
   ]
  },
  {
   "cell_type": "markdown",
   "metadata": {},
   "source": [
    "**Stop and think:** What is the below function doing? How is this different or the same from SQL?"
   ]
  },
  {
   "cell_type": "code",
   "execution_count": 5,
   "metadata": {},
   "outputs": [
    {
     "data": {
      "text/plain": [
       "{'_id': ObjectId('60392e3656264fee961ca8fb'),\n",
       " 'date': 20200401,\n",
       " 'state': 'CA',\n",
       " 'positive': 8155,\n",
       " 'negative': 21772,\n",
       " 'pending': 57400,\n",
       " 'hospitalizedCurrently': 1855,\n",
       " 'hospitalizedCumulative': 1855,\n",
       " 'inIcuCurrently': 774,\n",
       " 'inIcuCumulative': 774,\n",
       " 'onVentilatorCurrently': None,\n",
       " 'onVentilatorCumulative': None,\n",
       " 'recovered': None,\n",
       " 'hash': '6fb93efce94c15c30e753005c45c7b45e390198c',\n",
       " 'dateChecked': '2020-04-01T20:00:00Z',\n",
       " 'death': 171,\n",
       " 'hospitalized': 1855,\n",
       " 'total': 87327,\n",
       " 'totalTestResults': 29927,\n",
       " 'posNeg': 29927,\n",
       " 'fips': '06',\n",
       " 'deathIncrease': 18,\n",
       " 'hospitalizedIncrease': 238,\n",
       " 'negativeIncrease': 0,\n",
       " 'positiveIncrease': 673,\n",
       " 'totalTestResultsIncrease': 673}"
      ]
     },
     "execution_count": 5,
     "metadata": {},
     "output_type": "execute_result"
    }
   ],
   "source": [
    "col.find_one({'date':20200401,'state':'CA'})"
   ]
  },
  {
   "cell_type": "markdown",
   "metadata": {
    "slideshow": {
     "slide_type": "subslide"
    }
   },
   "source": [
    "## Wrap-up\n",
    "We have introduced NoSQL databases and discussed their overall features, pros, cons, design considerations, and functionality."
   ]
  }
 ],
 "metadata": {
  "celltoolbar": "Slideshow",
  "hide_code_all_hidden": false,
  "jupytext": {
   "encoding": "# -*- coding: utf-8 -*-",
   "formats": "ipynb,md,py"
  },
  "kernelspec": {
   "display_name": "Python 3",
   "language": "python",
   "name": "python3"
  },
  "language_info": {
   "codemirror_mode": {
    "name": "ipython",
    "version": 3
   },
   "file_extension": ".py",
   "mimetype": "text/x-python",
   "name": "python",
   "nbconvert_exporter": "python",
   "pygments_lexer": "ipython3",
   "version": "3.7.3"
  }
 },
 "nbformat": 4,
 "nbformat_minor": 4
}
