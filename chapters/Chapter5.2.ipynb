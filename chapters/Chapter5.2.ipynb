{
 "cells": [
  {
   "cell_type": "markdown",
   "metadata": {
    "slideshow": {
     "slide_type": "slide"
    }
   },
   "source": [
    "# Chapter 5.2 - Matrix Multiplication in Spark using RDDs"
   ]
  },
  {
   "cell_type": "code",
   "execution_count": 57,
   "metadata": {
    "slideshow": {
     "slide_type": "slide"
    }
   },
   "outputs": [
    {
     "name": "stdout",
     "output_type": "stream",
     "text": [
      "The autoreload extension is already loaded. To reload it, use:\n",
      "  %reload_ext autoreload\n"
     ]
    }
   ],
   "source": [
    "%load_ext autoreload\n",
    "%autoreload 2"
   ]
  },
  {
   "cell_type": "code",
   "execution_count": 58,
   "metadata": {
    "slideshow": {
     "slide_type": "subslide"
    }
   },
   "outputs": [],
   "source": [
    "from pyspark import SparkConf\n",
    "from pyspark.context import SparkContext\n",
    "\n",
    "sc = SparkContext.getOrCreate(SparkConf().setMaster(\"local[*]\"))"
   ]
  },
  {
   "cell_type": "markdown",
   "metadata": {
    "slideshow": {
     "slide_type": "slide"
    }
   },
   "source": [
    "### Matrix Multiplication Reviewed\n",
    "* Critical to a large number of tasks from graphics and cryptography to graph algorithms and machine learning.\n",
    "* Computationally intensive. A naive sequential matrix multiplication algorithm has complexity of O(n^3). \n",
    "* Algorithms with lower computational complexity exist, but they are not always faster in practice.\n",
    "* Good candidate for distributed processing"
   ]
  },
  {
   "cell_type": "markdown",
   "metadata": {
    "slideshow": {
     "slide_type": "subslide"
    }
   },
   "source": [
    "* Every matrix cell is computed using a separate, independent from other cells computation. The computation consumes O(n) input (one matrix row and one matrix column).\n",
    "* Good candidate for being expressed as a MapReduce computation.\n",
    "* For a refresher on matrix muliplication. <a href=\"https://www.youtube.com/watch?v=kuixY2bCc_0&ab_channel=MathMeeting\">Here is one such video.</a>\n",
    "* <a href=\"https://en.wikipedia.org/wiki/Matrix_multiplication#Definition\">Formal definition</a>"
   ]
  },
  {
   "cell_type": "markdown",
   "metadata": {
    "slideshow": {
     "slide_type": "subslide"
    }
   },
   "source": [
    "<img src=\"https://upload.wikimedia.org/wikipedia/commons/thumb/1/18/Matrix_multiplication_qtl1.svg/2560px-Matrix_multiplication_qtl1.svg.png\">"
   ]
  },
  {
   "cell_type": "markdown",
   "metadata": {
    "slideshow": {
     "slide_type": "slide"
    }
   },
   "source": [
    "### Why Spark for matrix multiplication? \n",
    "If you've ever tried to perform matrix multiplication and you've run out of memory, then you know one of the reasons we might want to use Spark. In general, it is faster to work with a library such as numpy when the matrices are reasonable in size. We would only see the performance benefits of a Spark approach at scale."
   ]
  },
  {
   "cell_type": "markdown",
   "metadata": {
    "slideshow": {
     "slide_type": "subslide"
    }
   },
   "source": [
    "### Creating our input\n",
    "\n",
    "Creating the input for testing purposes is easy. In practice, we would be reading from files or a database. Please review the documentation on <a href=\"https://spark.apache.org/docs/2.1.1/programming-guide.html#parallelized-collections\">parallelized collections</a>."
   ]
  },
  {
   "cell_type": "markdown",
   "metadata": {
    "slideshow": {
     "slide_type": "subslide"
    }
   },
   "source": [
    "Let $A$ be a matrix of size $m \\times n$ and $B$ be a matrix of size $n \\times s$. Then our goal is to create a matrix $R$ of size $m \\times s$. "
   ]
  },
  {
   "cell_type": "markdown",
   "metadata": {
    "slideshow": {
     "slide_type": "subslide"
    }
   },
   "source": [
    "Let's start with a concrete example that is represented in what seems like a reasonable way. In general, we use two dimensional arrays to represent lists. Things like:\n",
    "```python\n",
    "[[1,2,3],[4,5,6]]\n",
    "```\n",
    "We will do that here, but we will write each row as a key,value pair such as:\n",
    "```python\n",
    "[('A[1,:]',[1,2,3]),\n",
    " ('A[2,:]',[4,5,6])]\n",
    "```\n",
    "We'll switch to different formats later for reasons that you will notice while doing this first exercise. If you haven't seen ``A[1,:]`` it means this is the first row and all the columns of the A matrix. Below is how we create the RDDs."
   ]
  },
  {
   "cell_type": "code",
   "execution_count": 59,
   "metadata": {
    "slideshow": {
     "slide_type": "subslide"
    }
   },
   "outputs": [],
   "source": [
    "A = [('A[1,:]',[1, 2, 3]),('A[2,:]',[4, 5,6])]\n",
    "A_RDD = sc.parallelize(A)\n",
    "\n",
    "B = [('B[:,1]',[7,9,11]),('B[:,2]',[8,10,12])]\n",
    "B_RDD = sc.parallelize(B)"
   ]
  },
  {
   "cell_type": "markdown",
   "metadata": {
    "slideshow": {
     "slide_type": "subslide"
    }
   },
   "source": [
    "We can convert these into numpy arrays easily."
   ]
  },
  {
   "cell_type": "code",
   "execution_count": 60,
   "metadata": {
    "slideshow": {
     "slide_type": "fragment"
    }
   },
   "outputs": [
    {
     "data": {
      "text/plain": [
       "array([[1, 2, 3],\n",
       "       [4, 5, 6]])"
      ]
     },
     "execution_count": 60,
     "metadata": {},
     "output_type": "execute_result"
    }
   ],
   "source": [
    "import numpy as np\n",
    "A_mat = np.array(A_RDD.map(lambda v: v[1]).collect())\n",
    "A_mat"
   ]
  },
  {
   "cell_type": "code",
   "execution_count": 61,
   "metadata": {
    "slideshow": {
     "slide_type": "fragment"
    }
   },
   "outputs": [
    {
     "data": {
      "text/plain": [
       "array([[ 7,  9, 11],\n",
       "       [ 8, 10, 12]])"
      ]
     },
     "execution_count": 61,
     "metadata": {},
     "output_type": "execute_result"
    }
   ],
   "source": [
    "B_mat = np.array(B_RDD.map(lambda v: v[1]).collect())\n",
    "B_mat"
   ]
  },
  {
   "cell_type": "markdown",
   "metadata": {
    "slideshow": {
     "slide_type": "slide"
    }
   },
   "source": [
    "Let's ask numpy to do our multiplication for us. **Error below is on purpose**. The dot product between two vectors:\n",
    "<img src=\"https://wikimedia.org/api/rest_v1/media/math/render/svg/5bd0b488ad92250b4e7c2f8ac92f700f8aefddd5\">\n",
    "So numpy will calculate the dot product of two vectors each time an entry (circle in image below) is needed:\n",
    "<img src=\"https://upload.wikimedia.org/wikipedia/commons/thumb/e/eb/Matrix_multiplication_diagram_2.svg/440px-Matrix_multiplication_diagram_2.svg.png\">"
   ]
  },
  {
   "cell_type": "code",
   "execution_count": 62,
   "metadata": {
    "slideshow": {
     "slide_type": "subslide"
    }
   },
   "outputs": [
    {
     "ename": "ValueError",
     "evalue": "shapes (2,3) and (2,3) not aligned: 3 (dim 1) != 2 (dim 0)",
     "output_type": "error",
     "traceback": [
      "\u001b[0;31m---------------------------------------------------------------------------\u001b[0m",
      "\u001b[0;31mValueError\u001b[0m                                Traceback (most recent call last)",
      "\u001b[0;32m<ipython-input-62-7ef0184e8b50>\u001b[0m in \u001b[0;36m<module>\u001b[0;34m\u001b[0m\n\u001b[0;32m----> 1\u001b[0;31m \u001b[0mnp\u001b[0m\u001b[0;34m.\u001b[0m\u001b[0mdot\u001b[0m\u001b[0;34m(\u001b[0m\u001b[0mA_mat\u001b[0m\u001b[0;34m,\u001b[0m\u001b[0mB_mat\u001b[0m\u001b[0;34m)\u001b[0m\u001b[0;34m\u001b[0m\u001b[0;34m\u001b[0m\u001b[0m\n\u001b[0m",
      "\u001b[0;32m<__array_function__ internals>\u001b[0m in \u001b[0;36mdot\u001b[0;34m(*args, **kwargs)\u001b[0m\n",
      "\u001b[0;31mValueError\u001b[0m: shapes (2,3) and (2,3) not aligned: 3 (dim 1) != 2 (dim 0)"
     ]
    }
   ],
   "source": [
    "np.dot(A_mat,B_mat)"
   ]
  },
  {
   "cell_type": "markdown",
   "metadata": {
    "slideshow": {
     "slide_type": "subslide"
    }
   },
   "source": [
    "We have already transposed B in our example to make our map reduce task easier. The ``.dot`` function assumes we have not done the transpose. So in order for numpy to do the multiplication for us, we need to transpose the second matrix (note the .T)."
   ]
  },
  {
   "cell_type": "code",
   "execution_count": 8,
   "metadata": {
    "slideshow": {
     "slide_type": "subslide"
    }
   },
   "outputs": [
    {
     "data": {
      "text/plain": [
       "array([[ 58,  64],\n",
       "       [139, 154]])"
      ]
     },
     "execution_count": 8,
     "metadata": {},
     "output_type": "execute_result"
    }
   ],
   "source": [
    "np.dot(A_mat,B_mat.T)"
   ]
  },
  {
   "cell_type": "markdown",
   "metadata": {
    "slideshow": {
     "slide_type": "subslide"
    }
   },
   "source": [
    "Let's pick apart how we got the value 64. This is the dot product of row 1 of A and column 2 of B (Hint: when we discuss matrix we start counting at 1). Our goal then is to compute $n \\times s$ values: one for each pair (i, k) of rows from matrix A and columns from matrix B.\n",
    "\n",
    "To do this we'll need to join the two RDDs together. \n",
    "\n",
    "**Stop and think:** Why is the following empty?"
   ]
  },
  {
   "cell_type": "code",
   "execution_count": 11,
   "metadata": {
    "slideshow": {
     "slide_type": "fragment"
    }
   },
   "outputs": [
    {
     "data": {
      "text/plain": [
       "[]"
      ]
     },
     "execution_count": 11,
     "metadata": {},
     "output_type": "execute_result"
    }
   ],
   "source": [
    "A_RDD.join(B_RDD).collect()"
   ]
  },
  {
   "cell_type": "markdown",
   "metadata": {
    "slideshow": {
     "slide_type": "subslide"
    }
   },
   "source": [
    "**Your solution here**"
   ]
  },
  {
   "cell_type": "markdown",
   "metadata": {
    "slideshow": {
     "slide_type": "fragment"
    }
   },
   "source": [
    "Here is the output of the cartesian product:"
   ]
  },
  {
   "cell_type": "code",
   "execution_count": 12,
   "metadata": {
    "slideshow": {
     "slide_type": "fragment"
    }
   },
   "outputs": [
    {
     "data": {
      "text/plain": [
       "[(('A[1,:]', [1, 2, 3]), ('B[:,1]', [7, 9, 11])),\n",
       " (('A[1,:]', [1, 2, 3]), ('B[:,2]', [8, 10, 12])),\n",
       " (('A[2,:]', [4, 5, 6]), ('B[:,1]', [7, 9, 11])),\n",
       " (('A[2,:]', [4, 5, 6]), ('B[:,2]', [8, 10, 12]))]"
      ]
     },
     "execution_count": 12,
     "metadata": {},
     "output_type": "execute_result"
    }
   ],
   "source": [
    "A_RDD.cartesian(B_RDD).collect()"
   ]
  },
  {
   "cell_type": "markdown",
   "metadata": {
    "slideshow": {
     "slide_type": "subslide"
    }
   },
   "source": [
    "**Stop and think:** Can you calculate entry R[2,1]? Take a moment and do so on paper.\n",
    "\n",
    "For reference, here is the numpy calculated answers:"
   ]
  },
  {
   "cell_type": "code",
   "execution_count": 16,
   "metadata": {
    "slideshow": {
     "slide_type": "fragment"
    }
   },
   "outputs": [
    {
     "data": {
      "text/plain": [
       "139"
      ]
     },
     "execution_count": 16,
     "metadata": {},
     "output_type": "execute_result"
    }
   ],
   "source": [
    "R = np.dot(A_mat,B_mat.T)\n",
    "R[2-1,1-1] # -1 is to transform mathematical notation to 0-based indexing"
   ]
  },
  {
   "cell_type": "markdown",
   "metadata": {
    "slideshow": {
     "slide_type": "subslide"
    }
   },
   "source": [
    "$$\n",
    "(4, 5, 6) \\cdot (7, 9, 11) = 4*7+5*9+6*11 = 139\n",
    "$$"
   ]
  },
  {
   "cell_type": "markdown",
   "metadata": {
    "slideshow": {
     "slide_type": "subslide"
    }
   },
   "source": [
    "We will now get Spark to calculate the matrix multiplication for us."
   ]
  },
  {
   "cell_type": "code",
   "execution_count": 18,
   "metadata": {
    "slideshow": {
     "slide_type": "subslide"
    }
   },
   "outputs": [],
   "source": [
    "# These functions are needed because we used a string above \n",
    "# In the second implementation of matrix muliplication, we don't need to do this\n",
    "def get_row(s):\n",
    "    return int(s.split(\",\")[0].split(\"[\")[-1])\n",
    "\n",
    "def get_col(s):\n",
    "    return int(s.split(\",\")[1].split(\"]\")[0])"
   ]
  },
  {
   "cell_type": "code",
   "execution_count": 19,
   "metadata": {
    "slideshow": {
     "slide_type": "subslide"
    }
   },
   "outputs": [
    {
     "data": {
      "text/plain": [
       "[(1, [1, 2, 3]), (2, [4, 5, 6])]"
      ]
     },
     "execution_count": 19,
     "metadata": {},
     "output_type": "execute_result"
    }
   ],
   "source": [
    "A2 = A_RDD.map(lambda kv: (get_row(kv[0]),kv[1]))\n",
    "A2.collect()"
   ]
  },
  {
   "cell_type": "code",
   "execution_count": 20,
   "metadata": {
    "slideshow": {
     "slide_type": "fragment"
    }
   },
   "outputs": [
    {
     "data": {
      "text/plain": [
       "[(1, [7, 9, 11]), (2, [8, 10, 12])]"
      ]
     },
     "execution_count": 20,
     "metadata": {},
     "output_type": "execute_result"
    }
   ],
   "source": [
    "B2 = B_RDD.map(lambda kv: (get_col(kv[0]),kv[1]))\n",
    "B2.collect()"
   ]
  },
  {
   "cell_type": "markdown",
   "metadata": {
    "slideshow": {
     "slide_type": "subslide"
    }
   },
   "source": [
    "**Exercise 1:**\n",
    "Using what I have defined above (A_RDD, B_RDD, A2, B2), the Spark functions (cartesian, map, collect), and the numpy function (np.dot or a loop of your own), compute the matrix multiplication of A_RDD and B_RDD. Here is a reminder of what cartesian results in:"
   ]
  },
  {
   "cell_type": "code",
   "execution_count": 22,
   "metadata": {
    "slideshow": {
     "slide_type": "fragment"
    }
   },
   "outputs": [
    {
     "data": {
      "text/plain": [
       "[((1, [1, 2, 3]), (1, [7, 9, 11])),\n",
       " ((1, [1, 2, 3]), (2, [8, 10, 12])),\n",
       " ((2, [4, 5, 6]), (1, [7, 9, 11])),\n",
       " ((2, [4, 5, 6]), (2, [8, 10, 12]))]"
      ]
     },
     "execution_count": 22,
     "metadata": {},
     "output_type": "execute_result"
    }
   ],
   "source": [
    "A2.cartesian(B2).collect()"
   ]
  },
  {
   "cell_type": "code",
   "execution_count": 23,
   "metadata": {
    "slideshow": {
     "slide_type": "subslide"
    }
   },
   "outputs": [
    {
     "data": {
      "text/plain": [
       "[((1, 1), 58), ((1, 2), 64), ((2, 1), 139), ((2, 2), 154)]"
      ]
     },
     "execution_count": 23,
     "metadata": {},
     "output_type": "execute_result"
    }
   ],
   "source": [
    "def exercise_1(A_RDD,B_RDD):\n",
    "    result = None\n",
    "    A2 = A_RDD.map(lambda kv: (get_row(kv[0]),kv[1]))\n",
    "    B2 = B_RDD.map(lambda kv: (get_col(kv[0]),kv[1]))\n",
    "\n",
    "    # Your solution here\n",
    "    return result\n",
    "\n",
    "result = exercise_1(A_RDD,B_RDD)\n",
    "result"
   ]
  },
  {
   "cell_type": "markdown",
   "metadata": {
    "slideshow": {
     "slide_type": "subslide"
    }
   },
   "source": [
    "**We did it!** Matrix multiplication using map reduce."
   ]
  },
  {
   "cell_type": "markdown",
   "metadata": {
    "slideshow": {
     "slide_type": "fragment"
    }
   },
   "source": [
    "If you want to put it back in the same format, the keys provide that information:"
   ]
  },
  {
   "cell_type": "code",
   "execution_count": 24,
   "metadata": {
    "slideshow": {
     "slide_type": "subslide"
    }
   },
   "outputs": [
    {
     "data": {
      "text/plain": [
       "array([[ 58.,  64.],\n",
       "       [139., 154.]])"
      ]
     },
     "execution_count": 24,
     "metadata": {},
     "output_type": "execute_result"
    }
   ],
   "source": [
    "R_mat = np.zeros((2,2))\n",
    "for row_col,value in result:\n",
    "    row,col = row_col\n",
    "    R_mat[row-1,col-1] = value\n",
    "R_mat"
   ]
  },
  {
   "cell_type": "markdown",
   "metadata": {
    "slideshow": {
     "slide_type": "subslide"
    }
   },
   "source": [
    "**Exercise 2:** Implement matrix multiplication using the following alternative format:\n",
    "\n",
    "'row number', 'column number', 'value'\n",
    "\n",
    "For this exercise, you cannot use loops or np.dot. It should be Spark centric using cartesian, join, map, add, reduceByKey, and/or collect. "
   ]
  },
  {
   "cell_type": "code",
   "execution_count": 34,
   "metadata": {
    "slideshow": {
     "slide_type": "subslide"
    }
   },
   "outputs": [],
   "source": [
    "A = [[1,1,1],\n",
    "     [1,2,0],\n",
    "     [2,1,3],\n",
    "     [2,2,4],\n",
    "     [3,1,0],\n",
    "     [3,2,6],\n",
    "     [4,1,7],\n",
    "     [4,2,8]\n",
    "    ]\n",
    "A_RDD = sc.parallelize(A)\n",
    "\n",
    "B = [[1,1,7],\n",
    "     [1,2,8],\n",
    "     [1,3,9],\n",
    "     [2,1,0],\n",
    "     [2,2,11],\n",
    "     [2,3,0]\n",
    "    ]\n",
    "B_RDD = sc.parallelize(B)"
   ]
  },
  {
   "cell_type": "markdown",
   "metadata": {
    "slideshow": {
     "slide_type": "subslide"
    }
   },
   "source": [
    "We will now convert this to numpy arrays and perform the multiplication:"
   ]
  },
  {
   "cell_type": "code",
   "execution_count": 35,
   "metadata": {
    "slideshow": {
     "slide_type": "fragment"
    }
   },
   "outputs": [
    {
     "data": {
      "text/plain": [
       "(array([[1., 0.],\n",
       "        [3., 4.],\n",
       "        [0., 6.],\n",
       "        [7., 8.]]),\n",
       " array([[ 7.,  8.,  9.],\n",
       "        [ 0., 11.,  0.]]))"
      ]
     },
     "execution_count": 35,
     "metadata": {},
     "output_type": "execute_result"
    }
   ],
   "source": [
    "A_mat = np.zeros((4,2))\n",
    "for row,col,val in A:\n",
    "    A_mat[row-1,col-1]=val\n",
    "A_mat\n",
    "\n",
    "B_mat = np.zeros((2,3))\n",
    "for row,col,val in B:\n",
    "    B_mat[row-1,col-1]=val\n",
    "A_mat,B_mat"
   ]
  },
  {
   "cell_type": "code",
   "execution_count": 36,
   "metadata": {
    "slideshow": {
     "slide_type": "subslide"
    }
   },
   "outputs": [
    {
     "data": {
      "text/plain": [
       "array([[  7.,   8.,   9.],\n",
       "       [ 21.,  68.,  27.],\n",
       "       [  0.,  66.,   0.],\n",
       "       [ 49., 144.,  63.]])"
      ]
     },
     "execution_count": 36,
     "metadata": {},
     "output_type": "execute_result"
    }
   ],
   "source": [
    "R = np.dot(A_mat,B_mat)\n",
    "R"
   ]
  },
  {
   "cell_type": "markdown",
   "metadata": {
    "slideshow": {
     "slide_type": "subslide"
    }
   },
   "source": [
    "Before coding, consider the following diagram and ask yourself the following when considering how to calculate the yellow circle:\n",
    "\n",
    "**How would you join/match the correct elements (rows and columns) of A and B together to compute, R[1,2]?**"
   ]
  },
  {
   "cell_type": "markdown",
   "metadata": {
    "slideshow": {
     "slide_type": "subslide"
    }
   },
   "source": [
    "<img src=\"https://upload.wikimedia.org/wikipedia/commons/thumb/e/eb/Matrix_multiplication_diagram_2.svg/440px-Matrix_multiplication_diagram_2.svg.png\">"
   ]
  },
  {
   "cell_type": "markdown",
   "metadata": {
    "slideshow": {
     "slide_type": "subslide"
    }
   },
   "source": [
    "**Your answer here**"
   ]
  },
  {
   "cell_type": "markdown",
   "metadata": {
    "slideshow": {
     "slide_type": "subslide"
    }
   },
   "source": [
    "**Stop and think:** Can you write Spark code that joins the correct elements from A_RDD and B_RDD?"
   ]
  },
  {
   "cell_type": "code",
   "execution_count": 48,
   "metadata": {
    "slideshow": {
     "slide_type": "fragment"
    }
   },
   "outputs": [
    {
     "data": {
      "text/plain": [
       "[(1, ([1, 1, 1], [1, 1, 7])),\n",
       " (1, ([1, 1, 1], [1, 2, 8])),\n",
       " (1, ([1, 1, 1], [1, 3, 9])),\n",
       " (1, ([2, 1, 3], [1, 1, 7])),\n",
       " (1, ([2, 1, 3], [1, 2, 8])),\n",
       " (1, ([2, 1, 3], [1, 3, 9])),\n",
       " (1, ([3, 1, 0], [1, 1, 7])),\n",
       " (1, ([3, 1, 0], [1, 2, 8])),\n",
       " (1, ([3, 1, 0], [1, 3, 9])),\n",
       " (1, ([4, 1, 7], [1, 1, 7])),\n",
       " (1, ([4, 1, 7], [1, 2, 8])),\n",
       " (1, ([4, 1, 7], [1, 3, 9])),\n",
       " (2, ([1, 2, 0], [2, 1, 0])),\n",
       " (2, ([1, 2, 0], [2, 2, 11])),\n",
       " (2, ([1, 2, 0], [2, 3, 0])),\n",
       " (2, ([2, 2, 4], [2, 1, 0])),\n",
       " (2, ([2, 2, 4], [2, 2, 11])),\n",
       " (2, ([2, 2, 4], [2, 3, 0])),\n",
       " (2, ([3, 2, 6], [2, 1, 0])),\n",
       " (2, ([3, 2, 6], [2, 2, 11])),\n",
       " (2, ([3, 2, 6], [2, 3, 0])),\n",
       " (2, ([4, 2, 8], [2, 1, 0])),\n",
       " (2, ([4, 2, 8], [2, 2, 11])),\n",
       " (2, ([4, 2, 8], [2, 3, 0]))]"
      ]
     },
     "execution_count": 48,
     "metadata": {},
     "output_type": "execute_result"
    }
   ],
   "source": [
    "AB=None\n",
    "# Your solution here\n",
    "AB"
   ]
  },
  {
   "cell_type": "markdown",
   "metadata": {
    "slideshow": {
     "slide_type": "subslide"
    }
   },
   "source": [
    "**Now what?** Can we just reduce by key perform multiplication and then do a summation?"
   ]
  },
  {
   "cell_type": "markdown",
   "metadata": {
    "slideshow": {
     "slide_type": "fragment"
    }
   },
   "source": [
    "... This is a leading question. If you try this, we'll be heading down an incorrect path. Instead, is there something we can map the keys to a key that helps us out? My real question to you is:\n",
    "**Pick a line at random, and what should be the key?**\n",
    "<pre>\n",
    "(1, ([3, 1, 0], [1, 2, 8]))\n",
    "</pre>"
   ]
  },
  {
   "cell_type": "markdown",
   "metadata": {
    "slideshow": {
     "slide_type": "subslide"
    }
   },
   "source": [
    "**Your solution here**\n",
    "\n",
    "Once you do it manually, then do it using Spark..."
   ]
  },
  {
   "cell_type": "code",
   "execution_count": 49,
   "metadata": {
    "slideshow": {
     "slide_type": "subslide"
    }
   },
   "outputs": [
    {
     "data": {
      "text/plain": [
       "[((1, 1), [1, 7]),\n",
       " ((1, 2), [1, 8]),\n",
       " ((1, 3), [1, 9]),\n",
       " ((2, 1), [3, 7]),\n",
       " ((2, 2), [3, 8]),\n",
       " ((2, 3), [3, 9]),\n",
       " ((3, 1), [0, 7]),\n",
       " ((3, 2), [0, 8]),\n",
       " ((3, 3), [0, 9]),\n",
       " ((4, 1), [7, 7]),\n",
       " ((4, 2), [7, 8]),\n",
       " ((4, 3), [7, 9]),\n",
       " ((1, 1), [0, 0]),\n",
       " ((1, 2), [0, 11]),\n",
       " ((1, 3), [0, 0]),\n",
       " ((2, 1), [4, 0]),\n",
       " ((2, 2), [4, 11]),\n",
       " ((2, 3), [4, 0]),\n",
       " ((3, 1), [6, 0]),\n",
       " ((3, 2), [6, 11]),\n",
       " ((3, 3), [6, 0]),\n",
       " ((4, 1), [8, 0]),\n",
       " ((4, 2), [8, 11]),\n",
       " ((4, 3), [8, 0])]"
      ]
     },
     "execution_count": 49,
     "metadata": {},
     "output_type": "execute_result"
    }
   ],
   "source": [
    "AB=None\n",
    "AB"
   ]
  },
  {
   "cell_type": "markdown",
   "metadata": {
    "slideshow": {
     "slide_type": "subslide"
    }
   },
   "source": [
    "**We can now put it all together and solve the problem!**"
   ]
  },
  {
   "cell_type": "code",
   "execution_count": 51,
   "metadata": {
    "slideshow": {
     "slide_type": "subslide"
    }
   },
   "outputs": [
    {
     "data": {
      "text/plain": [
       "[((4, 2), 144),\n",
       " ((3, 1), 0),\n",
       " ((3, 3), 0),\n",
       " ((2, 3), 27),\n",
       " ((2, 2), 68),\n",
       " ((4, 3), 63),\n",
       " ((1, 2), 8),\n",
       " ((1, 3), 9),\n",
       " ((3, 2), 66),\n",
       " ((1, 1), 7),\n",
       " ((4, 1), 49),\n",
       " ((2, 1), 21)]"
      ]
     },
     "execution_count": 51,
     "metadata": {},
     "output_type": "execute_result"
    }
   ],
   "source": [
    "def exercise_2(A_RDD,B_RDD):\n",
    "    result = None\n",
    "    # Your solution here\n",
    "    return result\n",
    "\n",
    "result = exercise_2(A_RDD,B_RDD)\n",
    "result"
   ]
  },
  {
   "cell_type": "code",
   "execution_count": 52,
   "metadata": {
    "slideshow": {
     "slide_type": "subslide"
    }
   },
   "outputs": [
    {
     "data": {
      "text/plain": [
       "array([[  7.,   8.,   9.],\n",
       "       [ 21.,  68.,  27.],\n",
       "       [  0.,  66.,   0.],\n",
       "       [ 49., 144.,  63.]])"
      ]
     },
     "execution_count": 52,
     "metadata": {},
     "output_type": "execute_result"
    }
   ],
   "source": [
    "result_mat = np.zeros((4,3))\n",
    "for row_col,val in result:\n",
    "    row,col = row_col\n",
    "    result_mat[row-1,col-1] = val\n",
    "result_mat"
   ]
  },
  {
   "cell_type": "code",
   "execution_count": 53,
   "metadata": {
    "slideshow": {
     "slide_type": "subslide"
    }
   },
   "outputs": [
    {
     "data": {
      "text/plain": [
       "array([[ True,  True,  True],\n",
       "       [ True,  True,  True],\n",
       "       [ True,  True,  True],\n",
       "       [ True,  True,  True]])"
      ]
     },
     "execution_count": 53,
     "metadata": {},
     "output_type": "execute_result"
    }
   ],
   "source": [
    "R == result_mat"
   ]
  },
  {
   "cell_type": "markdown",
   "metadata": {
    "slideshow": {
     "slide_type": "subslide"
    }
   },
   "source": [
    "This second format is very useful and common when representing sparse matrices. In this format, we remove/exclude any entry where a value in the matrix is 0. This occurs twice in A and twice in B. This results in a significant memory savings when a lot of the entries are in fact 0."
   ]
  },
  {
   "cell_type": "markdown",
   "metadata": {
    "slideshow": {
     "slide_type": "subslide"
    }
   },
   "source": [
    "**Exercise 3:** Implement matrix multiplication using the following alternative format that assumes missing rows have a value of 0 (i.e., sparse matrices):\n",
    "\n",
    "'row number', 'column number', 'value'\n",
    "\n",
    "For this exercise, you cannot use loops or np.dot. It should be Spark centric using join, map, add, reduceByKey, and/or collect. "
   ]
  },
  {
   "cell_type": "code",
   "execution_count": 54,
   "metadata": {
    "slideshow": {
     "slide_type": "subslide"
    }
   },
   "outputs": [],
   "source": [
    "A = [[1,1,1],\n",
    "#     [1,2,0],\n",
    "     [2,1,3],\n",
    "     [2,2,4],\n",
    "#     [3,1,0],\n",
    "     [3,2,6],\n",
    "     [4,1,7],\n",
    "     [4,2,8]\n",
    "    ]\n",
    "A_RDD = sc.parallelize(A)\n",
    "\n",
    "B = [[1,1,7],\n",
    "     [1,2,8],\n",
    "     [1,3,9],\n",
    "#     [2,1,0],\n",
    "     [2,2,11],\n",
    "#     [2,3,0]\n",
    "    ]\n",
    "B_RDD = sc.parallelize(B)"
   ]
  },
  {
   "cell_type": "code",
   "execution_count": 55,
   "metadata": {
    "slideshow": {
     "slide_type": "subslide"
    }
   },
   "outputs": [
    {
     "data": {
      "text/plain": [
       "[((4, 2), 144),\n",
       " ((2, 3), 27),\n",
       " ((2, 2), 68),\n",
       " ((4, 3), 63),\n",
       " ((1, 2), 8),\n",
       " ((1, 3), 9),\n",
       " ((3, 2), 66),\n",
       " ((1, 1), 7),\n",
       " ((4, 1), 49),\n",
       " ((2, 1), 21)]"
      ]
     },
     "execution_count": 55,
     "metadata": {},
     "output_type": "execute_result"
    }
   ],
   "source": [
    "def exercise_3(A_RDD,B_RDD):\n",
    "    result = None\n",
    "    # Your solution here\n",
    "    return result\n",
    "\n",
    "result = exercise_3(A_RDD,B_RDD)\n",
    "result"
   ]
  },
  {
   "cell_type": "code",
   "execution_count": 56,
   "metadata": {
    "slideshow": {
     "slide_type": "subslide"
    }
   },
   "outputs": [
    {
     "data": {
      "text/plain": [
       "array([[  7.,   8.,   9.],\n",
       "       [ 21.,  68.,  27.],\n",
       "       [  0.,  66.,   0.],\n",
       "       [ 49., 144.,  63.]])"
      ]
     },
     "execution_count": 56,
     "metadata": {},
     "output_type": "execute_result"
    }
   ],
   "source": [
    "result_mat = np.zeros((4,3))\n",
    "for row_col,val in result:\n",
    "    row,col = row_col\n",
    "    result_mat[row-1,col-1] = val\n",
    "result_mat"
   ]
  },
  {
   "cell_type": "markdown",
   "metadata": {
    "slideshow": {
     "slide_type": "subslide"
    }
   },
   "source": [
    "**We didn't have to change a thing!**"
   ]
  }
 ],
 "metadata": {
  "celltoolbar": "Slideshow",
  "jupytext": {
   "encoding": "# -*- coding: utf-8 -*-",
   "formats": "ipynb,md,py"
  },
  "kernelspec": {
   "display_name": "Python 3",
   "language": "python",
   "name": "python3"
  },
  "language_info": {
   "codemirror_mode": {
    "name": "ipython",
    "version": 3
   },
   "file_extension": ".py",
   "mimetype": "text/x-python",
   "name": "python",
   "nbconvert_exporter": "python",
   "pygments_lexer": "ipython3",
   "version": "3.7.3"
  }
 },
 "nbformat": 4,
 "nbformat_minor": 4
}
