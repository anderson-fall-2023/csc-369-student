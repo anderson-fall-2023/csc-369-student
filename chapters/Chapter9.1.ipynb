{
 "cells": [
  {
   "cell_type": "markdown",
   "metadata": {
    "hideCode": false,
    "hidePrompt": false,
    "slideshow": {
     "slide_type": "slide"
    }
   },
   "source": [
    "# Chapter 9.1 - Cassandra \n",
    "\n",
    "Paul E. Anderson"
   ]
  },
  {
   "cell_type": "markdown",
   "metadata": {
    "slideshow": {
     "slide_type": "subslide"
    }
   },
   "source": [
    "## Ice Breaker\n",
    "\n",
    "Bob Dylan or the Beatles?"
   ]
  },
  {
   "cell_type": "markdown",
   "metadata": {
    "slideshow": {
     "slide_type": "subslide"
    }
   },
   "source": [
    "<img src=\"https://cdn.educba.com/academy/wp-content/uploads/2019/04/what-is-Cassandra.png\">"
   ]
  },
  {
   "cell_type": "markdown",
   "metadata": {
    "slideshow": {
     "slide_type": "subslide"
    }
   },
   "source": [
    "**Learning objectives:** Our goal is not to learn everything about Cassandra in this lesson. This chapter is meant to provide an introduction to some of the architecture design decisions and implementation details."
   ]
  },
  {
   "cell_type": "markdown",
   "metadata": {
    "slideshow": {
     "slide_type": "subslide"
    }
   },
   "source": [
    "## Overview\n",
    "* Distributed\n",
    "* Fault tolerant\n",
    "* Scalable\n",
    "* Column oriented data store"
   ]
  },
  {
   "cell_type": "markdown",
   "metadata": {
    "slideshow": {
     "slide_type": "subslide"
    }
   },
   "source": [
    "**Data model and disk storage are inspirted by Google's BigTable**\n",
    "\n",
    "**The cluster technology is inspired by Amazon Dynamo.**"
   ]
  },
  {
   "cell_type": "markdown",
   "metadata": {
    "slideshow": {
     "slide_type": "subslide"
    }
   },
   "source": [
    "## Architecture Overview\n",
    "* Designed with expectations of system/hardware failures\n",
    "* Peer-to-peer distributed system\n",
    "* All nodes the same\n",
    "* Data partitioned among all nodes in the cluster\n",
    "* Read/write anywhere design"
   ]
  },
  {
   "cell_type": "markdown",
   "metadata": {
    "slideshow": {
     "slide_type": "subslide"
    }
   },
   "source": [
    "## Gossip protocol\n",
    "Each node communicates with each other through Gossip protocol\n",
    "<img src=\"https://media.springernature.com/lw685/springer-static/image/art%3A10.1186%2F1869-0238-4-14/MediaObjects/13174_2012_Article_12_Fig1_HTML.jpg\">"
   ]
  },
  {
   "cell_type": "markdown",
   "metadata": {
    "slideshow": {
     "slide_type": "subslide"
    }
   },
   "source": [
    "## Achictecture Continued\n",
    "* Commit log is used to capture write activity\n",
    "* Data also written to an in-memory (memtable) and then to disk once memory structure is full"
   ]
  },
  {
   "cell_type": "markdown",
   "metadata": {
    "slideshow": {
     "slide_type": "subslide"
    }
   },
   "source": [
    "## Schema\n",
    "* Row-oriented column structure\n",
    "* Keyspace is similar to a database in the RDBMS world\n",
    "* A column family is similar to an RDBMS table but more flexible\n",
    "* A row in a column family is indexed by its key. "
   ]
  },
  {
   "cell_type": "markdown",
   "metadata": {
    "slideshow": {
     "slide_type": "subslide"
    }
   },
   "source": [
    "<img src=\"https://www.researchgate.net/profile/Jose-Pereira-91/publication/265890153/figure/fig1/AS:651569481674752@1532357678012/Example-of-column-and-super-column-families.png\">"
   ]
  },
  {
   "cell_type": "markdown",
   "metadata": {
    "slideshow": {
     "slide_type": "subslide"
    }
   },
   "source": [
    "<img src=\"https://studio3t.com/wp-content/uploads/2017/12/cassandra-column-family-example.png?x13993\">"
   ]
  },
  {
   "cell_type": "markdown",
   "metadata": {
    "slideshow": {
     "slide_type": "subslide"
    }
   },
   "source": [
    "## Strengths of Cassandra\n",
    "* Petabyte scalability\n",
    "* Linear performance gains through adding nodes\n",
    "* No single point of failure\n",
    "* Easy replication\n",
    "* Flexible schema design\n",
    "* CQL langauge (like SQL)"
   ]
  },
  {
   "cell_type": "markdown",
   "metadata": {
    "slideshow": {
     "slide_type": "subslide"
    }
   },
   "source": [
    "## Writes\n",
    "* Definitions\n",
    "    * Partitioning key - each table has a partitioning key. Helps determine which node in the cluster should have the data\n",
    "    * Commit log - transactional log. Append only file and provides durability\n",
    "    * Memtable - memory cache to store the in memory copy of data. Memtable accumulates writes and provides read data\n",
    "    * SSTable - final destination of data. Actual files on disk are immutable\n",
    "    * Compaction - periodic process of merging SSTables into a single SStable. Done to optimize read operations"
   ]
  },
  {
   "cell_type": "markdown",
   "metadata": {
    "slideshow": {
     "slide_type": "subslide"
    }
   },
   "source": [
    "## Write process\n",
    "1. Cassandra appends writes to commit log on disk\n",
    "2. Cassandra stores the data in a memory structure called memtable. The memtable is a write-back cache\n",
    "3. Memtable stores writes in sorted order until limit is reached and then it is flushed\n",
    "4. When there is a flush, write to a SSTable. "
   ]
  },
  {
   "cell_type": "markdown",
   "metadata": {
    "slideshow": {
     "slide_type": "subslide"
    }
   },
   "source": [
    "<img src=\"https://miro.medium.com/max/700/0*wdhGxT-5a5tL7w-1.png\">"
   ]
  },
  {
   "cell_type": "markdown",
   "metadata": {
    "slideshow": {
     "slide_type": "subslide"
    }
   },
   "source": [
    "## Coordinator\n",
    "* Client can connect to any node and then that node acts as a proxy for the application.\n",
    "* This proxy node is called the coordinator\n",
    "\n",
    "<img src=\"https://miro.medium.com/max/700/0*UJwKzBurhLTzJ3sL.png\">"
   ]
  },
  {
   "cell_type": "markdown",
   "metadata": {
    "slideshow": {
     "slide_type": "subslide"
    }
   },
   "source": [
    "## Partitioner\n",
    "Each node in a Cassandra cluster (Cassandra ring) is assigned a range of tokens. Example:\n",
    "<img src=\"https://miro.medium.com/max/700/0*wCWBHLmZHgZm68-R.png\">"
   ]
  },
  {
   "cell_type": "markdown",
   "metadata": {
    "slideshow": {
     "slide_type": "subslide"
    }
   },
   "source": [
    "Cassandra distributes data across the cluster using consistent hashing\n",
    "\n",
    "What is the difference between hashing and consistent hashing?"
   ]
  },
  {
   "cell_type": "markdown",
   "metadata": {
    "slideshow": {
     "slide_type": "subslide"
    }
   },
   "source": [
    "Answer: When hash table is resized only a subset of the keys need to be remapped."
   ]
  },
  {
   "cell_type": "markdown",
   "metadata": {
    "slideshow": {
     "slide_type": "subslide"
    }
   },
   "source": [
    "Once the partitioner applies the hash function to the partition key and gets the token, it knows exactly which node is going to handle the request. Example on next slide:"
   ]
  },
  {
   "cell_type": "markdown",
   "metadata": {
    "slideshow": {
     "slide_type": "subslide"
    }
   },
   "source": [
    "<img src=\"https://miro.medium.com/max/700/0*iSDYBJ2Gvvcio06n.png\">"
   ]
  },
  {
   "cell_type": "markdown",
   "metadata": {
    "slideshow": {
     "slide_type": "subslide"
    }
   },
   "source": [
    "## Eventual Consistency\n",
    "* Implies that all updates reach all replicas eventually\n",
    "* Divergent versions of the same data exist temporarily\n",
    "* Why does this happen in cassandra and how do we control it?"
   ]
  },
  {
   "cell_type": "markdown",
   "metadata": {
    "slideshow": {
     "slide_type": "subslide"
    }
   },
   "source": [
    "When you write to a table in Cassandra you specify the write consistency level. \n",
    "\n",
    "This is the number of replica nodes that have to acknowledge the coordinator that update/insert was successful\n",
    "\n",
    "Once enough of these return, then the client can continue to work even though all the replicas might not have acknowledged the write"
   ]
  }
 ],
 "metadata": {
  "celltoolbar": "Slideshow",
  "hide_code_all_hidden": false,
  "jupytext": {
   "encoding": "# -*- coding: utf-8 -*-",
   "formats": "ipynb,md,py"
  },
  "kernelspec": {
   "display_name": "Python 3",
   "language": "python",
   "name": "python3"
  },
  "language_info": {
   "codemirror_mode": {
    "name": "ipython",
    "version": 3
   },
   "file_extension": ".py",
   "mimetype": "text/x-python",
   "name": "python",
   "nbconvert_exporter": "python",
   "pygments_lexer": "ipython3",
   "version": "3.7.3"
  }
 },
 "nbformat": 4,
 "nbformat_minor": 4
}
