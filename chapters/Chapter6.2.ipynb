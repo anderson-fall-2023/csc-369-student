{
 "cells": [
  {
   "cell_type": "markdown",
   "metadata": {
    "slideshow": {
     "slide_type": "slide"
    }
   },
   "source": [
    "# Chapter 6.2 - Spark SQL continued\n",
    "\n",
    "For this section we will analyze a very large dataset from the Department of Transportation. I have already converted the data to the parquet format discussed in class, but if you don't believe me that it has benefits, let's check out some stats:"
   ]
  },
  {
   "cell_type": "markdown",
   "metadata": {
    "slideshow": {
     "slide_type": "subslide"
    }
   },
   "source": [
    "Here is the original data as I downloaded it without any modification other than I unzipped it."
   ]
  },
  {
   "cell_type": "code",
   "execution_count": 1,
   "metadata": {
    "slideshow": {
     "slide_type": "fragment"
    }
   },
   "outputs": [
    {
     "name": "stdout",
     "output_type": "stream",
     "text": [
      "44G\t/disk/airline-data\n"
     ]
    }
   ],
   "source": [
    "!du -sh /disk/airline-data"
   ]
  },
  {
   "cell_type": "markdown",
   "metadata": {
    "slideshow": {
     "slide_type": "fragment"
    }
   },
   "source": [
    "Let's take a look at the data after I processed it."
   ]
  },
  {
   "cell_type": "code",
   "execution_count": 2,
   "metadata": {
    "slideshow": {
     "slide_type": "fragment"
    }
   },
   "outputs": [
    {
     "name": "stdout",
     "output_type": "stream",
     "text": [
      "3.6G\t/disk/airline-data-processed\n"
     ]
    }
   ],
   "source": [
    "!du -sh /disk/airline-data-processed"
   ]
  },
  {
   "cell_type": "markdown",
   "metadata": {
    "slideshow": {
     "slide_type": "subslide"
    }
   },
   "source": [
    "Well I don't know about you, but that seems amazing :) Here is the original compressed file size. It is important to realize that while the .tar.gz file is \"small\" at 4.7 GB, we can't access it with Spark or any other program without uncompressing it. But we can do that with the parquet files!"
   ]
  },
  {
   "cell_type": "code",
   "execution_count": 3,
   "metadata": {
    "slideshow": {
     "slide_type": "fragment"
    }
   },
   "outputs": [
    {
     "name": "stdout",
     "output_type": "stream",
     "text": [
      "4.7G\t/disk/airline-data.2003-2018.tar.gz\n"
     ]
    }
   ],
   "source": [
    "!du -sh /disk/airline-data.2003-2018.tar.gz"
   ]
  },
  {
   "cell_type": "markdown",
   "metadata": {
    "slideshow": {
     "slide_type": "subslide"
    }
   },
   "source": [
    "If you are curious how I did this, please check out Setup_Chapter6.ipynb. No need to run this or edit it or even look at it, but it's there."
   ]
  },
  {
   "cell_type": "code",
   "execution_count": 4,
   "metadata": {
    "slideshow": {
     "slide_type": "subslide"
    }
   },
   "outputs": [],
   "source": [
    "%load_ext autoreload\n",
    "%autoreload 2"
   ]
  },
  {
   "cell_type": "code",
   "execution_count": 5,
   "metadata": {
    "slideshow": {
     "slide_type": "subslide"
    }
   },
   "outputs": [],
   "source": [
    "from pyspark.sql import SparkSession\n",
    "\n",
    "spark = SparkSession \\\n",
    "    .builder \\\n",
    "    .appName(\"Python Spark\") \\\n",
    "    .getOrCreate()\n",
    "\n",
    "sc = spark.sparkContext"
   ]
  },
  {
   "cell_type": "markdown",
   "metadata": {
    "slideshow": {
     "slide_type": "slide"
    }
   },
   "source": [
    "## Exploratory Data Analysis"
   ]
  },
  {
   "cell_type": "code",
   "execution_count": 6,
   "metadata": {
    "slideshow": {
     "slide_type": "subslide"
    }
   },
   "outputs": [
    {
     "name": "stdout",
     "output_type": "stream",
     "text": [
      "+-------+----------+---------+----------+-------------+---------+-------+-------+---------+---------------+------------------+------------------+------+--------------------+-----------+---------------+---------------+---------+-------------+----------------+----------------+----+------------------+---------+-------------+-------------+-------+----------+-------+--------+---------------+--------+--------------------+----------+-------+---------+--------+------+----------+-------+--------+---------------+--------+------------------+----------+---------+----------------+--------+--------------+-----------------+-------+-------+--------+-------------+------------+------------+--------+-------------+-----------------+----+-----+\n",
      "|Quarter|DayofMonth|DayOfWeek|FlightDate|UniqueCarrier|AirlineID|Carrier|TailNum|FlightNum|OriginAirportID|OriginAirportSeqID|OriginCityMarketID|Origin|      OriginCityName|OriginState|OriginStateFips|OriginStateName|OriginWac|DestAirportID|DestAirportSeqID|DestCityMarketID|Dest|      DestCityName|DestState|DestStateFips|DestStateName|DestWac|CRSDepTime|DepTime|DepDelay|DepDelayMinutes|DepDel15|DepartureDelayGroups|DepTimeBlk|TaxiOut|WheelsOff|WheelsOn|TaxiIn|CRSArrTime|ArrTime|ArrDelay|ArrDelayMinutes|ArrDel15|ArrivalDelayGroups|ArrTimeBlk|Cancelled|CancellationCode|Diverted|CRSElapsedTime|ActualElapsedTime|AirTime|Flights|Distance|DistanceGroup|CarrierDelay|WeatherDelay|NASDelay|SecurityDelay|LateAircraftDelay|Year|Month|\n",
      "+-------+----------+---------+----------+-------------+---------+-------+-------+---------+---------------+------------------+------------------+------+--------------------+-----------+---------------+---------------+---------+-------------+----------------+----------------+----+------------------+---------+-------------+-------------+-------+----------+-------+--------+---------------+--------+--------------------+----------+-------+---------+--------+------+----------+-------+--------+---------------+--------+------------------+----------+---------+----------------+--------+--------------+-----------------+-------+-------+--------+-------------+------------+------------+--------+-------------+-----------------+----+-----+\n",
      "|      3|         7|        5|2018-09-07|           UA|    19977|     UA| N37502|     2094|          14679|           1467903|             33570|   SAN|       San Diego, CA|         CA|              6|     California|       91|        12266|         1226603|           31453| IAH|       Houston, TX|       TX|           48|        Texas|     74|      0750|   0747|    -3.0|            0.0|     0.0|                  -1| 0700-0759|   18.0|     0805|    1248|   8.0|      1256|   1256|     0.0|            0.0|     0.0|                 0| 1200-1259|      0.0|            null|     0.0|         186.0|            189.0|  163.0|    1.0|  1303.0|            6|        null|        null|    null|         null|             null|2018|    9|\n",
      "|      3|         5|        3|2018-09-05|           MQ|    20398|     MQ| N908AE|     3492|          13930|           1393006|             30977|   ORD|         Chicago, IL|         IL|             17|       Illinois|       41|        13367|         1336705|           33367| MLI|        Moline, IL|       IL|           17|     Illinois|     41|      0840|   0834|    -6.0|            0.0|     0.0|                  -1| 0800-0859|   14.0|     0848|    0915|   5.0|      0935|   0920|   -15.0|            0.0|     0.0|                -1| 0900-0959|      0.0|            null|     0.0|          55.0|             46.0|   27.0|    1.0|   139.0|            1|        null|        null|    null|         null|             null|2018|    9|\n",
      "|      3|         7|        5|2018-09-07|           UA|    19977|     UA| N69826|     2093|          11298|           1129806|             30194|   DFW|Dallas/Fort Worth...|         TX|             48|          Texas|       74|        14771|         1477104|           32457| SFO| San Francisco, CA|       CA|            6|   California|     91|      0743|   0737|    -6.0|            0.0|     0.0|                  -1| 0700-0759|   22.0|     0759|    0915|  30.0|      0934|   0945|    11.0|           11.0|     0.0|                 0| 0900-0959|      0.0|            null|     0.0|         231.0|            248.0|  196.0|    1.0|  1464.0|            6|        null|        null|    null|         null|             null|2018|    9|\n",
      "|      3|         6|        4|2018-09-06|           MQ|    20398|     MQ| N908AE|     3492|          13930|           1393006|             30977|   ORD|         Chicago, IL|         IL|             17|       Illinois|       41|        13367|         1336705|           33367| MLI|        Moline, IL|       IL|           17|     Illinois|     41|      0840|   0833|    -7.0|            0.0|     0.0|                  -1| 0800-0859|   15.0|     0848|    0920|   4.0|      0935|   0924|   -11.0|            0.0|     0.0|                -1| 0900-0959|      0.0|            null|     0.0|          55.0|             51.0|   32.0|    1.0|   139.0|            1|        null|        null|    null|         null|             null|2018|    9|\n",
      "|      3|         7|        5|2018-09-07|           UA|    19977|     UA| N14731|     2092|          10821|           1082106|             30852|   BWI|       Baltimore, MD|         MD|             24|       Maryland|       35|        12266|         1226603|           31453| IAH|       Houston, TX|       TX|           48|        Texas|     74|      0650|   0641|    -9.0|            0.0|     0.0|                  -1| 0600-0659|   11.0|     0652|    0824|   7.0|      0852|   0831|   -21.0|            0.0|     0.0|                -2| 0800-0859|      0.0|            null|     0.0|         182.0|            170.0|  152.0|    1.0|  1235.0|            5|        null|        null|    null|         null|             null|2018|    9|\n",
      "|      3|         7|        5|2018-09-07|           MQ|    20398|     MQ| N918AE|     3492|          13930|           1393006|             30977|   ORD|         Chicago, IL|         IL|             17|       Illinois|       41|        13367|         1336705|           33367| MLI|        Moline, IL|       IL|           17|     Illinois|     41|      0840|   0837|    -3.0|            0.0|     0.0|                  -1| 0800-0859|   16.0|     0853|    0926|   6.0|      0935|   0932|    -3.0|            0.0|     0.0|                -1| 0900-0959|      0.0|            null|     0.0|          55.0|             55.0|   33.0|    1.0|   139.0|            1|        null|        null|    null|         null|             null|2018|    9|\n",
      "|      3|         7|        5|2018-09-07|           UA|    19977|     UA| N838UA|     2090|          12266|           1226603|             31453|   IAH|         Houston, TX|         TX|             48|          Texas|       74|        10693|         1069302|           30693| BNA|     Nashville, TN|       TN|           47|    Tennessee|     54|      0740|   0734|    -6.0|            0.0|     0.0|                  -1| 0700-0759|   21.0|     0755|    0925|   7.0|      0944|   0932|   -12.0|            0.0|     0.0|                -1| 0900-0959|      0.0|            null|     0.0|         124.0|            118.0|   90.0|    1.0|   657.0|            3|        null|        null|    null|         null|             null|2018|    9|\n",
      "|      3|         9|        7|2018-09-09|           MQ|    20398|     MQ| N684JW|     3492|          13930|           1393006|             30977|   ORD|         Chicago, IL|         IL|             17|       Illinois|       41|        13367|         1336705|           33367| MLI|        Moline, IL|       IL|           17|     Illinois|     41|      0840|   0831|    -9.0|            0.0|     0.0|                  -1| 0800-0859|   18.0|     0849|    0915|   6.0|      0935|   0921|   -14.0|            0.0|     0.0|                -1| 0900-0959|      0.0|            null|     0.0|          55.0|             50.0|   26.0|    1.0|   139.0|            1|        null|        null|    null|         null|             null|2018|    9|\n",
      "|      3|         7|        5|2018-09-07|           UA|    19977|     UA| N38467|     2089|          14122|           1412202|             30198|   PIT|      Pittsburgh, PA|         PA|             42|   Pennsylvania|       23|        11292|         1129202|           30325| DEN|        Denver, CO|       CO|            8|     Colorado|     82|      0850|   0846|    -4.0|            0.0|     0.0|                  -1| 0800-0859|   23.0|     0909|    1008|   9.0|      1010|   1017|     7.0|            7.0|     0.0|                 0| 1000-1059|      0.0|            null|     0.0|         200.0|            211.0|  179.0|    1.0|  1290.0|            6|        null|        null|    null|         null|             null|2018|    9|\n",
      "|      3|        10|        1|2018-09-10|           MQ|    20398|     MQ| N667GB|     3492|          13930|           1393006|             30977|   ORD|         Chicago, IL|         IL|             17|       Illinois|       41|        13367|         1336705|           33367| MLI|        Moline, IL|       IL|           17|     Illinois|     41|      0840|   0834|    -6.0|            0.0|     0.0|                  -1| 0800-0859|   23.0|     0857|    0925|   4.0|      0935|   0929|    -6.0|            0.0|     0.0|                -1| 0900-0959|      0.0|            null|     0.0|          55.0|             55.0|   28.0|    1.0|   139.0|            1|        null|        null|    null|         null|             null|2018|    9|\n",
      "|      3|         7|        5|2018-09-07|           UA|    19977|     UA| N448UA|     2088|          11292|           1129202|             30325|   DEN|          Denver, CO|         CO|              8|       Colorado|       82|        14869|         1486903|           34614| SLC|Salt Lake City, UT|       UT|           49|         Utah|     87|      1127|   1126|    -1.0|            0.0|     0.0|                  -1| 1100-1159|   14.0|     1140|    1242|   6.0|      1304|   1248|   -16.0|            0.0|     0.0|                -2| 1300-1359|      0.0|            null|     0.0|          97.0|             82.0|   62.0|    1.0|   391.0|            2|        null|        null|    null|         null|             null|2018|    9|\n",
      "|      3|        11|        2|2018-09-11|           MQ|    20398|     MQ| N642AE|     3492|          13930|           1393006|             30977|   ORD|         Chicago, IL|         IL|             17|       Illinois|       41|        13367|         1336705|           33367| MLI|        Moline, IL|       IL|           17|     Illinois|     41|      0840|   0829|   -11.0|            0.0|     0.0|                  -1| 0800-0859|   12.0|     0841|    0908|   8.0|      0935|   0916|   -19.0|            0.0|     0.0|                -2| 0900-0959|      0.0|            null|     0.0|          55.0|             47.0|   27.0|    1.0|   139.0|            1|        null|        null|    null|         null|             null|2018|    9|\n",
      "|      3|         7|        5|2018-09-07|           UA|    19977|     UA| N17719|     2087|          14893|           1489302|             33192|   SMF|      Sacramento, CA|         CA|              6|     California|       91|        12266|         1226603|           31453| IAH|       Houston, TX|       TX|           48|        Texas|     74|      1255|   1249|    -6.0|            0.0|     0.0|                  -1| 1200-1259|   14.0|     1303|    1823|   3.0|      1830|   1826|    -4.0|            0.0|     0.0|                -1| 1800-1859|      0.0|            null|     0.0|         215.0|            217.0|  200.0|    1.0|  1609.0|            7|        null|        null|    null|         null|             null|2018|    9|\n",
      "|      3|        12|        3|2018-09-12|           MQ|    20398|     MQ| N663AR|     3492|          13930|           1393006|             30977|   ORD|         Chicago, IL|         IL|             17|       Illinois|       41|        13367|         1336705|           33367| MLI|        Moline, IL|       IL|           17|     Illinois|     41|      0840|   0834|    -6.0|            0.0|     0.0|                  -1| 0800-0859|   24.0|     0858|    0925|   4.0|      0935|   0929|    -6.0|            0.0|     0.0|                -1| 0900-0959|      0.0|            null|     0.0|          55.0|             55.0|   27.0|    1.0|   139.0|            1|        null|        null|    null|         null|             null|2018|    9|\n",
      "|      3|         7|        5|2018-09-07|           UA|    19977|     UA| N455UA|     2086|          14893|           1489302|             33192|   SMF|      Sacramento, CA|         CA|              6|     California|       91|        14771|         1477104|           32457| SFO| San Francisco, CA|       CA|            6|   California|     91|      0600|   0558|    -2.0|            0.0|     0.0|                  -1| 0600-0659|   18.0|     0616|    0646|   5.0|      0655|   0651|    -4.0|            0.0|     0.0|                -1| 0600-0659|      0.0|            null|     0.0|          55.0|             53.0|   30.0|    1.0|    86.0|            1|        null|        null|    null|         null|             null|2018|    9|\n",
      "|      3|        13|        4|2018-09-13|           MQ|    20398|     MQ| N694AE|     3492|          13930|           1393006|             30977|   ORD|         Chicago, IL|         IL|             17|       Illinois|       41|        13367|         1336705|           33367| MLI|        Moline, IL|       IL|           17|     Illinois|     41|      0840|   0836|    -4.0|            0.0|     0.0|                  -1| 0800-0859|   13.0|     0849|    0915|   5.0|      0935|   0920|   -15.0|            0.0|     0.0|                -1| 0900-0959|      0.0|            null|     0.0|          55.0|             44.0|   26.0|    1.0|   139.0|            1|        null|        null|    null|         null|             null|2018|    9|\n",
      "|      3|         7|        5|2018-09-07|           UA|    19977|     UA| N854UA|     2085|          12266|           1226603|             31453|   IAH|         Houston, TX|         TX|             48|          Texas|       74|        13495|         1349505|           33495| MSY|   New Orleans, LA|       LA|           22|    Louisiana|     72|      2013|   2032|    19.0|           19.0|     1.0|                   1| 2000-2059|   25.0|     2057|    2141|   2.0|      2121|   2143|    22.0|           22.0|     1.0|                 1| 2100-2159|      0.0|            null|     0.0|          68.0|             71.0|   44.0|    1.0|   305.0|            2|        19.0|         0.0|     3.0|          0.0|              0.0|2018|    9|\n",
      "|      3|        14|        5|2018-09-14|           MQ|    20398|     MQ| N931AE|     3492|          13930|           1393006|             30977|   ORD|         Chicago, IL|         IL|             17|       Illinois|       41|        13367|         1336705|           33367| MLI|        Moline, IL|       IL|           17|     Illinois|     41|      0840|   0909|    29.0|           29.0|     1.0|                   1| 0800-0859|   18.0|     0927|    0955|   3.0|      0935|   0958|    23.0|           23.0|     1.0|                 1| 0900-0959|      0.0|            null|     0.0|          55.0|             49.0|   28.0|    1.0|   139.0|            1|        23.0|         0.0|     0.0|          0.0|              0.0|2018|    9|\n",
      "|      3|         7|        5|2018-09-07|           UA|    19977|     UA| N15710|     2082|          14057|           1405702|             34057|   PDX|        Portland, OR|         OR|             41|         Oregon|       92|        12266|         1226603|           31453| IAH|       Houston, TX|       TX|           48|        Texas|     74|      0500|   0451|    -9.0|            0.0|     0.0|                  -1| 0001-0559|   14.0|     0505|    1042|   3.0|      1057|   1045|   -12.0|            0.0|     0.0|                -1| 1000-1059|      0.0|            null|     0.0|         237.0|            234.0|  217.0|    1.0|  1825.0|            8|        null|        null|    null|         null|             null|2018|    9|\n",
      "|      3|        16|        7|2018-09-16|           MQ|    20398|     MQ| N652RS|     3492|          13930|           1393006|             30977|   ORD|         Chicago, IL|         IL|             17|       Illinois|       41|        13367|         1336705|           33367| MLI|        Moline, IL|       IL|           17|     Illinois|     41|      0840|   0832|    -8.0|            0.0|     0.0|                  -1| 0800-0859|   23.0|     0855|    0921|   5.0|      0935|   0926|    -9.0|            0.0|     0.0|                -1| 0900-0959|      0.0|            null|     0.0|          55.0|             54.0|   26.0|    1.0|   139.0|            1|        null|        null|    null|         null|             null|2018|    9|\n",
      "+-------+----------+---------+----------+-------------+---------+-------+-------+---------+---------------+------------------+------------------+------+--------------------+-----------+---------------+---------------+---------+-------------+----------------+----------------+----+------------------+---------+-------------+-------------+-------+----------+-------+--------+---------------+--------+--------------------+----------+-------+---------+--------+------+----------+-------+--------+---------------+--------+------------------+----------+---------+----------------+--------+--------------+-----------------+-------+-------+--------+-------------+------------+------------+--------+-------------+-----------------+----+-----+\n",
      "only showing top 20 rows\n",
      "\n"
     ]
    }
   ],
   "source": [
    "# Our main data source\n",
    "on_time_df = spark.read.parquet('file:///disk/airline-data-processed/airline-data.parquet')\n",
    "on_time_df.show()"
   ]
  },
  {
   "cell_type": "markdown",
   "metadata": {
    "slideshow": {
     "slide_type": "subslide"
    }
   },
   "source": [
    "That is a bit brutal to look at... Consider examining like:"
   ]
  },
  {
   "cell_type": "code",
   "execution_count": 12,
   "metadata": {
    "slideshow": {
     "slide_type": "fragment"
    }
   },
   "outputs": [
    {
     "data": {
      "text/plain": [
       "['Quarter',\n",
       " 'DayofMonth',\n",
       " 'DayOfWeek',\n",
       " 'FlightDate',\n",
       " 'UniqueCarrier',\n",
       " 'AirlineID',\n",
       " 'Carrier',\n",
       " 'TailNum',\n",
       " 'FlightNum',\n",
       " 'OriginAirportID',\n",
       " 'OriginAirportSeqID',\n",
       " 'OriginCityMarketID',\n",
       " 'Origin',\n",
       " 'OriginCityName',\n",
       " 'OriginState',\n",
       " 'OriginStateFips',\n",
       " 'OriginStateName',\n",
       " 'OriginWac',\n",
       " 'DestAirportID',\n",
       " 'DestAirportSeqID',\n",
       " 'DestCityMarketID',\n",
       " 'Dest',\n",
       " 'DestCityName',\n",
       " 'DestState',\n",
       " 'DestStateFips',\n",
       " 'DestStateName',\n",
       " 'DestWac',\n",
       " 'CRSDepTime',\n",
       " 'DepTime',\n",
       " 'DepDelay',\n",
       " 'DepDelayMinutes',\n",
       " 'DepDel15',\n",
       " 'DepartureDelayGroups',\n",
       " 'DepTimeBlk',\n",
       " 'TaxiOut',\n",
       " 'WheelsOff',\n",
       " 'WheelsOn',\n",
       " 'TaxiIn',\n",
       " 'CRSArrTime',\n",
       " 'ArrTime',\n",
       " 'ArrDelay',\n",
       " 'ArrDelayMinutes',\n",
       " 'ArrDel15',\n",
       " 'ArrivalDelayGroups',\n",
       " 'ArrTimeBlk',\n",
       " 'Cancelled',\n",
       " 'CancellationCode',\n",
       " 'Diverted',\n",
       " 'CRSElapsedTime',\n",
       " 'ActualElapsedTime',\n",
       " 'AirTime',\n",
       " 'Flights',\n",
       " 'Distance',\n",
       " 'DistanceGroup',\n",
       " 'CarrierDelay',\n",
       " 'WeatherDelay',\n",
       " 'NASDelay',\n",
       " 'SecurityDelay',\n",
       " 'LateAircraftDelay',\n",
       " 'Year',\n",
       " 'Month']"
      ]
     },
     "execution_count": 12,
     "metadata": {},
     "output_type": "execute_result"
    }
   ],
   "source": [
    "on_time_df.columns"
   ]
  },
  {
   "cell_type": "code",
   "execution_count": 13,
   "metadata": {
    "slideshow": {
     "slide_type": "subslide"
    }
   },
   "outputs": [
    {
     "data": {
      "text/plain": [
       "Row(Quarter=3, DayofMonth=7, DayOfWeek=5, FlightDate=datetime.date(2018, 9, 7), UniqueCarrier='UA', AirlineID=19977, Carrier='UA', TailNum='N37502', FlightNum=2094, OriginAirportID=14679, OriginAirportSeqID=1467903, OriginCityMarketID=33570, Origin='SAN', OriginCityName='San Diego, CA', OriginState='CA', OriginStateFips=6, OriginStateName='California', OriginWac=91, DestAirportID=12266, DestAirportSeqID=1226603, DestCityMarketID=31453, Dest='IAH', DestCityName='Houston, TX', DestState='TX', DestStateFips=48, DestStateName='Texas', DestWac=74, CRSDepTime='0750', DepTime='0747', DepDelay=-3.0, DepDelayMinutes=0.0, DepDel15=0.0, DepartureDelayGroups=-1, DepTimeBlk='0700-0759', TaxiOut=18.0, WheelsOff='0805', WheelsOn='1248', TaxiIn=8.0, CRSArrTime='1256', ArrTime='1256', ArrDelay=0.0, ArrDelayMinutes=0.0, ArrDel15=0.0, ArrivalDelayGroups=0, ArrTimeBlk='1200-1259', Cancelled=0.0, CancellationCode=None, Diverted=0.0, CRSElapsedTime=186.0, ActualElapsedTime=189.0, AirTime=163.0, Flights=1.0, Distance=1303.0, DistanceGroup=6, CarrierDelay=None, WeatherDelay=None, NASDelay=None, SecurityDelay=None, LateAircraftDelay=None, Year=2018, Month=9)"
      ]
     },
     "execution_count": 13,
     "metadata": {},
     "output_type": "execute_result"
    }
   ],
   "source": [
    "# The first row\n",
    "on_time_df.first()"
   ]
  },
  {
   "cell_type": "markdown",
   "metadata": {
    "slideshow": {
     "slide_type": "subslide"
    }
   },
   "source": [
    "What if you want to average AirTime?"
   ]
  },
  {
   "cell_type": "code",
   "execution_count": 14,
   "metadata": {
    "slideshow": {
     "slide_type": "subslide"
    }
   },
   "outputs": [
    {
     "name": "stdout",
     "output_type": "stream",
     "text": [
      "+----------------+\n",
      "|    avg(AirTime)|\n",
      "+----------------+\n",
      "|106.840895516509|\n",
      "+----------------+\n",
      "\n"
     ]
    }
   ],
   "source": [
    "from pyspark.sql.functions import avg, col\n",
    "\n",
    "on_time_df.select('AirTime').agg(\n",
    "    avg(col('AirTime'))\n",
    ").show()"
   ]
  },
  {
   "cell_type": "markdown",
   "metadata": {
    "slideshow": {
     "slide_type": "subslide"
    }
   },
   "source": [
    "So we need navigate a fine line where I don't throw the entire Spark SQL API at you, but there are some functions above that should be discussed. The first is select which you can use to get a subset of the columns. This is important for memory usage. Load only what you need :). The next few are agg which is short for aggregate. Then there is col which selects the column and then avg which of course is average. If you know sql, you can also rely on SQL to work the magic."
   ]
  },
  {
   "cell_type": "code",
   "execution_count": 15,
   "metadata": {
    "slideshow": {
     "slide_type": "subslide"
    }
   },
   "outputs": [
    {
     "name": "stdout",
     "output_type": "stream",
     "text": [
      "+----------------+\n",
      "|    avg(AirTime)|\n",
      "+----------------+\n",
      "|106.840895516509|\n",
      "+----------------+\n",
      "\n"
     ]
    }
   ],
   "source": [
    "on_time_df.select('AirTime').createOrReplaceTempView(\"AirTimeView\") # create a temporary view so we can query our data\n",
    "\n",
    "sqlDF = spark.sql(\"SELECT avg(AirTime) FROM AirTimeView\").show()"
   ]
  },
  {
   "cell_type": "markdown",
   "metadata": {
    "slideshow": {
     "slide_type": "subslide"
    }
   },
   "source": [
    "I don't know about you, but since I already know SQL or at least some SQL, I'm very excited that I can use that. For this topic in general, please use what makes sense to you to accomplish the job."
   ]
  },
  {
   "cell_type": "markdown",
   "metadata": {
    "slideshow": {
     "slide_type": "subslide"
    }
   },
   "source": [
    "What if I wanted average air time per month?"
   ]
  },
  {
   "cell_type": "code",
   "execution_count": 16,
   "metadata": {
    "slideshow": {
     "slide_type": "fragment"
    }
   },
   "outputs": [
    {
     "name": "stdout",
     "output_type": "stream",
     "text": [
      "+-----+------------------+\n",
      "|Month|      avg(AirTime)|\n",
      "+-----+------------------+\n",
      "|   12| 108.9605027894764|\n",
      "|    1|106.82890250362068|\n",
      "|    6|106.96005748333293|\n",
      "|    3|108.13478826356425|\n",
      "|    5|106.01523155420969|\n",
      "|    9|105.11722965450537|\n",
      "|    4|106.98955608533186|\n",
      "|    8|106.53259036679218|\n",
      "|    7|107.72642114700079|\n",
      "|   10|105.03766685659184|\n",
      "|   11|106.60017004471732|\n",
      "|    2|107.08287579839748|\n",
      "+-----+------------------+\n",
      "\n"
     ]
    }
   ],
   "source": [
    "on_time_df.select('AirTime','Month').createOrReplaceTempView(\"AirTimeView\") # create a temporary view so we can query our data\n",
    "\n",
    "sqlDF = spark.sql(\"SELECT Month, avg(AirTime) FROM AirTimeView group by Month\").show()"
   ]
  },
  {
   "cell_type": "code",
   "execution_count": 17,
   "metadata": {
    "slideshow": {
     "slide_type": "subslide"
    }
   },
   "outputs": [
    {
     "name": "stdout",
     "output_type": "stream",
     "text": [
      "+-----+------------------+\n",
      "|Month|      avg(AirTime)|\n",
      "+-----+------------------+\n",
      "|   12| 108.9605027894764|\n",
      "|    1|106.82890250362068|\n",
      "|    6|106.96005748333293|\n",
      "|    3|108.13478826356425|\n",
      "|    5|106.01523155420969|\n",
      "|    9|105.11722965450537|\n",
      "|    4|106.98955608533186|\n",
      "|    8|106.53259036679218|\n",
      "|    7|107.72642114700079|\n",
      "|   10|105.03766685659184|\n",
      "|   11|106.60017004471732|\n",
      "|    2|107.08287579839748|\n",
      "+-----+------------------+\n",
      "\n"
     ]
    }
   ],
   "source": [
    "on_time_df.select('AirTime','Month').groupBy(\n",
    "    'Month'\n",
    ").agg(\n",
    "    avg(col('AirTime'))\n",
    ").show()"
   ]
  },
  {
   "cell_type": "markdown",
   "metadata": {
    "slideshow": {
     "slide_type": "subslide"
    }
   },
   "source": [
    "Pretty nice right? You can see why companies might really value engineers who can bring data processing skills with them.\n",
    "\n",
    "Let's now read in some data that helps us map Carrier name to AirlineName."
   ]
  },
  {
   "cell_type": "code",
   "execution_count": 18,
   "metadata": {
    "slideshow": {
     "slide_type": "subslide"
    }
   },
   "outputs": [],
   "source": [
    "airlines = spark.read.parquet('file:///disk/airline-data/DOT_airline_codes_table')"
   ]
  },
  {
   "cell_type": "code",
   "execution_count": 19,
   "metadata": {
    "slideshow": {
     "slide_type": "fragment"
    }
   },
   "outputs": [
    {
     "name": "stdout",
     "output_type": "stream",
     "text": [
      "+---------+--------------------+-------+\n",
      "|AirlineID|         AirlineName|Carrier|\n",
      "+---------+--------------------+-------+\n",
      "|    19031|Mackey Internatio...|    MAC|\n",
      "|    19032|Munz Northern Air...|     XY|\n",
      "|    19033|Cochise Airlines ...|    COC|\n",
      "|    19034|Golden Gate Airli...|    GSA|\n",
      "|    19035|       Aeromech Inc.|    RZZ|\n",
      "|    19036|Golden West Airli...|    GLW|\n",
      "|    19037|Puerto Rico Intl ...|    PRN|\n",
      "|    19038|    Air America Inc.|    STZ|\n",
      "|    19039|Swift Aire Lines ...|    SWT|\n",
      "|    19040|American Central ...|    TSF|\n",
      "|    19041|     Valdez Airlines|    VEZ|\n",
      "|    19042|Southeast Alaska ...|    WEB|\n",
      "|    19043|Altair Airlines Inc.|    AAR|\n",
      "|    19044| Chitina Air Service|    CHI|\n",
      "|    19045|Marco Island Airw...|    MRC|\n",
      "|    19046|Caribbean Air Ser...|    OHZ|\n",
      "|    19047|   Sundance Airlines|    PRO|\n",
      "|    19048|Seair Alaska Airl...|    SAI|\n",
      "|    19049|Southeast Airline...|    SLZ|\n",
      "|    19050|Alaska Aeronautic...|    AAZ|\n",
      "+---------+--------------------+-------+\n",
      "only showing top 20 rows\n",
      "\n"
     ]
    }
   ],
   "source": [
    "airlines.show()"
   ]
  },
  {
   "cell_type": "markdown",
   "metadata": {
    "slideshow": {
     "slide_type": "subslide"
    }
   },
   "source": [
    "What if we want to apply a user defined function? Here is an example where a new function is defined that combines Year and Month into a string. I also use the sample function to illustrate how to get a random subset of the data. Finally, I show an important function called ``cache``. It is important because we may want to reuse a result. Cache tells Spark that we want to reuse something so please try to keep it cached for us. Finally, I show how you can use orderBy to sort the data."
   ]
  },
  {
   "cell_type": "code",
   "execution_count": 20,
   "metadata": {
    "slideshow": {
     "slide_type": "subslide"
    }
   },
   "outputs": [
    {
     "name": "stdout",
     "output_type": "stream",
     "text": [
      "+----+-----+---------+\n",
      "|Year|Month|YearMonth|\n",
      "+----+-----+---------+\n",
      "|2018|    9|  2018-09|\n",
      "|2004|    6|  2004-06|\n",
      "|2016|    3|  2016-03|\n",
      "|2016|    3|  2016-03|\n",
      "|2018|   11|  2018-11|\n",
      "|2018|    6|  2018-06|\n",
      "|2007|    3|  2007-03|\n",
      "|2007|    1|  2007-01|\n",
      "|2006|    9|  2006-09|\n",
      "|2018|    8|  2018-08|\n",
      "|2013|    6|  2013-06|\n",
      "|2007|    7|  2007-07|\n",
      "|2013|    7|  2013-07|\n",
      "|2007|    9|  2007-09|\n",
      "|2008|    2|  2008-02|\n",
      "|2009|    7|  2009-07|\n",
      "|2009|    7|  2009-07|\n",
      "|2010|    8|  2010-08|\n",
      "|2005|   12|  2005-12|\n",
      "|2004|    4|  2004-04|\n",
      "+----+-----+---------+\n",
      "only showing top 20 rows\n",
      "\n"
     ]
    }
   ],
   "source": [
    "from pyspark.sql.functions import udf\n",
    "from pyspark.sql.types import StringType\n",
    "\n",
    "def getYearMonthStr(year, month):\n",
    "    return '%d-%02d'%(year,month)\n",
    "\n",
    "udfGetYearMonthStr = udf(getYearMonthStr, StringType())\n",
    "\n",
    "example1 = on_time_df.select('Year','Month').withColumn(\n",
    "    'YearMonth', udfGetYearMonthStr('Year','Month')).sample(0.000001).cache()\n",
    "\n",
    "example1.show()"
   ]
  },
  {
   "cell_type": "code",
   "execution_count": 21,
   "metadata": {
    "slideshow": {
     "slide_type": "subslide"
    }
   },
   "outputs": [
    {
     "name": "stdout",
     "output_type": "stream",
     "text": [
      "+----+-----+---------+\n",
      "|Year|Month|YearMonth|\n",
      "+----+-----+---------+\n",
      "|2003|    1|  2003-01|\n",
      "|2003|    3|  2003-03|\n",
      "|2003|    3|  2003-03|\n",
      "|2003|    4|  2003-04|\n",
      "|2003|    6|  2003-06|\n",
      "|2003|    6|  2003-06|\n",
      "|2003|   10|  2003-10|\n",
      "|2004|    3|  2004-03|\n",
      "|2004|    4|  2004-04|\n",
      "|2004|    4|  2004-04|\n",
      "|2004|    6|  2004-06|\n",
      "|2004|    8|  2004-08|\n",
      "|2004|    9|  2004-09|\n",
      "|2004|   10|  2004-10|\n",
      "|2004|   10|  2004-10|\n",
      "|2004|   12|  2004-12|\n",
      "|2005|    2|  2005-02|\n",
      "|2005|    3|  2005-03|\n",
      "|2005|    5|  2005-05|\n",
      "|2005|   10|  2005-10|\n",
      "+----+-----+---------+\n",
      "only showing top 20 rows\n",
      "\n"
     ]
    }
   ],
   "source": [
    "example1.orderBy('YearMonth').show()"
   ]
  },
  {
   "cell_type": "markdown",
   "metadata": {
    "slideshow": {
     "slide_type": "subslide"
    }
   },
   "source": [
    "Finally, there are a number of things to make the world go round, such as renaming a column:\n",
    "```python\n",
    "df.withColumnRenamed(\"dob\",\"DateOfBirth\").printSchema()\n",
    "```"
   ]
  },
  {
   "cell_type": "code",
   "execution_count": 22,
   "metadata": {
    "slideshow": {
     "slide_type": "subslide"
    }
   },
   "outputs": [],
   "source": [
    "def getYearMonthStr(year, month):\n",
    "    return '%d-%02d'%(year,month)\n",
    "\n",
    "udfGetYearMonthStr = udf(getYearMonthStr, StringType())"
   ]
  },
  {
   "cell_type": "markdown",
   "metadata": {},
   "source": [
    "**Exercise 1:** Create a dataframe that contains the average delay for each airline for each month of each year (i.e., group by carrier, year, and month):\n",
    "* Columns: Carrier, average_delay, YearMonth\n",
    "* Carrier must be one of the following: 'AA','WN','DL','UA','MQ','EV','AS','VX'\n",
    "* Must be ordered by YearMonth, Carrier\n",
    "* The column to aggregate is ArrDelay"
   ]
  },
  {
   "cell_type": "code",
   "execution_count": 23,
   "metadata": {
    "slideshow": {
     "slide_type": "subslide"
    }
   },
   "outputs": [],
   "source": [
    "def exercise_1(on_time_df):\n",
    "    result = None\n",
    "    # Your solution here\n",
    "    return result"
   ]
  },
  {
   "cell_type": "code",
   "execution_count": 24,
   "metadata": {
    "slideshow": {
     "slide_type": "subslide"
    }
   },
   "outputs": [
    {
     "name": "stdout",
     "output_type": "stream",
     "text": [
      "+-------+-------------------+---------+\n",
      "|Carrier|      average_delay|YearMonth|\n",
      "+-------+-------------------+---------+\n",
      "|     AA|-1.7389585107677332|  2003-01|\n",
      "|     AS| 0.9330533596837944|  2003-01|\n",
      "|     DL| 0.5961176570314487|  2003-01|\n",
      "|     EV|  4.787899330565207|  2003-01|\n",
      "|     MQ|  3.932421379213087|  2003-01|\n",
      "|     UA|-1.0406547214673914|  2003-01|\n",
      "|     WN| 0.9824094678087045|  2003-01|\n",
      "|     AA| 2.6314517551596404|  2003-02|\n",
      "|     AS|  4.260234991738572|  2003-02|\n",
      "|     DL|  5.211223847726915|  2003-02|\n",
      "|     EV|  9.873830172962908|  2003-02|\n",
      "|     MQ|    7.2193594912643|  2003-02|\n",
      "|     UA| 0.6762339377927225|  2003-02|\n",
      "|     WN|  5.340074655969692|  2003-02|\n",
      "|     AA|-2.0331744783232315|  2003-03|\n",
      "|     AS|  1.960201429499675|  2003-03|\n",
      "|     DL| 1.8281763060511822|  2003-03|\n",
      "|     EV|  9.114690219509027|  2003-03|\n",
      "|     MQ|  1.166732684472612|  2003-03|\n",
      "|     UA|0.24932108018857677|  2003-03|\n",
      "+-------+-------------------+---------+\n",
      "only showing top 20 rows\n",
      "\n"
     ]
    }
   ],
   "source": [
    "airline_delay = exercise_1(on_time_df)\n",
    "airline_delay.show()"
   ]
  },
  {
   "cell_type": "markdown",
   "metadata": {
    "slideshow": {
     "slide_type": "subslide"
    }
   },
   "source": [
    "**Exercise 2:** Now add a column with the airline name (i.e., use a join). Here is an example from the Spark documentation. Please order your result by YearMonth and Carrier.\n",
    "\n",
    "```python\n",
    "# To create DataFrame using SparkSession\n",
    "people = spark.read.parquet(\"...\")\n",
    "department = spark.read.parquet(\"...\")\n",
    "\n",
    "people.filter(people.age > 30).join(department, people.deptId == department.id) \\\n",
    "  .groupBy(department.name, \"gender\").agg({\"salary\": \"avg\", \"age\": \"max\"})\n",
    "```"
   ]
  },
  {
   "cell_type": "code",
   "execution_count": 25,
   "metadata": {
    "slideshow": {
     "slide_type": "subslide"
    }
   },
   "outputs": [],
   "source": [
    "def exercise_2(airline_delay,airlines):\n",
    "    result = None\n",
    "    # Your solution here\n",
    "    return result"
   ]
  },
  {
   "cell_type": "code",
   "execution_count": 26,
   "metadata": {
    "slideshow": {
     "slide_type": "subslide"
    }
   },
   "outputs": [
    {
     "name": "stdout",
     "output_type": "stream",
     "text": [
      "+-------+-------------------+---------+--------------------+\n",
      "|Carrier|      average_delay|YearMonth|         AirlineName|\n",
      "+-------+-------------------+---------+--------------------+\n",
      "|     AA|-1.7389585107677332|  2003-01|American Airlines...|\n",
      "|     AS| 0.9330533596837944|  2003-01|Alaska Airlines Inc.|\n",
      "|     DL| 0.5961176570314487|  2003-01|Delta Air Lines Inc.|\n",
      "|     EV|  4.787899330565207|  2003-01|ExpressJet Airlin...|\n",
      "|     MQ|  3.932421379213087|  2003-01|           Envoy Air|\n",
      "|     UA|-1.0406547214673914|  2003-01|United Air Lines ...|\n",
      "|     WN| 0.9824094678087045|  2003-01|Southwest Airline...|\n",
      "|     AA| 2.6314517551596404|  2003-02|American Airlines...|\n",
      "|     AS|  4.260234991738572|  2003-02|Alaska Airlines Inc.|\n",
      "|     DL|  5.211223847726915|  2003-02|Delta Air Lines Inc.|\n",
      "|     EV|  9.873830172962908|  2003-02|ExpressJet Airlin...|\n",
      "|     MQ|    7.2193594912643|  2003-02|           Envoy Air|\n",
      "|     UA| 0.6762339377927225|  2003-02|United Air Lines ...|\n",
      "|     WN|  5.340074655969692|  2003-02|Southwest Airline...|\n",
      "|     AA|-2.0331744783232315|  2003-03|American Airlines...|\n",
      "|     AS|  1.960201429499675|  2003-03|Alaska Airlines Inc.|\n",
      "|     DL| 1.8281763060511822|  2003-03|Delta Air Lines Inc.|\n",
      "|     EV|  9.114690219509027|  2003-03|ExpressJet Airlin...|\n",
      "|     MQ|  1.166732684472612|  2003-03|           Envoy Air|\n",
      "|     UA|0.24932108018857677|  2003-03|United Air Lines ...|\n",
      "+-------+-------------------+---------+--------------------+\n",
      "only showing top 20 rows\n",
      "\n"
     ]
    }
   ],
   "source": [
    "airline_delay2 = exercise_2(airline_delay,airlines)\n",
    "airline_delay2.show()"
   ]
  },
  {
   "cell_type": "markdown",
   "metadata": {
    "slideshow": {
     "slide_type": "subslide"
    }
   },
   "source": [
    "If you did everything correctly, you are now rewarded with a nice graph :)"
   ]
  },
  {
   "cell_type": "code",
   "execution_count": 27,
   "metadata": {
    "slideshow": {
     "slide_type": "subslide"
    }
   },
   "outputs": [
    {
     "data": {
      "text/html": [
       "\n",
       "<div id=\"altair-viz-553fdc494db741f6aba5725b9dc0541f\"></div>\n",
       "<script type=\"text/javascript\">\n",
       "  (function(spec, embedOpt){\n",
       "    let outputDiv = document.currentScript.previousElementSibling;\n",
       "    if (outputDiv.id !== \"altair-viz-553fdc494db741f6aba5725b9dc0541f\") {\n",
       "      outputDiv = document.getElementById(\"altair-viz-553fdc494db741f6aba5725b9dc0541f\");\n",
       "    }\n",
       "    const paths = {\n",
       "      \"vega\": \"https://cdn.jsdelivr.net/npm//vega@5?noext\",\n",
       "      \"vega-lib\": \"https://cdn.jsdelivr.net/npm//vega-lib?noext\",\n",
       "      \"vega-lite\": \"https://cdn.jsdelivr.net/npm//vega-lite@4.8.1?noext\",\n",
       "      \"vega-embed\": \"https://cdn.jsdelivr.net/npm//vega-embed@6?noext\",\n",
       "    };\n",
       "\n",
       "    function loadScript(lib) {\n",
       "      return new Promise(function(resolve, reject) {\n",
       "        var s = document.createElement('script');\n",
       "        s.src = paths[lib];\n",
       "        s.async = true;\n",
       "        s.onload = () => resolve(paths[lib]);\n",
       "        s.onerror = () => reject(`Error loading script: ${paths[lib]}`);\n",
       "        document.getElementsByTagName(\"head\")[0].appendChild(s);\n",
       "      });\n",
       "    }\n",
       "\n",
       "    function showError(err) {\n",
       "      outputDiv.innerHTML = `<div class=\"error\" style=\"color:red;\">${err}</div>`;\n",
       "      throw err;\n",
       "    }\n",
       "\n",
       "    function displayChart(vegaEmbed) {\n",
       "      vegaEmbed(outputDiv, spec, embedOpt)\n",
       "        .catch(err => showError(`Javascript Error: ${err.message}<br>This usually means there's a typo in your chart specification. See the javascript console for the full traceback.`));\n",
       "    }\n",
       "\n",
       "    if(typeof define === \"function\" && define.amd) {\n",
       "      requirejs.config({paths});\n",
       "      require([\"vega-embed\"], displayChart, err => showError(`Error loading script: ${err.message}`));\n",
       "    } else if (typeof vegaEmbed === \"function\") {\n",
       "      displayChart(vegaEmbed);\n",
       "    } else {\n",
       "      loadScript(\"vega\")\n",
       "        .then(() => loadScript(\"vega-lite\"))\n",
       "        .then(() => loadScript(\"vega-embed\"))\n",
       "        .catch(showError)\n",
       "        .then(() => displayChart(vegaEmbed));\n",
       "    }\n",
       "  })({\"config\": {\"view\": {\"continuousWidth\": 400, \"continuousHeight\": 300}}, \"data\": {\"name\": \"data-d0034269b9edac0d122cbe02699198e4\"}, \"mark\": \"line\", \"encoding\": {\"color\": {\"type\": \"nominal\", \"field\": \"AirlineName\"}, \"x\": {\"type\": \"nominal\", \"field\": \"YearMonth\"}, \"y\": {\"type\": \"quantitative\", \"field\": \"average_delay\"}}, \"$schema\": \"https://vega.github.io/schema/vega-lite/v4.8.1.json\", \"datasets\": {\"data-d0034269b9edac0d122cbe02699198e4\": [{\"Carrier\": \"AA\", \"average_delay\": -1.7389585107677332, \"YearMonth\": \"2003-01\", \"AirlineName\": \"American Airlines Inc.\"}, {\"Carrier\": \"AS\", \"average_delay\": 0.9330533596837944, \"YearMonth\": \"2003-01\", \"AirlineName\": \"Alaska Airlines Inc.\"}, {\"Carrier\": \"DL\", \"average_delay\": 0.5961176570314487, \"YearMonth\": \"2003-01\", \"AirlineName\": \"Delta Air Lines Inc.\"}, {\"Carrier\": \"EV\", \"average_delay\": 4.787899330565207, \"YearMonth\": \"2003-01\", \"AirlineName\": \"ExpressJet Airlines LLC\"}, {\"Carrier\": \"MQ\", \"average_delay\": 3.932421379213087, \"YearMonth\": \"2003-01\", \"AirlineName\": \"Envoy Air\"}, {\"Carrier\": \"UA\", \"average_delay\": -1.0406547214673914, \"YearMonth\": \"2003-01\", \"AirlineName\": \"United Air Lines Inc.\"}, {\"Carrier\": \"WN\", \"average_delay\": 0.9824094678087045, \"YearMonth\": \"2003-01\", \"AirlineName\": \"Southwest Airlines Co.\"}, {\"Carrier\": \"AA\", \"average_delay\": 2.6314517551596404, \"YearMonth\": \"2003-02\", \"AirlineName\": \"American Airlines Inc.\"}, {\"Carrier\": \"AS\", \"average_delay\": 4.260234991738572, \"YearMonth\": \"2003-02\", \"AirlineName\": \"Alaska Airlines Inc.\"}, {\"Carrier\": \"DL\", \"average_delay\": 5.211223847726915, \"YearMonth\": \"2003-02\", \"AirlineName\": \"Delta Air Lines Inc.\"}, {\"Carrier\": \"EV\", \"average_delay\": 9.873830172962908, \"YearMonth\": \"2003-02\", \"AirlineName\": \"ExpressJet Airlines LLC\"}, {\"Carrier\": \"MQ\", \"average_delay\": 7.2193594912643, \"YearMonth\": \"2003-02\", \"AirlineName\": \"Envoy Air\"}, {\"Carrier\": \"UA\", \"average_delay\": 0.6762339377927225, \"YearMonth\": \"2003-02\", \"AirlineName\": \"United Air Lines Inc.\"}, {\"Carrier\": \"WN\", \"average_delay\": 5.340074655969692, \"YearMonth\": \"2003-02\", \"AirlineName\": \"Southwest Airlines Co.\"}, {\"Carrier\": \"AA\", \"average_delay\": -2.0331744783232315, \"YearMonth\": \"2003-03\", \"AirlineName\": \"American Airlines Inc.\"}, {\"Carrier\": \"AS\", \"average_delay\": 1.960201429499675, \"YearMonth\": \"2003-03\", \"AirlineName\": \"Alaska Airlines Inc.\"}, {\"Carrier\": \"DL\", \"average_delay\": 1.8281763060511822, \"YearMonth\": \"2003-03\", \"AirlineName\": \"Delta Air Lines Inc.\"}, {\"Carrier\": \"EV\", \"average_delay\": 9.114690219509027, \"YearMonth\": \"2003-03\", \"AirlineName\": \"ExpressJet Airlines LLC\"}, {\"Carrier\": \"MQ\", \"average_delay\": 1.166732684472612, \"YearMonth\": \"2003-03\", \"AirlineName\": \"Envoy Air\"}, {\"Carrier\": \"UA\", \"average_delay\": 0.24932108018857677, \"YearMonth\": \"2003-03\", \"AirlineName\": \"United Air Lines Inc.\"}, {\"Carrier\": \"WN\", \"average_delay\": 1.6814872076205676, \"YearMonth\": \"2003-03\", \"AirlineName\": \"Southwest Airlines Co.\"}, {\"Carrier\": \"AA\", \"average_delay\": -1.0186294186197073, \"YearMonth\": \"2003-04\", \"AirlineName\": \"American Airlines Inc.\"}, {\"Carrier\": \"AS\", \"average_delay\": -1.4868367760226813, \"YearMonth\": \"2003-04\", \"AirlineName\": \"Alaska Airlines Inc.\"}, {\"Carrier\": \"DL\", \"average_delay\": -1.6637300661221315, \"YearMonth\": \"2003-04\", \"AirlineName\": \"Delta Air Lines Inc.\"}, {\"Carrier\": \"EV\", \"average_delay\": 4.496405937646208, \"YearMonth\": \"2003-04\", \"AirlineName\": \"ExpressJet Airlines LLC\"}, {\"Carrier\": \"MQ\", \"average_delay\": -1.4031446168423547, \"YearMonth\": \"2003-04\", \"AirlineName\": \"Envoy Air\"}, {\"Carrier\": \"UA\", \"average_delay\": 0.3291151128119644, \"YearMonth\": \"2003-04\", \"AirlineName\": \"United Air Lines Inc.\"}, {\"Carrier\": \"WN\", \"average_delay\": -0.9543417937425218, \"YearMonth\": \"2003-04\", \"AirlineName\": \"Southwest Airlines Co.\"}, {\"Carrier\": \"AA\", \"average_delay\": 0.9830247161417766, \"YearMonth\": \"2003-05\", \"AirlineName\": \"American Airlines Inc.\"}, {\"Carrier\": \"AS\", \"average_delay\": -0.6741091565178169, \"YearMonth\": \"2003-05\", \"AirlineName\": \"Alaska Airlines Inc.\"}, {\"Carrier\": \"DL\", \"average_delay\": 3.290479607470473, \"YearMonth\": \"2003-05\", \"AirlineName\": \"Delta Air Lines Inc.\"}, {\"Carrier\": \"EV\", \"average_delay\": 8.47726777385467, \"YearMonth\": \"2003-05\", \"AirlineName\": \"ExpressJet Airlines LLC\"}, {\"Carrier\": \"MQ\", \"average_delay\": 0.4029578606158833, \"YearMonth\": \"2003-05\", \"AirlineName\": \"Envoy Air\"}, {\"Carrier\": \"UA\", \"average_delay\": 1.605929657531081, \"YearMonth\": \"2003-05\", \"AirlineName\": \"United Air Lines Inc.\"}, {\"Carrier\": \"WN\", \"average_delay\": -0.438195070634205, \"YearMonth\": \"2003-05\", \"AirlineName\": \"Southwest Airlines Co.\"}, {\"Carrier\": \"AA\", \"average_delay\": 5.154033317653165, \"YearMonth\": \"2003-06\", \"AirlineName\": \"American Airlines Inc.\"}, {\"Carrier\": \"AS\", \"average_delay\": 3.190119655727381, \"YearMonth\": \"2003-06\", \"AirlineName\": \"Alaska Airlines Inc.\"}, {\"Carrier\": \"DL\", \"average_delay\": 4.929269803141479, \"YearMonth\": \"2003-06\", \"AirlineName\": \"Delta Air Lines Inc.\"}, {\"Carrier\": \"EV\", \"average_delay\": 9.99219926098262, \"YearMonth\": \"2003-06\", \"AirlineName\": \"ExpressJet Airlines LLC\"}, {\"Carrier\": \"MQ\", \"average_delay\": 3.647370566653078, \"YearMonth\": \"2003-06\", \"AirlineName\": \"Envoy Air\"}, {\"Carrier\": \"UA\", \"average_delay\": 2.9892041118642547, \"YearMonth\": \"2003-06\", \"AirlineName\": \"United Air Lines Inc.\"}, {\"Carrier\": \"WN\", \"average_delay\": 2.9582734544899596, \"YearMonth\": \"2003-06\", \"AirlineName\": \"Southwest Airlines Co.\"}, {\"Carrier\": \"AA\", \"average_delay\": 9.349605346814087, \"YearMonth\": \"2003-07\", \"AirlineName\": \"American Airlines Inc.\"}, {\"Carrier\": \"AS\", \"average_delay\": 4.0876237948448875, \"YearMonth\": \"2003-07\", \"AirlineName\": \"Alaska Airlines Inc.\"}, {\"Carrier\": \"DL\", \"average_delay\": 8.058953641415618, \"YearMonth\": \"2003-07\", \"AirlineName\": \"Delta Air Lines Inc.\"}, {\"Carrier\": \"EV\", \"average_delay\": 14.995782350760104, \"YearMonth\": \"2003-07\", \"AirlineName\": \"ExpressJet Airlines LLC\"}, {\"Carrier\": \"MQ\", \"average_delay\": 6.017576344576117, \"YearMonth\": \"2003-07\", \"AirlineName\": \"Envoy Air\"}, {\"Carrier\": \"UA\", \"average_delay\": 7.366701277786018, \"YearMonth\": \"2003-07\", \"AirlineName\": \"United Air Lines Inc.\"}, {\"Carrier\": \"WN\", \"average_delay\": 4.759194016935534, \"YearMonth\": \"2003-07\", \"AirlineName\": \"Southwest Airlines Co.\"}, {\"Carrier\": \"AA\", \"average_delay\": 10.616038002957184, \"YearMonth\": \"2003-08\", \"AirlineName\": \"American Airlines Inc.\"}, {\"Carrier\": \"AS\", \"average_delay\": 6.745657894736842, \"YearMonth\": \"2003-08\", \"AirlineName\": \"Alaska Airlines Inc.\"}, {\"Carrier\": \"DL\", \"average_delay\": 8.490085701398286, \"YearMonth\": \"2003-08\", \"AirlineName\": \"Delta Air Lines Inc.\"}, {\"Carrier\": \"EV\", \"average_delay\": 11.221040691904154, \"YearMonth\": \"2003-08\", \"AirlineName\": \"ExpressJet Airlines LLC\"}, {\"Carrier\": \"MQ\", \"average_delay\": 7.062425004285469, \"YearMonth\": \"2003-08\", \"AirlineName\": \"Envoy Air\"}, {\"Carrier\": \"UA\", \"average_delay\": 6.30938350440354, \"YearMonth\": \"2003-08\", \"AirlineName\": \"United Air Lines Inc.\"}, {\"Carrier\": \"WN\", \"average_delay\": 2.9117508434213137, \"YearMonth\": \"2003-08\", \"AirlineName\": \"Southwest Airlines Co.\"}, {\"Carrier\": \"AA\", \"average_delay\": 0.8305130091632666, \"YearMonth\": \"2003-09\", \"AirlineName\": \"American Airlines Inc.\"}, {\"Carrier\": \"AS\", \"average_delay\": -0.31985767279884925, \"YearMonth\": \"2003-09\", \"AirlineName\": \"Alaska Airlines Inc.\"}, {\"Carrier\": \"DL\", \"average_delay\": 1.225729567420475, \"YearMonth\": \"2003-09\", \"AirlineName\": \"Delta Air Lines Inc.\"}, {\"Carrier\": \"EV\", \"average_delay\": 2.776153558752102, \"YearMonth\": \"2003-09\", \"AirlineName\": \"ExpressJet Airlines LLC\"}, {\"Carrier\": \"MQ\", \"average_delay\": 2.00402391019099, \"YearMonth\": \"2003-09\", \"AirlineName\": \"Envoy Air\"}, {\"Carrier\": \"UA\", \"average_delay\": -0.7842096800128638, \"YearMonth\": \"2003-09\", \"AirlineName\": \"United Air Lines Inc.\"}, {\"Carrier\": \"WN\", \"average_delay\": -0.47251627367804233, \"YearMonth\": \"2003-09\", \"AirlineName\": \"Southwest Airlines Co.\"}, {\"Carrier\": \"AA\", \"average_delay\": -0.8339836595582029, \"YearMonth\": \"2003-10\", \"AirlineName\": \"American Airlines Inc.\"}, {\"Carrier\": \"AS\", \"average_delay\": 3.949330711638811, \"YearMonth\": \"2003-10\", \"AirlineName\": \"Alaska Airlines Inc.\"}, {\"Carrier\": \"DL\", \"average_delay\": 2.0494779603036024, \"YearMonth\": \"2003-10\", \"AirlineName\": \"Delta Air Lines Inc.\"}, {\"Carrier\": \"EV\", \"average_delay\": 1.3810129357597019, \"YearMonth\": \"2003-10\", \"AirlineName\": \"ExpressJet Airlines LLC\"}, {\"Carrier\": \"MQ\", \"average_delay\": 0.3847262647262647, \"YearMonth\": \"2003-10\", \"AirlineName\": \"Envoy Air\"}, {\"Carrier\": \"UA\", \"average_delay\": 0.7687098682912932, \"YearMonth\": \"2003-10\", \"AirlineName\": \"United Air Lines Inc.\"}, {\"Carrier\": \"WN\", \"average_delay\": 2.285985312117503, \"YearMonth\": \"2003-10\", \"AirlineName\": \"Southwest Airlines Co.\"}, {\"Carrier\": \"AA\", \"average_delay\": 6.5576754425214325, \"YearMonth\": \"2003-11\", \"AirlineName\": \"American Airlines Inc.\"}, {\"Carrier\": \"AS\", \"average_delay\": 6.020061478725125, \"YearMonth\": \"2003-11\", \"AirlineName\": \"Alaska Airlines Inc.\"}, {\"Carrier\": \"DL\", \"average_delay\": 2.9528953229398662, \"YearMonth\": \"2003-11\", \"AirlineName\": \"Delta Air Lines Inc.\"}, {\"Carrier\": \"EV\", \"average_delay\": 0.8106487204138626, \"YearMonth\": \"2003-11\", \"AirlineName\": \"ExpressJet Airlines LLC\"}, {\"Carrier\": \"MQ\", \"average_delay\": 9.398691468137542, \"YearMonth\": \"2003-11\", \"AirlineName\": \"Envoy Air\"}, {\"Carrier\": \"UA\", \"average_delay\": 9.24279588731615, \"YearMonth\": \"2003-11\", \"AirlineName\": \"United Air Lines Inc.\"}, {\"Carrier\": \"WN\", \"average_delay\": 2.1963245592219796, \"YearMonth\": \"2003-11\", \"AirlineName\": \"Southwest Airlines Co.\"}, {\"Carrier\": \"AA\", \"average_delay\": 8.606275080851352, \"YearMonth\": \"2003-12\", \"AirlineName\": \"American Airlines Inc.\"}, {\"Carrier\": \"AS\", \"average_delay\": 8.673525587087891, \"YearMonth\": \"2003-12\", \"AirlineName\": \"Alaska Airlines Inc.\"}, {\"Carrier\": \"DL\", \"average_delay\": 9.239713935725609, \"YearMonth\": \"2003-12\", \"AirlineName\": \"Delta Air Lines Inc.\"}, {\"Carrier\": \"EV\", \"average_delay\": 2.7887831346735457, \"YearMonth\": \"2003-12\", \"AirlineName\": \"ExpressJet Airlines LLC\"}, {\"Carrier\": \"MQ\", \"average_delay\": 11.13060214462469, \"YearMonth\": \"2003-12\", \"AirlineName\": \"Envoy Air\"}, {\"Carrier\": \"UA\", \"average_delay\": 9.244839763978153, \"YearMonth\": \"2003-12\", \"AirlineName\": \"United Air Lines Inc.\"}, {\"Carrier\": \"WN\", \"average_delay\": 3.739821675248022, \"YearMonth\": \"2003-12\", \"AirlineName\": \"Southwest Airlines Co.\"}, {\"Carrier\": \"AA\", \"average_delay\": 12.77462742685261, \"YearMonth\": \"2004-01\", \"AirlineName\": \"American Airlines Inc.\"}, {\"Carrier\": \"AS\", \"average_delay\": 9.539161068327052, \"YearMonth\": \"2004-01\", \"AirlineName\": \"Alaska Airlines Inc.\"}, {\"Carrier\": \"DL\", \"average_delay\": 6.567378829983038, \"YearMonth\": \"2004-01\", \"AirlineName\": \"Delta Air Lines Inc.\"}, {\"Carrier\": \"EV\", \"average_delay\": 0.6068503015572959, \"YearMonth\": \"2004-01\", \"AirlineName\": \"ExpressJet Airlines LLC\"}, {\"Carrier\": \"MQ\", \"average_delay\": 12.751974015792126, \"YearMonth\": \"2004-01\", \"AirlineName\": \"Envoy Air\"}, {\"Carrier\": \"UA\", \"average_delay\": 12.433979974968711, \"YearMonth\": \"2004-01\", \"AirlineName\": \"United Air Lines Inc.\"}, {\"Carrier\": \"WN\", \"average_delay\": 2.973808111280815, \"YearMonth\": \"2004-01\", \"AirlineName\": \"Southwest Airlines Co.\"}, {\"Carrier\": \"AA\", \"average_delay\": 7.414551000269131, \"YearMonth\": \"2004-02\", \"AirlineName\": \"American Airlines Inc.\"}, {\"Carrier\": \"AS\", \"average_delay\": 4.360673234811165, \"YearMonth\": \"2004-02\", \"AirlineName\": \"Alaska Airlines Inc.\"}, {\"Carrier\": \"DL\", \"average_delay\": 10.996714540505023, \"YearMonth\": \"2004-02\", \"AirlineName\": \"Delta Air Lines Inc.\"}, {\"Carrier\": \"EV\", \"average_delay\": 6.832948962197935, \"YearMonth\": \"2004-02\", \"AirlineName\": \"ExpressJet Airlines LLC\"}, {\"Carrier\": \"MQ\", \"average_delay\": 7.162519016045237, \"YearMonth\": \"2004-02\", \"AirlineName\": \"Envoy Air\"}, {\"Carrier\": \"UA\", \"average_delay\": 3.899730662004442, \"YearMonth\": \"2004-02\", \"AirlineName\": \"United Air Lines Inc.\"}, {\"Carrier\": \"WN\", \"average_delay\": 4.761758986756359, \"YearMonth\": \"2004-02\", \"AirlineName\": \"Southwest Airlines Co.\"}, {\"Carrier\": \"AA\", \"average_delay\": 5.640883333333333, \"YearMonth\": \"2004-03\", \"AirlineName\": \"American Airlines Inc.\"}, {\"Carrier\": \"AS\", \"average_delay\": 3.71706843794313, \"YearMonth\": \"2004-03\", \"AirlineName\": \"Alaska Airlines Inc.\"}, {\"Carrier\": \"DL\", \"average_delay\": 2.7481183026146594, \"YearMonth\": \"2004-03\", \"AirlineName\": \"Delta Air Lines Inc.\"}, {\"Carrier\": \"EV\", \"average_delay\": -3.1407766990291264, \"YearMonth\": \"2004-03\", \"AirlineName\": \"ExpressJet Airlines LLC\"}, {\"Carrier\": \"MQ\", \"average_delay\": 9.403291099311287, \"YearMonth\": \"2004-03\", \"AirlineName\": \"Envoy Air\"}, {\"Carrier\": \"UA\", \"average_delay\": 5.873480267862948, \"YearMonth\": \"2004-03\", \"AirlineName\": \"United Air Lines Inc.\"}, {\"Carrier\": \"WN\", \"average_delay\": 3.0734792892231186, \"YearMonth\": \"2004-03\", \"AirlineName\": \"Southwest Airlines Co.\"}, {\"Carrier\": \"AA\", \"average_delay\": 2.2519698585830783, \"YearMonth\": \"2004-04\", \"AirlineName\": \"American Airlines Inc.\"}, {\"Carrier\": \"AS\", \"average_delay\": 0.6201325916330107, \"YearMonth\": \"2004-04\", \"AirlineName\": \"Alaska Airlines Inc.\"}, {\"Carrier\": \"DL\", \"average_delay\": 3.4009085146841325, \"YearMonth\": \"2004-04\", \"AirlineName\": \"Delta Air Lines Inc.\"}, {\"Carrier\": \"EV\", \"average_delay\": -1.413347782895331, \"YearMonth\": \"2004-04\", \"AirlineName\": \"ExpressJet Airlines LLC\"}, {\"Carrier\": \"MQ\", \"average_delay\": 4.9860722046234, \"YearMonth\": \"2004-04\", \"AirlineName\": \"Envoy Air\"}, {\"Carrier\": \"UA\", \"average_delay\": 0.9138041911520124, \"YearMonth\": \"2004-04\", \"AirlineName\": \"United Air Lines Inc.\"}, {\"Carrier\": \"WN\", \"average_delay\": 5.336761699298857, \"YearMonth\": \"2004-04\", \"AirlineName\": \"Southwest Airlines Co.\"}, {\"Carrier\": \"AA\", \"average_delay\": 7.884937747791612, \"YearMonth\": \"2004-05\", \"AirlineName\": \"American Airlines Inc.\"}, {\"Carrier\": \"AS\", \"average_delay\": 2.6192244519031638, \"YearMonth\": \"2004-05\", \"AirlineName\": \"Alaska Airlines Inc.\"}, {\"Carrier\": \"DL\", \"average_delay\": 9.414304502820752, \"YearMonth\": \"2004-05\", \"AirlineName\": \"Delta Air Lines Inc.\"}, {\"Carrier\": \"EV\", \"average_delay\": 3.661352268667381, \"YearMonth\": \"2004-05\", \"AirlineName\": \"ExpressJet Airlines LLC\"}, {\"Carrier\": \"MQ\", \"average_delay\": 12.765125675604764, \"YearMonth\": \"2004-05\", \"AirlineName\": \"Envoy Air\"}, {\"Carrier\": \"UA\", \"average_delay\": 12.76255677847659, \"YearMonth\": \"2004-05\", \"AirlineName\": \"United Air Lines Inc.\"}, {\"Carrier\": \"WN\", \"average_delay\": 6.935947535163521, \"YearMonth\": \"2004-05\", \"AirlineName\": \"Southwest Airlines Co.\"}, {\"Carrier\": \"AA\", \"average_delay\": 14.841661586693373, \"YearMonth\": \"2004-06\", \"AirlineName\": \"American Airlines Inc.\"}, {\"Carrier\": \"AS\", \"average_delay\": 7.850601581299416, \"YearMonth\": \"2004-06\", \"AirlineName\": \"Alaska Airlines Inc.\"}, {\"Carrier\": \"DL\", \"average_delay\": 15.792514496573537, \"YearMonth\": \"2004-06\", \"AirlineName\": \"Delta Air Lines Inc.\"}, {\"Carrier\": \"EV\", \"average_delay\": 15.577458940763979, \"YearMonth\": \"2004-06\", \"AirlineName\": \"ExpressJet Airlines LLC\"}, {\"Carrier\": \"MQ\", \"average_delay\": 15.34017649061248, \"YearMonth\": \"2004-06\", \"AirlineName\": \"Envoy Air\"}, {\"Carrier\": \"UA\", \"average_delay\": 8.621714164185454, \"YearMonth\": \"2004-06\", \"AirlineName\": \"United Air Lines Inc.\"}, {\"Carrier\": \"WN\", \"average_delay\": 10.196170649900367, \"YearMonth\": \"2004-06\", \"AirlineName\": \"Southwest Airlines Co.\"}, {\"Carrier\": \"AA\", \"average_delay\": 13.069489963129865, \"YearMonth\": \"2004-08\", \"AirlineName\": \"American Airlines Inc.\"}, {\"Carrier\": \"AS\", \"average_delay\": 7.700755601875977, \"YearMonth\": \"2004-08\", \"AirlineName\": \"Alaska Airlines Inc.\"}, {\"Carrier\": \"DL\", \"average_delay\": 8.735737240402225, \"YearMonth\": \"2004-08\", \"AirlineName\": \"Delta Air Lines Inc.\"}, {\"Carrier\": \"EV\", \"average_delay\": 3.5750880429314105, \"YearMonth\": \"2004-08\", \"AirlineName\": \"ExpressJet Airlines LLC\"}, {\"Carrier\": \"MQ\", \"average_delay\": 9.496554449576408, \"YearMonth\": \"2004-08\", \"AirlineName\": \"Envoy Air\"}, {\"Carrier\": \"UA\", \"average_delay\": 6.064436851885152, \"YearMonth\": \"2004-08\", \"AirlineName\": \"United Air Lines Inc.\"}, {\"Carrier\": \"WN\", \"average_delay\": 8.574441438141712, \"YearMonth\": \"2004-08\", \"AirlineName\": \"Southwest Airlines Co.\"}, {\"Carrier\": \"AA\", \"average_delay\": -1.3167916243216813, \"YearMonth\": \"2004-09\", \"AirlineName\": \"American Airlines Inc.\"}, {\"Carrier\": \"AS\", \"average_delay\": 4.3588555457487494, \"YearMonth\": \"2004-09\", \"AirlineName\": \"Alaska Airlines Inc.\"}, {\"Carrier\": \"DL\", \"average_delay\": 6.101329507412721, \"YearMonth\": \"2004-09\", \"AirlineName\": \"Delta Air Lines Inc.\"}, {\"Carrier\": \"EV\", \"average_delay\": 3.263157894736842, \"YearMonth\": \"2004-09\", \"AirlineName\": \"ExpressJet Airlines LLC\"}, {\"Carrier\": \"MQ\", \"average_delay\": 0.47769867424718876, \"YearMonth\": \"2004-09\", \"AirlineName\": \"Envoy Air\"}, {\"Carrier\": \"UA\", \"average_delay\": -1.9643897125836354, \"YearMonth\": \"2004-09\", \"AirlineName\": \"United Air Lines Inc.\"}, {\"Carrier\": \"WN\", \"average_delay\": 1.9231365198375507, \"YearMonth\": \"2004-09\", \"AirlineName\": \"Southwest Airlines Co.\"}, {\"Carrier\": \"AA\", \"average_delay\": 4.752884735424729, \"YearMonth\": \"2004-10\", \"AirlineName\": \"American Airlines Inc.\"}, {\"Carrier\": \"AS\", \"average_delay\": 4.436274509803922, \"YearMonth\": \"2004-10\", \"AirlineName\": \"Alaska Airlines Inc.\"}, {\"Carrier\": \"DL\", \"average_delay\": 5.234135249600778, \"YearMonth\": \"2004-10\", \"AirlineName\": \"Delta Air Lines Inc.\"}, {\"Carrier\": \"EV\", \"average_delay\": 9.396811448656791, \"YearMonth\": \"2004-10\", \"AirlineName\": \"ExpressJet Airlines LLC\"}, {\"Carrier\": \"MQ\", \"average_delay\": 5.497926015767131, \"YearMonth\": \"2004-10\", \"AirlineName\": \"Envoy Air\"}, {\"Carrier\": \"UA\", \"average_delay\": 1.8060900188970967, \"YearMonth\": \"2004-10\", \"AirlineName\": \"United Air Lines Inc.\"}, {\"Carrier\": \"WN\", \"average_delay\": 5.916541034580232, \"YearMonth\": \"2004-10\", \"AirlineName\": \"Southwest Airlines Co.\"}, {\"Carrier\": \"AA\", \"average_delay\": 6.059267793138761, \"YearMonth\": \"2004-11\", \"AirlineName\": \"American Airlines Inc.\"}, {\"Carrier\": \"AS\", \"average_delay\": 10.702893380895759, \"YearMonth\": \"2004-11\", \"AirlineName\": \"Alaska Airlines Inc.\"}, {\"Carrier\": \"DL\", \"average_delay\": 8.560839968943538, \"YearMonth\": \"2004-11\", \"AirlineName\": \"Delta Air Lines Inc.\"}, {\"Carrier\": \"EV\", \"average_delay\": 12.49901532665468, \"YearMonth\": \"2004-11\", \"AirlineName\": \"ExpressJet Airlines LLC\"}, {\"Carrier\": \"MQ\", \"average_delay\": 8.129585662862832, \"YearMonth\": \"2004-11\", \"AirlineName\": \"Envoy Air\"}, {\"Carrier\": \"UA\", \"average_delay\": 2.63951826425174, \"YearMonth\": \"2004-11\", \"AirlineName\": \"United Air Lines Inc.\"}, {\"Carrier\": \"WN\", \"average_delay\": 5.680684318524562, \"YearMonth\": \"2004-11\", \"AirlineName\": \"Southwest Airlines Co.\"}, {\"Carrier\": \"AA\", \"average_delay\": 11.680742742568215, \"YearMonth\": \"2004-12\", \"AirlineName\": \"American Airlines Inc.\"}, {\"Carrier\": \"AS\", \"average_delay\": 18.546199011124845, \"YearMonth\": \"2004-12\", \"AirlineName\": \"Alaska Airlines Inc.\"}, {\"Carrier\": \"DL\", \"average_delay\": 10.01962457337884, \"YearMonth\": \"2004-12\", \"AirlineName\": \"Delta Air Lines Inc.\"}, {\"Carrier\": \"EV\", \"average_delay\": 10.365231732070365, \"YearMonth\": \"2004-12\", \"AirlineName\": \"ExpressJet Airlines LLC\"}, {\"Carrier\": \"MQ\", \"average_delay\": 12.482663677785629, \"YearMonth\": \"2004-12\", \"AirlineName\": \"Envoy Air\"}, {\"Carrier\": \"UA\", \"average_delay\": 8.67627165120424, \"YearMonth\": \"2004-12\", \"AirlineName\": \"United Air Lines Inc.\"}, {\"Carrier\": \"WN\", \"average_delay\": 10.035238363363364, \"YearMonth\": \"2004-12\", \"AirlineName\": \"Southwest Airlines Co.\"}, {\"Carrier\": \"AA\", \"average_delay\": 11.913669845981214, \"YearMonth\": \"2005-01\", \"AirlineName\": \"American Airlines Inc.\"}, {\"Carrier\": \"AS\", \"average_delay\": 8.724581622987055, \"YearMonth\": \"2005-01\", \"AirlineName\": \"Alaska Airlines Inc.\"}, {\"Carrier\": \"DL\", \"average_delay\": 7.607855007062535, \"YearMonth\": \"2005-01\", \"AirlineName\": \"Delta Air Lines Inc.\"}, {\"Carrier\": \"EV\", \"average_delay\": 9.619037160678204, \"YearMonth\": \"2005-01\", \"AirlineName\": \"ExpressJet Airlines LLC\"}, {\"Carrier\": \"MQ\", \"average_delay\": 13.10643115942029, \"YearMonth\": \"2005-01\", \"AirlineName\": \"Envoy Air\"}, {\"Carrier\": \"UA\", \"average_delay\": 14.949128954496882, \"YearMonth\": \"2005-01\", \"AirlineName\": \"United Air Lines Inc.\"}, {\"Carrier\": \"WN\", \"average_delay\": 8.487556669052733, \"YearMonth\": \"2005-01\", \"AirlineName\": \"Southwest Airlines Co.\"}, {\"Carrier\": \"AA\", \"average_delay\": 3.9600731602910844, \"YearMonth\": \"2005-02\", \"AirlineName\": \"American Airlines Inc.\"}, {\"Carrier\": \"AS\", \"average_delay\": 8.450935178068153, \"YearMonth\": \"2005-02\", \"AirlineName\": \"Alaska Airlines Inc.\"}, {\"Carrier\": \"DL\", \"average_delay\": 6.761994233094596, \"YearMonth\": \"2005-02\", \"AirlineName\": \"Delta Air Lines Inc.\"}, {\"Carrier\": \"EV\", \"average_delay\": 13.324349837164299, \"YearMonth\": \"2005-02\", \"AirlineName\": \"ExpressJet Airlines LLC\"}, {\"Carrier\": \"MQ\", \"average_delay\": 4.992307493740158, \"YearMonth\": \"2005-02\", \"AirlineName\": \"Envoy Air\"}, {\"Carrier\": \"UA\", \"average_delay\": 5.005615234375, \"YearMonth\": \"2005-02\", \"AirlineName\": \"United Air Lines Inc.\"}, {\"Carrier\": \"WN\", \"average_delay\": 6.3095496053242535, \"YearMonth\": \"2005-02\", \"AirlineName\": \"Southwest Airlines Co.\"}, {\"Carrier\": \"AA\", \"average_delay\": 6.697872928654122, \"YearMonth\": \"2005-03\", \"AirlineName\": \"American Airlines Inc.\"}, {\"Carrier\": \"AS\", \"average_delay\": 9.92249134948097, \"YearMonth\": \"2005-03\", \"AirlineName\": \"Alaska Airlines Inc.\"}, {\"Carrier\": \"DL\", \"average_delay\": 10.107794333541452, \"YearMonth\": \"2005-03\", \"AirlineName\": \"Delta Air Lines Inc.\"}, {\"Carrier\": \"EV\", \"average_delay\": 9.216469447922135, \"YearMonth\": \"2005-03\", \"AirlineName\": \"ExpressJet Airlines LLC\"}, {\"Carrier\": \"MQ\", \"average_delay\": 5.44705448850813, \"YearMonth\": \"2005-03\", \"AirlineName\": \"Envoy Air\"}, {\"Carrier\": \"UA\", \"average_delay\": 6.431722428748451, \"YearMonth\": \"2005-03\", \"AirlineName\": \"United Air Lines Inc.\"}, {\"Carrier\": \"WN\", \"average_delay\": 6.026676952126557, \"YearMonth\": \"2005-03\", \"AirlineName\": \"Southwest Airlines Co.\"}, {\"Carrier\": \"AA\", \"average_delay\": 1.5598965398737497, \"YearMonth\": \"2005-04\", \"AirlineName\": \"American Airlines Inc.\"}, {\"Carrier\": \"AS\", \"average_delay\": 7.213725176169122, \"YearMonth\": \"2005-04\", \"AirlineName\": \"Alaska Airlines Inc.\"}, {\"Carrier\": \"DL\", \"average_delay\": 4.406705462472969, \"YearMonth\": \"2005-04\", \"AirlineName\": \"Delta Air Lines Inc.\"}, {\"Carrier\": \"EV\", \"average_delay\": 6.328579648199901, \"YearMonth\": \"2005-04\", \"AirlineName\": \"ExpressJet Airlines LLC\"}, {\"Carrier\": \"MQ\", \"average_delay\": 3.131010599714533, \"YearMonth\": \"2005-04\", \"AirlineName\": \"Envoy Air\"}, {\"Carrier\": \"UA\", \"average_delay\": -0.4037683655627756, \"YearMonth\": \"2005-04\", \"AirlineName\": \"United Air Lines Inc.\"}, {\"Carrier\": \"WN\", \"average_delay\": 1.4101723892292348, \"YearMonth\": \"2005-04\", \"AirlineName\": \"Southwest Airlines Co.\"}, {\"Carrier\": \"AA\", \"average_delay\": 3.4330027431947667, \"YearMonth\": \"2005-05\", \"AirlineName\": \"American Airlines Inc.\"}, {\"Carrier\": \"AS\", \"average_delay\": 21.17901581440154, \"YearMonth\": \"2005-05\", \"AirlineName\": \"Alaska Airlines Inc.\"}, {\"Carrier\": \"DL\", \"average_delay\": 2.3386780779542176, \"YearMonth\": \"2005-05\", \"AirlineName\": \"Delta Air Lines Inc.\"}, {\"Carrier\": \"EV\", \"average_delay\": 5.035189923243456, \"YearMonth\": \"2005-05\", \"AirlineName\": \"ExpressJet Airlines LLC\"}, {\"Carrier\": \"MQ\", \"average_delay\": 4.66080435655939, \"YearMonth\": \"2005-05\", \"AirlineName\": \"Envoy Air\"}, {\"Carrier\": \"UA\", \"average_delay\": 5.776165803108809, \"YearMonth\": \"2005-05\", \"AirlineName\": \"United Air Lines Inc.\"}, {\"Carrier\": \"WN\", \"average_delay\": 1.8712575877087692, \"YearMonth\": \"2005-05\", \"AirlineName\": \"Southwest Airlines Co.\"}, {\"Carrier\": \"AA\", \"average_delay\": 12.247957559681698, \"YearMonth\": \"2005-06\", \"AirlineName\": \"American Airlines Inc.\"}, {\"Carrier\": \"AS\", \"average_delay\": 27.985904933273353, \"YearMonth\": \"2005-06\", \"AirlineName\": \"Alaska Airlines Inc.\"}, {\"Carrier\": \"DL\", \"average_delay\": 9.654978072559892, \"YearMonth\": \"2005-06\", \"AirlineName\": \"Delta Air Lines Inc.\"}, {\"Carrier\": \"EV\", \"average_delay\": 11.543921599746072, \"YearMonth\": \"2005-06\", \"AirlineName\": \"ExpressJet Airlines LLC\"}, {\"Carrier\": \"MQ\", \"average_delay\": 8.638131313131312, \"YearMonth\": \"2005-06\", \"AirlineName\": \"Envoy Air\"}, {\"Carrier\": \"UA\", \"average_delay\": 14.429762939059204, \"YearMonth\": \"2005-06\", \"AirlineName\": \"United Air Lines Inc.\"}, {\"Carrier\": \"WN\", \"average_delay\": 6.914515923049238, \"YearMonth\": \"2005-06\", \"AirlineName\": \"Southwest Airlines Co.\"}, {\"Carrier\": \"AA\", \"average_delay\": 18.996966081472642, \"YearMonth\": \"2005-07\", \"AirlineName\": \"American Airlines Inc.\"}, {\"Carrier\": \"AS\", \"average_delay\": 16.542853115308713, \"YearMonth\": \"2005-07\", \"AirlineName\": \"Alaska Airlines Inc.\"}, {\"Carrier\": \"DL\", \"average_delay\": 18.07775412739013, \"YearMonth\": \"2005-07\", \"AirlineName\": \"Delta Air Lines Inc.\"}, {\"Carrier\": \"EV\", \"average_delay\": 18.30803553483137, \"YearMonth\": \"2005-07\", \"AirlineName\": \"ExpressJet Airlines LLC\"}, {\"Carrier\": \"MQ\", \"average_delay\": 13.24773807347834, \"YearMonth\": \"2005-07\", \"AirlineName\": \"Envoy Air\"}, {\"Carrier\": \"UA\", \"average_delay\": 12.905527395607049, \"YearMonth\": \"2005-07\", \"AirlineName\": \"United Air Lines Inc.\"}, {\"Carrier\": \"WN\", \"average_delay\": 10.440128090117302, \"YearMonth\": \"2005-07\", \"AirlineName\": \"Southwest Airlines Co.\"}, {\"Carrier\": \"AA\", \"average_delay\": 11.071478212523456, \"YearMonth\": \"2005-08\", \"AirlineName\": \"American Airlines Inc.\"}, {\"Carrier\": \"AS\", \"average_delay\": 14.171821063754843, \"YearMonth\": \"2005-08\", \"AirlineName\": \"Alaska Airlines Inc.\"}, {\"Carrier\": \"DL\", \"average_delay\": 13.033433837041265, \"YearMonth\": \"2005-08\", \"AirlineName\": \"Delta Air Lines Inc.\"}, {\"Carrier\": \"EV\", \"average_delay\": 17.76132614468496, \"YearMonth\": \"2005-08\", \"AirlineName\": \"ExpressJet Airlines LLC\"}, {\"Carrier\": \"MQ\", \"average_delay\": 9.360628416514821, \"YearMonth\": \"2005-08\", \"AirlineName\": \"Envoy Air\"}, {\"Carrier\": \"UA\", \"average_delay\": 4.648311926163337, \"YearMonth\": \"2005-08\", \"AirlineName\": \"United Air Lines Inc.\"}, {\"Carrier\": \"WN\", \"average_delay\": 6.789496658943622, \"YearMonth\": \"2005-08\", \"AirlineName\": \"Southwest Airlines Co.\"}, {\"Carrier\": \"AA\", \"average_delay\": 4.715345969399406, \"YearMonth\": \"2005-09\", \"AirlineName\": \"American Airlines Inc.\"}, {\"Carrier\": \"AS\", \"average_delay\": 5.942956120092378, \"YearMonth\": \"2005-09\", \"AirlineName\": \"Alaska Airlines Inc.\"}, {\"Carrier\": \"DL\", \"average_delay\": 1.2971103821483045, \"YearMonth\": \"2005-09\", \"AirlineName\": \"Delta Air Lines Inc.\"}, {\"Carrier\": \"EV\", \"average_delay\": 2.976258847320526, \"YearMonth\": \"2005-09\", \"AirlineName\": \"ExpressJet Airlines LLC\"}, {\"Carrier\": \"MQ\", \"average_delay\": 4.6722147836926915, \"YearMonth\": \"2005-09\", \"AirlineName\": \"Envoy Air\"}, {\"Carrier\": \"UA\", \"average_delay\": 2.7857710753763687, \"YearMonth\": \"2005-09\", \"AirlineName\": \"United Air Lines Inc.\"}, {\"Carrier\": \"WN\", \"average_delay\": 2.599522798940086, \"YearMonth\": \"2005-09\", \"AirlineName\": \"Southwest Airlines Co.\"}, {\"Carrier\": \"AA\", \"average_delay\": 4.589638359155858, \"YearMonth\": \"2005-10\", \"AirlineName\": \"American Airlines Inc.\"}, {\"Carrier\": \"AS\", \"average_delay\": 4.102577832173181, \"YearMonth\": \"2005-10\", \"AirlineName\": \"Alaska Airlines Inc.\"}, {\"Carrier\": \"DL\", \"average_delay\": 3.900818981091172, \"YearMonth\": \"2005-10\", \"AirlineName\": \"Delta Air Lines Inc.\"}, {\"Carrier\": \"EV\", \"average_delay\": 5.328495004326961, \"YearMonth\": \"2005-10\", \"AirlineName\": \"ExpressJet Airlines LLC\"}, {\"Carrier\": \"MQ\", \"average_delay\": 4.090911149865241, \"YearMonth\": \"2005-10\", \"AirlineName\": \"Envoy Air\"}, {\"Carrier\": \"UA\", \"average_delay\": 4.223572807842749, \"YearMonth\": \"2005-10\", \"AirlineName\": \"United Air Lines Inc.\"}, {\"Carrier\": \"WN\", \"average_delay\": 4.800875852001701, \"YearMonth\": \"2005-10\", \"AirlineName\": \"Southwest Airlines Co.\"}, {\"Carrier\": \"AA\", \"average_delay\": 6.368932038834951, \"YearMonth\": \"2005-11\", \"AirlineName\": \"American Airlines Inc.\"}, {\"Carrier\": \"AS\", \"average_delay\": 7.739635293155613, \"YearMonth\": \"2005-11\", \"AirlineName\": \"Alaska Airlines Inc.\"}, {\"Carrier\": \"DL\", \"average_delay\": 7.207745808933894, \"YearMonth\": \"2005-11\", \"AirlineName\": \"Delta Air Lines Inc.\"}, {\"Carrier\": \"EV\", \"average_delay\": 6.9945759368836296, \"YearMonth\": \"2005-11\", \"AirlineName\": \"ExpressJet Airlines LLC\"}, {\"Carrier\": \"MQ\", \"average_delay\": 7.43985488345624, \"YearMonth\": \"2005-11\", \"AirlineName\": \"Envoy Air\"}, {\"Carrier\": \"UA\", \"average_delay\": 4.027029773397013, \"YearMonth\": \"2005-11\", \"AirlineName\": \"United Air Lines Inc.\"}, {\"Carrier\": \"WN\", \"average_delay\": 2.245937600591328, \"YearMonth\": \"2005-11\", \"AirlineName\": \"Southwest Airlines Co.\"}, {\"Carrier\": \"AA\", \"average_delay\": 12.962700152320096, \"YearMonth\": \"2005-12\", \"AirlineName\": \"American Airlines Inc.\"}, {\"Carrier\": \"AS\", \"average_delay\": 13.197681753666615, \"YearMonth\": \"2005-12\", \"AirlineName\": \"Alaska Airlines Inc.\"}, {\"Carrier\": \"DL\", \"average_delay\": 9.501918287675844, \"YearMonth\": \"2005-12\", \"AirlineName\": \"Delta Air Lines Inc.\"}, {\"Carrier\": \"EV\", \"average_delay\": 13.918015876575325, \"YearMonth\": \"2005-12\", \"AirlineName\": \"ExpressJet Airlines LLC\"}, {\"Carrier\": \"MQ\", \"average_delay\": 13.309999300911146, \"YearMonth\": \"2005-12\", \"AirlineName\": \"Envoy Air\"}, {\"Carrier\": \"UA\", \"average_delay\": 15.035152293668634, \"YearMonth\": \"2005-12\", \"AirlineName\": \"United Air Lines Inc.\"}, {\"Carrier\": \"WN\", \"average_delay\": 5.930583363669458, \"YearMonth\": \"2005-12\", \"AirlineName\": \"Southwest Airlines Co.\"}, {\"Carrier\": \"AA\", \"average_delay\": 5.868587842846553, \"YearMonth\": \"2006-01\", \"AirlineName\": \"American Airlines Inc.\"}, {\"Carrier\": \"AS\", \"average_delay\": 9.609681814538751, \"YearMonth\": \"2006-01\", \"AirlineName\": \"Alaska Airlines Inc.\"}, {\"Carrier\": \"DL\", \"average_delay\": 7.595004663224222, \"YearMonth\": \"2006-01\", \"AirlineName\": \"Delta Air Lines Inc.\"}, {\"Carrier\": \"EV\", \"average_delay\": 9.063130022762113, \"YearMonth\": \"2006-01\", \"AirlineName\": \"ExpressJet Airlines LLC\"}, {\"Carrier\": \"MQ\", \"average_delay\": 6.179274539983001, \"YearMonth\": \"2006-01\", \"AirlineName\": \"Envoy Air\"}, {\"Carrier\": \"UA\", \"average_delay\": 8.15798136331409, \"YearMonth\": \"2006-01\", \"AirlineName\": \"United Air Lines Inc.\"}, {\"Carrier\": \"WN\", \"average_delay\": 1.3878270800443384, \"YearMonth\": \"2006-01\", \"AirlineName\": \"Southwest Airlines Co.\"}, {\"Carrier\": \"AA\", \"average_delay\": 8.73892030848329, \"YearMonth\": \"2006-02\", \"AirlineName\": \"American Airlines Inc.\"}, {\"Carrier\": \"AS\", \"average_delay\": 9.959700176366843, \"YearMonth\": \"2006-02\", \"AirlineName\": \"Alaska Airlines Inc.\"}, {\"Carrier\": \"DL\", \"average_delay\": 6.037537614117407, \"YearMonth\": \"2006-02\", \"AirlineName\": \"Delta Air Lines Inc.\"}, {\"Carrier\": \"EV\", \"average_delay\": 8.991078828060255, \"YearMonth\": \"2006-02\", \"AirlineName\": \"ExpressJet Airlines LLC\"}, {\"Carrier\": \"MQ\", \"average_delay\": 8.301989427177771, \"YearMonth\": \"2006-02\", \"AirlineName\": \"Envoy Air\"}, {\"Carrier\": \"UA\", \"average_delay\": 8.638305369582305, \"YearMonth\": \"2006-02\", \"AirlineName\": \"United Air Lines Inc.\"}, {\"Carrier\": \"WN\", \"average_delay\": 5.301683418634766, \"YearMonth\": \"2006-02\", \"AirlineName\": \"Southwest Airlines Co.\"}, {\"Carrier\": \"AA\", \"average_delay\": 11.40832230820813, \"YearMonth\": \"2006-03\", \"AirlineName\": \"American Airlines Inc.\"}, {\"Carrier\": \"AS\", \"average_delay\": 9.791954112084335, \"YearMonth\": \"2006-03\", \"AirlineName\": \"Alaska Airlines Inc.\"}, {\"Carrier\": \"DL\", \"average_delay\": 3.9869131975199292, \"YearMonth\": \"2006-03\", \"AirlineName\": \"Delta Air Lines Inc.\"}, {\"Carrier\": \"EV\", \"average_delay\": 7.654584672644223, \"YearMonth\": \"2006-03\", \"AirlineName\": \"ExpressJet Airlines LLC\"}, {\"Carrier\": \"MQ\", \"average_delay\": 10.646848662513742, \"YearMonth\": \"2006-03\", \"AirlineName\": \"Envoy Air\"}, {\"Carrier\": \"UA\", \"average_delay\": 14.111244334668234, \"YearMonth\": \"2006-03\", \"AirlineName\": \"United Air Lines Inc.\"}, {\"Carrier\": \"WN\", \"average_delay\": 4.607636494960438, \"YearMonth\": \"2006-03\", \"AirlineName\": \"Southwest Airlines Co.\"}, {\"Carrier\": \"AA\", \"average_delay\": 8.700116862065066, \"YearMonth\": \"2006-04\", \"AirlineName\": \"American Airlines Inc.\"}, {\"Carrier\": \"AS\", \"average_delay\": 7.4468321306795655, \"YearMonth\": \"2006-04\", \"AirlineName\": \"Alaska Airlines Inc.\"}, {\"Carrier\": \"DL\", \"average_delay\": 2.4157399081917563, \"YearMonth\": \"2006-04\", \"AirlineName\": \"Delta Air Lines Inc.\"}, {\"Carrier\": \"EV\", \"average_delay\": 8.436186455900843, \"YearMonth\": \"2006-04\", \"AirlineName\": \"ExpressJet Airlines LLC\"}, {\"Carrier\": \"MQ\", \"average_delay\": 10.677778278300824, \"YearMonth\": \"2006-04\", \"AirlineName\": \"Envoy Air\"}, {\"Carrier\": \"UA\", \"average_delay\": 8.578110616276467, \"YearMonth\": \"2006-04\", \"AirlineName\": \"United Air Lines Inc.\"}, {\"Carrier\": \"WN\", \"average_delay\": 5.4871188282434975, \"YearMonth\": \"2006-04\", \"AirlineName\": \"Southwest Airlines Co.\"}, {\"Carrier\": \"AA\", \"average_delay\": 9.50532401478283, \"YearMonth\": \"2006-05\", \"AirlineName\": \"American Airlines Inc.\"}, {\"Carrier\": \"AS\", \"average_delay\": 2.998654406817672, \"YearMonth\": \"2006-05\", \"AirlineName\": \"Alaska Airlines Inc.\"}, {\"Carrier\": \"DL\", \"average_delay\": 2.527376195665335, \"YearMonth\": \"2006-05\", \"AirlineName\": \"Delta Air Lines Inc.\"}, {\"Carrier\": \"EV\", \"average_delay\": 8.249798412765777, \"YearMonth\": \"2006-05\", \"AirlineName\": \"ExpressJet Airlines LLC\"}, {\"Carrier\": \"MQ\", \"average_delay\": 13.371500327582442, \"YearMonth\": \"2006-05\", \"AirlineName\": \"Envoy Air\"}, {\"Carrier\": \"UA\", \"average_delay\": 12.101489402329578, \"YearMonth\": \"2006-05\", \"AirlineName\": \"United Air Lines Inc.\"}, {\"Carrier\": \"WN\", \"average_delay\": 4.632398209802424, \"YearMonth\": \"2006-05\", \"AirlineName\": \"Southwest Airlines Co.\"}, {\"Carrier\": \"AA\", \"average_delay\": 10.283219681271898, \"YearMonth\": \"2006-06\", \"AirlineName\": \"American Airlines Inc.\"}, {\"Carrier\": \"AS\", \"average_delay\": 9.680193515777312, \"YearMonth\": \"2006-06\", \"AirlineName\": \"Alaska Airlines Inc.\"}, {\"Carrier\": \"DL\", \"average_delay\": 10.655487137050649, \"YearMonth\": \"2006-06\", \"AirlineName\": \"Delta Air Lines Inc.\"}, {\"Carrier\": \"EV\", \"average_delay\": 18.127498402847493, \"YearMonth\": \"2006-06\", \"AirlineName\": \"ExpressJet Airlines LLC\"}, {\"Carrier\": \"MQ\", \"average_delay\": 13.414399283394916, \"YearMonth\": \"2006-06\", \"AirlineName\": \"Envoy Air\"}, {\"Carrier\": \"UA\", \"average_delay\": 14.183823707470639, \"YearMonth\": \"2006-06\", \"AirlineName\": \"United Air Lines Inc.\"}, {\"Carrier\": \"WN\", \"average_delay\": 9.495264846621, \"YearMonth\": \"2006-06\", \"AirlineName\": \"Southwest Airlines Co.\"}, {\"Carrier\": \"AA\", \"average_delay\": 10.953575746303358, \"YearMonth\": \"2006-07\", \"AirlineName\": \"American Airlines Inc.\"}, {\"Carrier\": \"AS\", \"average_delay\": 12.957172557172557, \"YearMonth\": \"2006-07\", \"AirlineName\": \"Alaska Airlines Inc.\"}, {\"Carrier\": \"DL\", \"average_delay\": 7.2404724973153565, \"YearMonth\": \"2006-07\", \"AirlineName\": \"Delta Air Lines Inc.\"}, {\"Carrier\": \"EV\", \"average_delay\": 20.71148376140947, \"YearMonth\": \"2006-07\", \"AirlineName\": \"ExpressJet Airlines LLC\"}, {\"Carrier\": \"MQ\", \"average_delay\": 11.553348467650398, \"YearMonth\": \"2006-07\", \"AirlineName\": \"Envoy Air\"}, {\"Carrier\": \"UA\", \"average_delay\": 13.672221959187539, \"YearMonth\": \"2006-07\", \"AirlineName\": \"United Air Lines Inc.\"}, {\"Carrier\": \"WN\", \"average_delay\": 8.025647651657083, \"YearMonth\": \"2006-07\", \"AirlineName\": \"Southwest Airlines Co.\"}, {\"Carrier\": \"AA\", \"average_delay\": 9.180069704401705, \"YearMonth\": \"2006-08\", \"AirlineName\": \"American Airlines Inc.\"}, {\"Carrier\": \"AS\", \"average_delay\": 12.602146099876187, \"YearMonth\": \"2006-08\", \"AirlineName\": \"Alaska Airlines Inc.\"}, {\"Carrier\": \"DL\", \"average_delay\": 8.383764272907426, \"YearMonth\": \"2006-08\", \"AirlineName\": \"Delta Air Lines Inc.\"}, {\"Carrier\": \"EV\", \"average_delay\": 22.75629423118164, \"YearMonth\": \"2006-08\", \"AirlineName\": \"ExpressJet Airlines LLC\"}, {\"Carrier\": \"MQ\", \"average_delay\": 10.102535357019661, \"YearMonth\": \"2006-08\", \"AirlineName\": \"Envoy Air\"}, {\"Carrier\": \"UA\", \"average_delay\": 8.740313653136532, \"YearMonth\": \"2006-08\", \"AirlineName\": \"United Air Lines Inc.\"}, {\"Carrier\": \"WN\", \"average_delay\": 4.861372983233154, \"YearMonth\": \"2006-08\", \"AirlineName\": \"Southwest Airlines Co.\"}, {\"Carrier\": \"AA\", \"average_delay\": 9.664140264777473, \"YearMonth\": \"2006-09\", \"AirlineName\": \"American Airlines Inc.\"}, {\"Carrier\": \"AS\", \"average_delay\": 5.523330283623056, \"YearMonth\": \"2006-09\", \"AirlineName\": \"Alaska Airlines Inc.\"}, {\"Carrier\": \"DL\", \"average_delay\": 12.27541764886748, \"YearMonth\": \"2006-09\", \"AirlineName\": \"Delta Air Lines Inc.\"}, {\"Carrier\": \"EV\", \"average_delay\": 23.585971679917204, \"YearMonth\": \"2006-09\", \"AirlineName\": \"ExpressJet Airlines LLC\"}, {\"Carrier\": \"MQ\", \"average_delay\": 9.998575596756037, \"YearMonth\": \"2006-09\", \"AirlineName\": \"Envoy Air\"}, {\"Carrier\": \"UA\", \"average_delay\": 9.697146708604809, \"YearMonth\": \"2006-09\", \"AirlineName\": \"United Air Lines Inc.\"}, {\"Carrier\": \"WN\", \"average_delay\": 2.989876726439022, \"YearMonth\": \"2006-09\", \"AirlineName\": \"Southwest Airlines Co.\"}, {\"Carrier\": \"AA\", \"average_delay\": 8.255268964467778, \"YearMonth\": \"2006-10\", \"AirlineName\": \"American Airlines Inc.\"}, {\"Carrier\": \"AS\", \"average_delay\": 4.167149832163564, \"YearMonth\": \"2006-10\", \"AirlineName\": \"Alaska Airlines Inc.\"}, {\"Carrier\": \"DL\", \"average_delay\": 13.769174915894183, \"YearMonth\": \"2006-10\", \"AirlineName\": \"Delta Air Lines Inc.\"}, {\"Carrier\": \"EV\", \"average_delay\": 22.777410714285715, \"YearMonth\": \"2006-10\", \"AirlineName\": \"ExpressJet Airlines LLC\"}, {\"Carrier\": \"MQ\", \"average_delay\": 12.40257417873543, \"YearMonth\": \"2006-10\", \"AirlineName\": \"Envoy Air\"}, {\"Carrier\": \"UA\", \"average_delay\": 10.939471850445731, \"YearMonth\": \"2006-10\", \"AirlineName\": \"United Air Lines Inc.\"}, {\"Carrier\": \"WN\", \"average_delay\": 4.318067681575104, \"YearMonth\": \"2006-10\", \"AirlineName\": \"Southwest Airlines Co.\"}, {\"Carrier\": \"AA\", \"average_delay\": 8.026750165062724, \"YearMonth\": \"2006-11\", \"AirlineName\": \"American Airlines Inc.\"}, {\"Carrier\": \"AS\", \"average_delay\": 10.309273265373232, \"YearMonth\": \"2006-11\", \"AirlineName\": \"Alaska Airlines Inc.\"}, {\"Carrier\": \"DL\", \"average_delay\": 6.484488366274706, \"YearMonth\": \"2006-11\", \"AirlineName\": \"Delta Air Lines Inc.\"}, {\"Carrier\": \"EV\", \"average_delay\": 13.485311889932138, \"YearMonth\": \"2006-11\", \"AirlineName\": \"ExpressJet Airlines LLC\"}, {\"Carrier\": \"MQ\", \"average_delay\": 7.5034718985926, \"YearMonth\": \"2006-11\", \"AirlineName\": \"Envoy Air\"}, {\"Carrier\": \"UA\", \"average_delay\": 6.241487377191891, \"YearMonth\": \"2006-11\", \"AirlineName\": \"United Air Lines Inc.\"}, {\"Carrier\": \"WN\", \"average_delay\": 2.2586912515402218, \"YearMonth\": \"2006-11\", \"AirlineName\": \"Southwest Airlines Co.\"}, {\"Carrier\": \"AA\", \"average_delay\": 14.493161196263117, \"YearMonth\": \"2006-12\", \"AirlineName\": \"American Airlines Inc.\"}, {\"Carrier\": \"AS\", \"average_delay\": 14.201161310849507, \"YearMonth\": \"2006-12\", \"AirlineName\": \"Alaska Airlines Inc.\"}, {\"Carrier\": \"DL\", \"average_delay\": 3.177416104000806, \"YearMonth\": \"2006-12\", \"AirlineName\": \"Delta Air Lines Inc.\"}, {\"Carrier\": \"EV\", \"average_delay\": 10.328685747950317, \"YearMonth\": \"2006-12\", \"AirlineName\": \"ExpressJet Airlines LLC\"}, {\"Carrier\": \"MQ\", \"average_delay\": 15.978086144123102, \"YearMonth\": \"2006-12\", \"AirlineName\": \"Envoy Air\"}, {\"Carrier\": \"UA\", \"average_delay\": 10.429384077122505, \"YearMonth\": \"2006-12\", \"AirlineName\": \"United Air Lines Inc.\"}, {\"Carrier\": \"WN\", \"average_delay\": 7.100251221063754, \"YearMonth\": \"2006-12\", \"AirlineName\": \"Southwest Airlines Co.\"}, {\"Carrier\": \"AA\", \"average_delay\": 13.562477383967853, \"YearMonth\": \"2007-01\", \"AirlineName\": \"American Airlines Inc.\"}, {\"Carrier\": \"AS\", \"average_delay\": 8.737135922330097, \"YearMonth\": \"2007-01\", \"AirlineName\": \"Alaska Airlines Inc.\"}, {\"Carrier\": \"DL\", \"average_delay\": 3.7338053005549505, \"YearMonth\": \"2007-01\", \"AirlineName\": \"Delta Air Lines Inc.\"}, {\"Carrier\": \"EV\", \"average_delay\": 12.56790410258793, \"YearMonth\": \"2007-01\", \"AirlineName\": \"ExpressJet Airlines LLC\"}, {\"Carrier\": \"MQ\", \"average_delay\": 13.392659871963762, \"YearMonth\": \"2007-01\", \"AirlineName\": \"Envoy Air\"}, {\"Carrier\": \"UA\", \"average_delay\": 9.868311541208048, \"YearMonth\": \"2007-01\", \"AirlineName\": \"United Air Lines Inc.\"}, {\"Carrier\": \"WN\", \"average_delay\": 1.7953828232553215, \"YearMonth\": \"2007-01\", \"AirlineName\": \"Southwest Airlines Co.\"}, {\"Carrier\": \"AA\", \"average_delay\": 15.08675425371527, \"YearMonth\": \"2007-02\", \"AirlineName\": \"American Airlines Inc.\"}, {\"Carrier\": \"AS\", \"average_delay\": 8.593049719887954, \"YearMonth\": \"2007-02\", \"AirlineName\": \"Alaska Airlines Inc.\"}, {\"Carrier\": \"DL\", \"average_delay\": 5.654853976682443, \"YearMonth\": \"2007-02\", \"AirlineName\": \"Delta Air Lines Inc.\"}, {\"Carrier\": \"EV\", \"average_delay\": 17.228468720355483, \"YearMonth\": \"2007-02\", \"AirlineName\": \"ExpressJet Airlines LLC\"}, {\"Carrier\": \"MQ\", \"average_delay\": 16.31042989869298, \"YearMonth\": \"2007-02\", \"AirlineName\": \"Envoy Air\"}, {\"Carrier\": \"UA\", \"average_delay\": 16.200906344410875, \"YearMonth\": \"2007-02\", \"AirlineName\": \"United Air Lines Inc.\"}, {\"Carrier\": \"WN\", \"average_delay\": 6.095083246618106, \"YearMonth\": \"2007-02\", \"AirlineName\": \"Southwest Airlines Co.\"}, {\"Carrier\": \"AA\", \"average_delay\": 12.074684881877877, \"YearMonth\": \"2007-03\", \"AirlineName\": \"American Airlines Inc.\"}, {\"Carrier\": \"AS\", \"average_delay\": 9.141683129197945, \"YearMonth\": \"2007-03\", \"AirlineName\": \"Alaska Airlines Inc.\"}, {\"Carrier\": \"DL\", \"average_delay\": 4.211507434159903, \"YearMonth\": \"2007-03\", \"AirlineName\": \"Delta Air Lines Inc.\"}, {\"Carrier\": \"EV\", \"average_delay\": 11.960973093784922, \"YearMonth\": \"2007-03\", \"AirlineName\": \"ExpressJet Airlines LLC\"}, {\"Carrier\": \"MQ\", \"average_delay\": 11.198931322430663, \"YearMonth\": \"2007-03\", \"AirlineName\": \"Envoy Air\"}, {\"Carrier\": \"UA\", \"average_delay\": 11.744238470946545, \"YearMonth\": \"2007-03\", \"AirlineName\": \"United Air Lines Inc.\"}, {\"Carrier\": \"WN\", \"average_delay\": 3.883584555027875, \"YearMonth\": \"2007-03\", \"AirlineName\": \"Southwest Airlines Co.\"}, {\"Carrier\": \"AA\", \"average_delay\": 13.07376886417792, \"YearMonth\": \"2007-04\", \"AirlineName\": \"American Airlines Inc.\"}, {\"Carrier\": \"AS\", \"average_delay\": 3.604305687956784, \"YearMonth\": \"2007-04\", \"AirlineName\": \"Alaska Airlines Inc.\"}, {\"Carrier\": \"DL\", \"average_delay\": 3.9725435031780765, \"YearMonth\": \"2007-04\", \"AirlineName\": \"Delta Air Lines Inc.\"}, {\"Carrier\": \"EV\", \"average_delay\": 11.056802120141343, \"YearMonth\": \"2007-04\", \"AirlineName\": \"ExpressJet Airlines LLC\"}, {\"Carrier\": \"MQ\", \"average_delay\": 10.661142816208601, \"YearMonth\": \"2007-04\", \"AirlineName\": \"Envoy Air\"}, {\"Carrier\": \"UA\", \"average_delay\": 11.01259268568556, \"YearMonth\": \"2007-04\", \"AirlineName\": \"United Air Lines Inc.\"}, {\"Carrier\": \"WN\", \"average_delay\": 3.3895044403485253, \"YearMonth\": \"2007-04\", \"AirlineName\": \"Southwest Airlines Co.\"}, {\"Carrier\": \"AA\", \"average_delay\": 12.350214838155257, \"YearMonth\": \"2007-05\", \"AirlineName\": \"American Airlines Inc.\"}, {\"Carrier\": \"AS\", \"average_delay\": 6.8050093296971434, \"YearMonth\": \"2007-05\", \"AirlineName\": \"Alaska Airlines Inc.\"}, {\"Carrier\": \"DL\", \"average_delay\": 1.9667004864850803, \"YearMonth\": \"2007-05\", \"AirlineName\": \"Delta Air Lines Inc.\"}, {\"Carrier\": \"EV\", \"average_delay\": 5.61820065619064, \"YearMonth\": \"2007-05\", \"AirlineName\": \"ExpressJet Airlines LLC\"}, {\"Carrier\": \"MQ\", \"average_delay\": 10.732515965376827, \"YearMonth\": \"2007-05\", \"AirlineName\": \"Envoy Air\"}, {\"Carrier\": \"UA\", \"average_delay\": 8.50202182597681, \"YearMonth\": \"2007-05\", \"AirlineName\": \"United Air Lines Inc.\"}, {\"Carrier\": \"WN\", \"average_delay\": 3.7156130424163476, \"YearMonth\": \"2007-05\", \"AirlineName\": \"Southwest Airlines Co.\"}, {\"Carrier\": \"AA\", \"average_delay\": 26.304088277858177, \"YearMonth\": \"2007-06\", \"AirlineName\": \"American Airlines Inc.\"}, {\"Carrier\": \"AS\", \"average_delay\": 12.040512784191515, \"YearMonth\": \"2007-06\", \"AirlineName\": \"Alaska Airlines Inc.\"}, {\"Carrier\": \"DL\", \"average_delay\": 16.92670993256604, \"YearMonth\": \"2007-06\", \"AirlineName\": \"Delta Air Lines Inc.\"}, {\"Carrier\": \"EV\", \"average_delay\": 27.188017819226445, \"YearMonth\": \"2007-06\", \"AirlineName\": \"ExpressJet Airlines LLC\"}, {\"Carrier\": \"MQ\", \"average_delay\": 21.685448577680525, \"YearMonth\": \"2007-06\", \"AirlineName\": \"Envoy Air\"}, {\"Carrier\": \"UA\", \"average_delay\": 18.767504061992252, \"YearMonth\": \"2007-06\", \"AirlineName\": \"United Air Lines Inc.\"}, {\"Carrier\": \"WN\", \"average_delay\": 11.000666368189249, \"YearMonth\": \"2007-06\", \"AirlineName\": \"Southwest Airlines Co.\"}, {\"Carrier\": \"AA\", \"average_delay\": 20.936430737540768, \"YearMonth\": \"2007-07\", \"AirlineName\": \"American Airlines Inc.\"}, {\"Carrier\": \"AS\", \"average_delay\": 12.910100802304052, \"YearMonth\": \"2007-07\", \"AirlineName\": \"Alaska Airlines Inc.\"}, {\"Carrier\": \"DL\", \"average_delay\": 17.32049744179784, \"YearMonth\": \"2007-07\", \"AirlineName\": \"Delta Air Lines Inc.\"}, {\"Carrier\": \"EV\", \"average_delay\": 28.413286398428227, \"YearMonth\": \"2007-07\", \"AirlineName\": \"ExpressJet Airlines LLC\"}, {\"Carrier\": \"MQ\", \"average_delay\": 16.709716490220707, \"YearMonth\": \"2007-07\", \"AirlineName\": \"Envoy Air\"}, {\"Carrier\": \"UA\", \"average_delay\": 14.111121840523381, \"YearMonth\": \"2007-07\", \"AirlineName\": \"United Air Lines Inc.\"}, {\"Carrier\": \"WN\", \"average_delay\": 10.250558656418788, \"YearMonth\": \"2007-07\", \"AirlineName\": \"Southwest Airlines Co.\"}, {\"Carrier\": \"AA\", \"average_delay\": 14.95734281693355, \"YearMonth\": \"2007-08\", \"AirlineName\": \"American Airlines Inc.\"}, {\"Carrier\": \"AS\", \"average_delay\": 14.301929860967006, \"YearMonth\": \"2007-08\", \"AirlineName\": \"Alaska Airlines Inc.\"}, {\"Carrier\": \"DL\", \"average_delay\": 14.351384315160386, \"YearMonth\": \"2007-08\", \"AirlineName\": \"Delta Air Lines Inc.\"}, {\"Carrier\": \"EV\", \"average_delay\": 27.7600579336981, \"YearMonth\": \"2007-08\", \"AirlineName\": \"ExpressJet Airlines LLC\"}, {\"Carrier\": \"MQ\", \"average_delay\": 14.778483252953409, \"YearMonth\": \"2007-08\", \"AirlineName\": \"Envoy Air\"}, {\"Carrier\": \"UA\", \"average_delay\": 16.898828871892924, \"YearMonth\": \"2007-08\", \"AirlineName\": \"United Air Lines Inc.\"}, {\"Carrier\": \"WN\", \"average_delay\": 8.186452935989776, \"YearMonth\": \"2007-08\", \"AirlineName\": \"Southwest Airlines Co.\"}, {\"Carrier\": \"AA\", \"average_delay\": 7.1666169124524846, \"YearMonth\": \"2007-09\", \"AirlineName\": \"American Airlines Inc.\"}, {\"Carrier\": \"AS\", \"average_delay\": 8.155407452287186, \"YearMonth\": \"2007-09\", \"AirlineName\": \"Alaska Airlines Inc.\"}, {\"Carrier\": \"DL\", \"average_delay\": 4.000857365549494, \"YearMonth\": \"2007-09\", \"AirlineName\": \"Delta Air Lines Inc.\"}, {\"Carrier\": \"EV\", \"average_delay\": 20.474285714285713, \"YearMonth\": \"2007-09\", \"AirlineName\": \"ExpressJet Airlines LLC\"}, {\"Carrier\": \"MQ\", \"average_delay\": 4.896027610166392, \"YearMonth\": \"2007-09\", \"AirlineName\": \"Envoy Air\"}, {\"Carrier\": \"UA\", \"average_delay\": 5.435709285140145, \"YearMonth\": \"2007-09\", \"AirlineName\": \"United Air Lines Inc.\"}, {\"Carrier\": \"WN\", \"average_delay\": 1.361644435637782, \"YearMonth\": \"2007-09\", \"AirlineName\": \"Southwest Airlines Co.\"}, {\"Carrier\": \"AA\", \"average_delay\": 9.039778963703116, \"YearMonth\": \"2007-10\", \"AirlineName\": \"American Airlines Inc.\"}, {\"Carrier\": \"AS\", \"average_delay\": 10.419961759082218, \"YearMonth\": \"2007-10\", \"AirlineName\": \"Alaska Airlines Inc.\"}, {\"Carrier\": \"DL\", \"average_delay\": 4.248912777913511, \"YearMonth\": \"2007-10\", \"AirlineName\": \"Delta Air Lines Inc.\"}, {\"Carrier\": \"EV\", \"average_delay\": 17.66351931330472, \"YearMonth\": \"2007-10\", \"AirlineName\": \"ExpressJet Airlines LLC\"}, {\"Carrier\": \"MQ\", \"average_delay\": 6.171878809370775, \"YearMonth\": \"2007-10\", \"AirlineName\": \"Envoy Air\"}, {\"Carrier\": \"UA\", \"average_delay\": 8.677148225056857, \"YearMonth\": \"2007-10\", \"AirlineName\": \"United Air Lines Inc.\"}, {\"Carrier\": \"WN\", \"average_delay\": 3.904587892781849, \"YearMonth\": \"2007-10\", \"AirlineName\": \"Southwest Airlines Co.\"}, {\"Carrier\": \"AA\", \"average_delay\": 8.320524465858378, \"YearMonth\": \"2007-11\", \"AirlineName\": \"American Airlines Inc.\"}, {\"Carrier\": \"AS\", \"average_delay\": 5.039442198201172, \"YearMonth\": \"2007-11\", \"AirlineName\": \"Alaska Airlines Inc.\"}, {\"Carrier\": \"DL\", \"average_delay\": 0.5659401173065595, \"YearMonth\": \"2007-11\", \"AirlineName\": \"Delta Air Lines Inc.\"}, {\"Carrier\": \"EV\", \"average_delay\": 7.73861929892307, \"YearMonth\": \"2007-11\", \"AirlineName\": \"ExpressJet Airlines LLC\"}, {\"Carrier\": \"MQ\", \"average_delay\": 6.826510856036509, \"YearMonth\": \"2007-11\", \"AirlineName\": \"Envoy Air\"}, {\"Carrier\": \"UA\", \"average_delay\": 7.457009907719656, \"YearMonth\": \"2007-11\", \"AirlineName\": \"United Air Lines Inc.\"}, {\"Carrier\": \"WN\", \"average_delay\": 2.037194167559107, \"YearMonth\": \"2007-11\", \"AirlineName\": \"Southwest Airlines Co.\"}, {\"Carrier\": \"AA\", \"average_delay\": 20.82153427252279, \"YearMonth\": \"2007-12\", \"AirlineName\": \"American Airlines Inc.\"}, {\"Carrier\": \"AS\", \"average_delay\": 9.784212614042048, \"YearMonth\": \"2007-12\", \"AirlineName\": \"Alaska Airlines Inc.\"}, {\"Carrier\": \"DL\", \"average_delay\": 9.64732493070446, \"YearMonth\": \"2007-12\", \"AirlineName\": \"Delta Air Lines Inc.\"}, {\"Carrier\": \"EV\", \"average_delay\": 16.668343027069575, \"YearMonth\": \"2007-12\", \"AirlineName\": \"ExpressJet Airlines LLC\"}, {\"Carrier\": \"MQ\", \"average_delay\": 24.067426774130137, \"YearMonth\": \"2007-12\", \"AirlineName\": \"Envoy Air\"}, {\"Carrier\": \"UA\", \"average_delay\": 24.945558358783693, \"YearMonth\": \"2007-12\", \"AirlineName\": \"United Air Lines Inc.\"}, {\"Carrier\": \"WN\", \"average_delay\": 9.78850825796705, \"YearMonth\": \"2007-12\", \"AirlineName\": \"Southwest Airlines Co.\"}, {\"Carrier\": \"AA\", \"average_delay\": 15.071998420221169, \"YearMonth\": \"2008-01\", \"AirlineName\": \"American Airlines Inc.\"}, {\"Carrier\": \"AS\", \"average_delay\": 8.177964032874929, \"YearMonth\": \"2008-01\", \"AirlineName\": \"Alaska Airlines Inc.\"}, {\"Carrier\": \"DL\", \"average_delay\": 4.4382083254442675, \"YearMonth\": \"2008-01\", \"AirlineName\": \"Delta Air Lines Inc.\"}, {\"Carrier\": \"EV\", \"average_delay\": 9.17060833902939, \"YearMonth\": \"2008-01\", \"AirlineName\": \"ExpressJet Airlines LLC\"}, {\"Carrier\": \"MQ\", \"average_delay\": 15.115856940163413, \"YearMonth\": \"2008-01\", \"AirlineName\": \"Envoy Air\"}, {\"Carrier\": \"UA\", \"average_delay\": 19.83305925560489, \"YearMonth\": \"2008-01\", \"AirlineName\": \"United Air Lines Inc.\"}, {\"Carrier\": \"WN\", \"average_delay\": 6.868690501163755, \"YearMonth\": \"2008-01\", \"AirlineName\": \"Southwest Airlines Co.\"}, {\"Carrier\": \"AA\", \"average_delay\": 18.253438454374148, \"YearMonth\": \"2008-02\", \"AirlineName\": \"American Airlines Inc.\"}, {\"Carrier\": \"AS\", \"average_delay\": 5.356540447504303, \"YearMonth\": \"2008-02\", \"AirlineName\": \"Alaska Airlines Inc.\"}, {\"Carrier\": \"DL\", \"average_delay\": 6.5251310080577, \"YearMonth\": \"2008-02\", \"AirlineName\": \"Delta Air Lines Inc.\"}, {\"Carrier\": \"EV\", \"average_delay\": 14.603755956273941, \"YearMonth\": \"2008-02\", \"AirlineName\": \"ExpressJet Airlines LLC\"}, {\"Carrier\": \"MQ\", \"average_delay\": 17.90090916448593, \"YearMonth\": \"2008-02\", \"AirlineName\": \"Envoy Air\"}, {\"Carrier\": \"UA\", \"average_delay\": 16.53904539898229, \"YearMonth\": \"2008-02\", \"AirlineName\": \"United Air Lines Inc.\"}, {\"Carrier\": \"WN\", \"average_delay\": 11.334683972178285, \"YearMonth\": \"2008-02\", \"AirlineName\": \"Southwest Airlines Co.\"}, {\"Carrier\": \"AA\", \"average_delay\": 17.93071636051221, \"YearMonth\": \"2008-03\", \"AirlineName\": \"American Airlines Inc.\"}, {\"Carrier\": \"AS\", \"average_delay\": 5.362206591322216, \"YearMonth\": \"2008-03\", \"AirlineName\": \"Alaska Airlines Inc.\"}, {\"Carrier\": \"DL\", \"average_delay\": 10.862782438622677, \"YearMonth\": \"2008-03\", \"AirlineName\": \"Delta Air Lines Inc.\"}, {\"Carrier\": \"EV\", \"average_delay\": 15.184953111679455, \"YearMonth\": \"2008-03\", \"AirlineName\": \"ExpressJet Airlines LLC\"}, {\"Carrier\": \"MQ\", \"average_delay\": 13.783431114707668, \"YearMonth\": \"2008-03\", \"AirlineName\": \"Envoy Air\"}, {\"Carrier\": \"UA\", \"average_delay\": 11.040290905405064, \"YearMonth\": \"2008-03\", \"AirlineName\": \"United Air Lines Inc.\"}, {\"Carrier\": \"WN\", \"average_delay\": 8.96462660316582, \"YearMonth\": \"2008-03\", \"AirlineName\": \"Southwest Airlines Co.\"}, {\"Carrier\": \"AA\", \"average_delay\": 13.104008941563508, \"YearMonth\": \"2008-04\", \"AirlineName\": \"American Airlines Inc.\"}, {\"Carrier\": \"AS\", \"average_delay\": 2.5131674904788914, \"YearMonth\": \"2008-04\", \"AirlineName\": \"Alaska Airlines Inc.\"}, {\"Carrier\": \"DL\", \"average_delay\": 8.16250272747109, \"YearMonth\": \"2008-04\", \"AirlineName\": \"Delta Air Lines Inc.\"}, {\"Carrier\": \"EV\", \"average_delay\": 9.479746175243394, \"YearMonth\": \"2008-04\", \"AirlineName\": \"ExpressJet Airlines LLC\"}, {\"Carrier\": \"MQ\", \"average_delay\": 9.331851381390917, \"YearMonth\": \"2008-04\", \"AirlineName\": \"Envoy Air\"}, {\"Carrier\": \"UA\", \"average_delay\": 10.483723376281883, \"YearMonth\": \"2008-04\", \"AirlineName\": \"United Air Lines Inc.\"}, {\"Carrier\": \"WN\", \"average_delay\": 3.523807145639602, \"YearMonth\": \"2008-04\", \"AirlineName\": \"Southwest Airlines Co.\"}, {\"Carrier\": \"AA\", \"average_delay\": 14.559009078319741, \"YearMonth\": \"2008-05\", \"AirlineName\": \"American Airlines Inc.\"}, {\"Carrier\": \"AS\", \"average_delay\": 2.7484407484407485, \"YearMonth\": \"2008-05\", \"AirlineName\": \"Alaska Airlines Inc.\"}, {\"Carrier\": \"DL\", \"average_delay\": 2.6262693339973993, \"YearMonth\": \"2008-05\", \"AirlineName\": \"Delta Air Lines Inc.\"}, {\"Carrier\": \"EV\", \"average_delay\": 2.238130211258478, \"YearMonth\": \"2008-05\", \"AirlineName\": \"ExpressJet Airlines LLC\"}, {\"Carrier\": \"MQ\", \"average_delay\": 7.748056763887899, \"YearMonth\": \"2008-05\", \"AirlineName\": \"Envoy Air\"}, {\"Carrier\": \"UA\", \"average_delay\": 10.237745411728568, \"YearMonth\": \"2008-05\", \"AirlineName\": \"United Air Lines Inc.\"}, {\"Carrier\": \"WN\", \"average_delay\": 4.892102815177479, \"YearMonth\": \"2008-05\", \"AirlineName\": \"Southwest Airlines Co.\"}, {\"Carrier\": \"AA\", \"average_delay\": 24.14282829506674, \"YearMonth\": \"2008-06\", \"AirlineName\": \"American Airlines Inc.\"}, {\"Carrier\": \"AS\", \"average_delay\": 5.383153608325164, \"YearMonth\": \"2008-06\", \"AirlineName\": \"Alaska Airlines Inc.\"}, {\"Carrier\": \"DL\", \"average_delay\": 10.405438082699696, \"YearMonth\": \"2008-06\", \"AirlineName\": \"Delta Air Lines Inc.\"}, {\"Carrier\": \"EV\", \"average_delay\": 7.3950592244037, \"YearMonth\": \"2008-06\", \"AirlineName\": \"ExpressJet Airlines LLC\"}, {\"Carrier\": \"MQ\", \"average_delay\": 15.841494845360824, \"YearMonth\": \"2008-06\", \"AirlineName\": \"Envoy Air\"}, {\"Carrier\": \"UA\", \"average_delay\": 22.869446659635223, \"YearMonth\": \"2008-06\", \"AirlineName\": \"United Air Lines Inc.\"}, {\"Carrier\": \"WN\", \"average_delay\": 9.341731388520554, \"YearMonth\": \"2008-06\", \"AirlineName\": \"Southwest Airlines Co.\"}, {\"Carrier\": \"AA\", \"average_delay\": 14.770654227225414, \"YearMonth\": \"2008-07\", \"AirlineName\": \"American Airlines Inc.\"}, {\"Carrier\": \"AS\", \"average_delay\": 4.5014921131163845, \"YearMonth\": \"2008-07\", \"AirlineName\": \"Alaska Airlines Inc.\"}, {\"Carrier\": \"DL\", \"average_delay\": 16.80965477500131, \"YearMonth\": \"2008-07\", \"AirlineName\": \"Delta Air Lines Inc.\"}, {\"Carrier\": \"EV\", \"average_delay\": 17.41386795059, \"YearMonth\": \"2008-07\", \"AirlineName\": \"ExpressJet Airlines LLC\"}, {\"Carrier\": \"MQ\", \"average_delay\": 8.646373850868233, \"YearMonth\": \"2008-07\", \"AirlineName\": \"Envoy Air\"}, {\"Carrier\": \"UA\", \"average_delay\": 14.528083976350336, \"YearMonth\": \"2008-07\", \"AirlineName\": \"United Air Lines Inc.\"}, {\"Carrier\": \"WN\", \"average_delay\": 4.452327685154563, \"YearMonth\": \"2008-07\", \"AirlineName\": \"Southwest Airlines Co.\"}, {\"Carrier\": \"AA\", \"average_delay\": 12.839898004520254, \"YearMonth\": \"2008-08\", \"AirlineName\": \"American Airlines Inc.\"}, {\"Carrier\": \"AS\", \"average_delay\": 5.629719764011799, \"YearMonth\": \"2008-08\", \"AirlineName\": \"Alaska Airlines Inc.\"}, {\"Carrier\": \"DL\", \"average_delay\": 8.1056717532814, \"YearMonth\": \"2008-08\", \"AirlineName\": \"Delta Air Lines Inc.\"}, {\"Carrier\": \"EV\", \"average_delay\": 9.336987742222583, \"YearMonth\": \"2008-08\", \"AirlineName\": \"ExpressJet Airlines LLC\"}, {\"Carrier\": \"MQ\", \"average_delay\": 5.730404052302981, \"YearMonth\": \"2008-08\", \"AirlineName\": \"Envoy Air\"}, {\"Carrier\": \"UA\", \"average_delay\": 11.17852424026832, \"YearMonth\": \"2008-08\", \"AirlineName\": \"United Air Lines Inc.\"}, {\"Carrier\": \"WN\", \"average_delay\": 2.549089900770465, \"YearMonth\": \"2008-08\", \"AirlineName\": \"Southwest Airlines Co.\"}, {\"Carrier\": \"AA\", \"average_delay\": 4.031765102651659, \"YearMonth\": \"2008-09\", \"AirlineName\": \"American Airlines Inc.\"}, {\"Carrier\": \"AS\", \"average_delay\": -2.6175538127815785, \"YearMonth\": \"2008-09\", \"AirlineName\": \"Alaska Airlines Inc.\"}, {\"Carrier\": \"DL\", \"average_delay\": 1.5241390857844506, \"YearMonth\": \"2008-09\", \"AirlineName\": \"Delta Air Lines Inc.\"}, {\"Carrier\": \"EV\", \"average_delay\": 2.1175985645700983, \"YearMonth\": \"2008-09\", \"AirlineName\": \"ExpressJet Airlines LLC\"}, {\"Carrier\": \"MQ\", \"average_delay\": 1.6576646893537308, \"YearMonth\": \"2008-09\", \"AirlineName\": \"Envoy Air\"}, {\"Carrier\": \"UA\", \"average_delay\": 4.848468864468864, \"YearMonth\": \"2008-09\", \"AirlineName\": \"United Air Lines Inc.\"}, {\"Carrier\": \"WN\", \"average_delay\": -2.4837894297054524, \"YearMonth\": \"2008-09\", \"AirlineName\": \"Southwest Airlines Co.\"}, {\"Carrier\": \"AA\", \"average_delay\": 2.5836962025316454, \"YearMonth\": \"2008-10\", \"AirlineName\": \"American Airlines Inc.\"}, {\"Carrier\": \"AS\", \"average_delay\": -0.5505627207754867, \"YearMonth\": \"2008-10\", \"AirlineName\": \"Alaska Airlines Inc.\"}, {\"Carrier\": \"DL\", \"average_delay\": 4.000234552135727, \"YearMonth\": \"2008-10\", \"AirlineName\": \"Delta Air Lines Inc.\"}, {\"Carrier\": \"EV\", \"average_delay\": 5.579391891891892, \"YearMonth\": \"2008-10\", \"AirlineName\": \"ExpressJet Airlines LLC\"}, {\"Carrier\": \"MQ\", \"average_delay\": -0.32555250079306336, \"YearMonth\": \"2008-10\", \"AirlineName\": \"Envoy Air\"}, {\"Carrier\": \"UA\", \"average_delay\": -1.5339943745205558, \"YearMonth\": \"2008-10\", \"AirlineName\": \"United Air Lines Inc.\"}, {\"Carrier\": \"WN\", \"average_delay\": -2.0701358362045066, \"YearMonth\": \"2008-10\", \"AirlineName\": \"Southwest Airlines Co.\"}, {\"Carrier\": \"AA\", \"average_delay\": -0.22275373437429488, \"YearMonth\": \"2008-11\", \"AirlineName\": \"American Airlines Inc.\"}, {\"Carrier\": \"AS\", \"average_delay\": 2.4535648994515538, \"YearMonth\": \"2008-11\", \"AirlineName\": \"Alaska Airlines Inc.\"}, {\"Carrier\": \"DL\", \"average_delay\": 6.288200420730541, \"YearMonth\": \"2008-11\", \"AirlineName\": \"Delta Air Lines Inc.\"}, {\"Carrier\": \"EV\", \"average_delay\": 10.401164842922697, \"YearMonth\": \"2008-11\", \"AirlineName\": \"ExpressJet Airlines LLC\"}, {\"Carrier\": \"MQ\", \"average_delay\": 1.8548257012277085, \"YearMonth\": \"2008-11\", \"AirlineName\": \"Envoy Air\"}, {\"Carrier\": \"UA\", \"average_delay\": -1.8948412698412698, \"YearMonth\": \"2008-11\", \"AirlineName\": \"United Air Lines Inc.\"}, {\"Carrier\": \"WN\", \"average_delay\": -0.6531199764649023, \"YearMonth\": \"2008-11\", \"AirlineName\": \"Southwest Airlines Co.\"}, {\"Carrier\": \"AA\", \"average_delay\": 12.694496288901428, \"YearMonth\": \"2008-12\", \"AirlineName\": \"American Airlines Inc.\"}, {\"Carrier\": \"AS\", \"average_delay\": 20.386783559577676, \"YearMonth\": \"2008-12\", \"AirlineName\": \"Alaska Airlines Inc.\"}, {\"Carrier\": \"DL\", \"average_delay\": 13.955921034415926, \"YearMonth\": \"2008-12\", \"AirlineName\": \"Delta Air Lines Inc.\"}, {\"Carrier\": \"EV\", \"average_delay\": 18.286713286713287, \"YearMonth\": \"2008-12\", \"AirlineName\": \"ExpressJet Airlines LLC\"}, {\"Carrier\": \"MQ\", \"average_delay\": 22.267980689400694, \"YearMonth\": \"2008-12\", \"AirlineName\": \"Envoy Air\"}, {\"Carrier\": \"UA\", \"average_delay\": 14.060738627357743, \"YearMonth\": \"2008-12\", \"AirlineName\": \"United Air Lines Inc.\"}, {\"Carrier\": \"WN\", \"average_delay\": 15.900018937799848, \"YearMonth\": \"2008-12\", \"AirlineName\": \"Southwest Airlines Co.\"}, {\"Carrier\": \"AA\", \"average_delay\": 5.353070461766114, \"YearMonth\": \"2009-01\", \"AirlineName\": \"American Airlines Inc.\"}, {\"Carrier\": \"AS\", \"average_delay\": 8.780536974250893, \"YearMonth\": \"2009-01\", \"AirlineName\": \"Alaska Airlines Inc.\"}, {\"Carrier\": \"DL\", \"average_delay\": 4.07896816437119, \"YearMonth\": \"2009-01\", \"AirlineName\": \"Delta Air Lines Inc.\"}, {\"Carrier\": \"EV\", \"average_delay\": 11.588958147818344, \"YearMonth\": \"2009-01\", \"AirlineName\": \"ExpressJet Airlines LLC\"}, {\"Carrier\": \"MQ\", \"average_delay\": 9.15950956937799, \"YearMonth\": \"2009-01\", \"AirlineName\": \"Envoy Air\"}, {\"Carrier\": \"UA\", \"average_delay\": 2.229187007745883, \"YearMonth\": \"2009-01\", \"AirlineName\": \"United Air Lines Inc.\"}, {\"Carrier\": \"WN\", \"average_delay\": 0.17073868755498553, \"YearMonth\": \"2009-01\", \"AirlineName\": \"Southwest Airlines Co.\"}, {\"Carrier\": \"AA\", \"average_delay\": 1.7572813216195569, \"YearMonth\": \"2009-02\", \"AirlineName\": \"American Airlines Inc.\"}, {\"Carrier\": \"AS\", \"average_delay\": 6.387048937221947, \"YearMonth\": \"2009-02\", \"AirlineName\": \"Alaska Airlines Inc.\"}, {\"Carrier\": \"DL\", \"average_delay\": 0.743976183831054, \"YearMonth\": \"2009-02\", \"AirlineName\": \"Delta Air Lines Inc.\"}, {\"Carrier\": \"EV\", \"average_delay\": 5.054657210401891, \"YearMonth\": \"2009-02\", \"AirlineName\": \"ExpressJet Airlines LLC\"}, {\"Carrier\": \"MQ\", \"average_delay\": 3.2075147269543067, \"YearMonth\": \"2009-02\", \"AirlineName\": \"Envoy Air\"}, {\"Carrier\": \"UA\", \"average_delay\": 0.4855916615573268, \"YearMonth\": \"2009-02\", \"AirlineName\": \"United Air Lines Inc.\"}, {\"Carrier\": \"WN\", \"average_delay\": -2.8715066227094277, \"YearMonth\": \"2009-02\", \"AirlineName\": \"Southwest Airlines Co.\"}, {\"Carrier\": \"AA\", \"average_delay\": 5.451073780867177, \"YearMonth\": \"2009-03\", \"AirlineName\": \"American Airlines Inc.\"}, {\"Carrier\": \"AS\", \"average_delay\": 9.536370249136207, \"YearMonth\": \"2009-03\", \"AirlineName\": \"Alaska Airlines Inc.\"}, {\"Carrier\": \"DL\", \"average_delay\": 6.983600112327998, \"YearMonth\": \"2009-03\", \"AirlineName\": \"Delta Air Lines Inc.\"}, {\"Carrier\": \"EV\", \"average_delay\": 20.25384871432138, \"YearMonth\": \"2009-03\", \"AirlineName\": \"ExpressJet Airlines LLC\"}, {\"Carrier\": \"MQ\", \"average_delay\": 5.2895105695243, \"YearMonth\": \"2009-03\", \"AirlineName\": \"Envoy Air\"}, {\"Carrier\": \"UA\", \"average_delay\": 1.5372585096596136, \"YearMonth\": \"2009-03\", \"AirlineName\": \"United Air Lines Inc.\"}, {\"Carrier\": \"WN\", \"average_delay\": 1.8330720364865416, \"YearMonth\": \"2009-03\", \"AirlineName\": \"Southwest Airlines Co.\"}, {\"Carrier\": \"AA\", \"average_delay\": 10.086093900284071, \"YearMonth\": \"2009-04\", \"AirlineName\": \"American Airlines Inc.\"}, {\"Carrier\": \"AS\", \"average_delay\": 1.361876193073357, \"YearMonth\": \"2009-04\", \"AirlineName\": \"Alaska Airlines Inc.\"}, {\"Carrier\": \"DL\", \"average_delay\": 8.941458207103494, \"YearMonth\": \"2009-04\", \"AirlineName\": \"Delta Air Lines Inc.\"}, {\"Carrier\": \"EV\", \"average_delay\": 14.843315463226672, \"YearMonth\": \"2009-04\", \"AirlineName\": \"ExpressJet Airlines LLC\"}, {\"Carrier\": \"MQ\", \"average_delay\": 8.471993505740462, \"YearMonth\": \"2009-04\", \"AirlineName\": \"Envoy Air\"}, {\"Carrier\": \"UA\", \"average_delay\": 3.2665474060822897, \"YearMonth\": \"2009-04\", \"AirlineName\": \"United Air Lines Inc.\"}, {\"Carrier\": \"WN\", \"average_delay\": 2.319874355133966, \"YearMonth\": \"2009-04\", \"AirlineName\": \"Southwest Airlines Co.\"}, {\"Carrier\": \"AA\", \"average_delay\": 5.980998973507764, \"YearMonth\": \"2009-05\", \"AirlineName\": \"American Airlines Inc.\"}, {\"Carrier\": \"AS\", \"average_delay\": 0.8091505495441765, \"YearMonth\": \"2009-05\", \"AirlineName\": \"Alaska Airlines Inc.\"}, {\"Carrier\": \"DL\", \"average_delay\": 5.244854790761491, \"YearMonth\": \"2009-05\", \"AirlineName\": \"Delta Air Lines Inc.\"}, {\"Carrier\": \"EV\", \"average_delay\": 11.609358041564498, \"YearMonth\": \"2009-05\", \"AirlineName\": \"ExpressJet Airlines LLC\"}, {\"Carrier\": \"MQ\", \"average_delay\": 7.194573855850918, \"YearMonth\": \"2009-05\", \"AirlineName\": \"Envoy Air\"}, {\"Carrier\": \"UA\", \"average_delay\": 2.8566549632939675, \"YearMonth\": \"2009-05\", \"AirlineName\": \"United Air Lines Inc.\"}, {\"Carrier\": \"WN\", \"average_delay\": 2.7219345655582146, \"YearMonth\": \"2009-05\", \"AirlineName\": \"Southwest Airlines Co.\"}, {\"Carrier\": \"AA\", \"average_delay\": 14.114480003590826, \"YearMonth\": \"2009-06\", \"AirlineName\": \"American Airlines Inc.\"}, {\"Carrier\": \"AS\", \"average_delay\": 1.569195136074117, \"YearMonth\": \"2009-06\", \"AirlineName\": \"Alaska Airlines Inc.\"}, {\"Carrier\": \"DL\", \"average_delay\": 8.372147555047183, \"YearMonth\": \"2009-06\", \"AirlineName\": \"Delta Air Lines Inc.\"}, {\"Carrier\": \"EV\", \"average_delay\": 10.721147801649225, \"YearMonth\": \"2009-06\", \"AirlineName\": \"ExpressJet Airlines LLC\"}, {\"Carrier\": \"MQ\", \"average_delay\": 9.416243654822335, \"YearMonth\": \"2009-06\", \"AirlineName\": \"Envoy Air\"}, {\"Carrier\": \"UA\", \"average_delay\": 10.95068058922245, \"YearMonth\": \"2009-06\", \"AirlineName\": \"United Air Lines Inc.\"}, {\"Carrier\": \"WN\", \"average_delay\": 7.416996959211492, \"YearMonth\": \"2009-06\", \"AirlineName\": \"Southwest Airlines Co.\"}, {\"Carrier\": \"AA\", \"average_delay\": 11.631664353581723, \"YearMonth\": \"2009-07\", \"AirlineName\": \"American Airlines Inc.\"}, {\"Carrier\": \"AS\", \"average_delay\": -0.12390911235159997, \"YearMonth\": \"2009-07\", \"AirlineName\": \"Alaska Airlines Inc.\"}, {\"Carrier\": \"DL\", \"average_delay\": 10.045304800021782, \"YearMonth\": \"2009-07\", \"AirlineName\": \"Delta Air Lines Inc.\"}, {\"Carrier\": \"EV\", \"average_delay\": 16.259290451626487, \"YearMonth\": \"2009-07\", \"AirlineName\": \"ExpressJet Airlines LLC\"}, {\"Carrier\": \"MQ\", \"average_delay\": 6.516201027185458, \"YearMonth\": \"2009-07\", \"AirlineName\": \"Envoy Air\"}, {\"Carrier\": \"UA\", \"average_delay\": 3.810206714470013, \"YearMonth\": \"2009-07\", \"AirlineName\": \"United Air Lines Inc.\"}, {\"Carrier\": \"WN\", \"average_delay\": 4.412852425704852, \"YearMonth\": \"2009-07\", \"AirlineName\": \"Southwest Airlines Co.\"}, {\"Carrier\": \"AA\", \"average_delay\": 6.694548872180451, \"YearMonth\": \"2009-08\", \"AirlineName\": \"American Airlines Inc.\"}, {\"Carrier\": \"AS\", \"average_delay\": 0.19375347691329572, \"YearMonth\": \"2009-08\", \"AirlineName\": \"Alaska Airlines Inc.\"}, {\"Carrier\": \"DL\", \"average_delay\": 5.592097049963362, \"YearMonth\": \"2009-08\", \"AirlineName\": \"Delta Air Lines Inc.\"}, {\"Carrier\": \"EV\", \"average_delay\": 13.563271266885724, \"YearMonth\": \"2009-08\", \"AirlineName\": \"ExpressJet Airlines LLC\"}, {\"Carrier\": \"MQ\", \"average_delay\": 5.651553540472063, \"YearMonth\": \"2009-08\", \"AirlineName\": \"Envoy Air\"}, {\"Carrier\": \"UA\", \"average_delay\": 3.7303353796836727, \"YearMonth\": \"2009-08\", \"AirlineName\": \"United Air Lines Inc.\"}, {\"Carrier\": \"WN\", \"average_delay\": 3.548015472586613, \"YearMonth\": \"2009-08\", \"AirlineName\": \"Southwest Airlines Co.\"}, {\"Carrier\": \"AA\", \"average_delay\": -0.4936697289638466, \"YearMonth\": \"2009-09\", \"AirlineName\": \"American Airlines Inc.\"}, {\"Carrier\": \"AS\", \"average_delay\": -3.999196213271412, \"YearMonth\": \"2009-09\", \"AirlineName\": \"Alaska Airlines Inc.\"}, {\"Carrier\": \"DL\", \"average_delay\": 3.881636685943448, \"YearMonth\": \"2009-09\", \"AirlineName\": \"Delta Air Lines Inc.\"}, {\"Carrier\": \"EV\", \"average_delay\": 11.739760750655934, \"YearMonth\": \"2009-09\", \"AirlineName\": \"ExpressJet Airlines LLC\"}, {\"Carrier\": \"MQ\", \"average_delay\": 1.341094681085853, \"YearMonth\": \"2009-09\", \"AirlineName\": \"Envoy Air\"}, {\"Carrier\": \"UA\", \"average_delay\": -4.70098453834963, \"YearMonth\": \"2009-09\", \"AirlineName\": \"United Air Lines Inc.\"}, {\"Carrier\": \"WN\", \"average_delay\": -1.9244210125703796, \"YearMonth\": \"2009-09\", \"AirlineName\": \"Southwest Airlines Co.\"}, {\"Carrier\": \"AA\", \"average_delay\": 7.749287182547576, \"YearMonth\": \"2009-10\", \"AirlineName\": \"American Airlines Inc.\"}, {\"Carrier\": \"AS\", \"average_delay\": -0.879742935117528, \"YearMonth\": \"2009-10\", \"AirlineName\": \"Alaska Airlines Inc.\"}, {\"Carrier\": \"DL\", \"average_delay\": 3.173046295787797, \"YearMonth\": \"2009-10\", \"AirlineName\": \"Delta Air Lines Inc.\"}, {\"Carrier\": \"EV\", \"average_delay\": 11.253684485916107, \"YearMonth\": \"2009-10\", \"AirlineName\": \"ExpressJet Airlines LLC\"}, {\"Carrier\": \"MQ\", \"average_delay\": 8.542515131136517, \"YearMonth\": \"2009-10\", \"AirlineName\": \"Envoy Air\"}, {\"Carrier\": \"UA\", \"average_delay\": -0.5791688759278897, \"YearMonth\": \"2009-10\", \"AirlineName\": \"United Air Lines Inc.\"}, {\"Carrier\": \"WN\", \"average_delay\": 5.395543296013846, \"YearMonth\": \"2009-10\", \"AirlineName\": \"Southwest Airlines Co.\"}, {\"Carrier\": \"AA\", \"average_delay\": -2.666896758012931, \"YearMonth\": \"2009-11\", \"AirlineName\": \"American Airlines Inc.\"}, {\"Carrier\": \"AS\", \"average_delay\": -3.5910318225650917, \"YearMonth\": \"2009-11\", \"AirlineName\": \"Alaska Airlines Inc.\"}, {\"Carrier\": \"DL\", \"average_delay\": -4.39490284426922, \"YearMonth\": \"2009-11\", \"AirlineName\": \"Delta Air Lines Inc.\"}, {\"Carrier\": \"EV\", \"average_delay\": 1.6843423971083546, \"YearMonth\": \"2009-11\", \"AirlineName\": \"ExpressJet Airlines LLC\"}, {\"Carrier\": \"MQ\", \"average_delay\": -0.9444382554447724, \"YearMonth\": \"2009-11\", \"AirlineName\": \"Envoy Air\"}, {\"Carrier\": \"UA\", \"average_delay\": -12.075205171036385, \"YearMonth\": \"2009-11\", \"AirlineName\": \"United Air Lines Inc.\"}, {\"Carrier\": \"WN\", \"average_delay\": -5.558486122792263, \"YearMonth\": \"2009-11\", \"AirlineName\": \"Southwest Airlines Co.\"}, {\"Carrier\": \"AA\", \"average_delay\": 9.587519500780031, \"YearMonth\": \"2009-12\", \"AirlineName\": \"American Airlines Inc.\"}, {\"Carrier\": \"AS\", \"average_delay\": -0.40710382513661203, \"YearMonth\": \"2009-12\", \"AirlineName\": \"Alaska Airlines Inc.\"}, {\"Carrier\": \"DL\", \"average_delay\": 4.22031827306316, \"YearMonth\": \"2009-12\", \"AirlineName\": \"Delta Air Lines Inc.\"}, {\"Carrier\": \"EV\", \"average_delay\": 9.87950072011522, \"YearMonth\": \"2009-12\", \"AirlineName\": \"ExpressJet Airlines LLC\"}, {\"Carrier\": \"MQ\", \"average_delay\": 15.385730824891462, \"YearMonth\": \"2009-12\", \"AirlineName\": \"Envoy Air\"}, {\"Carrier\": \"UA\", \"average_delay\": 2.3094241951496244, \"YearMonth\": \"2009-12\", \"AirlineName\": \"United Air Lines Inc.\"}, {\"Carrier\": \"WN\", \"average_delay\": 8.687477864352754, \"YearMonth\": \"2009-12\", \"AirlineName\": \"Southwest Airlines Co.\"}, {\"Carrier\": \"AA\", \"average_delay\": 1.5184719001877, \"YearMonth\": \"2010-01\", \"AirlineName\": \"American Airlines Inc.\"}, {\"Carrier\": \"AS\", \"average_delay\": -3.7130459936361007, \"YearMonth\": \"2010-01\", \"AirlineName\": \"Alaska Airlines Inc.\"}, {\"Carrier\": \"DL\", \"average_delay\": 0.7178447068959328, \"YearMonth\": \"2010-01\", \"AirlineName\": \"Delta Air Lines Inc.\"}, {\"Carrier\": \"EV\", \"average_delay\": 3.690934771443246, \"YearMonth\": \"2010-01\", \"AirlineName\": \"ExpressJet Airlines LLC\"}, {\"Carrier\": \"MQ\", \"average_delay\": 7.779260984407395, \"YearMonth\": \"2010-01\", \"AirlineName\": \"Envoy Air\"}, {\"Carrier\": \"UA\", \"average_delay\": -2.9400498972703257, \"YearMonth\": \"2010-01\", \"AirlineName\": \"United Air Lines Inc.\"}, {\"Carrier\": \"WN\", \"average_delay\": 2.4976165614927135, \"YearMonth\": \"2010-01\", \"AirlineName\": \"Southwest Airlines Co.\"}, {\"Carrier\": \"AA\", \"average_delay\": 6.730334827577571, \"YearMonth\": \"2010-02\", \"AirlineName\": \"American Airlines Inc.\"}, {\"Carrier\": \"AS\", \"average_delay\": -2.960734373341823, \"YearMonth\": \"2010-02\", \"AirlineName\": \"Alaska Airlines Inc.\"}, {\"Carrier\": \"DL\", \"average_delay\": 4.632169350461371, \"YearMonth\": \"2010-02\", \"AirlineName\": \"Delta Air Lines Inc.\"}, {\"Carrier\": \"EV\", \"average_delay\": 8.332258955704946, \"YearMonth\": \"2010-02\", \"AirlineName\": \"ExpressJet Airlines LLC\"}, {\"Carrier\": \"MQ\", \"average_delay\": 8.444473090557524, \"YearMonth\": \"2010-02\", \"AirlineName\": \"Envoy Air\"}, {\"Carrier\": \"UA\", \"average_delay\": -1.6221562003988441, \"YearMonth\": \"2010-02\", \"AirlineName\": \"United Air Lines Inc.\"}, {\"Carrier\": \"WN\", \"average_delay\": 1.7481472032655143, \"YearMonth\": \"2010-02\", \"AirlineName\": \"Southwest Airlines Co.\"}, {\"Carrier\": \"AA\", \"average_delay\": 6.604177411036617, \"YearMonth\": \"2010-03\", \"AirlineName\": \"American Airlines Inc.\"}, {\"Carrier\": \"AS\", \"average_delay\": -2.1570994195153412, \"YearMonth\": \"2010-03\", \"AirlineName\": \"Alaska Airlines Inc.\"}, {\"Carrier\": \"DL\", \"average_delay\": 2.374339316773333, \"YearMonth\": \"2010-03\", \"AirlineName\": \"Delta Air Lines Inc.\"}, {\"Carrier\": \"EV\", \"average_delay\": 5.398615001556178, \"YearMonth\": \"2010-03\", \"AirlineName\": \"ExpressJet Airlines LLC\"}, {\"Carrier\": \"MQ\", \"average_delay\": 4.636695986805937, \"YearMonth\": \"2010-03\", \"AirlineName\": \"Envoy Air\"}, {\"Carrier\": \"UA\", \"average_delay\": -2.896721816873908, \"YearMonth\": \"2010-03\", \"AirlineName\": \"United Air Lines Inc.\"}, {\"Carrier\": \"WN\", \"average_delay\": 3.8144296048381117, \"YearMonth\": \"2010-03\", \"AirlineName\": \"Southwest Airlines Co.\"}, {\"Carrier\": \"AA\", \"average_delay\": 1.5534103497388827, \"YearMonth\": \"2010-04\", \"AirlineName\": \"American Airlines Inc.\"}, {\"Carrier\": \"AS\", \"average_delay\": -5.4030621829795225, \"YearMonth\": \"2010-04\", \"AirlineName\": \"Alaska Airlines Inc.\"}, {\"Carrier\": \"DL\", \"average_delay\": 0.7348500306059987, \"YearMonth\": \"2010-04\", \"AirlineName\": \"Delta Air Lines Inc.\"}, {\"Carrier\": \"EV\", \"average_delay\": -2.697041906327034, \"YearMonth\": \"2010-04\", \"AirlineName\": \"ExpressJet Airlines LLC\"}, {\"Carrier\": \"MQ\", \"average_delay\": 2.662835896569207, \"YearMonth\": \"2010-04\", \"AirlineName\": \"Envoy Air\"}, {\"Carrier\": \"UA\", \"average_delay\": -7.169361763022324, \"YearMonth\": \"2010-04\", \"AirlineName\": \"United Air Lines Inc.\"}, {\"Carrier\": \"WN\", \"average_delay\": 1.3697932274498053, \"YearMonth\": \"2010-04\", \"AirlineName\": \"Southwest Airlines Co.\"}, {\"Carrier\": \"AA\", \"average_delay\": 6.591789014546844, \"YearMonth\": \"2010-05\", \"AirlineName\": \"American Airlines Inc.\"}, {\"Carrier\": \"AS\", \"average_delay\": -5.952720940356987, \"YearMonth\": \"2010-05\", \"AirlineName\": \"Alaska Airlines Inc.\"}, {\"Carrier\": \"DL\", \"average_delay\": 8.372091101414782, \"YearMonth\": \"2010-05\", \"AirlineName\": \"Delta Air Lines Inc.\"}, {\"Carrier\": \"EV\", \"average_delay\": 4.23357464292702, \"YearMonth\": \"2010-05\", \"AirlineName\": \"ExpressJet Airlines LLC\"}, {\"Carrier\": \"MQ\", \"average_delay\": 9.62023604968874, \"YearMonth\": \"2010-05\", \"AirlineName\": \"Envoy Air\"}, {\"Carrier\": \"UA\", \"average_delay\": -3.2039441364306267, \"YearMonth\": \"2010-05\", \"AirlineName\": \"United Air Lines Inc.\"}, {\"Carrier\": \"WN\", \"average_delay\": 5.101200170119188, \"YearMonth\": \"2010-05\", \"AirlineName\": \"Southwest Airlines Co.\"}, {\"Carrier\": \"AA\", \"average_delay\": 9.014361091993576, \"YearMonth\": \"2010-06\", \"AirlineName\": \"American Airlines Inc.\"}, {\"Carrier\": \"AS\", \"average_delay\": -2.306467417932386, \"YearMonth\": \"2010-06\", \"AirlineName\": \"Alaska Airlines Inc.\"}, {\"Carrier\": \"DL\", \"average_delay\": 12.166030625768439, \"YearMonth\": \"2010-06\", \"AirlineName\": \"Delta Air Lines Inc.\"}, {\"Carrier\": \"EV\", \"average_delay\": 5.641044583164038, \"YearMonth\": \"2010-06\", \"AirlineName\": \"ExpressJet Airlines LLC\"}, {\"Carrier\": \"MQ\", \"average_delay\": 14.356308411214954, \"YearMonth\": \"2010-06\", \"AirlineName\": \"Envoy Air\"}, {\"Carrier\": \"UA\", \"average_delay\": 2.9532096706961233, \"YearMonth\": \"2010-06\", \"AirlineName\": \"United Air Lines Inc.\"}, {\"Carrier\": \"WN\", \"average_delay\": 7.3990637617678505, \"YearMonth\": \"2010-06\", \"AirlineName\": \"Southwest Airlines Co.\"}, {\"Carrier\": \"AA\", \"average_delay\": 6.961025573540378, \"YearMonth\": \"2010-07\", \"AirlineName\": \"American Airlines Inc.\"}, {\"Carrier\": \"AS\", \"average_delay\": -2.2924660739354237, \"YearMonth\": \"2010-07\", \"AirlineName\": \"Alaska Airlines Inc.\"}, {\"Carrier\": \"DL\", \"average_delay\": 12.589820265531062, \"YearMonth\": \"2010-07\", \"AirlineName\": \"Delta Air Lines Inc.\"}, {\"Carrier\": \"EV\", \"average_delay\": 6.555067318170633, \"YearMonth\": \"2010-07\", \"AirlineName\": \"ExpressJet Airlines LLC\"}, {\"Carrier\": \"MQ\", \"average_delay\": 12.53305911453267, \"YearMonth\": \"2010-07\", \"AirlineName\": \"Envoy Air\"}, {\"Carrier\": \"UA\", \"average_delay\": -0.9320456599604995, \"YearMonth\": \"2010-07\", \"AirlineName\": \"United Air Lines Inc.\"}, {\"Carrier\": \"WN\", \"average_delay\": 6.306813782423538, \"YearMonth\": \"2010-07\", \"AirlineName\": \"Southwest Airlines Co.\"}, {\"Carrier\": \"AA\", \"average_delay\": 4.173351090539921, \"YearMonth\": \"2010-08\", \"AirlineName\": \"American Airlines Inc.\"}, {\"Carrier\": \"AS\", \"average_delay\": -2.17345897133883, \"YearMonth\": \"2010-08\", \"AirlineName\": \"Alaska Airlines Inc.\"}, {\"Carrier\": \"DL\", \"average_delay\": 6.004867721597231, \"YearMonth\": \"2010-08\", \"AirlineName\": \"Delta Air Lines Inc.\"}, {\"Carrier\": \"EV\", \"average_delay\": 4.003977252904441, \"YearMonth\": \"2010-08\", \"AirlineName\": \"ExpressJet Airlines LLC\"}, {\"Carrier\": \"MQ\", \"average_delay\": 5.484603354365529, \"YearMonth\": \"2010-08\", \"AirlineName\": \"Envoy Air\"}, {\"Carrier\": \"UA\", \"average_delay\": -3.599980139684221, \"YearMonth\": \"2010-08\", \"AirlineName\": \"United Air Lines Inc.\"}, {\"Carrier\": \"WN\", \"average_delay\": 3.6356692880965125, \"YearMonth\": \"2010-08\", \"AirlineName\": \"Southwest Airlines Co.\"}, {\"Carrier\": \"AA\", \"average_delay\": 0.784892387962359, \"YearMonth\": \"2010-09\", \"AirlineName\": \"American Airlines Inc.\"}, {\"Carrier\": \"AS\", \"average_delay\": -3.4885656707263646, \"YearMonth\": \"2010-09\", \"AirlineName\": \"Alaska Airlines Inc.\"}, {\"Carrier\": \"DL\", \"average_delay\": 2.0927360576529357, \"YearMonth\": \"2010-09\", \"AirlineName\": \"Delta Air Lines Inc.\"}, {\"Carrier\": \"EV\", \"average_delay\": 0.8541507996953541, \"YearMonth\": \"2010-09\", \"AirlineName\": \"ExpressJet Airlines LLC\"}, {\"Carrier\": \"MQ\", \"average_delay\": 2.490003909085832, \"YearMonth\": \"2010-09\", \"AirlineName\": \"Envoy Air\"}, {\"Carrier\": \"UA\", \"average_delay\": -7.490060997488339, \"YearMonth\": \"2010-09\", \"AirlineName\": \"United Air Lines Inc.\"}, {\"Carrier\": \"WN\", \"average_delay\": 1.1959894018184016, \"YearMonth\": \"2010-09\", \"AirlineName\": \"Southwest Airlines Co.\"}, {\"Carrier\": \"AA\", \"average_delay\": -0.30944396610323105, \"YearMonth\": \"2010-10\", \"AirlineName\": \"American Airlines Inc.\"}, {\"Carrier\": \"AS\", \"average_delay\": -1.9762629336579427, \"YearMonth\": \"2010-10\", \"AirlineName\": \"Alaska Airlines Inc.\"}, {\"Carrier\": \"DL\", \"average_delay\": 2.3846104776333625, \"YearMonth\": \"2010-10\", \"AirlineName\": \"Delta Air Lines Inc.\"}, {\"Carrier\": \"EV\", \"average_delay\": 4.021731243651139, \"YearMonth\": \"2010-10\", \"AirlineName\": \"ExpressJet Airlines LLC\"}, {\"Carrier\": \"MQ\", \"average_delay\": 0.014125053809728798, \"YearMonth\": \"2010-10\", \"AirlineName\": \"Envoy Air\"}, {\"Carrier\": \"UA\", \"average_delay\": -6.9410830773478756, \"YearMonth\": \"2010-10\", \"AirlineName\": \"United Air Lines Inc.\"}, {\"Carrier\": \"WN\", \"average_delay\": 6.853627492575308, \"YearMonth\": \"2010-10\", \"AirlineName\": \"Southwest Airlines Co.\"}, {\"Carrier\": \"AA\", \"average_delay\": -0.3188149252340802, \"YearMonth\": \"2010-11\", \"AirlineName\": \"American Airlines Inc.\"}, {\"Carrier\": \"AS\", \"average_delay\": 1.3836592944617072, \"YearMonth\": \"2010-11\", \"AirlineName\": \"Alaska Airlines Inc.\"}, {\"Carrier\": \"DL\", \"average_delay\": 3.212485316328243, \"YearMonth\": \"2010-11\", \"AirlineName\": \"Delta Air Lines Inc.\"}, {\"Carrier\": \"EV\", \"average_delay\": 2.8737988468930173, \"YearMonth\": \"2010-11\", \"AirlineName\": \"ExpressJet Airlines LLC\"}, {\"Carrier\": \"MQ\", \"average_delay\": 1.052518575020482, \"YearMonth\": \"2010-11\", \"AirlineName\": \"Envoy Air\"}, {\"Carrier\": \"UA\", \"average_delay\": -10.94379666752492, \"YearMonth\": \"2010-11\", \"AirlineName\": \"United Air Lines Inc.\"}, {\"Carrier\": \"WN\", \"average_delay\": 4.188033812230002, \"YearMonth\": \"2010-11\", \"AirlineName\": \"Southwest Airlines Co.\"}, {\"Carrier\": \"AA\", \"average_delay\": 2.48375402490374, \"YearMonth\": \"2010-12\", \"AirlineName\": \"American Airlines Inc.\"}, {\"Carrier\": \"AS\", \"average_delay\": 2.3036533709848217, \"YearMonth\": \"2010-12\", \"AirlineName\": \"Alaska Airlines Inc.\"}, {\"Carrier\": \"DL\", \"average_delay\": 9.773825549687619, \"YearMonth\": \"2010-12\", \"AirlineName\": \"Delta Air Lines Inc.\"}, {\"Carrier\": \"EV\", \"average_delay\": 11.968902944055417, \"YearMonth\": \"2010-12\", \"AirlineName\": \"ExpressJet Airlines LLC\"}, {\"Carrier\": \"MQ\", \"average_delay\": 6.2304461181923525, \"YearMonth\": \"2010-12\", \"AirlineName\": \"Envoy Air\"}, {\"Carrier\": \"UA\", \"average_delay\": -3.663648844198731, \"YearMonth\": \"2010-12\", \"AirlineName\": \"United Air Lines Inc.\"}, {\"Carrier\": \"WN\", \"average_delay\": 12.621194684500804, \"YearMonth\": \"2010-12\", \"AirlineName\": \"Southwest Airlines Co.\"}, {\"Carrier\": \"AA\", \"average_delay\": 1.879070080560106, \"YearMonth\": \"2011-01\", \"AirlineName\": \"American Airlines Inc.\"}, {\"Carrier\": \"AS\", \"average_delay\": -1.294978146463295, \"YearMonth\": \"2011-01\", \"AirlineName\": \"Alaska Airlines Inc.\"}, {\"Carrier\": \"DL\", \"average_delay\": 3.907118961113709, \"YearMonth\": \"2011-01\", \"AirlineName\": \"Delta Air Lines Inc.\"}, {\"Carrier\": \"EV\", \"average_delay\": 7.533860321082226, \"YearMonth\": \"2011-01\", \"AirlineName\": \"ExpressJet Airlines LLC\"}, {\"Carrier\": \"MQ\", \"average_delay\": 5.120934467746066, \"YearMonth\": \"2011-01\", \"AirlineName\": \"Envoy Air\"}, {\"Carrier\": \"UA\", \"average_delay\": -3.0811307475758523, \"YearMonth\": \"2011-01\", \"AirlineName\": \"United Air Lines Inc.\"}, {\"Carrier\": \"WN\", \"average_delay\": 7.307356098837019, \"YearMonth\": \"2011-01\", \"AirlineName\": \"Southwest Airlines Co.\"}, {\"Carrier\": \"AA\", \"average_delay\": 6.87237044638276, \"YearMonth\": \"2011-02\", \"AirlineName\": \"American Airlines Inc.\"}, {\"Carrier\": \"AS\", \"average_delay\": -0.16826923076923078, \"YearMonth\": \"2011-02\", \"AirlineName\": \"Alaska Airlines Inc.\"}, {\"Carrier\": \"DL\", \"average_delay\": 2.977127014382256, \"YearMonth\": \"2011-02\", \"AirlineName\": \"Delta Air Lines Inc.\"}, {\"Carrier\": \"EV\", \"average_delay\": 4.714049516703408, \"YearMonth\": \"2011-02\", \"AirlineName\": \"ExpressJet Airlines LLC\"}, {\"Carrier\": \"MQ\", \"average_delay\": 13.30330676615228, \"YearMonth\": \"2011-02\", \"AirlineName\": \"Envoy Air\"}, {\"Carrier\": \"UA\", \"average_delay\": -0.27942003895260764, \"YearMonth\": \"2011-02\", \"AirlineName\": \"United Air Lines Inc.\"}, {\"Carrier\": \"WN\", \"average_delay\": 7.290458804916637, \"YearMonth\": \"2011-02\", \"AirlineName\": \"Southwest Airlines Co.\"}, {\"Carrier\": \"AA\", \"average_delay\": 3.0495430495430496, \"YearMonth\": \"2011-03\", \"AirlineName\": \"American Airlines Inc.\"}, {\"Carrier\": \"AS\", \"average_delay\": 3.1990192762935408, \"YearMonth\": \"2011-03\", \"AirlineName\": \"Alaska Airlines Inc.\"}, {\"Carrier\": \"DL\", \"average_delay\": 4.963798133492368, \"YearMonth\": \"2011-03\", \"AirlineName\": \"Delta Air Lines Inc.\"}, {\"Carrier\": \"EV\", \"average_delay\": 11.392641694725029, \"YearMonth\": \"2011-03\", \"AirlineName\": \"ExpressJet Airlines LLC\"}, {\"Carrier\": \"MQ\", \"average_delay\": 4.225465703578993, \"YearMonth\": \"2011-03\", \"AirlineName\": \"Envoy Air\"}, {\"Carrier\": \"UA\", \"average_delay\": -1.1880919168930328, \"YearMonth\": \"2011-03\", \"AirlineName\": \"United Air Lines Inc.\"}, {\"Carrier\": \"WN\", \"average_delay\": 5.977897095335177, \"YearMonth\": \"2011-03\", \"AirlineName\": \"Southwest Airlines Co.\"}, {\"Carrier\": \"AA\", \"average_delay\": 10.713261894948939, \"YearMonth\": \"2011-04\", \"AirlineName\": \"American Airlines Inc.\"}, {\"Carrier\": \"AS\", \"average_delay\": -3.0301550586824297, \"YearMonth\": \"2011-04\", \"AirlineName\": \"Alaska Airlines Inc.\"}, {\"Carrier\": \"DL\", \"average_delay\": 5.519101612876212, \"YearMonth\": \"2011-04\", \"AirlineName\": \"Delta Air Lines Inc.\"}, {\"Carrier\": \"EV\", \"average_delay\": 14.855491551459293, \"YearMonth\": \"2011-04\", \"AirlineName\": \"ExpressJet Airlines LLC\"}, {\"Carrier\": \"MQ\", \"average_delay\": 12.56566139650031, \"YearMonth\": \"2011-04\", \"AirlineName\": \"Envoy Air\"}, {\"Carrier\": \"UA\", \"average_delay\": 2.1539511725024094, \"YearMonth\": \"2011-04\", \"AirlineName\": \"United Air Lines Inc.\"}, {\"Carrier\": \"WN\", \"average_delay\": 8.652424138540011, \"YearMonth\": \"2011-04\", \"AirlineName\": \"Southwest Airlines Co.\"}, {\"Carrier\": \"AA\", \"average_delay\": 11.46078658451846, \"YearMonth\": \"2011-05\", \"AirlineName\": \"American Airlines Inc.\"}, {\"Carrier\": \"AS\", \"average_delay\": -4.331012763136085, \"YearMonth\": \"2011-05\", \"AirlineName\": \"Alaska Airlines Inc.\"}, {\"Carrier\": \"DL\", \"average_delay\": 3.0271567028116304, \"YearMonth\": \"2011-05\", \"AirlineName\": \"Delta Air Lines Inc.\"}, {\"Carrier\": \"EV\", \"average_delay\": 11.464815353300377, \"YearMonth\": \"2011-05\", \"AirlineName\": \"ExpressJet Airlines LLC\"}, {\"Carrier\": \"MQ\", \"average_delay\": 14.11734637792679, \"YearMonth\": \"2011-05\", \"AirlineName\": \"Envoy Air\"}, {\"Carrier\": \"UA\", \"average_delay\": 5.1374487204532135, \"YearMonth\": \"2011-05\", \"AirlineName\": \"United Air Lines Inc.\"}, {\"Carrier\": \"WN\", \"average_delay\": 8.827388535031847, \"YearMonth\": \"2011-05\", \"AirlineName\": \"Southwest Airlines Co.\"}, {\"Carrier\": \"AA\", \"average_delay\": 6.555867553239285, \"YearMonth\": \"2011-06\", \"AirlineName\": \"American Airlines Inc.\"}, {\"Carrier\": \"AS\", \"average_delay\": -4.624921826141338, \"YearMonth\": \"2011-06\", \"AirlineName\": \"Alaska Airlines Inc.\"}, {\"Carrier\": \"DL\", \"average_delay\": 6.35284148504815, \"YearMonth\": \"2011-06\", \"AirlineName\": \"Delta Air Lines Inc.\"}, {\"Carrier\": \"EV\", \"average_delay\": 19.95395280341942, \"YearMonth\": \"2011-06\", \"AirlineName\": \"ExpressJet Airlines LLC\"}, {\"Carrier\": \"MQ\", \"average_delay\": 8.313117761410618, \"YearMonth\": \"2011-06\", \"AirlineName\": \"Envoy Air\"}, {\"Carrier\": \"UA\", \"average_delay\": 10.45153812187224, \"YearMonth\": \"2011-06\", \"AirlineName\": \"United Air Lines Inc.\"}, {\"Carrier\": \"WN\", \"average_delay\": 6.022077245304953, \"YearMonth\": \"2011-06\", \"AirlineName\": \"Southwest Airlines Co.\"}, {\"Carrier\": \"AA\", \"average_delay\": 6.093289653526566, \"YearMonth\": \"2011-07\", \"AirlineName\": \"American Airlines Inc.\"}, {\"Carrier\": \"AS\", \"average_delay\": -3.1786951936115715, \"YearMonth\": \"2011-07\", \"AirlineName\": \"Alaska Airlines Inc.\"}, {\"Carrier\": \"DL\", \"average_delay\": 4.851675871983052, \"YearMonth\": \"2011-07\", \"AirlineName\": \"Delta Air Lines Inc.\"}, {\"Carrier\": \"EV\", \"average_delay\": 17.159821734658895, \"YearMonth\": \"2011-07\", \"AirlineName\": \"ExpressJet Airlines LLC\"}, {\"Carrier\": \"MQ\", \"average_delay\": 6.490292032589144, \"YearMonth\": \"2011-07\", \"AirlineName\": \"Envoy Air\"}, {\"Carrier\": \"UA\", \"average_delay\": 9.86645874681032, \"YearMonth\": \"2011-07\", \"AirlineName\": \"United Air Lines Inc.\"}, {\"Carrier\": \"WN\", \"average_delay\": 3.3332643997360827, \"YearMonth\": \"2011-07\", \"AirlineName\": \"Southwest Airlines Co.\"}, {\"Carrier\": \"AA\", \"average_delay\": 6.842687414106486, \"YearMonth\": \"2011-08\", \"AirlineName\": \"American Airlines Inc.\"}, {\"Carrier\": \"AS\", \"average_delay\": -3.6687835488016933, \"YearMonth\": \"2011-08\", \"AirlineName\": \"Alaska Airlines Inc.\"}, {\"Carrier\": \"DL\", \"average_delay\": 1.5287631831255992, \"YearMonth\": \"2011-08\", \"AirlineName\": \"Delta Air Lines Inc.\"}, {\"Carrier\": \"EV\", \"average_delay\": 9.170448921880523, \"YearMonth\": \"2011-08\", \"AirlineName\": \"ExpressJet Airlines LLC\"}, {\"Carrier\": \"MQ\", \"average_delay\": 5.858968203158344, \"YearMonth\": \"2011-08\", \"AirlineName\": \"Envoy Air\"}, {\"Carrier\": \"UA\", \"average_delay\": 5.241097657089632, \"YearMonth\": \"2011-08\", \"AirlineName\": \"United Air Lines Inc.\"}, {\"Carrier\": \"WN\", \"average_delay\": 3.102709922891664, \"YearMonth\": \"2011-08\", \"AirlineName\": \"Southwest Airlines Co.\"}, {\"Carrier\": \"AA\", \"average_delay\": 3.39001534669581, \"YearMonth\": \"2011-09\", \"AirlineName\": \"American Airlines Inc.\"}, {\"Carrier\": \"AS\", \"average_delay\": -4.798809523809524, \"YearMonth\": \"2011-09\", \"AirlineName\": \"Alaska Airlines Inc.\"}, {\"Carrier\": \"DL\", \"average_delay\": -2.083164988880778, \"YearMonth\": \"2011-09\", \"AirlineName\": \"Delta Air Lines Inc.\"}, {\"Carrier\": \"EV\", \"average_delay\": 4.95123100482978, \"YearMonth\": \"2011-09\", \"AirlineName\": \"ExpressJet Airlines LLC\"}, {\"Carrier\": \"MQ\", \"average_delay\": 1.5240967204002223, \"YearMonth\": \"2011-09\", \"AirlineName\": \"Envoy Air\"}, {\"Carrier\": \"UA\", \"average_delay\": 1.6876226291693917, \"YearMonth\": \"2011-09\", \"AirlineName\": \"United Air Lines Inc.\"}, {\"Carrier\": \"WN\", \"average_delay\": 2.3640033422677504, \"YearMonth\": \"2011-09\", \"AirlineName\": \"Southwest Airlines Co.\"}, {\"Carrier\": \"AA\", \"average_delay\": 2.276555197604247, \"YearMonth\": \"2011-10\", \"AirlineName\": \"American Airlines Inc.\"}, {\"Carrier\": \"AS\", \"average_delay\": -4.556557653405259, \"YearMonth\": \"2011-10\", \"AirlineName\": \"Alaska Airlines Inc.\"}, {\"Carrier\": \"DL\", \"average_delay\": -4.0434989420506176, \"YearMonth\": \"2011-10\", \"AirlineName\": \"Delta Air Lines Inc.\"}, {\"Carrier\": \"EV\", \"average_delay\": 0.8897831433042701, \"YearMonth\": \"2011-10\", \"AirlineName\": \"ExpressJet Airlines LLC\"}, {\"Carrier\": \"MQ\", \"average_delay\": 1.0895176502290487, \"YearMonth\": \"2011-10\", \"AirlineName\": \"Envoy Air\"}, {\"Carrier\": \"UA\", \"average_delay\": 2.0180389641625913, \"YearMonth\": \"2011-10\", \"AirlineName\": \"United Air Lines Inc.\"}, {\"Carrier\": \"WN\", \"average_delay\": -0.8578098251802666, \"YearMonth\": \"2011-10\", \"AirlineName\": \"Southwest Airlines Co.\"}, {\"Carrier\": \"AA\", \"average_delay\": 2.4287863712476034, \"YearMonth\": \"2011-11\", \"AirlineName\": \"American Airlines Inc.\"}, {\"Carrier\": \"AS\", \"average_delay\": -0.21642998382167894, \"YearMonth\": \"2011-11\", \"AirlineName\": \"Alaska Airlines Inc.\"}, {\"Carrier\": \"DL\", \"average_delay\": -3.418550044027003, \"YearMonth\": \"2011-11\", \"AirlineName\": \"Delta Air Lines Inc.\"}, {\"Carrier\": \"EV\", \"average_delay\": 2.8053575718747497, \"YearMonth\": \"2011-11\", \"AirlineName\": \"ExpressJet Airlines LLC\"}, {\"Carrier\": \"MQ\", \"average_delay\": 1.8010758809130756, \"YearMonth\": \"2011-11\", \"AirlineName\": \"Envoy Air\"}, {\"Carrier\": \"UA\", \"average_delay\": -0.04023694602896007, \"YearMonth\": \"2011-11\", \"AirlineName\": \"United Air Lines Inc.\"}, {\"Carrier\": \"WN\", \"average_delay\": -2.3667423207439073, \"YearMonth\": \"2011-11\", \"AirlineName\": \"Southwest Airlines Co.\"}, {\"Carrier\": \"AA\", \"average_delay\": 1.5523831940684947, \"YearMonth\": \"2011-12\", \"AirlineName\": \"American Airlines Inc.\"}, {\"Carrier\": \"AS\", \"average_delay\": -1.0183736263736263, \"YearMonth\": \"2011-12\", \"AirlineName\": \"Alaska Airlines Inc.\"}, {\"Carrier\": \"DL\", \"average_delay\": -3.5330572012792953, \"YearMonth\": \"2011-12\", \"AirlineName\": \"Delta Air Lines Inc.\"}, {\"Carrier\": \"EV\", \"average_delay\": 3.2675491375852386, \"YearMonth\": \"2011-12\", \"AirlineName\": \"ExpressJet Airlines LLC\"}, {\"Carrier\": \"MQ\", \"average_delay\": 0.456443083774005, \"YearMonth\": \"2011-12\", \"AirlineName\": \"Envoy Air\"}, {\"Carrier\": \"UA\", \"average_delay\": -1.8221755564888702, \"YearMonth\": \"2011-12\", \"AirlineName\": \"United Air Lines Inc.\"}, {\"Carrier\": \"WN\", \"average_delay\": -1.2523833416959358, \"YearMonth\": \"2011-12\", \"AirlineName\": \"Southwest Airlines Co.\"}, {\"Carrier\": \"AA\", \"average_delay\": -0.27544268406337374, \"YearMonth\": \"2012-01\", \"AirlineName\": \"American Airlines Inc.\"}, {\"Carrier\": \"AS\", \"average_delay\": 3.081671849277483, \"YearMonth\": \"2012-01\", \"AirlineName\": \"Alaska Airlines Inc.\"}, {\"Carrier\": \"DL\", \"average_delay\": -2.318164456812353, \"YearMonth\": \"2012-01\", \"AirlineName\": \"Delta Air Lines Inc.\"}, {\"Carrier\": \"EV\", \"average_delay\": 4.822557751676662, \"YearMonth\": \"2012-01\", \"AirlineName\": \"ExpressJet Airlines LLC\"}, {\"Carrier\": \"MQ\", \"average_delay\": 0.5621766729118314, \"YearMonth\": \"2012-01\", \"AirlineName\": \"Envoy Air\"}, {\"Carrier\": \"UA\", \"average_delay\": 0.6346359482842423, \"YearMonth\": \"2012-01\", \"AirlineName\": \"United Air Lines Inc.\"}, {\"Carrier\": \"VX\", \"average_delay\": 5.396696252465484, \"YearMonth\": \"2012-01\", \"AirlineName\": \"Virgin America\"}, {\"Carrier\": \"WN\", \"average_delay\": -2.708982809299011, \"YearMonth\": \"2012-01\", \"AirlineName\": \"Southwest Airlines Co.\"}, {\"Carrier\": \"AA\", \"average_delay\": -0.8036064383395861, \"YearMonth\": \"2012-02\", \"AirlineName\": \"American Airlines Inc.\"}, {\"Carrier\": \"AS\", \"average_delay\": -4.8515924161763335, \"YearMonth\": \"2012-02\", \"AirlineName\": \"Alaska Airlines Inc.\"}, {\"Carrier\": \"DL\", \"average_delay\": -4.359468054350969, \"YearMonth\": \"2012-02\", \"AirlineName\": \"Delta Air Lines Inc.\"}, {\"Carrier\": \"EV\", \"average_delay\": 4.859192358439724, \"YearMonth\": \"2012-02\", \"AirlineName\": \"ExpressJet Airlines LLC\"}, {\"Carrier\": \"MQ\", \"average_delay\": 0.1868997853349904, \"YearMonth\": \"2012-02\", \"AirlineName\": \"Envoy Air\"}, {\"Carrier\": \"UA\", \"average_delay\": -0.8214780029658922, \"YearMonth\": \"2012-02\", \"AirlineName\": \"United Air Lines Inc.\"}, {\"Carrier\": \"VX\", \"average_delay\": -4.918404588112617, \"YearMonth\": \"2012-02\", \"AirlineName\": \"Virgin America\"}, {\"Carrier\": \"WN\", \"average_delay\": -3.0335400127484498, \"YearMonth\": \"2012-02\", \"AirlineName\": \"Southwest Airlines Co.\"}, {\"Carrier\": \"AA\", \"average_delay\": 3.342338558132337, \"YearMonth\": \"2012-03\", \"AirlineName\": \"American Airlines Inc.\"}, {\"Carrier\": \"AS\", \"average_delay\": -0.09800970061883259, \"YearMonth\": \"2012-03\", \"AirlineName\": \"Alaska Airlines Inc.\"}, {\"Carrier\": \"DL\", \"average_delay\": -0.1314286662903815, \"YearMonth\": \"2012-03\", \"AirlineName\": \"Delta Air Lines Inc.\"}, {\"Carrier\": \"EV\", \"average_delay\": 9.921183167987216, \"YearMonth\": \"2012-03\", \"AirlineName\": \"ExpressJet Airlines LLC\"}, {\"Carrier\": \"MQ\", \"average_delay\": 1.9599356438254998, \"YearMonth\": \"2012-03\", \"AirlineName\": \"Envoy Air\"}, {\"Carrier\": \"UA\", \"average_delay\": 4.122036778804253, \"YearMonth\": \"2012-03\", \"AirlineName\": \"United Air Lines Inc.\"}, {\"Carrier\": \"VX\", \"average_delay\": 14.900368154624942, \"YearMonth\": \"2012-03\", \"AirlineName\": \"Virgin America\"}, {\"Carrier\": \"WN\", \"average_delay\": 1.003035009912322, \"YearMonth\": \"2012-03\", \"AirlineName\": \"Southwest Airlines Co.\"}, {\"Carrier\": \"AA\", \"average_delay\": 2.099764392298722, \"YearMonth\": \"2012-04\", \"AirlineName\": \"American Airlines Inc.\"}, {\"Carrier\": \"AS\", \"average_delay\": -4.424403406695337, \"YearMonth\": \"2012-04\", \"AirlineName\": \"Alaska Airlines Inc.\"}, {\"Carrier\": \"DL\", \"average_delay\": -4.565115336553075, \"YearMonth\": \"2012-04\", \"AirlineName\": \"Delta Air Lines Inc.\"}, {\"Carrier\": \"EV\", \"average_delay\": 2.411082848216877, \"YearMonth\": \"2012-04\", \"AirlineName\": \"ExpressJet Airlines LLC\"}, {\"Carrier\": \"MQ\", \"average_delay\": -0.6377697933389395, \"YearMonth\": \"2012-04\", \"AirlineName\": \"Envoy Air\"}, {\"Carrier\": \"UA\", \"average_delay\": 1.8238850233831414, \"YearMonth\": \"2012-04\", \"AirlineName\": \"United Air Lines Inc.\"}, {\"Carrier\": \"VX\", \"average_delay\": -0.14889290555806597, \"YearMonth\": \"2012-04\", \"AirlineName\": \"Virgin America\"}, {\"Carrier\": \"WN\", \"average_delay\": 0.07412777053455019, \"YearMonth\": \"2012-04\", \"AirlineName\": \"Southwest Airlines Co.\"}, {\"Carrier\": \"AA\", \"average_delay\": 5.422768237456844, \"YearMonth\": \"2012-05\", \"AirlineName\": \"American Airlines Inc.\"}, {\"Carrier\": \"AS\", \"average_delay\": -4.6731151978345675, \"YearMonth\": \"2012-05\", \"AirlineName\": \"Alaska Airlines Inc.\"}, {\"Carrier\": \"DL\", \"average_delay\": -0.7778871875666716, \"YearMonth\": \"2012-05\", \"AirlineName\": \"Delta Air Lines Inc.\"}, {\"Carrier\": \"EV\", \"average_delay\": 6.61157891233442, \"YearMonth\": \"2012-05\", \"AirlineName\": \"ExpressJet Airlines LLC\"}, {\"Carrier\": \"MQ\", \"average_delay\": 1.6268800951507794, \"YearMonth\": \"2012-05\", \"AirlineName\": \"Envoy Air\"}, {\"Carrier\": \"UA\", \"average_delay\": 4.974419176673151, \"YearMonth\": \"2012-05\", \"AirlineName\": \"United Air Lines Inc.\"}, {\"Carrier\": \"VX\", \"average_delay\": -0.13112667091024824, \"YearMonth\": \"2012-05\", \"AirlineName\": \"Virgin America\"}, {\"Carrier\": \"WN\", \"average_delay\": 2.0663197767957153, \"YearMonth\": \"2012-05\", \"AirlineName\": \"Southwest Airlines Co.\"}, {\"Carrier\": \"AA\", \"average_delay\": 5.675982103117899, \"YearMonth\": \"2012-06\", \"AirlineName\": \"American Airlines Inc.\"}, {\"Carrier\": \"AS\", \"average_delay\": -1.5214334316171467, \"YearMonth\": \"2012-06\", \"AirlineName\": \"Alaska Airlines Inc.\"}, {\"Carrier\": \"DL\", \"average_delay\": 0.8406113189524795, \"YearMonth\": \"2012-06\", \"AirlineName\": \"Delta Air Lines Inc.\"}, {\"Carrier\": \"EV\", \"average_delay\": 8.53004892230263, \"YearMonth\": \"2012-06\", \"AirlineName\": \"ExpressJet Airlines LLC\"}, {\"Carrier\": \"MQ\", \"average_delay\": 2.189166854481256, \"YearMonth\": \"2012-06\", \"AirlineName\": \"Envoy Air\"}, {\"Carrier\": \"UA\", \"average_delay\": 12.308262480924352, \"YearMonth\": \"2012-06\", \"AirlineName\": \"United Air Lines Inc.\"}, {\"Carrier\": \"VX\", \"average_delay\": 7.305532094594595, \"YearMonth\": \"2012-06\", \"AirlineName\": \"Virgin America\"}, {\"Carrier\": \"WN\", \"average_delay\": 6.5119392924258515, \"YearMonth\": \"2012-06\", \"AirlineName\": \"Southwest Airlines Co.\"}, {\"Carrier\": \"AA\", \"average_delay\": 8.408444616329595, \"YearMonth\": \"2012-07\", \"AirlineName\": \"American Airlines Inc.\"}, {\"Carrier\": \"AS\", \"average_delay\": -1.930058768047595, \"YearMonth\": \"2012-07\", \"AirlineName\": \"Alaska Airlines Inc.\"}, {\"Carrier\": \"DL\", \"average_delay\": 6.010672718629721, \"YearMonth\": \"2012-07\", \"AirlineName\": \"Delta Air Lines Inc.\"}, {\"Carrier\": \"EV\", \"average_delay\": 17.285203157151194, \"YearMonth\": \"2012-07\", \"AirlineName\": \"ExpressJet Airlines LLC\"}, {\"Carrier\": \"MQ\", \"average_delay\": 7.731370311569756, \"YearMonth\": \"2012-07\", \"AirlineName\": \"Envoy Air\"}, {\"Carrier\": \"UA\", \"average_delay\": 19.18157500534988, \"YearMonth\": \"2012-07\", \"AirlineName\": \"United Air Lines Inc.\"}, {\"Carrier\": \"VX\", \"average_delay\": 5.847044728434505, \"YearMonth\": \"2012-07\", \"AirlineName\": \"Virgin America\"}, {\"Carrier\": \"WN\", \"average_delay\": 8.260948851146882, \"YearMonth\": \"2012-07\", \"AirlineName\": \"Southwest Airlines Co.\"}, {\"Carrier\": \"AA\", \"average_delay\": 9.270708600004587, \"YearMonth\": \"2012-08\", \"AirlineName\": \"American Airlines Inc.\"}, {\"Carrier\": \"AS\", \"average_delay\": -2.565246191212188, \"YearMonth\": \"2012-08\", \"AirlineName\": \"Alaska Airlines Inc.\"}, {\"Carrier\": \"DL\", \"average_delay\": 2.295806505119351, \"YearMonth\": \"2012-08\", \"AirlineName\": \"Delta Air Lines Inc.\"}, {\"Carrier\": \"EV\", \"average_delay\": 10.560570929567286, \"YearMonth\": \"2012-08\", \"AirlineName\": \"ExpressJet Airlines LLC\"}, {\"Carrier\": \"MQ\", \"average_delay\": 5.2815590318914865, \"YearMonth\": \"2012-08\", \"AirlineName\": \"Envoy Air\"}, {\"Carrier\": \"UA\", \"average_delay\": 11.02986921550639, \"YearMonth\": \"2012-08\", \"AirlineName\": \"United Air Lines Inc.\"}, {\"Carrier\": \"VX\", \"average_delay\": 5.126361655773421, \"YearMonth\": \"2012-08\", \"AirlineName\": \"Virgin America\"}, {\"Carrier\": \"WN\", \"average_delay\": 6.711806803363691, \"YearMonth\": \"2012-08\", \"AirlineName\": \"Southwest Airlines Co.\"}, {\"Carrier\": \"AA\", \"average_delay\": 20.726620307357273, \"YearMonth\": \"2012-09\", \"AirlineName\": \"American Airlines Inc.\"}, {\"Carrier\": \"AS\", \"average_delay\": -3.6157216277698208, \"YearMonth\": \"2012-09\", \"AirlineName\": \"Alaska Airlines Inc.\"}, {\"Carrier\": \"DL\", \"average_delay\": -3.014068997255231, \"YearMonth\": \"2012-09\", \"AirlineName\": \"Delta Air Lines Inc.\"}, {\"Carrier\": \"EV\", \"average_delay\": 3.8890381740926725, \"YearMonth\": \"2012-09\", \"AirlineName\": \"ExpressJet Airlines LLC\"}, {\"Carrier\": \"MQ\", \"average_delay\": 0.9380120294514155, \"YearMonth\": \"2012-09\", \"AirlineName\": \"Envoy Air\"}, {\"Carrier\": \"UA\", \"average_delay\": 1.4428349349915206, \"YearMonth\": \"2012-09\", \"AirlineName\": \"United Air Lines Inc.\"}, {\"Carrier\": \"VX\", \"average_delay\": 0.7284725227174383, \"YearMonth\": \"2012-09\", \"AirlineName\": \"Virgin America\"}, {\"Carrier\": \"WN\", \"average_delay\": 1.2785434060959662, \"YearMonth\": \"2012-09\", \"AirlineName\": \"Southwest Airlines Co.\"}, {\"Carrier\": \"AA\", \"average_delay\": 12.304663782181532, \"YearMonth\": \"2012-10\", \"AirlineName\": \"American Airlines Inc.\"}, {\"Carrier\": \"AS\", \"average_delay\": -0.1565210069882967, \"YearMonth\": \"2012-10\", \"AirlineName\": \"Alaska Airlines Inc.\"}, {\"Carrier\": \"DL\", \"average_delay\": -1.0452431559937991, \"YearMonth\": \"2012-10\", \"AirlineName\": \"Delta Air Lines Inc.\"}, {\"Carrier\": \"EV\", \"average_delay\": 5.696575298497882, \"YearMonth\": \"2012-10\", \"AirlineName\": \"ExpressJet Airlines LLC\"}, {\"Carrier\": \"MQ\", \"average_delay\": 3.8795744998878954, \"YearMonth\": \"2012-10\", \"AirlineName\": \"Envoy Air\"}, {\"Carrier\": \"UA\", \"average_delay\": 3.296118456844147, \"YearMonth\": \"2012-10\", \"AirlineName\": \"United Air Lines Inc.\"}, {\"Carrier\": \"VX\", \"average_delay\": 2.797600181118406, \"YearMonth\": \"2012-10\", \"AirlineName\": \"Virgin America\"}, {\"Carrier\": \"WN\", \"average_delay\": 3.1218095723446724, \"YearMonth\": \"2012-10\", \"AirlineName\": \"Southwest Airlines Co.\"}, {\"Carrier\": \"AA\", \"average_delay\": 3.9802869108939487, \"YearMonth\": \"2012-11\", \"AirlineName\": \"American Airlines Inc.\"}, {\"Carrier\": \"AS\", \"average_delay\": -2.4948887552615755, \"YearMonth\": \"2012-11\", \"AirlineName\": \"Alaska Airlines Inc.\"}, {\"Carrier\": \"DL\", \"average_delay\": -3.8941261176785775, \"YearMonth\": \"2012-11\", \"AirlineName\": \"Delta Air Lines Inc.\"}, {\"Carrier\": \"EV\", \"average_delay\": -0.14554314038477695, \"YearMonth\": \"2012-11\", \"AirlineName\": \"ExpressJet Airlines LLC\"}, {\"Carrier\": \"MQ\", \"average_delay\": 0.1960248783126014, \"YearMonth\": \"2012-11\", \"AirlineName\": \"Envoy Air\"}, {\"Carrier\": \"UA\", \"average_delay\": -3.512809176430133, \"YearMonth\": \"2012-11\", \"AirlineName\": \"United Air Lines Inc.\"}, {\"Carrier\": \"VX\", \"average_delay\": 2.360070515645659, \"YearMonth\": \"2012-11\", \"AirlineName\": \"Virgin America\"}, {\"Carrier\": \"WN\", \"average_delay\": 1.430202196036422, \"YearMonth\": \"2012-11\", \"AirlineName\": \"Southwest Airlines Co.\"}, {\"Carrier\": \"AA\", \"average_delay\": 7.264181560543036, \"YearMonth\": \"2012-12\", \"AirlineName\": \"American Airlines Inc.\"}, {\"Carrier\": \"AS\", \"average_delay\": 0.7034708249496981, \"YearMonth\": \"2012-12\", \"AirlineName\": \"Alaska Airlines Inc.\"}, {\"Carrier\": \"DL\", \"average_delay\": -0.2607577665827036, \"YearMonth\": \"2012-12\", \"AirlineName\": \"Delta Air Lines Inc.\"}, {\"Carrier\": \"EV\", \"average_delay\": 11.393093212294842, \"YearMonth\": \"2012-12\", \"AirlineName\": \"ExpressJet Airlines LLC\"}, {\"Carrier\": \"MQ\", \"average_delay\": 10.477934773448693, \"YearMonth\": \"2012-12\", \"AirlineName\": \"Envoy Air\"}, {\"Carrier\": \"UA\", \"average_delay\": 3.368737812657984, \"YearMonth\": \"2012-12\", \"AirlineName\": \"United Air Lines Inc.\"}, {\"Carrier\": \"VX\", \"average_delay\": 7.892795513373598, \"YearMonth\": \"2012-12\", \"AirlineName\": \"Virgin America\"}, {\"Carrier\": \"WN\", \"average_delay\": 8.63010944092827, \"YearMonth\": \"2012-12\", \"AirlineName\": \"Southwest Airlines Co.\"}, {\"Carrier\": \"AA\", \"average_delay\": 3.0548631837962223, \"YearMonth\": \"2013-01\", \"AirlineName\": \"American Airlines Inc.\"}, {\"Carrier\": \"AS\", \"average_delay\": -2.4638240725197247, \"YearMonth\": \"2013-01\", \"AirlineName\": \"Alaska Airlines Inc.\"}, {\"Carrier\": \"DL\", \"average_delay\": -1.9670318058539678, \"YearMonth\": \"2013-01\", \"AirlineName\": \"Delta Air Lines Inc.\"}, {\"Carrier\": \"EV\", \"average_delay\": 11.020818095866707, \"YearMonth\": \"2013-01\", \"AirlineName\": \"ExpressJet Airlines LLC\"}, {\"Carrier\": \"MQ\", \"average_delay\": 7.821083383388849, \"YearMonth\": \"2013-01\", \"AirlineName\": \"Envoy Air\"}, {\"Carrier\": \"UA\", \"average_delay\": -0.31090007228495226, \"YearMonth\": \"2013-01\", \"AirlineName\": \"United Air Lines Inc.\"}, {\"Carrier\": \"VX\", \"average_delay\": -7.391530636385143, \"YearMonth\": \"2013-01\", \"AirlineName\": \"Virgin America\"}, {\"Carrier\": \"WN\", \"average_delay\": 0.5217229310150163, \"YearMonth\": \"2013-01\", \"AirlineName\": \"Southwest Airlines Co.\"}, {\"Carrier\": \"AA\", \"average_delay\": 3.8192441758407103, \"YearMonth\": \"2013-02\", \"AirlineName\": \"American Airlines Inc.\"}, {\"Carrier\": \"AS\", \"average_delay\": -5.121597933388689, \"YearMonth\": \"2013-02\", \"AirlineName\": \"Alaska Airlines Inc.\"}, {\"Carrier\": \"DL\", \"average_delay\": -1.4419592461494308, \"YearMonth\": \"2013-02\", \"AirlineName\": \"Delta Air Lines Inc.\"}, {\"Carrier\": \"EV\", \"average_delay\": 11.932120580113164, \"YearMonth\": \"2013-02\", \"AirlineName\": \"ExpressJet Airlines LLC\"}, {\"Carrier\": \"MQ\", \"average_delay\": 10.832597463597933, \"YearMonth\": \"2013-02\", \"AirlineName\": \"Envoy Air\"}, {\"Carrier\": \"UA\", \"average_delay\": 0.5578213039978535, \"YearMonth\": \"2013-02\", \"AirlineName\": \"United Air Lines Inc.\"}, {\"Carrier\": \"VX\", \"average_delay\": -2.7276390008058016, \"YearMonth\": \"2013-02\", \"AirlineName\": \"Virgin America\"}, {\"Carrier\": \"WN\", \"average_delay\": 0.09746746783647289, \"YearMonth\": \"2013-02\", \"AirlineName\": \"Southwest Airlines Co.\"}, {\"Carrier\": \"AA\", \"average_delay\": 2.4766680719817162, \"YearMonth\": \"2013-03\", \"AirlineName\": \"American Airlines Inc.\"}, {\"Carrier\": \"AS\", \"average_delay\": -0.41377668439012777, \"YearMonth\": \"2013-03\", \"AirlineName\": \"Alaska Airlines Inc.\"}, {\"Carrier\": \"DL\", \"average_delay\": 0.9412294137152422, \"YearMonth\": \"2013-03\", \"AirlineName\": \"Delta Air Lines Inc.\"}, {\"Carrier\": \"EV\", \"average_delay\": 10.955404276777132, \"YearMonth\": \"2013-03\", \"AirlineName\": \"ExpressJet Airlines LLC\"}, {\"Carrier\": \"MQ\", \"average_delay\": 5.316105702364395, \"YearMonth\": \"2013-03\", \"AirlineName\": \"Envoy Air\"}, {\"Carrier\": \"UA\", \"average_delay\": 1.0889744535645116, \"YearMonth\": \"2013-03\", \"AirlineName\": \"United Air Lines Inc.\"}, {\"Carrier\": \"VX\", \"average_delay\": -0.695358059248892, \"YearMonth\": \"2013-03\", \"AirlineName\": \"Virgin America\"}, {\"Carrier\": \"WN\", \"average_delay\": 4.650173105793683, \"YearMonth\": \"2013-03\", \"AirlineName\": \"Southwest Airlines Co.\"}, {\"Carrier\": \"AA\", \"average_delay\": 12.303449394213173, \"YearMonth\": \"2013-04\", \"AirlineName\": \"American Airlines Inc.\"}, {\"Carrier\": \"AS\", \"average_delay\": -0.1634446397188049, \"YearMonth\": \"2013-04\", \"AirlineName\": \"Alaska Airlines Inc.\"}, {\"Carrier\": \"DL\", \"average_delay\": 0.6091994721086683, \"YearMonth\": \"2013-04\", \"AirlineName\": \"Delta Air Lines Inc.\"}, {\"Carrier\": \"EV\", \"average_delay\": 12.672722299102114, \"YearMonth\": \"2013-04\", \"AirlineName\": \"ExpressJet Airlines LLC\"}, {\"Carrier\": \"MQ\", \"average_delay\": 16.580317803234884, \"YearMonth\": \"2013-04\", \"AirlineName\": \"Envoy Air\"}, {\"Carrier\": \"UA\", \"average_delay\": 6.931085940749076, \"YearMonth\": \"2013-04\", \"AirlineName\": \"United Air Lines Inc.\"}, {\"Carrier\": \"VX\", \"average_delay\": 5.8017146625632, \"YearMonth\": \"2013-04\", \"AirlineName\": \"Virgin America\"}, {\"Carrier\": \"WN\", \"average_delay\": 6.4495948707840105, \"YearMonth\": \"2013-04\", \"AirlineName\": \"Southwest Airlines Co.\"}, {\"Carrier\": \"AA\", \"average_delay\": 8.391558470530496, \"YearMonth\": \"2013-05\", \"AirlineName\": \"American Airlines Inc.\"}, {\"Carrier\": \"AS\", \"average_delay\": -1.9564983475520714, \"YearMonth\": \"2013-05\", \"AirlineName\": \"Alaska Airlines Inc.\"}, {\"Carrier\": \"DL\", \"average_delay\": 0.6223289428401589, \"YearMonth\": \"2013-05\", \"AirlineName\": \"Delta Air Lines Inc.\"}, {\"Carrier\": \"EV\", \"average_delay\": 9.923754831936115, \"YearMonth\": \"2013-05\", \"AirlineName\": \"ExpressJet Airlines LLC\"}, {\"Carrier\": \"MQ\", \"average_delay\": 13.622001832587722, \"YearMonth\": \"2013-05\", \"AirlineName\": \"Envoy Air\"}, {\"Carrier\": \"UA\", \"average_delay\": 3.067575814477514, \"YearMonth\": \"2013-05\", \"AirlineName\": \"United Air Lines Inc.\"}, {\"Carrier\": \"VX\", \"average_delay\": 6.940015631105901, \"YearMonth\": \"2013-05\", \"AirlineName\": \"Virgin America\"}, {\"Carrier\": \"WN\", \"average_delay\": 6.523671684690102, \"YearMonth\": \"2013-05\", \"AirlineName\": \"Southwest Airlines Co.\"}, {\"Carrier\": \"AA\", \"average_delay\": 14.693020007209805, \"YearMonth\": \"2013-06\", \"AirlineName\": \"American Airlines Inc.\"}, {\"Carrier\": \"AS\", \"average_delay\": 0.2548356942546919, \"YearMonth\": \"2013-06\", \"AirlineName\": \"Alaska Airlines Inc.\"}, {\"Carrier\": \"DL\", \"average_delay\": 10.49047104810866, \"YearMonth\": \"2013-06\", \"AirlineName\": \"Delta Air Lines Inc.\"}, {\"Carrier\": \"EV\", \"average_delay\": 18.264059143182106, \"YearMonth\": \"2013-06\", \"AirlineName\": \"ExpressJet Airlines LLC\"}, {\"Carrier\": \"MQ\", \"average_delay\": 21.8985032351226, \"YearMonth\": \"2013-06\", \"AirlineName\": \"Envoy Air\"}, {\"Carrier\": \"UA\", \"average_delay\": 12.995656133959224, \"YearMonth\": \"2013-06\", \"AirlineName\": \"United Air Lines Inc.\"}, {\"Carrier\": \"VX\", \"average_delay\": 20.896795753882447, \"YearMonth\": \"2013-06\", \"AirlineName\": \"Virgin America\"}, {\"Carrier\": \"WN\", \"average_delay\": 12.415362258667221, \"YearMonth\": \"2013-06\", \"AirlineName\": \"Southwest Airlines Co.\"}, {\"Carrier\": \"AA\", \"average_delay\": 9.332220005205171, \"YearMonth\": \"2013-07\", \"AirlineName\": \"American Airlines Inc.\"}, {\"Carrier\": \"AS\", \"average_delay\": 2.486222222222222, \"YearMonth\": \"2013-07\", \"AirlineName\": \"Alaska Airlines Inc.\"}, {\"Carrier\": \"DL\", \"average_delay\": 11.961692078948136, \"YearMonth\": \"2013-07\", \"AirlineName\": \"Delta Air Lines Inc.\"}, {\"Carrier\": \"EV\", \"average_delay\": 15.138404991351619, \"YearMonth\": \"2013-07\", \"AirlineName\": \"ExpressJet Airlines LLC\"}, {\"Carrier\": \"MQ\", \"average_delay\": 17.633217902303375, \"YearMonth\": \"2013-07\", \"AirlineName\": \"Envoy Air\"}, {\"Carrier\": \"UA\", \"average_delay\": 9.655015681105404, \"YearMonth\": \"2013-07\", \"AirlineName\": \"United Air Lines Inc.\"}, {\"Carrier\": \"VX\", \"average_delay\": 23.79091427485269, \"YearMonth\": \"2013-07\", \"AirlineName\": \"Virgin America\"}, {\"Carrier\": \"WN\", \"average_delay\": 8.621632233901172, \"YearMonth\": \"2013-07\", \"AirlineName\": \"Southwest Airlines Co.\"}, {\"Carrier\": \"AA\", \"average_delay\": 2.963803548247512, \"YearMonth\": \"2013-08\", \"AirlineName\": \"American Airlines Inc.\"}, {\"Carrier\": \"AS\", \"average_delay\": 2.365340712556209, \"YearMonth\": \"2013-08\", \"AirlineName\": \"Alaska Airlines Inc.\"}, {\"Carrier\": \"DL\", \"average_delay\": 1.5310118436465128, \"YearMonth\": \"2013-08\", \"AirlineName\": \"Delta Air Lines Inc.\"}, {\"Carrier\": \"EV\", \"average_delay\": 7.124630640944321, \"YearMonth\": \"2013-08\", \"AirlineName\": \"ExpressJet Airlines LLC\"}, {\"Carrier\": \"MQ\", \"average_delay\": 9.188375053033518, \"YearMonth\": \"2013-08\", \"AirlineName\": \"Envoy Air\"}, {\"Carrier\": \"UA\", \"average_delay\": 3.6872561473550496, \"YearMonth\": \"2013-08\", \"AirlineName\": \"United Air Lines Inc.\"}, {\"Carrier\": \"VX\", \"average_delay\": 6.054689004429039, \"YearMonth\": \"2013-08\", \"AirlineName\": \"Virgin America\"}, {\"Carrier\": \"WN\", \"average_delay\": 9.73635643234, \"YearMonth\": \"2013-08\", \"AirlineName\": \"Southwest Airlines Co.\"}, {\"Carrier\": \"AA\", \"average_delay\": 1.2410061832490162, \"YearMonth\": \"2013-09\", \"AirlineName\": \"American Airlines Inc.\"}, {\"Carrier\": \"AS\", \"average_delay\": -0.6796533354536057, \"YearMonth\": \"2013-09\", \"AirlineName\": \"Alaska Airlines Inc.\"}, {\"Carrier\": \"DL\", \"average_delay\": -2.2082588170847632, \"YearMonth\": \"2013-09\", \"AirlineName\": \"Delta Air Lines Inc.\"}, {\"Carrier\": \"EV\", \"average_delay\": 1.6168621847063906, \"YearMonth\": \"2013-09\", \"AirlineName\": \"ExpressJet Airlines LLC\"}, {\"Carrier\": \"MQ\", \"average_delay\": 2.1291748526522594, \"YearMonth\": \"2013-09\", \"AirlineName\": \"Envoy Air\"}, {\"Carrier\": \"UA\", \"average_delay\": -0.18639573782678726, \"YearMonth\": \"2013-09\", \"AirlineName\": \"United Air Lines Inc.\"}, {\"Carrier\": \"VX\", \"average_delay\": 2.4142285834561146, \"YearMonth\": \"2013-09\", \"AirlineName\": \"Virgin America\"}, {\"Carrier\": \"WN\", \"average_delay\": 7.7670345677629, \"YearMonth\": \"2013-09\", \"AirlineName\": \"Southwest Airlines Co.\"}, {\"Carrier\": \"AA\", \"average_delay\": 2.248912271354999, \"YearMonth\": \"2013-10\", \"AirlineName\": \"American Airlines Inc.\"}, {\"Carrier\": \"AS\", \"average_delay\": -2.9411203814064364, \"YearMonth\": \"2013-10\", \"AirlineName\": \"Alaska Airlines Inc.\"}, {\"Carrier\": \"DL\", \"average_delay\": -3.4703992657182194, \"YearMonth\": \"2013-10\", \"AirlineName\": \"Delta Air Lines Inc.\"}, {\"Carrier\": \"EV\", \"average_delay\": 4.937444430331513, \"YearMonth\": \"2013-10\", \"AirlineName\": \"ExpressJet Airlines LLC\"}, {\"Carrier\": \"MQ\", \"average_delay\": 3.626477801967647, \"YearMonth\": \"2013-10\", \"AirlineName\": \"Envoy Air\"}, {\"Carrier\": \"UA\", \"average_delay\": -0.7641125752399545, \"YearMonth\": \"2013-10\", \"AirlineName\": \"United Air Lines Inc.\"}, {\"Carrier\": \"VX\", \"average_delay\": -0.14268317434544348, \"YearMonth\": \"2013-10\", \"AirlineName\": \"Virgin America\"}, {\"Carrier\": \"WN\", \"average_delay\": 5.419506125574273, \"YearMonth\": \"2013-10\", \"AirlineName\": \"Southwest Airlines Co.\"}, {\"Carrier\": \"AA\", \"average_delay\": 1.6720665912092059, \"YearMonth\": \"2013-11\", \"AirlineName\": \"American Airlines Inc.\"}, {\"Carrier\": \"AS\", \"average_delay\": -4.2578265858056055, \"YearMonth\": \"2013-11\", \"AirlineName\": \"Alaska Airlines Inc.\"}, {\"Carrier\": \"DL\", \"average_delay\": -1.016276753791651, \"YearMonth\": \"2013-11\", \"AirlineName\": \"Delta Air Lines Inc.\"}, {\"Carrier\": \"EV\", \"average_delay\": 5.024920769617096, \"YearMonth\": \"2013-11\", \"AirlineName\": \"ExpressJet Airlines LLC\"}, {\"Carrier\": \"MQ\", \"average_delay\": 2.232075125412945, \"YearMonth\": \"2013-11\", \"AirlineName\": \"Envoy Air\"}, {\"Carrier\": \"UA\", \"average_delay\": -0.5871950464396285, \"YearMonth\": \"2013-11\", \"AirlineName\": \"United Air Lines Inc.\"}, {\"Carrier\": \"VX\", \"average_delay\": 1.245807684143494, \"YearMonth\": \"2013-11\", \"AirlineName\": \"Virgin America\"}, {\"Carrier\": \"WN\", \"average_delay\": 4.880066542274577, \"YearMonth\": \"2013-11\", \"AirlineName\": \"Southwest Airlines Co.\"}, {\"Carrier\": \"AA\", \"average_delay\": 8.371015375960997, \"YearMonth\": \"2013-12\", \"AirlineName\": \"American Airlines Inc.\"}, {\"Carrier\": \"AS\", \"average_delay\": -1.7990034557582577, \"YearMonth\": \"2013-12\", \"AirlineName\": \"Alaska Airlines Inc.\"}, {\"Carrier\": \"DL\", \"average_delay\": 5.760835656444976, \"YearMonth\": \"2013-12\", \"AirlineName\": \"Delta Air Lines Inc.\"}, {\"Carrier\": \"EV\", \"average_delay\": 18.83884506838411, \"YearMonth\": \"2013-12\", \"AirlineName\": \"ExpressJet Airlines LLC\"}, {\"Carrier\": \"MQ\", \"average_delay\": 17.787997411840827, \"YearMonth\": \"2013-12\", \"AirlineName\": \"Envoy Air\"}, {\"Carrier\": \"UA\", \"average_delay\": 8.054426438500576, \"YearMonth\": \"2013-12\", \"AirlineName\": \"United Air Lines Inc.\"}, {\"Carrier\": \"VX\", \"average_delay\": -0.5709377526273242, \"YearMonth\": \"2013-12\", \"AirlineName\": \"Virgin America\"}, {\"Carrier\": \"WN\", \"average_delay\": 18.349585018088955, \"YearMonth\": \"2013-12\", \"AirlineName\": \"Southwest Airlines Co.\"}, {\"Carrier\": \"AA\", \"average_delay\": 6.022625883644849, \"YearMonth\": \"2014-01\", \"AirlineName\": \"American Airlines Inc.\"}, {\"Carrier\": \"AS\", \"average_delay\": -3.9737858492891776, \"YearMonth\": \"2014-01\", \"AirlineName\": \"Alaska Airlines Inc.\"}, {\"Carrier\": \"DL\", \"average_delay\": 13.489790444857674, \"YearMonth\": \"2014-01\", \"AirlineName\": \"Delta Air Lines Inc.\"}, {\"Carrier\": \"EV\", \"average_delay\": 19.692494682467334, \"YearMonth\": \"2014-01\", \"AirlineName\": \"ExpressJet Airlines LLC\"}, {\"Carrier\": \"MQ\", \"average_delay\": 18.825595693064372, \"YearMonth\": \"2014-01\", \"AirlineName\": \"Envoy Air\"}, {\"Carrier\": \"UA\", \"average_delay\": 9.886219194980022, \"YearMonth\": \"2014-01\", \"AirlineName\": \"United Air Lines Inc.\"}, {\"Carrier\": \"VX\", \"average_delay\": 0.9702657106706031, \"YearMonth\": \"2014-01\", \"AirlineName\": \"Virgin America\"}, {\"Carrier\": \"WN\", \"average_delay\": 17.50016148008028, \"YearMonth\": \"2014-01\", \"AirlineName\": \"Southwest Airlines Co.\"}, {\"Carrier\": \"AA\", \"average_delay\": 6.971383841494713, \"YearMonth\": \"2014-02\", \"AirlineName\": \"American Airlines Inc.\"}, {\"Carrier\": \"AS\", \"average_delay\": -2.2176017207384837, \"YearMonth\": \"2014-02\", \"AirlineName\": \"Alaska Airlines Inc.\"}, {\"Carrier\": \"DL\", \"average_delay\": 5.054390703639649, \"YearMonth\": \"2014-02\", \"AirlineName\": \"Delta Air Lines Inc.\"}, {\"Carrier\": \"EV\", \"average_delay\": 17.84680335190778, \"YearMonth\": \"2014-02\", \"AirlineName\": \"ExpressJet Airlines LLC\"}, {\"Carrier\": \"MQ\", \"average_delay\": 11.53207225145783, \"YearMonth\": \"2014-02\", \"AirlineName\": \"Envoy Air\"}, {\"Carrier\": \"UA\", \"average_delay\": 10.742035119830692, \"YearMonth\": \"2014-02\", \"AirlineName\": \"United Air Lines Inc.\"}, {\"Carrier\": \"VX\", \"average_delay\": 18.897310513447433, \"YearMonth\": \"2014-02\", \"AirlineName\": \"Virgin America\"}, {\"Carrier\": \"WN\", \"average_delay\": 9.872408391060633, \"YearMonth\": \"2014-02\", \"AirlineName\": \"Southwest Airlines Co.\"}, {\"Carrier\": \"AA\", \"average_delay\": 4.565388353804011, \"YearMonth\": \"2014-03\", \"AirlineName\": \"American Airlines Inc.\"}, {\"Carrier\": \"AS\", \"average_delay\": -2.0415141366150014, \"YearMonth\": \"2014-03\", \"AirlineName\": \"Alaska Airlines Inc.\"}, {\"Carrier\": \"DL\", \"average_delay\": 2.3542545237027066, \"YearMonth\": \"2014-03\", \"AirlineName\": \"Delta Air Lines Inc.\"}, {\"Carrier\": \"EV\", \"average_delay\": 10.332720024532351, \"YearMonth\": \"2014-03\", \"AirlineName\": \"ExpressJet Airlines LLC\"}, {\"Carrier\": \"MQ\", \"average_delay\": 8.210334218146718, \"YearMonth\": \"2014-03\", \"AirlineName\": \"Envoy Air\"}, {\"Carrier\": \"UA\", \"average_delay\": 4.139923284015915, \"YearMonth\": \"2014-03\", \"AirlineName\": \"United Air Lines Inc.\"}, {\"Carrier\": \"VX\", \"average_delay\": 0.27054280197382535, \"YearMonth\": \"2014-03\", \"AirlineName\": \"Virgin America\"}, {\"Carrier\": \"WN\", \"average_delay\": 9.708158536098127, \"YearMonth\": \"2014-03\", \"AirlineName\": \"Southwest Airlines Co.\"}, {\"Carrier\": \"AA\", \"average_delay\": 3.248358609210283, \"YearMonth\": \"2014-04\", \"AirlineName\": \"American Airlines Inc.\"}, {\"Carrier\": \"AS\", \"average_delay\": -2.904210609785108, \"YearMonth\": \"2014-04\", \"AirlineName\": \"Alaska Airlines Inc.\"}, {\"Carrier\": \"DL\", \"average_delay\": 1.4517877316723153, \"YearMonth\": \"2014-04\", \"AirlineName\": \"Delta Air Lines Inc.\"}, {\"Carrier\": \"EV\", \"average_delay\": 8.629489330230712, \"YearMonth\": \"2014-04\", \"AirlineName\": \"ExpressJet Airlines LLC\"}, {\"Carrier\": \"MQ\", \"average_delay\": 7.647402538117411, \"YearMonth\": \"2014-04\", \"AirlineName\": \"Envoy Air\"}, {\"Carrier\": \"UA\", \"average_delay\": 1.1350779737029864, \"YearMonth\": \"2014-04\", \"AirlineName\": \"United Air Lines Inc.\"}, {\"Carrier\": \"VX\", \"average_delay\": 1.4380932728023113, \"YearMonth\": \"2014-04\", \"AirlineName\": \"Virgin America\"}, {\"Carrier\": \"WN\", \"average_delay\": 8.751308820689024, \"YearMonth\": \"2014-04\", \"AirlineName\": \"Southwest Airlines Co.\"}, {\"Carrier\": \"AA\", \"average_delay\": 7.202129819732419, \"YearMonth\": \"2014-05\", \"AirlineName\": \"American Airlines Inc.\"}, {\"Carrier\": \"AS\", \"average_delay\": -1.7112189941591442, \"YearMonth\": \"2014-05\", \"AirlineName\": \"Alaska Airlines Inc.\"}, {\"Carrier\": \"DL\", \"average_delay\": 2.7768308685844034, \"YearMonth\": \"2014-05\", \"AirlineName\": \"Delta Air Lines Inc.\"}, {\"Carrier\": \"EV\", \"average_delay\": 11.616990795458616, \"YearMonth\": \"2014-05\", \"AirlineName\": \"ExpressJet Airlines LLC\"}, {\"Carrier\": \"MQ\", \"average_delay\": 10.61515606242497, \"YearMonth\": \"2014-05\", \"AirlineName\": \"Envoy Air\"}, {\"Carrier\": \"UA\", \"average_delay\": 6.919003264835798, \"YearMonth\": \"2014-05\", \"AirlineName\": \"United Air Lines Inc.\"}, {\"Carrier\": \"VX\", \"average_delay\": 3.949354317998386, \"YearMonth\": \"2014-05\", \"AirlineName\": \"Virgin America\"}, {\"Carrier\": \"WN\", \"average_delay\": 11.602840155867112, \"YearMonth\": \"2014-05\", \"AirlineName\": \"Southwest Airlines Co.\"}, {\"Carrier\": \"AA\", \"average_delay\": 16.793721973094172, \"YearMonth\": \"2014-06\", \"AirlineName\": \"American Airlines Inc.\"}, {\"Carrier\": \"AS\", \"average_delay\": 1.6955752212389381, \"YearMonth\": \"2014-06\", \"AirlineName\": \"Alaska Airlines Inc.\"}, {\"Carrier\": \"DL\", \"average_delay\": 5.307123714014005, \"YearMonth\": \"2014-06\", \"AirlineName\": \"Delta Air Lines Inc.\"}, {\"Carrier\": \"EV\", \"average_delay\": 16.962240974150824, \"YearMonth\": \"2014-06\", \"AirlineName\": \"ExpressJet Airlines LLC\"}, {\"Carrier\": \"MQ\", \"average_delay\": 16.665065642010887, \"YearMonth\": \"2014-06\", \"AirlineName\": \"Envoy Air\"}, {\"Carrier\": \"UA\", \"average_delay\": 12.858099762470308, \"YearMonth\": \"2014-06\", \"AirlineName\": \"United Air Lines Inc.\"}, {\"Carrier\": \"VX\", \"average_delay\": 4.424640906332187, \"YearMonth\": \"2014-06\", \"AirlineName\": \"Virgin America\"}, {\"Carrier\": \"WN\", \"average_delay\": 15.913807298951482, \"YearMonth\": \"2014-06\", \"AirlineName\": \"Southwest Airlines Co.\"}, {\"Carrier\": \"AA\", \"average_delay\": 11.945045045045045, \"YearMonth\": \"2014-07\", \"AirlineName\": \"American Airlines Inc.\"}, {\"Carrier\": \"AS\", \"average_delay\": 2.6017829613244854, \"YearMonth\": \"2014-07\", \"AirlineName\": \"Alaska Airlines Inc.\"}, {\"Carrier\": \"DL\", \"average_delay\": 0.7216772589113014, \"YearMonth\": \"2014-07\", \"AirlineName\": \"Delta Air Lines Inc.\"}, {\"Carrier\": \"EV\", \"average_delay\": 9.679521299137186, \"YearMonth\": \"2014-07\", \"AirlineName\": \"ExpressJet Airlines LLC\"}, {\"Carrier\": \"MQ\", \"average_delay\": 7.408969926882246, \"YearMonth\": \"2014-07\", \"AirlineName\": \"Envoy Air\"}, {\"Carrier\": \"UA\", \"average_delay\": 8.94538436647714, \"YearMonth\": \"2014-07\", \"AirlineName\": \"United Air Lines Inc.\"}, {\"Carrier\": \"VX\", \"average_delay\": 4.742355494180312, \"YearMonth\": \"2014-07\", \"AirlineName\": \"Virgin America\"}, {\"Carrier\": \"WN\", \"average_delay\": 14.056694697231501, \"YearMonth\": \"2014-07\", \"AirlineName\": \"Southwest Airlines Co.\"}, {\"Carrier\": \"AA\", \"average_delay\": 11.567010536040296, \"YearMonth\": \"2014-08\", \"AirlineName\": \"American Airlines Inc.\"}, {\"Carrier\": \"AS\", \"average_delay\": 2.2124517759744577, \"YearMonth\": \"2014-08\", \"AirlineName\": \"Alaska Airlines Inc.\"}, {\"Carrier\": \"DL\", \"average_delay\": 2.1207827540014637, \"YearMonth\": \"2014-08\", \"AirlineName\": \"Delta Air Lines Inc.\"}, {\"Carrier\": \"EV\", \"average_delay\": 9.80471753662845, \"YearMonth\": \"2014-08\", \"AirlineName\": \"ExpressJet Airlines LLC\"}, {\"Carrier\": \"MQ\", \"average_delay\": 11.326302262897261, \"YearMonth\": \"2014-08\", \"AirlineName\": \"Envoy Air\"}, {\"Carrier\": \"UA\", \"average_delay\": 7.023154060829667, \"YearMonth\": \"2014-08\", \"AirlineName\": \"United Air Lines Inc.\"}, {\"Carrier\": \"VX\", \"average_delay\": 1.1230296827021495, \"YearMonth\": \"2014-08\", \"AirlineName\": \"Virgin America\"}, {\"Carrier\": \"WN\", \"average_delay\": 8.973989522854161, \"YearMonth\": \"2014-08\", \"AirlineName\": \"Southwest Airlines Co.\"}, {\"Carrier\": \"AA\", \"average_delay\": 4.473486702561592, \"YearMonth\": \"2014-09\", \"AirlineName\": \"American Airlines Inc.\"}, {\"Carrier\": \"AS\", \"average_delay\": 0.1319113531502912, \"YearMonth\": \"2014-09\", \"AirlineName\": \"Alaska Airlines Inc.\"}, {\"Carrier\": \"DL\", \"average_delay\": 0.9849459791099273, \"YearMonth\": \"2014-09\", \"AirlineName\": \"Delta Air Lines Inc.\"}, {\"Carrier\": \"EV\", \"average_delay\": 9.112532017477776, \"YearMonth\": \"2014-09\", \"AirlineName\": \"ExpressJet Airlines LLC\"}, {\"Carrier\": \"MQ\", \"average_delay\": 7.0733549083063645, \"YearMonth\": \"2014-09\", \"AirlineName\": \"Envoy Air\"}, {\"Carrier\": \"UA\", \"average_delay\": 3.163760959387282, \"YearMonth\": \"2014-09\", \"AirlineName\": \"United Air Lines Inc.\"}, {\"Carrier\": \"VX\", \"average_delay\": 1.5893879348304711, \"YearMonth\": \"2014-09\", \"AirlineName\": \"Virgin America\"}, {\"Carrier\": \"WN\", \"average_delay\": 5.10694889291185, \"YearMonth\": \"2014-09\", \"AirlineName\": \"Southwest Airlines Co.\"}, {\"Carrier\": \"AA\", \"average_delay\": 9.473344393130969, \"YearMonth\": \"2014-10\", \"AirlineName\": \"American Airlines Inc.\"}, {\"Carrier\": \"AS\", \"average_delay\": -1.2097681746567635, \"YearMonth\": \"2014-10\", \"AirlineName\": \"Alaska Airlines Inc.\"}, {\"Carrier\": \"DL\", \"average_delay\": -0.2339834841853284, \"YearMonth\": \"2014-10\", \"AirlineName\": \"Delta Air Lines Inc.\"}, {\"Carrier\": \"EV\", \"average_delay\": 9.74841926509376, \"YearMonth\": \"2014-10\", \"AirlineName\": \"ExpressJet Airlines LLC\"}, {\"Carrier\": \"MQ\", \"average_delay\": 13.986067297581494, \"YearMonth\": \"2014-10\", \"AirlineName\": \"Envoy Air\"}, {\"Carrier\": \"UA\", \"average_delay\": 6.003931878460751, \"YearMonth\": \"2014-10\", \"AirlineName\": \"United Air Lines Inc.\"}, {\"Carrier\": \"VX\", \"average_delay\": 3.3059147763408947, \"YearMonth\": \"2014-10\", \"AirlineName\": \"Virgin America\"}, {\"Carrier\": \"WN\", \"average_delay\": 4.248087298442406, \"YearMonth\": \"2014-10\", \"AirlineName\": \"Southwest Airlines Co.\"}, {\"Carrier\": \"AA\", \"average_delay\": 6.352610746367708, \"YearMonth\": \"2014-11\", \"AirlineName\": \"American Airlines Inc.\"}, {\"Carrier\": \"AS\", \"average_delay\": -0.6726754487327633, \"YearMonth\": \"2014-11\", \"AirlineName\": \"Alaska Airlines Inc.\"}, {\"Carrier\": \"DL\", \"average_delay\": -0.04525204807749806, \"YearMonth\": \"2014-11\", \"AirlineName\": \"Delta Air Lines Inc.\"}, {\"Carrier\": \"EV\", \"average_delay\": 4.1866834318945365, \"YearMonth\": \"2014-11\", \"AirlineName\": \"ExpressJet Airlines LLC\"}, {\"Carrier\": \"MQ\", \"average_delay\": 11.281753799067582, \"YearMonth\": \"2014-11\", \"AirlineName\": \"Envoy Air\"}, {\"Carrier\": \"UA\", \"average_delay\": 3.141406467623895, \"YearMonth\": \"2014-11\", \"AirlineName\": \"United Air Lines Inc.\"}, {\"Carrier\": \"VX\", \"average_delay\": 4.095966029723992, \"YearMonth\": \"2014-11\", \"AirlineName\": \"Virgin America\"}, {\"Carrier\": \"WN\", \"average_delay\": 3.4604223304039956, \"YearMonth\": \"2014-11\", \"AirlineName\": \"Southwest Airlines Co.\"}, {\"Carrier\": \"AA\", \"average_delay\": 10.097347102287902, \"YearMonth\": \"2014-12\", \"AirlineName\": \"American Airlines Inc.\"}, {\"Carrier\": \"AS\", \"average_delay\": 2.799644075337387, \"YearMonth\": \"2014-12\", \"AirlineName\": \"Alaska Airlines Inc.\"}, {\"Carrier\": \"DL\", \"average_delay\": -3.5946450621931754, \"YearMonth\": \"2014-12\", \"AirlineName\": \"Delta Air Lines Inc.\"}, {\"Carrier\": \"EV\", \"average_delay\": 7.821853799683279, \"YearMonth\": \"2014-12\", \"AirlineName\": \"ExpressJet Airlines LLC\"}, {\"Carrier\": \"MQ\", \"average_delay\": 14.289261049723757, \"YearMonth\": \"2014-12\", \"AirlineName\": \"Envoy Air\"}, {\"Carrier\": \"UA\", \"average_delay\": 9.522009437966593, \"YearMonth\": \"2014-12\", \"AirlineName\": \"United Air Lines Inc.\"}, {\"Carrier\": \"VX\", \"average_delay\": 19.744433094994893, \"YearMonth\": \"2014-12\", \"AirlineName\": \"Virgin America\"}, {\"Carrier\": \"WN\", \"average_delay\": 9.950003002221644, \"YearMonth\": \"2014-12\", \"AirlineName\": \"Southwest Airlines Co.\"}, {\"Carrier\": \"AA\", \"average_delay\": 6.955843432232902, \"YearMonth\": \"2015-01\", \"AirlineName\": \"American Airlines Inc.\"}, {\"Carrier\": \"AS\", \"average_delay\": -0.3208881453881834, \"YearMonth\": \"2015-01\", \"AirlineName\": \"Alaska Airlines Inc.\"}, {\"Carrier\": \"DL\", \"average_delay\": -2.0438469753125195, \"YearMonth\": \"2015-01\", \"AirlineName\": \"Delta Air Lines Inc.\"}, {\"Carrier\": \"EV\", \"average_delay\": 8.537496880459196, \"YearMonth\": \"2015-01\", \"AirlineName\": \"ExpressJet Airlines LLC\"}, {\"Carrier\": \"MQ\", \"average_delay\": 18.164973882762624, \"YearMonth\": \"2015-01\", \"AirlineName\": \"Envoy Air\"}, {\"Carrier\": \"UA\", \"average_delay\": 6.352728635280893, \"YearMonth\": \"2015-01\", \"AirlineName\": \"United Air Lines Inc.\"}, {\"Carrier\": \"VX\", \"average_delay\": 1.4207015278674413, \"YearMonth\": \"2015-01\", \"AirlineName\": \"Virgin America\"}, {\"Carrier\": \"WN\", \"average_delay\": 3.3894656332857434, \"YearMonth\": \"2015-01\", \"AirlineName\": \"Southwest Airlines Co.\"}, {\"Carrier\": \"AA\", \"average_delay\": 7.530204410973642, \"YearMonth\": \"2015-02\", \"AirlineName\": \"American Airlines Inc.\"}, {\"Carrier\": \"AS\", \"average_delay\": -0.7829231792484204, \"YearMonth\": \"2015-02\", \"AirlineName\": \"Alaska Airlines Inc.\"}, {\"Carrier\": \"DL\", \"average_delay\": 5.6147452175385135, \"YearMonth\": \"2015-02\", \"AirlineName\": \"Delta Air Lines Inc.\"}, {\"Carrier\": \"EV\", \"average_delay\": 10.417236043328176, \"YearMonth\": \"2015-02\", \"AirlineName\": \"ExpressJet Airlines LLC\"}, {\"Carrier\": \"MQ\", \"average_delay\": 21.301626652748784, \"YearMonth\": \"2015-02\", \"AirlineName\": \"Envoy Air\"}, {\"Carrier\": \"UA\", \"average_delay\": 7.260661890139884, \"YearMonth\": \"2015-02\", \"AirlineName\": \"United Air Lines Inc.\"}, {\"Carrier\": \"VX\", \"average_delay\": 7.784410458806118, \"YearMonth\": \"2015-02\", \"AirlineName\": \"Virgin America\"}, {\"Carrier\": \"WN\", \"average_delay\": 3.501363468293585, \"YearMonth\": \"2015-02\", \"AirlineName\": \"Southwest Airlines Co.\"}, {\"Carrier\": \"AA\", \"average_delay\": 6.693586858685869, \"YearMonth\": \"2015-03\", \"AirlineName\": \"American Airlines Inc.\"}, {\"Carrier\": \"AS\", \"average_delay\": -0.5447309101155255, \"YearMonth\": \"2015-03\", \"AirlineName\": \"Alaska Airlines Inc.\"}, {\"Carrier\": \"DL\", \"average_delay\": 2.077965363842899, \"YearMonth\": \"2015-03\", \"AirlineName\": \"Delta Air Lines Inc.\"}, {\"Carrier\": \"EV\", \"average_delay\": 6.730101204819277, \"YearMonth\": \"2015-03\", \"AirlineName\": \"ExpressJet Airlines LLC\"}, {\"Carrier\": \"MQ\", \"average_delay\": 11.018417619522676, \"YearMonth\": \"2015-03\", \"AirlineName\": \"Envoy Air\"}, {\"Carrier\": \"UA\", \"average_delay\": 4.892211518275757, \"YearMonth\": \"2015-03\", \"AirlineName\": \"United Air Lines Inc.\"}, {\"Carrier\": \"VX\", \"average_delay\": 5.348206839032527, \"YearMonth\": \"2015-03\", \"AirlineName\": \"Virgin America\"}, {\"Carrier\": \"WN\", \"average_delay\": 3.2633406330132706, \"YearMonth\": \"2015-03\", \"AirlineName\": \"Southwest Airlines Co.\"}, {\"Carrier\": \"AA\", \"average_delay\": 4.931777541365808, \"YearMonth\": \"2015-04\", \"AirlineName\": \"American Airlines Inc.\"}, {\"Carrier\": \"AS\", \"average_delay\": -3.0090025207057978, \"YearMonth\": \"2015-04\", \"AirlineName\": \"Alaska Airlines Inc.\"}, {\"Carrier\": \"DL\", \"average_delay\": 0.08334260598642483, \"YearMonth\": \"2015-04\", \"AirlineName\": \"Delta Air Lines Inc.\"}, {\"Carrier\": \"EV\", \"average_delay\": 4.821252726706139, \"YearMonth\": \"2015-04\", \"AirlineName\": \"ExpressJet Airlines LLC\"}, {\"Carrier\": \"MQ\", \"average_delay\": 5.1312277580071175, \"YearMonth\": \"2015-04\", \"AirlineName\": \"Envoy Air\"}, {\"Carrier\": \"UA\", \"average_delay\": 4.376092010277744, \"YearMonth\": \"2015-04\", \"AirlineName\": \"United Air Lines Inc.\"}, {\"Carrier\": \"VX\", \"average_delay\": 0.9955065359477124, \"YearMonth\": \"2015-04\", \"AirlineName\": \"Virgin America\"}, {\"Carrier\": \"WN\", \"average_delay\": 2.996398786959818, \"YearMonth\": \"2015-04\", \"AirlineName\": \"Southwest Airlines Co.\"}, {\"Carrier\": \"AA\", \"average_delay\": 5.173878150008026, \"YearMonth\": \"2015-05\", \"AirlineName\": \"American Airlines Inc.\"}, {\"Carrier\": \"AS\", \"average_delay\": -1.7163984936665526, \"YearMonth\": \"2015-05\", \"AirlineName\": \"Alaska Airlines Inc.\"}, {\"Carrier\": \"DL\", \"average_delay\": 0.14933329752521116, \"YearMonth\": \"2015-05\", \"AirlineName\": \"Delta Air Lines Inc.\"}, {\"Carrier\": \"EV\", \"average_delay\": 7.7242897075389045, \"YearMonth\": \"2015-05\", \"AirlineName\": \"ExpressJet Airlines LLC\"}, {\"Carrier\": \"MQ\", \"average_delay\": 5.466789592296661, \"YearMonth\": \"2015-05\", \"AirlineName\": \"Envoy Air\"}, {\"Carrier\": \"UA\", \"average_delay\": 6.827694692686485, \"YearMonth\": \"2015-05\", \"AirlineName\": \"United Air Lines Inc.\"}, {\"Carrier\": \"VX\", \"average_delay\": 7.102021174205968, \"YearMonth\": \"2015-05\", \"AirlineName\": \"Virgin America\"}, {\"Carrier\": \"WN\", \"average_delay\": 5.680776826859776, \"YearMonth\": \"2015-05\", \"AirlineName\": \"Southwest Airlines Co.\"}, {\"Carrier\": \"AA\", \"average_delay\": 8.191016646031091, \"YearMonth\": \"2015-06\", \"AirlineName\": \"American Airlines Inc.\"}, {\"Carrier\": \"AS\", \"average_delay\": -0.22062062062062063, \"YearMonth\": \"2015-06\", \"AirlineName\": \"Alaska Airlines Inc.\"}, {\"Carrier\": \"DL\", \"average_delay\": 4.419593538301198, \"YearMonth\": \"2015-06\", \"AirlineName\": \"Delta Air Lines Inc.\"}, {\"Carrier\": \"EV\", \"average_delay\": 13.952792976205624, \"YearMonth\": \"2015-06\", \"AirlineName\": \"ExpressJet Airlines LLC\"}, {\"Carrier\": \"MQ\", \"average_delay\": 9.639323079488141, \"YearMonth\": \"2015-06\", \"AirlineName\": \"Envoy Air\"}, {\"Carrier\": \"UA\", \"average_delay\": 16.932662867359483, \"YearMonth\": \"2015-06\", \"AirlineName\": \"United Air Lines Inc.\"}, {\"Carrier\": \"VX\", \"average_delay\": 5.779414578151903, \"YearMonth\": \"2015-06\", \"AirlineName\": \"Virgin America\"}, {\"Carrier\": \"WN\", \"average_delay\": 10.743462226195797, \"YearMonth\": \"2015-06\", \"AirlineName\": \"Southwest Airlines Co.\"}, {\"Carrier\": \"AA\", \"average_delay\": 3.870440173589585, \"YearMonth\": \"2015-07\", \"AirlineName\": \"American Airlines Inc.\"}, {\"Carrier\": \"AS\", \"average_delay\": 0.3774076663912021, \"YearMonth\": \"2015-07\", \"AirlineName\": \"Alaska Airlines Inc.\"}, {\"Carrier\": \"DL\", \"average_delay\": 1.2048615430547607, \"YearMonth\": \"2015-07\", \"AirlineName\": \"Delta Air Lines Inc.\"}, {\"Carrier\": \"EV\", \"average_delay\": 6.926420794387786, \"YearMonth\": \"2015-07\", \"AirlineName\": \"ExpressJet Airlines LLC\"}, {\"Carrier\": \"MQ\", \"average_delay\": 3.980288601488751, \"YearMonth\": \"2015-07\", \"AirlineName\": \"Envoy Air\"}, {\"Carrier\": \"UA\", \"average_delay\": 10.262550955899984, \"YearMonth\": \"2015-07\", \"AirlineName\": \"United Air Lines Inc.\"}, {\"Carrier\": \"VX\", \"average_delay\": 7.135772659732541, \"YearMonth\": \"2015-07\", \"AirlineName\": \"Virgin America\"}, {\"Carrier\": \"WN\", \"average_delay\": 10.50494168720143, \"YearMonth\": \"2015-07\", \"AirlineName\": \"Southwest Airlines Co.\"}, {\"Carrier\": \"AA\", \"average_delay\": 3.193906591451949, \"YearMonth\": \"2015-08\", \"AirlineName\": \"American Airlines Inc.\"}, {\"Carrier\": \"AS\", \"average_delay\": 2.5038986962759653, \"YearMonth\": \"2015-08\", \"AirlineName\": \"Alaska Airlines Inc.\"}, {\"Carrier\": \"DL\", \"average_delay\": 0.6531143476913542, \"YearMonth\": \"2015-08\", \"AirlineName\": \"Delta Air Lines Inc.\"}, {\"Carrier\": \"EV\", \"average_delay\": 5.154422253922967, \"YearMonth\": \"2015-08\", \"AirlineName\": \"ExpressJet Airlines LLC\"}, {\"Carrier\": \"MQ\", \"average_delay\": 1.8965651496798754, \"YearMonth\": \"2015-08\", \"AirlineName\": \"Envoy Air\"}, {\"Carrier\": \"UA\", \"average_delay\": 5.014040631049598, \"YearMonth\": \"2015-08\", \"AirlineName\": \"United Air Lines Inc.\"}, {\"Carrier\": \"VX\", \"average_delay\": 5.1062212796041, \"YearMonth\": \"2015-08\", \"AirlineName\": \"Virgin America\"}, {\"Carrier\": \"WN\", \"average_delay\": 5.532107941923571, \"YearMonth\": \"2015-08\", \"AirlineName\": \"Southwest Airlines Co.\"}, {\"Carrier\": \"AA\", \"average_delay\": -1.4327324113708704, \"YearMonth\": \"2015-09\", \"AirlineName\": \"American Airlines Inc.\"}, {\"Carrier\": \"AS\", \"average_delay\": -1.8137998875772907, \"YearMonth\": \"2015-09\", \"AirlineName\": \"Alaska Airlines Inc.\"}, {\"Carrier\": \"DL\", \"average_delay\": -3.703377345378735, \"YearMonth\": \"2015-09\", \"AirlineName\": \"Delta Air Lines Inc.\"}, {\"Carrier\": \"EV\", \"average_delay\": 0.851061867318468, \"YearMonth\": \"2015-09\", \"AirlineName\": \"ExpressJet Airlines LLC\"}, {\"Carrier\": \"MQ\", \"average_delay\": -2.167267657098899, \"YearMonth\": \"2015-09\", \"AirlineName\": \"Envoy Air\"}, {\"Carrier\": \"UA\", \"average_delay\": -1.794264698812557, \"YearMonth\": \"2015-09\", \"AirlineName\": \"United Air Lines Inc.\"}, {\"Carrier\": \"VX\", \"average_delay\": 0.07099786033845555, \"YearMonth\": \"2015-09\", \"AirlineName\": \"Virgin America\"}, {\"Carrier\": \"WN\", \"average_delay\": -1.3362598507775747, \"YearMonth\": \"2015-09\", \"AirlineName\": \"Southwest Airlines Co.\"}, {\"Carrier\": \"AA\", \"average_delay\": -0.5809298123878975, \"YearMonth\": \"2015-10\", \"AirlineName\": \"American Airlines Inc.\"}, {\"Carrier\": \"AS\", \"average_delay\": -2.9936173164978492, \"YearMonth\": \"2015-10\", \"AirlineName\": \"Alaska Airlines Inc.\"}, {\"Carrier\": \"DL\", \"average_delay\": -5.011516340215749, \"YearMonth\": \"2015-10\", \"AirlineName\": \"Delta Air Lines Inc.\"}, {\"Carrier\": \"EV\", \"average_delay\": 2.3037601648534265, \"YearMonth\": \"2015-10\", \"AirlineName\": \"ExpressJet Airlines LLC\"}, {\"Carrier\": \"MQ\", \"average_delay\": -3.73505378329717, \"YearMonth\": \"2015-10\", \"AirlineName\": \"Envoy Air\"}, {\"Carrier\": \"UA\", \"average_delay\": -2.4565417286977844, \"YearMonth\": \"2015-10\", \"AirlineName\": \"United Air Lines Inc.\"}, {\"Carrier\": \"VX\", \"average_delay\": 2.2542778288868446, \"YearMonth\": \"2015-10\", \"AirlineName\": \"Virgin America\"}, {\"Carrier\": \"WN\", \"average_delay\": -0.6888508740737893, \"YearMonth\": \"2015-10\", \"AirlineName\": \"Southwest Airlines Co.\"}, {\"Carrier\": \"AA\", \"average_delay\": 0.7726303123119838, \"YearMonth\": \"2015-11\", \"AirlineName\": \"American Airlines Inc.\"}, {\"Carrier\": \"AS\", \"average_delay\": -1.9165164732175042, \"YearMonth\": \"2015-11\", \"AirlineName\": \"Alaska Airlines Inc.\"}, {\"Carrier\": \"DL\", \"average_delay\": -3.1754137902353823, \"YearMonth\": \"2015-11\", \"AirlineName\": \"Delta Air Lines Inc.\"}, {\"Carrier\": \"EV\", \"average_delay\": 4.4159302660647395, \"YearMonth\": \"2015-11\", \"AirlineName\": \"ExpressJet Airlines LLC\"}, {\"Carrier\": \"MQ\", \"average_delay\": 0.22006104184987843, \"YearMonth\": \"2015-11\", \"AirlineName\": \"Envoy Air\"}, {\"Carrier\": \"UA\", \"average_delay\": 0.2810635476844398, \"YearMonth\": \"2015-11\", \"AirlineName\": \"United Air Lines Inc.\"}, {\"Carrier\": \"VX\", \"average_delay\": 0.11637043966323667, \"YearMonth\": \"2015-11\", \"AirlineName\": \"Virgin America\"}, {\"Carrier\": \"WN\", \"average_delay\": 0.9956842923794712, \"YearMonth\": \"2015-11\", \"AirlineName\": \"Southwest Airlines Co.\"}, {\"Carrier\": \"AA\", \"average_delay\": 4.149684328298569, \"YearMonth\": \"2015-12\", \"AirlineName\": \"American Airlines Inc.\"}, {\"Carrier\": \"AS\", \"average_delay\": -1.846680642907058, \"YearMonth\": \"2015-12\", \"AirlineName\": \"Alaska Airlines Inc.\"}, {\"Carrier\": \"DL\", \"average_delay\": 2.5045953790120645, \"YearMonth\": \"2015-12\", \"AirlineName\": \"Delta Air Lines Inc.\"}, {\"Carrier\": \"EV\", \"average_delay\": 6.685175583313693, \"YearMonth\": \"2015-12\", \"AirlineName\": \"ExpressJet Airlines LLC\"}, {\"Carrier\": \"MQ\", \"average_delay\": 0.6624856901099995, \"YearMonth\": \"2015-12\", \"AirlineName\": \"Envoy Air\"}, {\"Carrier\": \"UA\", \"average_delay\": 7.0120787705033605, \"YearMonth\": \"2015-12\", \"AirlineName\": \"United Air Lines Inc.\"}, {\"Carrier\": \"VX\", \"average_delay\": 13.49872029250457, \"YearMonth\": \"2015-12\", \"AirlineName\": \"Virgin America\"}, {\"Carrier\": \"WN\", \"average_delay\": 6.720893444098173, \"YearMonth\": \"2015-12\", \"AirlineName\": \"Southwest Airlines Co.\"}, {\"Carrier\": \"AA\", \"average_delay\": 1.9342691377034755, \"YearMonth\": \"2016-01\", \"AirlineName\": \"American Airlines Inc.\"}, {\"Carrier\": \"AS\", \"average_delay\": -3.922802511415525, \"YearMonth\": \"2016-01\", \"AirlineName\": \"Alaska Airlines Inc.\"}, {\"Carrier\": \"DL\", \"average_delay\": -0.8387303529548864, \"YearMonth\": \"2016-01\", \"AirlineName\": \"Delta Air Lines Inc.\"}, {\"Carrier\": \"EV\", \"average_delay\": 1.6280903876582278, \"YearMonth\": \"2016-01\", \"AirlineName\": \"ExpressJet Airlines LLC\"}, {\"Carrier\": \"UA\", \"average_delay\": -2.889024994135891, \"YearMonth\": \"2016-01\", \"AirlineName\": \"United Air Lines Inc.\"}, {\"Carrier\": \"VX\", \"average_delay\": 7.615753162131084, \"YearMonth\": \"2016-01\", \"AirlineName\": \"Virgin America\"}, {\"Carrier\": \"WN\", \"average_delay\": -0.44662752257364186, \"YearMonth\": \"2016-01\", \"AirlineName\": \"Southwest Airlines Co.\"}, {\"Carrier\": \"AA\", \"average_delay\": 0.8930298719772404, \"YearMonth\": \"2016-02\", \"AirlineName\": \"American Airlines Inc.\"}, {\"Carrier\": \"AS\", \"average_delay\": -5.83886541943271, \"YearMonth\": \"2016-02\", \"AirlineName\": \"Alaska Airlines Inc.\"}, {\"Carrier\": \"DL\", \"average_delay\": -1.5905571490139547, \"YearMonth\": \"2016-02\", \"AirlineName\": \"Delta Air Lines Inc.\"}, {\"Carrier\": \"EV\", \"average_delay\": 4.098719386557471, \"YearMonth\": \"2016-02\", \"AirlineName\": \"ExpressJet Airlines LLC\"}, {\"Carrier\": \"UA\", \"average_delay\": -3.570412849988323, \"YearMonth\": \"2016-02\", \"AirlineName\": \"United Air Lines Inc.\"}, {\"Carrier\": \"VX\", \"average_delay\": 1.2548017981201471, \"YearMonth\": \"2016-02\", \"AirlineName\": \"Virgin America\"}, {\"Carrier\": \"WN\", \"average_delay\": -2.833859601430334, \"YearMonth\": \"2016-02\", \"AirlineName\": \"Southwest Airlines Co.\"}, {\"Carrier\": \"AA\", \"average_delay\": 3.5761520238428814, \"YearMonth\": \"2016-03\", \"AirlineName\": \"American Airlines Inc.\"}, {\"Carrier\": \"AS\", \"average_delay\": -1.6471553610503282, \"YearMonth\": \"2016-03\", \"AirlineName\": \"Alaska Airlines Inc.\"}, {\"Carrier\": \"DL\", \"average_delay\": -2.1485066017177283, \"YearMonth\": \"2016-03\", \"AirlineName\": \"Delta Air Lines Inc.\"}, {\"Carrier\": \"EV\", \"average_delay\": 2.7655715263518137, \"YearMonth\": \"2016-03\", \"AirlineName\": \"ExpressJet Airlines LLC\"}, {\"Carrier\": \"UA\", \"average_delay\": 2.0546349279011213, \"YearMonth\": \"2016-03\", \"AirlineName\": \"United Air Lines Inc.\"}, {\"Carrier\": \"VX\", \"average_delay\": 10.913997840949982, \"YearMonth\": \"2016-03\", \"AirlineName\": \"Virgin America\"}, {\"Carrier\": \"WN\", \"average_delay\": 3.2533119774134, \"YearMonth\": \"2016-03\", \"AirlineName\": \"Southwest Airlines Co.\"}, {\"Carrier\": \"AA\", \"average_delay\": 5.021983521983522, \"YearMonth\": \"2016-05\", \"AirlineName\": \"American Airlines Inc.\"}, {\"Carrier\": \"AS\", \"average_delay\": -4.187063507603942, \"YearMonth\": \"2016-05\", \"AirlineName\": \"Alaska Airlines Inc.\"}, {\"Carrier\": \"DL\", \"average_delay\": -2.1226010273759623, \"YearMonth\": \"2016-05\", \"AirlineName\": \"Delta Air Lines Inc.\"}, {\"Carrier\": \"EV\", \"average_delay\": 2.7962858335994496, \"YearMonth\": \"2016-05\", \"AirlineName\": \"ExpressJet Airlines LLC\"}, {\"Carrier\": \"UA\", \"average_delay\": -0.15052203538850423, \"YearMonth\": \"2016-05\", \"AirlineName\": \"United Air Lines Inc.\"}, {\"Carrier\": \"VX\", \"average_delay\": 7.406039689387403, \"YearMonth\": \"2016-05\", \"AirlineName\": \"Virgin America\"}, {\"Carrier\": \"WN\", \"average_delay\": 4.4045954413075235, \"YearMonth\": \"2016-05\", \"AirlineName\": \"Southwest Airlines Co.\"}, {\"Carrier\": \"AA\", \"average_delay\": 12.890551191127974, \"YearMonth\": \"2016-06\", \"AirlineName\": \"American Airlines Inc.\"}, {\"Carrier\": \"AS\", \"average_delay\": -0.24746022618363045, \"YearMonth\": \"2016-06\", \"AirlineName\": \"Alaska Airlines Inc.\"}, {\"Carrier\": \"DL\", \"average_delay\": 2.5689165077216516, \"YearMonth\": \"2016-06\", \"AirlineName\": \"Delta Air Lines Inc.\"}, {\"Carrier\": \"EV\", \"average_delay\": 7.957646095687559, \"YearMonth\": \"2016-06\", \"AirlineName\": \"ExpressJet Airlines LLC\"}, {\"Carrier\": \"UA\", \"average_delay\": 4.692438625204582, \"YearMonth\": \"2016-06\", \"AirlineName\": \"United Air Lines Inc.\"}, {\"Carrier\": \"VX\", \"average_delay\": 9.719183953368765, \"YearMonth\": \"2016-06\", \"AirlineName\": \"Virgin America\"}, {\"Carrier\": \"WN\", \"average_delay\": 9.86838359939445, \"YearMonth\": \"2016-06\", \"AirlineName\": \"Southwest Airlines Co.\"}, {\"Carrier\": \"AA\", \"average_delay\": 14.152805586144758, \"YearMonth\": \"2016-07\", \"AirlineName\": \"American Airlines Inc.\"}, {\"Carrier\": \"AS\", \"average_delay\": -2.4673410226361563, \"YearMonth\": \"2016-07\", \"AirlineName\": \"Alaska Airlines Inc.\"}, {\"Carrier\": \"DL\", \"average_delay\": 5.578627625532325, \"YearMonth\": \"2016-07\", \"AirlineName\": \"Delta Air Lines Inc.\"}, {\"Carrier\": \"EV\", \"average_delay\": 14.362537175174296, \"YearMonth\": \"2016-07\", \"AirlineName\": \"ExpressJet Airlines LLC\"}, {\"Carrier\": \"UA\", \"average_delay\": 8.600575563925684, \"YearMonth\": \"2016-07\", \"AirlineName\": \"United Air Lines Inc.\"}, {\"Carrier\": \"VX\", \"average_delay\": 8.887088775004132, \"YearMonth\": \"2016-07\", \"AirlineName\": \"Virgin America\"}, {\"Carrier\": \"WN\", \"average_delay\": 13.095562741399442, \"YearMonth\": \"2016-07\", \"AirlineName\": \"Southwest Airlines Co.\"}, {\"Carrier\": \"AA\", \"average_delay\": 12.565195215872286, \"YearMonth\": \"2016-08\", \"AirlineName\": \"American Airlines Inc.\"}, {\"Carrier\": \"AS\", \"average_delay\": -1.2283815099402366, \"YearMonth\": \"2016-08\", \"AirlineName\": \"Alaska Airlines Inc.\"}, {\"Carrier\": \"DL\", \"average_delay\": 8.179299903100775, \"YearMonth\": \"2016-08\", \"AirlineName\": \"Delta Air Lines Inc.\"}, {\"Carrier\": \"EV\", \"average_delay\": 11.357373649691358, \"YearMonth\": \"2016-08\", \"AirlineName\": \"ExpressJet Airlines LLC\"}, {\"Carrier\": \"UA\", \"average_delay\": 6.568894121468009, \"YearMonth\": \"2016-08\", \"AirlineName\": \"United Air Lines Inc.\"}, {\"Carrier\": \"VX\", \"average_delay\": 8.643624937985779, \"YearMonth\": \"2016-08\", \"AirlineName\": \"Virgin America\"}, {\"Carrier\": \"WN\", \"average_delay\": 5.139640871388205, \"YearMonth\": \"2016-08\", \"AirlineName\": \"Southwest Airlines Co.\"}, {\"Carrier\": \"AA\", \"average_delay\": 2.063007087083755, \"YearMonth\": \"2016-09\", \"AirlineName\": \"American Airlines Inc.\"}, {\"Carrier\": \"AS\", \"average_delay\": -2.9989132009853643, \"YearMonth\": \"2016-09\", \"AirlineName\": \"Alaska Airlines Inc.\"}, {\"Carrier\": \"DL\", \"average_delay\": -4.251583013633166, \"YearMonth\": \"2016-09\", \"AirlineName\": \"Delta Air Lines Inc.\"}, {\"Carrier\": \"EV\", \"average_delay\": 3.3718969676532384, \"YearMonth\": \"2016-09\", \"AirlineName\": \"ExpressJet Airlines LLC\"}, {\"Carrier\": \"UA\", \"average_delay\": 0.2935278616877691, \"YearMonth\": \"2016-09\", \"AirlineName\": \"United Air Lines Inc.\"}, {\"Carrier\": \"VX\", \"average_delay\": 2.6376227208976157, \"YearMonth\": \"2016-09\", \"AirlineName\": \"Virgin America\"}, {\"Carrier\": \"WN\", \"average_delay\": 1.3064326243872313, \"YearMonth\": \"2016-09\", \"AirlineName\": \"Southwest Airlines Co.\"}, {\"Carrier\": \"AA\", \"average_delay\": -0.021694047939671425, \"YearMonth\": \"2016-10\", \"AirlineName\": \"American Airlines Inc.\"}, {\"Carrier\": \"AS\", \"average_delay\": -2.1129159212880144, \"YearMonth\": \"2016-10\", \"AirlineName\": \"Alaska Airlines Inc.\"}, {\"Carrier\": \"DL\", \"average_delay\": -6.856800387646324, \"YearMonth\": \"2016-10\", \"AirlineName\": \"Delta Air Lines Inc.\"}, {\"Carrier\": \"EV\", \"average_delay\": 1.3819034033014062, \"YearMonth\": \"2016-10\", \"AirlineName\": \"ExpressJet Airlines LLC\"}, {\"Carrier\": \"UA\", \"average_delay\": 0.7390637301411066, \"YearMonth\": \"2016-10\", \"AirlineName\": \"United Air Lines Inc.\"}, {\"Carrier\": \"VX\", \"average_delay\": 9.480235783633843, \"YearMonth\": \"2016-10\", \"AirlineName\": \"Virgin America\"}, {\"Carrier\": \"WN\", \"average_delay\": 0.8843474611833823, \"YearMonth\": \"2016-10\", \"AirlineName\": \"Southwest Airlines Co.\"}, {\"Carrier\": \"AA\", \"average_delay\": -1.6938826850777766, \"YearMonth\": \"2016-11\", \"AirlineName\": \"American Airlines Inc.\"}, {\"Carrier\": \"AS\", \"average_delay\": -4.350362865560107, \"YearMonth\": \"2016-11\", \"AirlineName\": \"Alaska Airlines Inc.\"}, {\"Carrier\": \"DL\", \"average_delay\": -6.285839727655896, \"YearMonth\": \"2016-11\", \"AirlineName\": \"Delta Air Lines Inc.\"}, {\"Carrier\": \"EV\", \"average_delay\": 3.385586285333851, \"YearMonth\": \"2016-11\", \"AirlineName\": \"ExpressJet Airlines LLC\"}, {\"Carrier\": \"UA\", \"average_delay\": -3.1287743453444294, \"YearMonth\": \"2016-11\", \"AirlineName\": \"United Air Lines Inc.\"}, {\"Carrier\": \"VX\", \"average_delay\": 0.8115892917655032, \"YearMonth\": \"2016-11\", \"AirlineName\": \"Virgin America\"}, {\"Carrier\": \"WN\", \"average_delay\": -1.250473955889254, \"YearMonth\": \"2016-11\", \"AirlineName\": \"Southwest Airlines Co.\"}, {\"Carrier\": \"AA\", \"average_delay\": 5.687199124726477, \"YearMonth\": \"2016-12\", \"AirlineName\": \"American Airlines Inc.\"}, {\"Carrier\": \"AS\", \"average_delay\": 5.486068111455109, \"YearMonth\": \"2016-12\", \"AirlineName\": \"Alaska Airlines Inc.\"}, {\"Carrier\": \"DL\", \"average_delay\": 4.403133364162498, \"YearMonth\": \"2016-12\", \"AirlineName\": \"Delta Air Lines Inc.\"}, {\"Carrier\": \"EV\", \"average_delay\": 12.303185767480347, \"YearMonth\": \"2016-12\", \"AirlineName\": \"ExpressJet Airlines LLC\"}, {\"Carrier\": \"UA\", \"average_delay\": 7.918444750033269, \"YearMonth\": \"2016-12\", \"AirlineName\": \"United Air Lines Inc.\"}, {\"Carrier\": \"VX\", \"average_delay\": 14.135345997286295, \"YearMonth\": \"2016-12\", \"AirlineName\": \"Virgin America\"}, {\"Carrier\": \"WN\", \"average_delay\": 7.671667601850745, \"YearMonth\": \"2016-12\", \"AirlineName\": \"Southwest Airlines Co.\"}, {\"Carrier\": \"AA\", \"average_delay\": 3.30700376666157, \"YearMonth\": \"2017-01\", \"AirlineName\": \"American Airlines Inc.\"}, {\"Carrier\": \"AS\", \"average_delay\": 3.311552898651467, \"YearMonth\": \"2017-01\", \"AirlineName\": \"Alaska Airlines Inc.\"}, {\"Carrier\": \"DL\", \"average_delay\": 4.305278754248859, \"YearMonth\": \"2017-01\", \"AirlineName\": \"Delta Air Lines Inc.\"}, {\"Carrier\": \"EV\", \"average_delay\": 13.173010790940353, \"YearMonth\": \"2017-01\", \"AirlineName\": \"ExpressJet Airlines LLC\"}, {\"Carrier\": \"UA\", \"average_delay\": 4.911974510176907, \"YearMonth\": \"2017-01\", \"AirlineName\": \"United Air Lines Inc.\"}, {\"Carrier\": \"VX\", \"average_delay\": 15.565912356321839, \"YearMonth\": \"2017-01\", \"AirlineName\": \"Virgin America\"}, {\"Carrier\": \"WN\", \"average_delay\": 6.764570581302513, \"YearMonth\": \"2017-01\", \"AirlineName\": \"Southwest Airlines Co.\"}, {\"Carrier\": \"AA\", \"average_delay\": -1.2293670809610826, \"YearMonth\": \"2017-02\", \"AirlineName\": \"American Airlines Inc.\"}, {\"Carrier\": \"AS\", \"average_delay\": 4.076958596275204, \"YearMonth\": \"2017-02\", \"AirlineName\": \"Alaska Airlines Inc.\"}, {\"Carrier\": \"DL\", \"average_delay\": -6.3275569670993805, \"YearMonth\": \"2017-02\", \"AirlineName\": \"Delta Air Lines Inc.\"}, {\"Carrier\": \"EV\", \"average_delay\": 1.3622158612561037, \"YearMonth\": \"2017-02\", \"AirlineName\": \"ExpressJet Airlines LLC\"}, {\"Carrier\": \"UA\", \"average_delay\": 1.4097229244615228, \"YearMonth\": \"2017-02\", \"AirlineName\": \"United Air Lines Inc.\"}, {\"Carrier\": \"VX\", \"average_delay\": 14.914430894308943, \"YearMonth\": \"2017-02\", \"AirlineName\": \"Virgin America\"}, {\"Carrier\": \"WN\", \"average_delay\": 1.2480192611605485, \"YearMonth\": \"2017-02\", \"AirlineName\": \"Southwest Airlines Co.\"}, {\"Carrier\": \"AA\", \"average_delay\": 3.4160380431242263, \"YearMonth\": \"2017-03\", \"AirlineName\": \"American Airlines Inc.\"}, {\"Carrier\": \"AS\", \"average_delay\": 3.369558101472995, \"YearMonth\": \"2017-03\", \"AirlineName\": \"Alaska Airlines Inc.\"}, {\"Carrier\": \"DL\", \"average_delay\": -1.8859912859581625, \"YearMonth\": \"2017-03\", \"AirlineName\": \"Delta Air Lines Inc.\"}, {\"Carrier\": \"EV\", \"average_delay\": 9.683850014762326, \"YearMonth\": \"2017-03\", \"AirlineName\": \"ExpressJet Airlines LLC\"}, {\"Carrier\": \"UA\", \"average_delay\": 2.872587195913411, \"YearMonth\": \"2017-03\", \"AirlineName\": \"United Air Lines Inc.\"}, {\"Carrier\": \"VX\", \"average_delay\": 15.416534181240063, \"YearMonth\": \"2017-03\", \"AirlineName\": \"Virgin America\"}, {\"Carrier\": \"WN\", \"average_delay\": 4.172974505755478, \"YearMonth\": \"2017-03\", \"AirlineName\": \"Southwest Airlines Co.\"}, {\"Carrier\": \"AA\", \"average_delay\": 6.002171254242878, \"YearMonth\": \"2017-04\", \"AirlineName\": \"American Airlines Inc.\"}, {\"Carrier\": \"AS\", \"average_delay\": 2.123293093211953, \"YearMonth\": \"2017-04\", \"AirlineName\": \"Alaska Airlines Inc.\"}, {\"Carrier\": \"DL\", \"average_delay\": 11.232778968501588, \"YearMonth\": \"2017-04\", \"AirlineName\": \"Delta Air Lines Inc.\"}, {\"Carrier\": \"EV\", \"average_delay\": 11.57828452444922, \"YearMonth\": \"2017-04\", \"AirlineName\": \"ExpressJet Airlines LLC\"}, {\"Carrier\": \"UA\", \"average_delay\": 3.2329876934592607, \"YearMonth\": \"2017-04\", \"AirlineName\": \"United Air Lines Inc.\"}, {\"Carrier\": \"VX\", \"average_delay\": 18.73822084773513, \"YearMonth\": \"2017-04\", \"AirlineName\": \"Virgin America\"}, {\"Carrier\": \"WN\", \"average_delay\": 5.4067357512953365, \"YearMonth\": \"2017-04\", \"AirlineName\": \"Southwest Airlines Co.\"}, {\"Carrier\": \"AA\", \"average_delay\": 11.212424266476175, \"YearMonth\": \"2017-06\", \"AirlineName\": \"American Airlines Inc.\"}, {\"Carrier\": \"AS\", \"average_delay\": 1.256030027073591, \"YearMonth\": \"2017-06\", \"AirlineName\": \"Alaska Airlines Inc.\"}, {\"Carrier\": \"DL\", \"average_delay\": 3.1562678027394546, \"YearMonth\": \"2017-06\", \"AirlineName\": \"Delta Air Lines Inc.\"}, {\"Carrier\": \"EV\", \"average_delay\": 12.263088025052761, \"YearMonth\": \"2017-06\", \"AirlineName\": \"ExpressJet Airlines LLC\"}, {\"Carrier\": \"UA\", \"average_delay\": 6.092555643802181, \"YearMonth\": \"2017-06\", \"AirlineName\": \"United Air Lines Inc.\"}, {\"Carrier\": \"VX\", \"average_delay\": 14.113732812765235, \"YearMonth\": \"2017-06\", \"AirlineName\": \"Virgin America\"}, {\"Carrier\": \"WN\", \"average_delay\": 10.629766330090604, \"YearMonth\": \"2017-06\", \"AirlineName\": \"Southwest Airlines Co.\"}, {\"Carrier\": \"AA\", \"average_delay\": 11.186316345868732, \"YearMonth\": \"2017-07\", \"AirlineName\": \"American Airlines Inc.\"}, {\"Carrier\": \"AS\", \"average_delay\": -1.1098173650924996, \"YearMonth\": \"2017-07\", \"AirlineName\": \"Alaska Airlines Inc.\"}, {\"Carrier\": \"DL\", \"average_delay\": 2.783035510698813, \"YearMonth\": \"2017-07\", \"AirlineName\": \"Delta Air Lines Inc.\"}, {\"Carrier\": \"EV\", \"average_delay\": 10.766844881917644, \"YearMonth\": \"2017-07\", \"AirlineName\": \"ExpressJet Airlines LLC\"}, {\"Carrier\": \"UA\", \"average_delay\": 6.730333043511133, \"YearMonth\": \"2017-07\", \"AirlineName\": \"United Air Lines Inc.\"}, {\"Carrier\": \"VX\", \"average_delay\": 6.066317340756509, \"YearMonth\": \"2017-07\", \"AirlineName\": \"Virgin America\"}, {\"Carrier\": \"WN\", \"average_delay\": 8.777705490592203, \"YearMonth\": \"2017-07\", \"AirlineName\": \"Southwest Airlines Co.\"}, {\"Carrier\": \"AA\", \"average_delay\": 6.538858775740335, \"YearMonth\": \"2017-08\", \"AirlineName\": \"American Airlines Inc.\"}, {\"Carrier\": \"AS\", \"average_delay\": 0.9150535048695443, \"YearMonth\": \"2017-08\", \"AirlineName\": \"Alaska Airlines Inc.\"}, {\"Carrier\": \"DL\", \"average_delay\": -2.163112337331707, \"YearMonth\": \"2017-08\", \"AirlineName\": \"Delta Air Lines Inc.\"}, {\"Carrier\": \"EV\", \"average_delay\": 7.679569571065611, \"YearMonth\": \"2017-08\", \"AirlineName\": \"ExpressJet Airlines LLC\"}, {\"Carrier\": \"UA\", \"average_delay\": 3.9481065389907823, \"YearMonth\": \"2017-08\", \"AirlineName\": \"United Air Lines Inc.\"}, {\"Carrier\": \"VX\", \"average_delay\": 14.163606557377049, \"YearMonth\": \"2017-08\", \"AirlineName\": \"Virgin America\"}, {\"Carrier\": \"WN\", \"average_delay\": 11.120311237042893, \"YearMonth\": \"2017-08\", \"AirlineName\": \"Southwest Airlines Co.\"}, {\"Carrier\": \"AA\", \"average_delay\": -0.6252841737102885, \"YearMonth\": \"2017-09\", \"AirlineName\": \"American Airlines Inc.\"}, {\"Carrier\": \"AS\", \"average_delay\": -2.605501486888348, \"YearMonth\": \"2017-09\", \"AirlineName\": \"Alaska Airlines Inc.\"}, {\"Carrier\": \"DL\", \"average_delay\": -3.933695283338989, \"YearMonth\": \"2017-09\", \"AirlineName\": \"Delta Air Lines Inc.\"}, {\"Carrier\": \"EV\", \"average_delay\": 1.5490255785627285, \"YearMonth\": \"2017-09\", \"AirlineName\": \"ExpressJet Airlines LLC\"}, {\"Carrier\": \"UA\", \"average_delay\": -4.5863955059976345, \"YearMonth\": \"2017-09\", \"AirlineName\": \"United Air Lines Inc.\"}, {\"Carrier\": \"VX\", \"average_delay\": 4.34174791086351, \"YearMonth\": \"2017-09\", \"AirlineName\": \"Virgin America\"}, {\"Carrier\": \"WN\", \"average_delay\": 1.101403505330574, \"YearMonth\": \"2017-09\", \"AirlineName\": \"Southwest Airlines Co.\"}, {\"Carrier\": \"AA\", \"average_delay\": 0.9885951270088128, \"YearMonth\": \"2017-10\", \"AirlineName\": \"American Airlines Inc.\"}, {\"Carrier\": \"AS\", \"average_delay\": -2.1256435974590437, \"YearMonth\": \"2017-10\", \"AirlineName\": \"Alaska Airlines Inc.\"}, {\"Carrier\": \"DL\", \"average_delay\": -2.2397425076529647, \"YearMonth\": \"2017-10\", \"AirlineName\": \"Delta Air Lines Inc.\"}, {\"Carrier\": \"EV\", \"average_delay\": 6.320165246578879, \"YearMonth\": \"2017-10\", \"AirlineName\": \"ExpressJet Airlines LLC\"}, {\"Carrier\": \"UA\", \"average_delay\": -1.3479223399878533, \"YearMonth\": \"2017-10\", \"AirlineName\": \"United Air Lines Inc.\"}, {\"Carrier\": \"VX\", \"average_delay\": 10.026234316441258, \"YearMonth\": \"2017-10\", \"AirlineName\": \"Virgin America\"}, {\"Carrier\": \"WN\", \"average_delay\": 1.0504780254399022, \"YearMonth\": \"2017-10\", \"AirlineName\": \"Southwest Airlines Co.\"}, {\"Carrier\": \"AA\", \"average_delay\": -3.5214550896480272, \"YearMonth\": \"2017-11\", \"AirlineName\": \"American Airlines Inc.\"}, {\"Carrier\": \"AS\", \"average_delay\": 0.19397623652942803, \"YearMonth\": \"2017-11\", \"AirlineName\": \"Alaska Airlines Inc.\"}, {\"Carrier\": \"DL\", \"average_delay\": -8.970318220977816, \"YearMonth\": \"2017-11\", \"AirlineName\": \"Delta Air Lines Inc.\"}, {\"Carrier\": \"EV\", \"average_delay\": -2.110818585149432, \"YearMonth\": \"2017-11\", \"AirlineName\": \"ExpressJet Airlines LLC\"}, {\"Carrier\": \"UA\", \"average_delay\": -4.6963058063447365, \"YearMonth\": \"2017-11\", \"AirlineName\": \"United Air Lines Inc.\"}, {\"Carrier\": \"VX\", \"average_delay\": 3.067087346396546, \"YearMonth\": \"2017-11\", \"AirlineName\": \"Virgin America\"}, {\"Carrier\": \"WN\", \"average_delay\": -1.744646315595315, \"YearMonth\": \"2017-11\", \"AirlineName\": \"Southwest Airlines Co.\"}, {\"Carrier\": \"AA\", \"average_delay\": 2.7527415570953133, \"YearMonth\": \"2017-12\", \"AirlineName\": \"American Airlines Inc.\"}, {\"Carrier\": \"AS\", \"average_delay\": -2.511169513797635, \"YearMonth\": \"2017-12\", \"AirlineName\": \"Alaska Airlines Inc.\"}, {\"Carrier\": \"DL\", \"average_delay\": -1.1636807240024398, \"YearMonth\": \"2017-12\", \"AirlineName\": \"Delta Air Lines Inc.\"}, {\"Carrier\": \"EV\", \"average_delay\": 8.35418099636435, \"YearMonth\": \"2017-12\", \"AirlineName\": \"ExpressJet Airlines LLC\"}, {\"Carrier\": \"UA\", \"average_delay\": -0.8715118061944189, \"YearMonth\": \"2017-12\", \"AirlineName\": \"United Air Lines Inc.\"}, {\"Carrier\": \"VX\", \"average_delay\": -0.8284846547314578, \"YearMonth\": \"2017-12\", \"AirlineName\": \"Virgin America\"}, {\"Carrier\": \"WN\", \"average_delay\": 3.740989576221039, \"YearMonth\": \"2017-12\", \"AirlineName\": \"Southwest Airlines Co.\"}, {\"Carrier\": \"AA\", \"average_delay\": 0.4291248923820368, \"YearMonth\": \"2018-01\", \"AirlineName\": \"American Airlines Inc.\"}, {\"Carrier\": \"AS\", \"average_delay\": -6.991338270298863, \"YearMonth\": \"2018-01\", \"AirlineName\": \"Alaska Airlines Inc.\"}, {\"Carrier\": \"DL\", \"average_delay\": -1.1657183908045976, \"YearMonth\": \"2018-01\", \"AirlineName\": \"Delta Air Lines Inc.\"}, {\"Carrier\": \"EV\", \"average_delay\": 7.962379656760151, \"YearMonth\": \"2018-01\", \"AirlineName\": \"ExpressJet Airlines LLC\"}, {\"Carrier\": \"MQ\", \"average_delay\": 7.0223807979241, \"YearMonth\": \"2018-01\", \"AirlineName\": \"Envoy Air\"}, {\"Carrier\": \"UA\", \"average_delay\": -2.3793491723904965, \"YearMonth\": \"2018-01\", \"AirlineName\": \"United Air Lines Inc.\"}, {\"Carrier\": \"VX\", \"average_delay\": -2.7536307961504813, \"YearMonth\": \"2018-01\", \"AirlineName\": \"Virgin America\"}, {\"Carrier\": \"WN\", \"average_delay\": 0.28215430328060326, \"YearMonth\": \"2018-01\", \"AirlineName\": \"Southwest Airlines Co.\"}, {\"Carrier\": \"AA\", \"average_delay\": 2.00969403660872, \"YearMonth\": \"2018-02\", \"AirlineName\": \"American Airlines Inc.\"}, {\"Carrier\": \"AS\", \"average_delay\": -4.212753747937738, \"YearMonth\": \"2018-02\", \"AirlineName\": \"Alaska Airlines Inc.\"}, {\"Carrier\": \"DL\", \"average_delay\": -3.456405990016639, \"YearMonth\": \"2018-02\", \"AirlineName\": \"Delta Air Lines Inc.\"}, {\"Carrier\": \"EV\", \"average_delay\": 9.949914334665905, \"YearMonth\": \"2018-02\", \"AirlineName\": \"ExpressJet Airlines LLC\"}, {\"Carrier\": \"MQ\", \"average_delay\": 9.120202751629254, \"YearMonth\": \"2018-02\", \"AirlineName\": \"Envoy Air\"}, {\"Carrier\": \"UA\", \"average_delay\": -1.1950913131703547, \"YearMonth\": \"2018-02\", \"AirlineName\": \"United Air Lines Inc.\"}, {\"Carrier\": \"VX\", \"average_delay\": -0.9058621348100058, \"YearMonth\": \"2018-02\", \"AirlineName\": \"Virgin America\"}, {\"Carrier\": \"WN\", \"average_delay\": 4.10090445685097, \"YearMonth\": \"2018-02\", \"AirlineName\": \"Southwest Airlines Co.\"}, {\"Carrier\": \"AA\", \"average_delay\": -0.21383032194915477, \"YearMonth\": \"2018-03\", \"AirlineName\": \"American Airlines Inc.\"}, {\"Carrier\": \"AS\", \"average_delay\": -4.373280943025541, \"YearMonth\": \"2018-03\", \"AirlineName\": \"Alaska Airlines Inc.\"}, {\"Carrier\": \"DL\", \"average_delay\": -2.043187302535015, \"YearMonth\": \"2018-03\", \"AirlineName\": \"Delta Air Lines Inc.\"}, {\"Carrier\": \"EV\", \"average_delay\": 4.044578674121405, \"YearMonth\": \"2018-03\", \"AirlineName\": \"ExpressJet Airlines LLC\"}, {\"Carrier\": \"MQ\", \"average_delay\": -0.10866052321264795, \"YearMonth\": \"2018-03\", \"AirlineName\": \"Envoy Air\"}, {\"Carrier\": \"UA\", \"average_delay\": -1.3069689924075636, \"YearMonth\": \"2018-03\", \"AirlineName\": \"United Air Lines Inc.\"}, {\"Carrier\": \"VX\", \"average_delay\": 8.082728592162555, \"YearMonth\": \"2018-03\", \"AirlineName\": \"Virgin America\"}, {\"Carrier\": \"WN\", \"average_delay\": 4.447842972236103, \"YearMonth\": \"2018-03\", \"AirlineName\": \"Southwest Airlines Co.\"}, {\"Carrier\": \"AA\", \"average_delay\": 0.5152168313744628, \"YearMonth\": \"2018-04\", \"AirlineName\": \"American Airlines Inc.\"}, {\"Carrier\": \"AS\", \"average_delay\": -0.5385462049988535, \"YearMonth\": \"2018-04\", \"AirlineName\": \"Alaska Airlines Inc.\"}, {\"Carrier\": \"DL\", \"average_delay\": -0.6543819252738305, \"YearMonth\": \"2018-04\", \"AirlineName\": \"Delta Air Lines Inc.\"}, {\"Carrier\": \"EV\", \"average_delay\": 4.038904899135447, \"YearMonth\": \"2018-04\", \"AirlineName\": \"ExpressJet Airlines LLC\"}, {\"Carrier\": \"MQ\", \"average_delay\": 2.3731324169725947, \"YearMonth\": \"2018-04\", \"AirlineName\": \"Envoy Air\"}, {\"Carrier\": \"UA\", \"average_delay\": 1.8484903308808749, \"YearMonth\": \"2018-04\", \"AirlineName\": \"United Air Lines Inc.\"}, {\"Carrier\": \"WN\", \"average_delay\": 6.404037537031452, \"YearMonth\": \"2018-04\", \"AirlineName\": \"Southwest Airlines Co.\"}, {\"Carrier\": \"AA\", \"average_delay\": 5.95007231176141, \"YearMonth\": \"2018-05\", \"AirlineName\": \"American Airlines Inc.\"}, {\"Carrier\": \"AS\", \"average_delay\": 1.7049108319423703, \"YearMonth\": \"2018-05\", \"AirlineName\": \"Alaska Airlines Inc.\"}, {\"Carrier\": \"DL\", \"average_delay\": 1.4856624230382418, \"YearMonth\": \"2018-05\", \"AirlineName\": \"Delta Air Lines Inc.\"}, {\"Carrier\": \"EV\", \"average_delay\": 2.1815856777493607, \"YearMonth\": \"2018-05\", \"AirlineName\": \"ExpressJet Airlines LLC\"}, {\"Carrier\": \"MQ\", \"average_delay\": 5.450324595283097, \"YearMonth\": \"2018-05\", \"AirlineName\": \"Envoy Air\"}, {\"Carrier\": \"UA\", \"average_delay\": 7.035045432807269, \"YearMonth\": \"2018-05\", \"AirlineName\": \"United Air Lines Inc.\"}, {\"Carrier\": \"WN\", \"average_delay\": 7.369663760464066, \"YearMonth\": \"2018-05\", \"AirlineName\": \"Southwest Airlines Co.\"}, {\"Carrier\": \"AA\", \"average_delay\": 9.798884138074877, \"YearMonth\": \"2018-06\", \"AirlineName\": \"American Airlines Inc.\"}, {\"Carrier\": \"AS\", \"average_delay\": -0.0948137199495718, \"YearMonth\": \"2018-06\", \"AirlineName\": \"Alaska Airlines Inc.\"}, {\"Carrier\": \"DL\", \"average_delay\": 5.707931436259024, \"YearMonth\": \"2018-06\", \"AirlineName\": \"Delta Air Lines Inc.\"}, {\"Carrier\": \"EV\", \"average_delay\": 8.92657793044225, \"YearMonth\": \"2018-06\", \"AirlineName\": \"ExpressJet Airlines LLC\"}, {\"Carrier\": \"MQ\", \"average_delay\": 11.048510189169441, \"YearMonth\": \"2018-06\", \"AirlineName\": \"Envoy Air\"}, {\"Carrier\": \"UA\", \"average_delay\": 11.10930944136023, \"YearMonth\": \"2018-06\", \"AirlineName\": \"United Air Lines Inc.\"}, {\"Carrier\": \"WN\", \"average_delay\": 6.620020813110511, \"YearMonth\": \"2018-06\", \"AirlineName\": \"Southwest Airlines Co.\"}, {\"Carrier\": \"AA\", \"average_delay\": 13.01183236214662, \"YearMonth\": \"2018-07\", \"AirlineName\": \"American Airlines Inc.\"}, {\"Carrier\": \"AS\", \"average_delay\": 0.03742005149929396, \"YearMonth\": \"2018-07\", \"AirlineName\": \"Alaska Airlines Inc.\"}, {\"Carrier\": \"DL\", \"average_delay\": 3.226279490990154, \"YearMonth\": \"2018-07\", \"AirlineName\": \"Delta Air Lines Inc.\"}, {\"Carrier\": \"EV\", \"average_delay\": 9.385627846048282, \"YearMonth\": \"2018-07\", \"AirlineName\": \"ExpressJet Airlines LLC\"}, {\"Carrier\": \"MQ\", \"average_delay\": 7.389144434222631, \"YearMonth\": \"2018-07\", \"AirlineName\": \"Envoy Air\"}, {\"Carrier\": \"UA\", \"average_delay\": 12.081804686671616, \"YearMonth\": \"2018-07\", \"AirlineName\": \"United Air Lines Inc.\"}, {\"Carrier\": \"WN\", \"average_delay\": 8.61509690581435, \"YearMonth\": \"2018-07\", \"AirlineName\": \"Southwest Airlines Co.\"}, {\"Carrier\": \"AA\", \"average_delay\": 11.225473999898337, \"YearMonth\": \"2018-08\", \"AirlineName\": \"American Airlines Inc.\"}, {\"Carrier\": \"AS\", \"average_delay\": 6.629404200600086, \"YearMonth\": \"2018-08\", \"AirlineName\": \"Alaska Airlines Inc.\"}, {\"Carrier\": \"DL\", \"average_delay\": 3.036583694907513, \"YearMonth\": \"2018-08\", \"AirlineName\": \"Delta Air Lines Inc.\"}, {\"Carrier\": \"EV\", \"average_delay\": 12.02219422950033, \"YearMonth\": \"2018-08\", \"AirlineName\": \"ExpressJet Airlines LLC\"}, {\"Carrier\": \"MQ\", \"average_delay\": 7.44357821884571, \"YearMonth\": \"2018-08\", \"AirlineName\": \"Envoy Air\"}, {\"Carrier\": \"UA\", \"average_delay\": 16.35380451022094, \"YearMonth\": \"2018-08\", \"AirlineName\": \"United Air Lines Inc.\"}, {\"Carrier\": \"WN\", \"average_delay\": 6.145656952671864, \"YearMonth\": \"2018-08\", \"AirlineName\": \"Southwest Airlines Co.\"}, {\"Carrier\": \"AA\", \"average_delay\": 5.843162881882045, \"YearMonth\": \"2018-09\", \"AirlineName\": \"American Airlines Inc.\"}, {\"Carrier\": \"AS\", \"average_delay\": -2.9839025555290184, \"YearMonth\": \"2018-09\", \"AirlineName\": \"Alaska Airlines Inc.\"}, {\"Carrier\": \"DL\", \"average_delay\": -3.0063857944981947, \"YearMonth\": \"2018-09\", \"AirlineName\": \"Delta Air Lines Inc.\"}, {\"Carrier\": \"EV\", \"average_delay\": 9.905319571258437, \"YearMonth\": \"2018-09\", \"AirlineName\": \"ExpressJet Airlines LLC\"}, {\"Carrier\": \"MQ\", \"average_delay\": 3.151113157013726, \"YearMonth\": \"2018-09\", \"AirlineName\": \"Envoy Air\"}, {\"Carrier\": \"UA\", \"average_delay\": 4.418059755424963, \"YearMonth\": \"2018-09\", \"AirlineName\": \"United Air Lines Inc.\"}, {\"Carrier\": \"WN\", \"average_delay\": 0.6273222596390329, \"YearMonth\": \"2018-09\", \"AirlineName\": \"Southwest Airlines Co.\"}, {\"Carrier\": \"AA\", \"average_delay\": 4.923865557584365, \"YearMonth\": \"2018-11\", \"AirlineName\": \"American Airlines Inc.\"}, {\"Carrier\": \"AS\", \"average_delay\": 0.7843282843282843, \"YearMonth\": \"2018-11\", \"AirlineName\": \"Alaska Airlines Inc.\"}, {\"Carrier\": \"DL\", \"average_delay\": 1.2445564224347758, \"YearMonth\": \"2018-11\", \"AirlineName\": \"Delta Air Lines Inc.\"}, {\"Carrier\": \"EV\", \"average_delay\": 15.747992766726943, \"YearMonth\": \"2018-11\", \"AirlineName\": \"ExpressJet Airlines LLC\"}, {\"Carrier\": \"MQ\", \"average_delay\": 4.246884472886494, \"YearMonth\": \"2018-11\", \"AirlineName\": \"Envoy Air\"}, {\"Carrier\": \"UA\", \"average_delay\": 8.235913082595005, \"YearMonth\": \"2018-11\", \"AirlineName\": \"United Air Lines Inc.\"}, {\"Carrier\": \"WN\", \"average_delay\": 2.6137705154045494, \"YearMonth\": \"2018-11\", \"AirlineName\": \"Southwest Airlines Co.\"}, {\"Carrier\": \"AA\", \"average_delay\": 3.895507773202237, \"YearMonth\": \"2018-12\", \"AirlineName\": \"American Airlines Inc.\"}, {\"Carrier\": \"AS\", \"average_delay\": -2.1073229873908828, \"YearMonth\": \"2018-12\", \"AirlineName\": \"Alaska Airlines Inc.\"}, {\"Carrier\": \"DL\", \"average_delay\": -6.123091105855946, \"YearMonth\": \"2018-12\", \"AirlineName\": \"Delta Air Lines Inc.\"}, {\"Carrier\": \"EV\", \"average_delay\": 14.277987897125568, \"YearMonth\": \"2018-12\", \"AirlineName\": \"ExpressJet Airlines LLC\"}, {\"Carrier\": \"MQ\", \"average_delay\": 4.742594893582909, \"YearMonth\": \"2018-12\", \"AirlineName\": \"Envoy Air\"}, {\"Carrier\": \"UA\", \"average_delay\": 4.710846189808322, \"YearMonth\": \"2018-12\", \"AirlineName\": \"United Air Lines Inc.\"}, {\"Carrier\": \"WN\", \"average_delay\": 4.277660620141185, \"YearMonth\": \"2018-12\", \"AirlineName\": \"Southwest Airlines Co.\"}]}}, {\"mode\": \"vega-lite\"});\n",
       "</script>"
      ],
      "text/plain": [
       "alt.Chart(...)"
      ]
     },
     "execution_count": 27,
     "metadata": {},
     "output_type": "execute_result"
    }
   ],
   "source": [
    "import numpy as np\n",
    "\n",
    "airline_delay_pd = airline_delay2.toPandas()\n",
    "\n",
    "import altair as alt\n",
    "\n",
    "alt.Chart(airline_delay_pd).mark_line().encode(\n",
    "    x='YearMonth',\n",
    "    y='average_delay',\n",
    "    color='AirlineName'\n",
    ")"
   ]
  },
  {
   "cell_type": "markdown",
   "metadata": {
    "slideshow": {
     "slide_type": "subslide"
    }
   },
   "source": [
    "**Exercise 3:** Let's assume you believe that the delays experienced by some airlines are correlated. The cause is a different story as we all know correlation does not equal causation. But correlation is often what we can easily calculate, so let's do it on a month by month basis. The first step is of course to get the data in the correct format. We would like each airline to have it's own column because we can easily compute the correlation between columns. Each row in this new dataframe should be a YearMonth."
   ]
  },
  {
   "cell_type": "code",
   "execution_count": 28,
   "metadata": {
    "slideshow": {
     "slide_type": "subslide"
    }
   },
   "outputs": [],
   "source": [
    "def exercise_3(airline_delay2):\n",
    "    result = None\n",
    "    # partial solution\n",
    "    # airline_delay2.groupBy(?).pivot(?).agg(avg(?))\n",
    "    # Your solution here\n",
    "    return result"
   ]
  },
  {
   "cell_type": "code",
   "execution_count": 29,
   "metadata": {
    "slideshow": {
     "slide_type": "subslide"
    }
   },
   "outputs": [
    {
     "data": {
      "text/html": [
       "<div>\n",
       "<style scoped>\n",
       "    .dataframe tbody tr th:only-of-type {\n",
       "        vertical-align: middle;\n",
       "    }\n",
       "\n",
       "    .dataframe tbody tr th {\n",
       "        vertical-align: top;\n",
       "    }\n",
       "\n",
       "    .dataframe thead th {\n",
       "        text-align: right;\n",
       "    }\n",
       "</style>\n",
       "<table border=\"1\" class=\"dataframe\">\n",
       "  <thead>\n",
       "    <tr style=\"text-align: right;\">\n",
       "      <th></th>\n",
       "      <th>Alaska Airlines Inc.</th>\n",
       "      <th>American Airlines Inc.</th>\n",
       "      <th>Delta Air Lines Inc.</th>\n",
       "      <th>Envoy Air</th>\n",
       "      <th>ExpressJet Airlines LLC</th>\n",
       "      <th>Southwest Airlines Co.</th>\n",
       "      <th>United Air Lines Inc.</th>\n",
       "      <th>Virgin America</th>\n",
       "    </tr>\n",
       "    <tr>\n",
       "      <th>YearMonth</th>\n",
       "      <th></th>\n",
       "      <th></th>\n",
       "      <th></th>\n",
       "      <th></th>\n",
       "      <th></th>\n",
       "      <th></th>\n",
       "      <th></th>\n",
       "      <th></th>\n",
       "    </tr>\n",
       "  </thead>\n",
       "  <tbody>\n",
       "    <tr>\n",
       "      <th>2013-05</th>\n",
       "      <td>-1.956498</td>\n",
       "      <td>8.391558</td>\n",
       "      <td>0.622329</td>\n",
       "      <td>13.622002</td>\n",
       "      <td>9.923755</td>\n",
       "      <td>6.523672</td>\n",
       "      <td>3.067576</td>\n",
       "      <td>6.940016</td>\n",
       "    </tr>\n",
       "    <tr>\n",
       "      <th>2009-07</th>\n",
       "      <td>-0.123909</td>\n",
       "      <td>11.631664</td>\n",
       "      <td>10.045305</td>\n",
       "      <td>6.516201</td>\n",
       "      <td>16.259290</td>\n",
       "      <td>4.412852</td>\n",
       "      <td>3.810207</td>\n",
       "      <td>5.828086</td>\n",
       "    </tr>\n",
       "    <tr>\n",
       "      <th>2013-09</th>\n",
       "      <td>-0.679653</td>\n",
       "      <td>1.241006</td>\n",
       "      <td>-2.208259</td>\n",
       "      <td>2.129175</td>\n",
       "      <td>1.616862</td>\n",
       "      <td>7.767035</td>\n",
       "      <td>-0.186396</td>\n",
       "      <td>2.414229</td>\n",
       "    </tr>\n",
       "    <tr>\n",
       "      <th>2010-08</th>\n",
       "      <td>-2.173459</td>\n",
       "      <td>4.173351</td>\n",
       "      <td>6.004868</td>\n",
       "      <td>5.484603</td>\n",
       "      <td>4.003977</td>\n",
       "      <td>3.635669</td>\n",
       "      <td>-3.599980</td>\n",
       "      <td>5.828086</td>\n",
       "    </tr>\n",
       "    <tr>\n",
       "      <th>2007-05</th>\n",
       "      <td>6.805009</td>\n",
       "      <td>12.350215</td>\n",
       "      <td>1.966700</td>\n",
       "      <td>10.732516</td>\n",
       "      <td>5.618201</td>\n",
       "      <td>3.715613</td>\n",
       "      <td>8.502022</td>\n",
       "      <td>5.828086</td>\n",
       "    </tr>\n",
       "    <tr>\n",
       "      <th>...</th>\n",
       "      <td>...</td>\n",
       "      <td>...</td>\n",
       "      <td>...</td>\n",
       "      <td>...</td>\n",
       "      <td>...</td>\n",
       "      <td>...</td>\n",
       "      <td>...</td>\n",
       "      <td>...</td>\n",
       "    </tr>\n",
       "    <tr>\n",
       "      <th>2009-02</th>\n",
       "      <td>6.387049</td>\n",
       "      <td>1.757281</td>\n",
       "      <td>0.743976</td>\n",
       "      <td>3.207515</td>\n",
       "      <td>5.054657</td>\n",
       "      <td>-2.871507</td>\n",
       "      <td>0.485592</td>\n",
       "      <td>5.828086</td>\n",
       "    </tr>\n",
       "    <tr>\n",
       "      <th>2015-03</th>\n",
       "      <td>-0.544731</td>\n",
       "      <td>6.693587</td>\n",
       "      <td>2.077965</td>\n",
       "      <td>11.018418</td>\n",
       "      <td>6.730101</td>\n",
       "      <td>3.263341</td>\n",
       "      <td>4.892212</td>\n",
       "      <td>5.348207</td>\n",
       "    </tr>\n",
       "    <tr>\n",
       "      <th>2007-04</th>\n",
       "      <td>3.604306</td>\n",
       "      <td>13.073769</td>\n",
       "      <td>3.972544</td>\n",
       "      <td>10.661143</td>\n",
       "      <td>11.056802</td>\n",
       "      <td>3.389504</td>\n",
       "      <td>11.012593</td>\n",
       "      <td>5.828086</td>\n",
       "    </tr>\n",
       "    <tr>\n",
       "      <th>2008-10</th>\n",
       "      <td>-0.550563</td>\n",
       "      <td>2.583696</td>\n",
       "      <td>4.000235</td>\n",
       "      <td>-0.325553</td>\n",
       "      <td>5.579392</td>\n",
       "      <td>-2.070136</td>\n",
       "      <td>-1.533994</td>\n",
       "      <td>5.828086</td>\n",
       "    </tr>\n",
       "    <tr>\n",
       "      <th>2006-06</th>\n",
       "      <td>9.680194</td>\n",
       "      <td>10.283220</td>\n",
       "      <td>10.655487</td>\n",
       "      <td>13.414399</td>\n",
       "      <td>18.127498</td>\n",
       "      <td>9.495265</td>\n",
       "      <td>14.183824</td>\n",
       "      <td>5.828086</td>\n",
       "    </tr>\n",
       "  </tbody>\n",
       "</table>\n",
       "<p>188 rows × 8 columns</p>\n",
       "</div>"
      ],
      "text/plain": [
       "           Alaska Airlines Inc.  American Airlines Inc.  Delta Air Lines Inc.  \\\n",
       "YearMonth                                                                       \n",
       "2013-05               -1.956498                8.391558              0.622329   \n",
       "2009-07               -0.123909               11.631664             10.045305   \n",
       "2013-09               -0.679653                1.241006             -2.208259   \n",
       "2010-08               -2.173459                4.173351              6.004868   \n",
       "2007-05                6.805009               12.350215              1.966700   \n",
       "...                         ...                     ...                   ...   \n",
       "2009-02                6.387049                1.757281              0.743976   \n",
       "2015-03               -0.544731                6.693587              2.077965   \n",
       "2007-04                3.604306               13.073769              3.972544   \n",
       "2008-10               -0.550563                2.583696              4.000235   \n",
       "2006-06                9.680194               10.283220             10.655487   \n",
       "\n",
       "           Envoy Air  ExpressJet Airlines LLC  Southwest Airlines Co.  \\\n",
       "YearMonth                                                               \n",
       "2013-05    13.622002                 9.923755                6.523672   \n",
       "2009-07     6.516201                16.259290                4.412852   \n",
       "2013-09     2.129175                 1.616862                7.767035   \n",
       "2010-08     5.484603                 4.003977                3.635669   \n",
       "2007-05    10.732516                 5.618201                3.715613   \n",
       "...              ...                      ...                     ...   \n",
       "2009-02     3.207515                 5.054657               -2.871507   \n",
       "2015-03    11.018418                 6.730101                3.263341   \n",
       "2007-04    10.661143                11.056802                3.389504   \n",
       "2008-10    -0.325553                 5.579392               -2.070136   \n",
       "2006-06    13.414399                18.127498                9.495265   \n",
       "\n",
       "           United Air Lines Inc.  Virgin America  \n",
       "YearMonth                                         \n",
       "2013-05                 3.067576        6.940016  \n",
       "2009-07                 3.810207        5.828086  \n",
       "2013-09                -0.186396        2.414229  \n",
       "2010-08                -3.599980        5.828086  \n",
       "2007-05                 8.502022        5.828086  \n",
       "...                          ...             ...  \n",
       "2009-02                 0.485592        5.828086  \n",
       "2015-03                 4.892212        5.348207  \n",
       "2007-04                11.012593        5.828086  \n",
       "2008-10                -1.533994        5.828086  \n",
       "2006-06                14.183824        5.828086  \n",
       "\n",
       "[188 rows x 8 columns]"
      ]
     },
     "execution_count": 29,
     "metadata": {},
     "output_type": "execute_result"
    }
   ],
   "source": [
    "data_for_corr = exercise_3(airline_delay2)\n",
    "\n",
    "# The data is now small enough to handle, so let's get it into pandas and calculate the correlation and filling\n",
    "# in missing values with the mean of the column\n",
    "\n",
    "df = data_for_corr.toPandas().set_index('YearMonth')\n",
    "import numpy as np\n",
    "import pandas as pd\n",
    "from sklearn.impute import SimpleImputer\n",
    "imp_mean = SimpleImputer(missing_values=np.nan, strategy='mean')\n",
    "imp_mean.fit(df)\n",
    "\n",
    "df_imputed_nan = pd.DataFrame(imp_mean.transform(df),columns=df.columns,index=df.index)\n",
    "df_imputed_nan"
   ]
  },
  {
   "cell_type": "markdown",
   "metadata": {
    "slideshow": {
     "slide_type": "subslide"
    }
   },
   "source": [
    "Now let's take a look at the correlations"
   ]
  },
  {
   "cell_type": "code",
   "execution_count": 30,
   "metadata": {
    "slideshow": {
     "slide_type": "fragment"
    }
   },
   "outputs": [
    {
     "data": {
      "text/html": [
       "<div>\n",
       "<style scoped>\n",
       "    .dataframe tbody tr th:only-of-type {\n",
       "        vertical-align: middle;\n",
       "    }\n",
       "\n",
       "    .dataframe tbody tr th {\n",
       "        vertical-align: top;\n",
       "    }\n",
       "\n",
       "    .dataframe thead th {\n",
       "        text-align: right;\n",
       "    }\n",
       "</style>\n",
       "<table border=\"1\" class=\"dataframe\">\n",
       "  <thead>\n",
       "    <tr style=\"text-align: right;\">\n",
       "      <th></th>\n",
       "      <th>Alaska Airlines Inc.</th>\n",
       "      <th>American Airlines Inc.</th>\n",
       "      <th>Delta Air Lines Inc.</th>\n",
       "      <th>Envoy Air</th>\n",
       "      <th>ExpressJet Airlines LLC</th>\n",
       "      <th>Southwest Airlines Co.</th>\n",
       "      <th>United Air Lines Inc.</th>\n",
       "      <th>Virgin America</th>\n",
       "    </tr>\n",
       "  </thead>\n",
       "  <tbody>\n",
       "    <tr>\n",
       "      <th>Alaska Airlines Inc.</th>\n",
       "      <td>1.000000</td>\n",
       "      <td>0.464925</td>\n",
       "      <td>0.557909</td>\n",
       "      <td>0.348146</td>\n",
       "      <td>0.391331</td>\n",
       "      <td>0.235272</td>\n",
       "      <td>0.529354</td>\n",
       "      <td>0.157809</td>\n",
       "    </tr>\n",
       "    <tr>\n",
       "      <th>American Airlines Inc.</th>\n",
       "      <td>0.464925</td>\n",
       "      <td>1.000000</td>\n",
       "      <td>0.617717</td>\n",
       "      <td>0.686899</td>\n",
       "      <td>0.556708</td>\n",
       "      <td>0.566585</td>\n",
       "      <td>0.789016</td>\n",
       "      <td>0.136637</td>\n",
       "    </tr>\n",
       "    <tr>\n",
       "      <th>Delta Air Lines Inc.</th>\n",
       "      <td>0.557909</td>\n",
       "      <td>0.617717</td>\n",
       "      <td>1.000000</td>\n",
       "      <td>0.516147</td>\n",
       "      <td>0.640598</td>\n",
       "      <td>0.495264</td>\n",
       "      <td>0.531381</td>\n",
       "      <td>0.203032</td>\n",
       "    </tr>\n",
       "    <tr>\n",
       "      <th>Envoy Air</th>\n",
       "      <td>0.348146</td>\n",
       "      <td>0.686899</td>\n",
       "      <td>0.516147</td>\n",
       "      <td>1.000000</td>\n",
       "      <td>0.517757</td>\n",
       "      <td>0.609208</td>\n",
       "      <td>0.621563</td>\n",
       "      <td>0.173870</td>\n",
       "    </tr>\n",
       "    <tr>\n",
       "      <th>ExpressJet Airlines LLC</th>\n",
       "      <td>0.391331</td>\n",
       "      <td>0.556708</td>\n",
       "      <td>0.640598</td>\n",
       "      <td>0.517757</td>\n",
       "      <td>1.000000</td>\n",
       "      <td>0.490620</td>\n",
       "      <td>0.571136</td>\n",
       "      <td>0.132579</td>\n",
       "    </tr>\n",
       "    <tr>\n",
       "      <th>Southwest Airlines Co.</th>\n",
       "      <td>0.235272</td>\n",
       "      <td>0.566585</td>\n",
       "      <td>0.495264</td>\n",
       "      <td>0.609208</td>\n",
       "      <td>0.490620</td>\n",
       "      <td>1.000000</td>\n",
       "      <td>0.541756</td>\n",
       "      <td>0.220976</td>\n",
       "    </tr>\n",
       "    <tr>\n",
       "      <th>United Air Lines Inc.</th>\n",
       "      <td>0.529354</td>\n",
       "      <td>0.789016</td>\n",
       "      <td>0.531381</td>\n",
       "      <td>0.621563</td>\n",
       "      <td>0.571136</td>\n",
       "      <td>0.541756</td>\n",
       "      <td>1.000000</td>\n",
       "      <td>0.194124</td>\n",
       "    </tr>\n",
       "    <tr>\n",
       "      <th>Virgin America</th>\n",
       "      <td>0.157809</td>\n",
       "      <td>0.136637</td>\n",
       "      <td>0.203032</td>\n",
       "      <td>0.173870</td>\n",
       "      <td>0.132579</td>\n",
       "      <td>0.220976</td>\n",
       "      <td>0.194124</td>\n",
       "      <td>1.000000</td>\n",
       "    </tr>\n",
       "  </tbody>\n",
       "</table>\n",
       "</div>"
      ],
      "text/plain": [
       "                         Alaska Airlines Inc.  American Airlines Inc.  \\\n",
       "Alaska Airlines Inc.                 1.000000                0.464925   \n",
       "American Airlines Inc.               0.464925                1.000000   \n",
       "Delta Air Lines Inc.                 0.557909                0.617717   \n",
       "Envoy Air                            0.348146                0.686899   \n",
       "ExpressJet Airlines LLC              0.391331                0.556708   \n",
       "Southwest Airlines Co.               0.235272                0.566585   \n",
       "United Air Lines Inc.                0.529354                0.789016   \n",
       "Virgin America                       0.157809                0.136637   \n",
       "\n",
       "                         Delta Air Lines Inc.  Envoy Air  \\\n",
       "Alaska Airlines Inc.                 0.557909   0.348146   \n",
       "American Airlines Inc.               0.617717   0.686899   \n",
       "Delta Air Lines Inc.                 1.000000   0.516147   \n",
       "Envoy Air                            0.516147   1.000000   \n",
       "ExpressJet Airlines LLC              0.640598   0.517757   \n",
       "Southwest Airlines Co.               0.495264   0.609208   \n",
       "United Air Lines Inc.                0.531381   0.621563   \n",
       "Virgin America                       0.203032   0.173870   \n",
       "\n",
       "                         ExpressJet Airlines LLC  Southwest Airlines Co.  \\\n",
       "Alaska Airlines Inc.                    0.391331                0.235272   \n",
       "American Airlines Inc.                  0.556708                0.566585   \n",
       "Delta Air Lines Inc.                    0.640598                0.495264   \n",
       "Envoy Air                               0.517757                0.609208   \n",
       "ExpressJet Airlines LLC                 1.000000                0.490620   \n",
       "Southwest Airlines Co.                  0.490620                1.000000   \n",
       "United Air Lines Inc.                   0.571136                0.541756   \n",
       "Virgin America                          0.132579                0.220976   \n",
       "\n",
       "                         United Air Lines Inc.  Virgin America  \n",
       "Alaska Airlines Inc.                  0.529354        0.157809  \n",
       "American Airlines Inc.                0.789016        0.136637  \n",
       "Delta Air Lines Inc.                  0.531381        0.203032  \n",
       "Envoy Air                             0.621563        0.173870  \n",
       "ExpressJet Airlines LLC               0.571136        0.132579  \n",
       "Southwest Airlines Co.                0.541756        0.220976  \n",
       "United Air Lines Inc.                 1.000000        0.194124  \n",
       "Virgin America                        0.194124        1.000000  "
      ]
     },
     "execution_count": 30,
     "metadata": {},
     "output_type": "execute_result"
    }
   ],
   "source": [
    "df_imputed_nan.corr()"
   ]
  },
  {
   "cell_type": "markdown",
   "metadata": {
    "slideshow": {
     "slide_type": "subslide"
    }
   },
   "source": [
    "**Stop and think:** What stands out to you? Let me clean it up and sort it for you."
   ]
  },
  {
   "cell_type": "code",
   "execution_count": 31,
   "metadata": {
    "slideshow": {
     "slide_type": "fragment"
    }
   },
   "outputs": [
    {
     "data": {
      "text/plain": [
       "American Airlines Inc.   United Air Lines Inc.      0.789016\n",
       "                         Envoy Air                  0.686899\n",
       "Delta Air Lines Inc.     ExpressJet Airlines LLC    0.640598\n",
       "Envoy Air                United Air Lines Inc.      0.621563\n",
       "American Airlines Inc.   Delta Air Lines Inc.       0.617717\n",
       "Envoy Air                Southwest Airlines Co.     0.609208\n",
       "ExpressJet Airlines LLC  United Air Lines Inc.      0.571136\n",
       "American Airlines Inc.   Southwest Airlines Co.     0.566585\n",
       "Alaska Airlines Inc.     Delta Air Lines Inc.       0.557909\n",
       "American Airlines Inc.   ExpressJet Airlines LLC    0.556708\n",
       "Southwest Airlines Co.   United Air Lines Inc.      0.541756\n",
       "Delta Air Lines Inc.     United Air Lines Inc.      0.531381\n",
       "Alaska Airlines Inc.     United Air Lines Inc.      0.529354\n",
       "Envoy Air                ExpressJet Airlines LLC    0.517757\n",
       "Delta Air Lines Inc.     Envoy Air                  0.516147\n",
       "                         Southwest Airlines Co.     0.495264\n",
       "ExpressJet Airlines LLC  Southwest Airlines Co.     0.490620\n",
       "Alaska Airlines Inc.     American Airlines Inc.     0.464925\n",
       "                         ExpressJet Airlines LLC    0.391331\n",
       "                         Envoy Air                  0.348146\n",
       "                         Southwest Airlines Co.     0.235272\n",
       "Southwest Airlines Co.   Virgin America             0.220976\n",
       "Delta Air Lines Inc.     Virgin America             0.203032\n",
       "United Air Lines Inc.    Virgin America             0.194124\n",
       "Envoy Air                Virgin America             0.173870\n",
       "Alaska Airlines Inc.     Virgin America             0.157809\n",
       "American Airlines Inc.   Virgin America             0.136637\n",
       "ExpressJet Airlines LLC  Virgin America             0.132579\n",
       "dtype: float64"
      ]
     },
     "execution_count": 31,
     "metadata": {},
     "output_type": "execute_result"
    }
   ],
   "source": [
    "corrs = df_imputed_nan.corr()\n",
    "corrs.values[np.tril_indices(len(corrs))] = np.NaN \n",
    "corrs.stack().sort_values(ascending=False)"
   ]
  },
  {
   "cell_type": "code",
   "execution_count": 11,
   "metadata": {},
   "outputs": [],
   "source": [
    "# Don't forget to push with ./submit.sh"
   ]
  },
  {
   "cell_type": "code",
   "execution_count": null,
   "metadata": {},
   "outputs": [],
   "source": []
  }
 ],
 "metadata": {
  "celltoolbar": "Slideshow",
  "jupytext": {
   "encoding": "# -*- coding: utf-8 -*-",
   "formats": "ipynb,md,py"
  },
  "kernelspec": {
   "display_name": "Python 3",
   "language": "python",
   "name": "python3"
  },
  "language_info": {
   "codemirror_mode": {
    "name": "ipython",
    "version": 3
   },
   "file_extension": ".py",
   "mimetype": "text/x-python",
   "name": "python",
   "nbconvert_exporter": "python",
   "pygments_lexer": "ipython3",
   "version": "3.7.3"
  }
 },
 "nbformat": 4,
 "nbformat_minor": 4
}
