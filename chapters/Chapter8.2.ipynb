{
 "cells": [
  {
   "cell_type": "markdown",
   "metadata": {
    "hideCode": false,
    "hidePrompt": false,
    "slideshow": {
     "slide_type": "slide"
    }
   },
   "source": [
    "# Chapter 8.2 - MongoDB \n",
    "\n",
    "Paul E. Anderson"
   ]
  },
  {
   "cell_type": "markdown",
   "metadata": {
    "slideshow": {
     "slide_type": "subslide"
    }
   },
   "source": [
    "## Ice Breaker\n",
    "\n",
    "Best burget in town?"
   ]
  },
  {
   "cell_type": "markdown",
   "metadata": {
    "slideshow": {
     "slide_type": "slide"
    }
   },
   "source": [
    "## Reference Guide of Commands\n",
    "\n",
    "https://docs.mongodb.com/manual/reference/command/\n",
    "\n",
    "I don't think it is particularly useful to lecture about commands that you would ultimately look up regardless. Instead, the above link is very useful to a quick lookup of different commands and the arguments they take. We will learn about MongoDB by using it to solve a few problems."
   ]
  },
  {
   "cell_type": "code",
   "execution_count": 1,
   "metadata": {
    "slideshow": {
     "slide_type": "skip"
    }
   },
   "outputs": [],
   "source": [
    "%load_ext autoreload\n",
    "%autoreload 2\n",
    "\n",
    "\n",
    "import pandas as pd\n",
    "import numpy as np"
   ]
  },
  {
   "cell_type": "code",
   "execution_count": 2,
   "metadata": {
    "slideshow": {
     "slide_type": "skip"
    }
   },
   "outputs": [
    {
     "data": {
      "text/plain": [
       "['_BaseObject__codec_options',\n",
       " '_BaseObject__read_concern',\n",
       " '_BaseObject__read_preference',\n",
       " '_BaseObject__write_concern',\n",
       " '_Collection__create',\n",
       " '_Collection__create_indexes',\n",
       " '_Collection__database',\n",
       " '_Collection__find_and_modify',\n",
       " '_Collection__full_name',\n",
       " '_Collection__name',\n",
       " '_Collection__write_response_codec_options',\n",
       " '__annotations__',\n",
       " '__bool__',\n",
       " '__call__',\n",
       " '__class__',\n",
       " '__class_getitem__',\n",
       " '__delattr__',\n",
       " '__dict__',\n",
       " '__dir__',\n",
       " '__doc__',\n",
       " '__eq__',\n",
       " '__format__',\n",
       " '__ge__',\n",
       " '__getattr__',\n",
       " '__getattribute__',\n",
       " '__getitem__',\n",
       " '__gt__',\n",
       " '__hash__',\n",
       " '__init__',\n",
       " '__init_subclass__',\n",
       " '__iter__',\n",
       " '__le__',\n",
       " '__lt__',\n",
       " '__module__',\n",
       " '__ne__',\n",
       " '__new__',\n",
       " '__next__',\n",
       " '__orig_bases__',\n",
       " '__parameters__',\n",
       " '__reduce__',\n",
       " '__reduce_ex__',\n",
       " '__repr__',\n",
       " '__setattr__',\n",
       " '__sizeof__',\n",
       " '__slots__',\n",
       " '__str__',\n",
       " '__subclasshook__',\n",
       " '__weakref__',\n",
       " '_aggregate',\n",
       " '_aggregate_one_result',\n",
       " '_command',\n",
       " '_conn_for_reads',\n",
       " '_conn_for_writes',\n",
       " '_count_cmd',\n",
       " '_delete',\n",
       " '_delete_retryable',\n",
       " '_insert_one',\n",
       " '_is_protocol',\n",
       " '_read_preference_for',\n",
       " '_retryable_non_cursor_read',\n",
       " '_timeout',\n",
       " '_update',\n",
       " '_update_retryable',\n",
       " '_write_concern_for',\n",
       " '_write_concern_for_cmd',\n",
       " 'aggregate',\n",
       " 'aggregate_raw_batches',\n",
       " 'bulk_write',\n",
       " 'codec_options',\n",
       " 'count_documents',\n",
       " 'create_index',\n",
       " 'create_indexes',\n",
       " 'create_search_index',\n",
       " 'create_search_indexes',\n",
       " 'database',\n",
       " 'delete_many',\n",
       " 'delete_one',\n",
       " 'distinct',\n",
       " 'drop',\n",
       " 'drop_index',\n",
       " 'drop_indexes',\n",
       " 'drop_search_index',\n",
       " 'estimated_document_count',\n",
       " 'find',\n",
       " 'find_one',\n",
       " 'find_one_and_delete',\n",
       " 'find_one_and_replace',\n",
       " 'find_one_and_update',\n",
       " 'find_raw_batches',\n",
       " 'full_name',\n",
       " 'index_information',\n",
       " 'insert_many',\n",
       " 'insert_one',\n",
       " 'list_indexes',\n",
       " 'list_search_indexes',\n",
       " 'name',\n",
       " 'next',\n",
       " 'options',\n",
       " 'read_concern',\n",
       " 'read_preference',\n",
       " 'rename',\n",
       " 'replace_one',\n",
       " 'update_many',\n",
       " 'update_one',\n",
       " 'update_search_index',\n",
       " 'watch',\n",
       " 'with_options',\n",
       " 'write_concern']"
      ]
     },
     "execution_count": 2,
     "metadata": {},
     "output_type": "execute_result"
    }
   ],
   "source": [
    "from pymongo import MongoClient\n",
    "client = MongoClient()\n",
    "\n",
    "db = client[\"csc-369\"]\n",
    "\n",
    "col = db[\"daily\"]\n",
    "\n",
    "dir(col)"
   ]
  },
  {
   "cell_type": "markdown",
   "metadata": {},
   "source": [
    "**Exercise 1:** Use find_one to find a record with an object ID equal to 60392e3656264fee961ca817. As always, put your solution in Lab6_helper."
   ]
  },
  {
   "cell_type": "code",
   "execution_count": 3,
   "metadata": {},
   "outputs": [],
   "source": [
    "from bson.objectid import ObjectId\n",
    "\n",
    "def exercise_1(col,record_id):\n",
    "    result = None\n",
    "    # Your solution here\n",
    "    return result\n",
    "\n",
    "record = exercise_1(col,'60392e3656264fee961ca817')\n",
    "record"
   ]
  },
  {
   "cell_type": "markdown",
   "metadata": {},
   "source": [
    "**Exercise 2:** Use count_documents to count the number of records/documents that have ``state`` equal to 'CA'. "
   ]
  },
  {
   "cell_type": "code",
   "execution_count": 4,
   "metadata": {},
   "outputs": [
    {
     "data": {
      "text/plain": [
       "33"
      ]
     },
     "execution_count": 4,
     "metadata": {},
     "output_type": "execute_result"
    }
   ],
   "source": [
    "def exercise_2(col,state):\n",
    "    result = None\n",
    "    # Your solution here\n",
    "    return result\n",
    "\n",
    "record = exercise_2(col,'CA')\n",
    "record"
   ]
  },
  {
   "cell_type": "markdown",
   "metadata": {},
   "source": [
    "**Exercise 3:** Write a function that returns all of the documents that have a date less than ``d``. Sort the documents by the date, and convert the result to a list."
   ]
  },
  {
   "cell_type": "code",
   "execution_count": 5,
   "metadata": {
    "tags": []
   },
   "outputs": [
    {
     "data": {
      "text/plain": [
       "[{'_id': ObjectId('6564e8aa126be519b487e8f7'),\n",
       "  'date': 20200304,\n",
       "  'state': 'GA',\n",
       "  'positive': 2,\n",
       "  'hash': '5a4b97663e22df521e97a56f67c3f458eafb2e59',\n",
       "  'dateChecked': '2020-03-04T21:00:00Z',\n",
       "  'total': 2,\n",
       "  'totalTestResults': 2,\n",
       "  'posNeg': 2,\n",
       "  'fips': '13',\n",
       "  'deathIncrease': None,\n",
       "  'hospitalizedIncrease': None,\n",
       "  'negativeIncrease': None,\n",
       "  'positiveIncrease': None,\n",
       "  'totalTestResultsIncrease': None},\n",
       " {'_id': ObjectId('6564e8aa126be519b487e8f9'),\n",
       "  'date': 20200304,\n",
       "  'state': 'AZ',\n",
       "  'positive': 2,\n",
       "  'negative': 27,\n",
       "  'pending': 5,\n",
       "  'hash': 'f9b5336be00388e0549a6e35cfbe7ec911597df2',\n",
       "  'dateChecked': '2020-03-04T21:00:00Z',\n",
       "  'total': 34,\n",
       "  'totalTestResults': 29,\n",
       "  'posNeg': 29,\n",
       "  'fips': '04',\n",
       "  'deathIncrease': None,\n",
       "  'hospitalizedIncrease': None,\n",
       "  'negativeIncrease': None,\n",
       "  'positiveIncrease': None,\n",
       "  'totalTestResultsIncrease': None},\n",
       " {'_id': ObjectId('6564e8aa126be519b487e8fb'),\n",
       "  'date': 20200304,\n",
       "  'state': 'NC',\n",
       "  'positive': 1,\n",
       "  'hash': '0361de92db7c1867144ce35f0d61e1588f3a13d5',\n",
       "  'dateChecked': '2020-03-04T21:00:00Z',\n",
       "  'total': 1,\n",
       "  'totalTestResults': 1,\n",
       "  'posNeg': 1,\n",
       "  'fips': '37',\n",
       "  'deathIncrease': None,\n",
       "  'hospitalizedIncrease': None,\n",
       "  'negativeIncrease': None,\n",
       "  'positiveIncrease': None,\n",
       "  'totalTestResultsIncrease': None}]"
      ]
     },
     "execution_count": 5,
     "metadata": {},
     "output_type": "execute_result"
    }
   ],
   "source": [
    "def exercise_3(col,d):\n",
    "    result = None\n",
    "    # partial solution\n",
    "    # airline_delay2.groupBy(?).pivot(?).agg(avg(?))\n",
    "    # Your solution here\n",
    "    return result\n",
    "\n",
    "d = 20200315 # YYYY-MM-DD\n",
    "record = exercise_3(col,d)\n",
    "record[:3]"
   ]
  },
  {
   "cell_type": "markdown",
   "metadata": {},
   "source": [
    "**Exercise 4:** Write a function that returns the total number of positive cases and the number of new cases\n",
    "in New York state on April 1."
   ]
  },
  {
   "cell_type": "code",
   "execution_count": 6,
   "metadata": {},
   "outputs": [
    {
     "data": {
      "text/plain": [
       "83712"
      ]
     },
     "execution_count": 6,
     "metadata": {},
     "output_type": "execute_result"
    }
   ],
   "source": [
    "from bson.code import Code\n",
    "\n",
    "def exercise_4(col):\n",
    "    result = None\n",
    "    # Your solution here\n",
    "    return result\n",
    "\n",
    "record = exercise_4(col)\n",
    "record"
   ]
  },
  {
   "cell_type": "markdown",
   "metadata": {},
   "source": [
    "**Exercise 5:** Write a function that returns how many deaths were in the state of New Jersey on the earliest day when the total cumulative number of deaths exceeded 500 (i.e., ``death`` column).\n",
    "\n",
    "> .sort(), in pymongo, takes key and direction as parameters.\n",
    "> So if you want to sort by, let's say, id then you should .sort(\"_id\", 1)"
   ]
  },
  {
   "cell_type": "code",
   "execution_count": 7,
   "metadata": {},
   "outputs": [
    {
     "data": {
      "text/plain": [
       "537"
      ]
     },
     "execution_count": 7,
     "metadata": {},
     "output_type": "execute_result"
    }
   ],
   "source": [
    "def exercise_5(col):\n",
    "    result = None\n",
    "    # Your solution here\n",
    "    return result\n",
    "\n",
    "record = exercise_5(col)\n",
    "record"
   ]
  },
  {
   "cell_type": "markdown",
   "metadata": {},
   "source": [
    "**Exercise 6:** Write a function using ``aggregate``. The function reports the count and the cumulative increase in positive cases (when there were positive cases) within the date range (inclusive). Do not include missing days or values (i.e., positive cases > 0). I used \\$match, \\$group, and \\$and within aggregate. The columns I used are date, state, and positiveIncrease.\n",
    "\n",
    "<a href=\"https://docs.mongodb.com/manual/aggregation/#std-label-aggregation-framework\">Documentation</a>"
   ]
  },
  {
   "cell_type": "code",
   "execution_count": 8,
   "metadata": {},
   "outputs": [
    {
     "name": "stdout",
     "output_type": "stream",
     "text": [
      "[{'_id': {'state': 'ID'}, 'count': 2, 'sum': 254},\n",
      " {'_id': {'state': 'WV'}, 'count': 2, 'sum': 55},\n",
      " {'_id': {'state': 'UT'}, 'count': 2, 'sum': 187},\n",
      " {'_id': {'state': 'WA'}, 'count': 2, 'sum': 1088},\n",
      " {'_id': {'state': 'MD'}, 'count': 2, 'sum': 671},\n",
      " {'_id': {'state': 'NH'}, 'count': 1, 'sum': 101},\n",
      " {'_id': {'state': 'GU'}, 'count': 2, 'sum': 13},\n",
      " {'_id': {'state': 'IL'}, 'count': 2, 'sum': 1701},\n",
      " {'_id': {'state': 'WY'}, 'count': 2, 'sum': 41},\n",
      " {'_id': {'state': 'PA'}, 'count': 2, 'sum': 2173},\n",
      " {'_id': {'state': 'LA'}, 'count': 2, 'sum': 3913},\n",
      " {'_id': {'state': 'AL'}, 'count': 2, 'sum': 252},\n",
      " {'_id': {'state': 'OR'}, 'count': 2, 'sum': 136},\n",
      " {'_id': {'state': 'MP'}, 'count': 2, 'sum': 6},\n",
      " {'_id': {'state': 'DE'}, 'count': 2, 'sum': 74},\n",
      " {'_id': {'state': 'DC'}, 'count': 2, 'sum': 158},\n",
      " {'_id': {'state': 'RI'}, 'count': 2, 'sum': 169},\n",
      " {'_id': {'state': 'VA'}, 'count': 2, 'sum': 456},\n",
      " {'_id': {'state': 'AZ'}, 'count': 2, 'sum': 309},\n",
      " {'_id': {'state': 'WI'}, 'count': 2, 'sum': 379},\n",
      " {'_id': {'state': 'ME'}, 'count': 2, 'sum': 73},\n",
      " {'_id': {'state': 'KS'}, 'count': 2, 'sum': 124},\n",
      " {'_id': {'state': 'NJ'}, 'count': 2, 'sum': 6894},\n",
      " {'_id': {'state': 'IN'}, 'count': 2, 'sum': 880},\n",
      " {'_id': {'state': 'NV'}, 'count': 2, 'sum': 345},\n",
      " {'_id': {'state': 'PR'}, 'count': 2, 'sum': 77},\n",
      " {'_id': {'state': 'CO'}, 'count': 2, 'sum': 715},\n",
      " {'_id': {'state': 'AR'}, 'count': 2, 'sum': 120},\n",
      " {'_id': {'state': 'MS'}, 'count': 2, 'sum': 240},\n",
      " {'_id': {'state': 'GA'}, 'count': 2, 'sum': 1419},\n",
      " {'_id': {'state': 'MT'}, 'count': 2, 'sum': 43},\n",
      " {'_id': {'state': 'KY'}, 'count': 2, 'sum': 200},\n",
      " {'_id': {'state': 'CT'}, 'count': 2, 'sum': 696},\n",
      " {'_id': {'state': 'HI'}, 'count': 2, 'sum': 54},\n",
      " {'_id': {'state': 'MI'}, 'count': 2, 'sum': 3176},\n",
      " {'_id': {'state': 'NE'}, 'count': 2, 'sum': 74},\n",
      " {'_id': {'state': 'NC'}, 'count': 2, 'sum': 359},\n",
      " {'_id': {'state': 'CA'}, 'count': 2, 'sum': 1709},\n",
      " {'_id': {'state': 'ND'}, 'count': 2, 'sum': 33},\n",
      " {'_id': {'state': 'AK'}, 'count': 2, 'sum': 24},\n",
      " {'_id': {'state': 'MN'}, 'count': 2, 'sum': 113},\n",
      " {'_id': {'state': 'NM'}, 'count': 2, 'sum': 82},\n",
      " {'_id': {'state': 'NY'}, 'count': 2, 'sum': 16586},\n",
      " {'_id': {'state': 'OH'}, 'count': 2, 'sum': 703},\n",
      " {'_id': {'state': 'OK'}, 'count': 2, 'sum': 314},\n",
      " {'_id': {'state': 'FL'}, 'count': 2, 'sum': 1672},\n",
      " {'_id': {'state': 'MA'}, 'count': 2, 'sum': 2346},\n",
      " {'_id': {'state': 'IA'}, 'count': 2, 'sum': 117},\n",
      " {'_id': {'state': 'MO'}, 'count': 2, 'sum': 507},\n",
      " {'_id': {'state': 'SC'}, 'count': 2, 'sum': 471},\n",
      " {'_id': {'state': 'TN'}, 'count': 2, 'sum': 606},\n",
      " {'_id': {'state': 'SD'}, 'count': 2, 'sum': 57},\n",
      " {'_id': {'state': 'TX'}, 'count': 2, 'sum': 1403},\n",
      " {'_id': {'state': 'VI'}, 'count': 1, 'sum': 3},\n",
      " {'_id': {'state': 'VT'}, 'count': 2, 'sum': 45}]\n"
     ]
    },
    {
     "data": {
      "text/plain": [
       "{'ID': 127.0,\n",
       " 'WV': 27.5,\n",
       " 'UT': 93.5,\n",
       " 'WA': 544.0,\n",
       " 'MD': 335.5,\n",
       " 'NH': 101.0,\n",
       " 'GU': 6.5,\n",
       " 'IL': 850.5,\n",
       " 'WY': 20.5,\n",
       " 'PA': 1086.5,\n",
       " 'LA': 1956.5,\n",
       " 'AL': 126.0,\n",
       " 'OR': 68.0,\n",
       " 'MP': 3.0,\n",
       " 'DE': 37.0,\n",
       " 'DC': 79.0,\n",
       " 'RI': 84.5,\n",
       " 'VA': 228.0,\n",
       " 'AZ': 154.5,\n",
       " 'WI': 189.5,\n",
       " 'ME': 36.5,\n",
       " 'KS': 62.0,\n",
       " 'NJ': 3447.0,\n",
       " 'IN': 440.0,\n",
       " 'NV': 172.5,\n",
       " 'PR': 38.5,\n",
       " 'CO': 357.5,\n",
       " 'AR': 60.0,\n",
       " 'MS': 120.0,\n",
       " 'GA': 709.5,\n",
       " 'MT': 21.5,\n",
       " 'KY': 100.0,\n",
       " 'CT': 348.0,\n",
       " 'HI': 27.0,\n",
       " 'MI': 1588.0,\n",
       " 'NE': 37.0,\n",
       " 'NC': 179.5,\n",
       " 'CA': 854.5,\n",
       " 'ND': 16.5,\n",
       " 'AK': 12.0,\n",
       " 'MN': 56.5,\n",
       " 'NM': 41.0,\n",
       " 'NY': 8293.0,\n",
       " 'OH': 351.5,\n",
       " 'OK': 157.0,\n",
       " 'FL': 836.0,\n",
       " 'MA': 1173.0,\n",
       " 'IA': 58.5,\n",
       " 'MO': 253.5,\n",
       " 'SC': 235.5,\n",
       " 'TN': 303.0,\n",
       " 'SD': 28.5,\n",
       " 'TX': 701.5,\n",
       " 'VI': 3.0,\n",
       " 'VT': 22.5}"
      ]
     },
     "execution_count": 8,
     "metadata": {},
     "output_type": "execute_result"
    }
   ],
   "source": [
    "def process_exercise_6(result):\n",
    "    process_result = {}\n",
    "    for record in result:\n",
    "        process_result[record['_id']['state']] = record['sum']/record['count']\n",
    "    return process_result\n",
    "\n",
    "def exercise_6(col,date1,date2):\n",
    "    result = None\n",
    "    # partial solution\n",
    "    # Your solution here\n",
    "    return result\n",
    "\n",
    "result = list(exercise_6(col,20200401,20200402))\n",
    "import pprint\n",
    "pprint.pprint((result))\n",
    "\n",
    "record = process_exercise_6(result)\n",
    "record"
   ]
  },
  {
   "cell_type": "code",
   "execution_count": 9,
   "metadata": {},
   "outputs": [
    {
     "data": {
      "text/plain": [
       "(154.5, 126.0)"
      ]
     },
     "execution_count": 9,
     "metadata": {},
     "output_type": "execute_result"
    }
   ],
   "source": [
    "record['AZ'],record['AL']"
   ]
  },
  {
   "cell_type": "markdown",
   "metadata": {},
   "source": [
    "**Exercise 7:** Repeat exercise 6, but instead of using aggregate you must use map-reduce."
   ]
  },
  {
   "cell_type": "code",
   "execution_count": 10,
   "metadata": {},
   "outputs": [
    {
     "name": "stdout",
     "output_type": "stream",
     "text": [
      "['_BaseObject__codec_options', '_BaseObject__read_concern', '_BaseObject__read_preference', '_BaseObject__write_concern', '_Collection__create', '_Collection__create_indexes', '_Collection__database', '_Collection__find_and_modify', '_Collection__full_name', '_Collection__name', '_Collection__write_response_codec_options', '__annotations__', '__bool__', '__call__', '__class__', '__class_getitem__', '__delattr__', '__dict__', '__dir__', '__doc__', '__eq__', '__format__', '__ge__', '__getattr__', '__getattribute__', '__getitem__', '__gt__', '__hash__', '__init__', '__init_subclass__', '__iter__', '__le__', '__lt__', '__module__', '__ne__', '__new__', '__next__', '__orig_bases__', '__parameters__', '__reduce__', '__reduce_ex__', '__repr__', '__setattr__', '__sizeof__', '__slots__', '__str__', '__subclasshook__', '__weakref__', '_aggregate', '_aggregate_one_result', '_command', '_conn_for_reads', '_conn_for_writes', '_count_cmd', '_delete', '_delete_retryable', '_insert_one', '_is_protocol', '_read_preference_for', '_retryable_non_cursor_read', '_timeout', '_update', '_update_retryable', '_write_concern_for', '_write_concern_for_cmd', 'aggregate', 'aggregate_raw_batches', 'bulk_write', 'codec_options', 'count_documents', 'create_index', 'create_indexes', 'create_search_index', 'create_search_indexes', 'database', 'delete_many', 'delete_one', 'distinct', 'drop', 'drop_index', 'drop_indexes', 'drop_search_index', 'estimated_document_count', 'find', 'find_one', 'find_one_and_delete', 'find_one_and_replace', 'find_one_and_update', 'find_raw_batches', 'full_name', 'index_information', 'insert_many', 'insert_one', 'list_indexes', 'list_search_indexes', 'name', 'next', 'options', 'read_concern', 'read_preference', 'rename', 'replace_one', 'update_many', 'update_one', 'update_search_index', 'watch', 'with_options', 'write_concern']\n"
     ]
    },
    {
     "ename": "TypeError",
     "evalue": "'Collection' object is not callable. If you meant to call the 'map_reduce' method on a 'Collection' object it is failing because no such method exists.",
     "output_type": "error",
     "traceback": [
      "\u001b[0;31m---------------------------------------------------------------------------\u001b[0m",
      "\u001b[0;31mTypeError\u001b[0m                                 Traceback (most recent call last)",
      "File \u001b[0;32m/usr/local/lib/python3.10/dist-packages/pymongo/collection.py:3507\u001b[0m, in \u001b[0;36mCollection.__call__\u001b[0;34m(self, *args, **kwargs)\u001b[0m\n\u001b[1;32m   3500\u001b[0m \u001b[38;5;28;01mif\u001b[39;00m \u001b[38;5;124m\"\u001b[39m\u001b[38;5;124m.\u001b[39m\u001b[38;5;124m\"\u001b[39m \u001b[38;5;129;01mnot\u001b[39;00m \u001b[38;5;129;01min\u001b[39;00m \u001b[38;5;28mself\u001b[39m\u001b[38;5;241m.\u001b[39m__name:\n\u001b[1;32m   3501\u001b[0m     \u001b[38;5;28;01mraise\u001b[39;00m \u001b[38;5;167;01mTypeError\u001b[39;00m(\n\u001b[1;32m   3502\u001b[0m         \u001b[38;5;124m\"\u001b[39m\u001b[38;5;124m'\u001b[39m\u001b[38;5;124mCollection\u001b[39m\u001b[38;5;124m'\u001b[39m\u001b[38;5;124m object is not callable. If you \u001b[39m\u001b[38;5;124m\"\u001b[39m\n\u001b[1;32m   3503\u001b[0m         \u001b[38;5;124m\"\u001b[39m\u001b[38;5;124mmeant to call the \u001b[39m\u001b[38;5;124m'\u001b[39m\u001b[38;5;132;01m%s\u001b[39;00m\u001b[38;5;124m'\u001b[39m\u001b[38;5;124m method on a \u001b[39m\u001b[38;5;124m'\u001b[39m\u001b[38;5;124mDatabase\u001b[39m\u001b[38;5;124m'\u001b[39m\u001b[38;5;124m \u001b[39m\u001b[38;5;124m\"\u001b[39m\n\u001b[1;32m   3504\u001b[0m         \u001b[38;5;124m\"\u001b[39m\u001b[38;5;124mobject it is failing because no such method \u001b[39m\u001b[38;5;124m\"\u001b[39m\n\u001b[1;32m   3505\u001b[0m         \u001b[38;5;124m\"\u001b[39m\u001b[38;5;124mexists.\u001b[39m\u001b[38;5;124m\"\u001b[39m \u001b[38;5;241m%\u001b[39m \u001b[38;5;28mself\u001b[39m\u001b[38;5;241m.\u001b[39m__name\n\u001b[1;32m   3506\u001b[0m     )\n\u001b[0;32m-> 3507\u001b[0m \u001b[38;5;28;01mraise\u001b[39;00m \u001b[38;5;167;01mTypeError\u001b[39;00m(\n\u001b[1;32m   3508\u001b[0m     \u001b[38;5;124m\"\u001b[39m\u001b[38;5;124m'\u001b[39m\u001b[38;5;124mCollection\u001b[39m\u001b[38;5;124m'\u001b[39m\u001b[38;5;124m object is not callable. If you meant to \u001b[39m\u001b[38;5;124m\"\u001b[39m\n\u001b[1;32m   3509\u001b[0m     \u001b[38;5;124m\"\u001b[39m\u001b[38;5;124mcall the \u001b[39m\u001b[38;5;124m'\u001b[39m\u001b[38;5;132;01m%s\u001b[39;00m\u001b[38;5;124m'\u001b[39m\u001b[38;5;124m method on a \u001b[39m\u001b[38;5;124m'\u001b[39m\u001b[38;5;124mCollection\u001b[39m\u001b[38;5;124m'\u001b[39m\u001b[38;5;124m object it is \u001b[39m\u001b[38;5;124m\"\u001b[39m\n\u001b[1;32m   3510\u001b[0m     \u001b[38;5;124m\"\u001b[39m\u001b[38;5;124mfailing because no such method exists.\u001b[39m\u001b[38;5;124m\"\u001b[39m \u001b[38;5;241m%\u001b[39m \u001b[38;5;28mself\u001b[39m\u001b[38;5;241m.\u001b[39m__name\u001b[38;5;241m.\u001b[39msplit(\u001b[38;5;124m\"\u001b[39m\u001b[38;5;124m.\u001b[39m\u001b[38;5;124m\"\u001b[39m)[\u001b[38;5;241m-\u001b[39m\u001b[38;5;241m1\u001b[39m]\n\u001b[1;32m   3511\u001b[0m )\n",
      "\u001b[0;31mTypeError\u001b[0m: 'Collection' object is not callable. If you meant to call the 'map_reduce' method on a 'Collection' object it is failing because no such method exists."
     ]
    }
   ],
   "source": [
    "def process_exercise_7(result):\n",
    "    process_result = {}\n",
    "    for record in result:\n",
    "        state,identifier = record['_id'].split(\": \")\n",
    "        value = record['value']\n",
    "        if state not in process_result:\n",
    "            process_result[state] = 1.\n",
    "        if identifier == \"sum\":\n",
    "            process_result[state] *= value\n",
    "        elif identifier == \"count\":\n",
    "            process_result[state] *= 1/value\n",
    "    return process_result\n",
    "\n",
    "def exercise_7(col,date1,date2):\n",
    "    result = None\n",
    "    # partial solution\n",
    "    # Your solution here\n",
    "    return result\n",
    "\n",
    "result = list(exercise_7(col,20200401,20200402).find())\n",
    "import pprint\n",
    "pprint.pprint((result))\n",
    "\n",
    "record = process_exercise_7(result)\n",
    "record"
   ]
  },
  {
   "cell_type": "code",
   "execution_count": 11,
   "metadata": {},
   "outputs": [
    {
     "data": {
      "text/plain": [
       "(154.5, 126.0)"
      ]
     },
     "execution_count": 11,
     "metadata": {},
     "output_type": "execute_result"
    }
   ],
   "source": [
    "record['AZ'],record['AL']"
   ]
  },
  {
   "cell_type": "code",
   "execution_count": null,
   "metadata": {},
   "outputs": [],
   "source": []
  }
 ],
 "metadata": {
  "celltoolbar": "Slideshow",
  "hide_code_all_hidden": false,
  "jupytext": {
   "encoding": "# -*- coding: utf-8 -*-",
   "formats": "ipynb,md,py"
  },
  "kernelspec": {
   "display_name": "Python 3 (ipykernel)",
   "language": "python",
   "name": "python3"
  },
  "language_info": {
   "codemirror_mode": {
    "name": "ipython",
    "version": 3
   },
   "file_extension": ".py",
   "mimetype": "text/x-python",
   "name": "python",
   "nbconvert_exporter": "python",
   "pygments_lexer": "ipython3",
   "version": "3.10.12"
  }
 },
 "nbformat": 4,
 "nbformat_minor": 4
}
