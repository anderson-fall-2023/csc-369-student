{
 "cells": [
  {
   "cell_type": "markdown",
   "metadata": {
    "slideshow": {
     "slide_type": "slide"
    }
   },
   "source": [
    "# Lab 9 - Bringing it all together"
   ]
  },
  {
   "cell_type": "markdown",
   "metadata": {},
   "source": [
    "This is the last lab! We will bring together several of the big technologies and approaches we have discussed in class:\n",
    "* MongoDB\n",
    "* Spark\n",
    "* Spark SQL\n",
    "* Cassandra\n",
    "* Spark Streaming\n",
    "\n",
    "If you have not already done so, make sure you review and are familiar with Chapter 10. We are going to continue to use the AirBnB data sets available at: http://insideairbnb.com/get-the-data.html\n",
    "\n",
    "In the chapter we processed a few of the files and stored them in both MongoDB and Cassandra depending on the structure of the file. We didn't process all of the available files. Nor did we construct any solutions to bringing in new files. We will do both of those things in this lab. "
   ]
  },
  {
   "cell_type": "markdown",
   "metadata": {},
   "source": [
    "**Customizing for youself:**\n",
    "\n",
    "We don't want to interfere with each other when we writing to our databases. "
   ]
  },
  {
   "cell_type": "code",
   "execution_count": 10,
   "metadata": {},
   "outputs": [
    {
     "name": "stdout",
     "output_type": "stream",
     "text": [
      "jupyter_pander14\n"
     ]
    }
   ],
   "source": [
    "import getpass\n",
    "\n",
    "username = getpass.getuser().split(\"@\")[0].replace(\"-\",\"_\")\n",
    "\n",
    "print(username)"
   ]
  },
  {
   "cell_type": "code",
   "execution_count": 5,
   "metadata": {},
   "outputs": [],
   "source": [
    "import os\n",
    "\n",
    "os.environ['PYSPARK_SUBMIT_ARGS'] = \"--packages com.datastax.spark:spark-cassandra-connector_2.12:3.1.0,org.mongodb.spark:mongo-spark-connector_2.12:3.0.1\"\n",
    "os.environ['PYSPARK_SUBMIT_ARGS'] += \" --conf spark.cassandra.connection.host=127.0.0.1\"\n",
    "\n",
    "os.environ['PYSPARK_SUBMIT_ARGS'] += ' --conf \"spark.mongodb.input.uri=mongodb://127.0.0.1/csc-369.neighbourhoods_geo?readPreference=primaryPreferred\"'\n",
    "os.environ['PYSPARK_SUBMIT_ARGS'] += ' --conf \"spark.mongodb.output.uri=mongodb://127.0.0.1/csc-369.neighbourhoods_geo\"'\n",
    "os.environ['PYSPARK_SUBMIT_ARGS'] += \" pyspark-shell\"\n"
   ]
  },
  {
   "cell_type": "code",
   "execution_count": 6,
   "metadata": {},
   "outputs": [],
   "source": [
    "from pyspark import SparkConf\n",
    "from pyspark.context import SparkContext\n",
    "\n",
    "sc = SparkContext.getOrCreate(SparkConf().setMaster(\"local[*]\"))"
   ]
  },
  {
   "cell_type": "code",
   "execution_count": 7,
   "metadata": {},
   "outputs": [],
   "source": [
    "from pyspark.sql import SparkSession\n",
    "\n",
    "spark = SparkSession \\\n",
    "    .builder \\\n",
    "    .appName(\"Lab9\") \\\n",
    "    .getOrCreate()"
   ]
  },
  {
   "cell_type": "code",
   "execution_count": 8,
   "metadata": {},
   "outputs": [],
   "source": [
    "from cassandra.cluster import Cluster\n",
    "cluster = Cluster(['0.0.0.0'],port=9042)\n",
    "session = cluster.connect()"
   ]
  },
  {
   "cell_type": "code",
   "execution_count": 11,
   "metadata": {},
   "outputs": [
    {
     "data": {
      "text/plain": [
       "<cassandra.cluster.ResultSet at 0x7f14f5895358>"
      ]
     },
     "execution_count": 11,
     "metadata": {},
     "output_type": "execute_result"
    }
   ],
   "source": [
    "session.execute(f\"DROP KEYSPACE IF EXISTS {username}_airbnb\")"
   ]
  },
  {
   "cell_type": "code",
   "execution_count": 13,
   "metadata": {},
   "outputs": [],
   "source": [
    "for row in session.execute(\"CREATE KEYSPACE %s_airbnb WITH replication = {'class':'SimpleStrategy', 'replication_factor' : 1};\"%username):\n",
    "    print(row)"
   ]
  },
  {
   "cell_type": "markdown",
   "metadata": {},
   "source": [
    "### Important detail below:"
   ]
  },
  {
   "cell_type": "code",
   "execution_count": 15,
   "metadata": {},
   "outputs": [
    {
     "name": "stdout",
     "output_type": "stream",
     "text": [
      "Your keyspace is: jupyter_pander14_airbnb\n"
     ]
    }
   ],
   "source": [
    "print(f\"Your keyspace is: {username}_airbnb\")"
   ]
  },
  {
   "cell_type": "markdown",
   "metadata": {},
   "source": [
    "Make sure you put your tables under this keyspace."
   ]
  },
  {
   "cell_type": "markdown",
   "metadata": {},
   "source": [
    "Now create your MongoDB database:"
   ]
  },
  {
   "cell_type": "code",
   "execution_count": 18,
   "metadata": {},
   "outputs": [
    {
     "data": {
      "text/plain": [
       "Database(MongoClient(host=['localhost:27017'], document_class=dict, tz_aware=False, connect=True), 'jupyter_pander14_airbnb')"
      ]
     },
     "execution_count": 18,
     "metadata": {},
     "output_type": "execute_result"
    }
   ],
   "source": [
    "from pymongo import MongoClient\n",
    "client = MongoClient()\n",
    "\n",
    "db = client[f\"{username}_airbnb\"]\n",
    "\n",
    "db"
   ]
  },
  {
   "cell_type": "code",
   "execution_count": 20,
   "metadata": {},
   "outputs": [
    {
     "name": "stdout",
     "output_type": "stream",
     "text": [
      "Your MongoDB database is: jupyter_pander14_airbnb. Make sure you use this one instead of csc-369.\n"
     ]
    }
   ],
   "source": [
    "print(f\"Your MongoDB database is: {username}_airbnb. Make sure you use this one instead of csc-369.\")"
   ]
  },
  {
   "cell_type": "markdown",
   "metadata": {},
   "source": [
    "**Data location**"
   ]
  },
  {
   "cell_type": "code",
   "execution_count": 4,
   "metadata": {},
   "outputs": [
    {
     "name": "stdout",
     "output_type": "stream",
     "text": [
      "calendar.csv.gz  listings.csv.gz     neighbourhoods.geojson  reviews.csv.gz\n",
      "listings.csv\t neighbourhoods.csv  reviews.csv\n"
     ]
    }
   ],
   "source": [
    "!ls /disk/airbnb"
   ]
  },
  {
   "cell_type": "markdown",
   "metadata": {},
   "source": [
    "**Exercise 1:** Using the approach demonstrated in Chapter 10, load the summary (.csv) and detailed (.csv.gz) files into Spark and then into Cassandra tables. Provide verification and documentation of your approach."
   ]
  },
  {
   "cell_type": "markdown",
   "metadata": {},
   "source": [
    "**Exercise 2:** Using the approached demonstrated in Chapter 10, load neighbourhoods.geojson into MongoDB. Provide verification and documentation of your approach."
   ]
  },
  {
   "cell_type": "markdown",
   "metadata": {},
   "source": [
    "**Exercise 3:** Now that you have a programatic way of loading files into the databases, create a Spark streaming application that monitors a directory where we can load our airbnb files to be automatically detected and processed. i.e., do what you did in exercise 1 and exercise 2 automatically when the user adds files to a directory you are monitoring with Spark streaming."
   ]
  },
  {
   "cell_type": "markdown",
   "metadata": {},
   "source": [
    "**Exercise 4:** First, describe in detail a question you would like to answer from the airbnb dataset. The answer to the question must involve at least two of the tables OR a single table and the MongoDB collection. Second, provide the Spark/Cassandra/Mongo solution to your question."
   ]
  },
  {
   "cell_type": "markdown",
   "metadata": {},
   "source": [
    "**Submission:** When you are done with this lab, upload a PDF providing the necessary documentation of your progress to Canvas."
   ]
  },
  {
   "cell_type": "code",
   "execution_count": null,
   "metadata": {},
   "outputs": [],
   "source": []
  }
 ],
 "metadata": {
  "celltoolbar": "Slideshow",
  "jupytext": {
   "encoding": "# -*- coding: utf-8 -*-",
   "formats": "ipynb,md,py"
  },
  "kernelspec": {
   "display_name": "Python 3",
   "language": "python",
   "name": "python3"
  },
  "language_info": {
   "codemirror_mode": {
    "name": "ipython",
    "version": 3
   },
   "file_extension": ".py",
   "mimetype": "text/x-python",
   "name": "python",
   "nbconvert_exporter": "python",
   "pygments_lexer": "ipython3",
   "version": "3.7.3"
  }
 },
 "nbformat": 4,
 "nbformat_minor": 4
}
