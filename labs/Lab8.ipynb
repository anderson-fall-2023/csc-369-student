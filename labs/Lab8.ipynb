{
 "cells": [
  {
   "cell_type": "markdown",
   "metadata": {
    "slideshow": {
     "slide_type": "slide"
    }
   },
   "source": [
    "# Lab 8 - MongoDB"
   ]
  },
  {
   "cell_type": "markdown",
   "metadata": {
    "slideshow": {
     "slide_type": "subslide"
    }
   },
   "source": [
    "## Disclaimer\n",
    "\n",
    "This lab has you work with current data about COVID-19 infections in the\n",
    "United States. This includes information about both infections, and deaths\n",
    "due to COVID-19. Some of the data is used to analyze the fatalities\n",
    "due to COVID-19 and compare them across time, and across different states.\n",
    "I am giving you this assignment because I feel learning about engineering and technology\n",
    "should be done with a greater purpose in mind. I understand fully that this\n",
    "may be a sensitive issue to some of you. Please reach out to me."
   ]
  },
  {
   "cell_type": "markdown",
   "metadata": {},
   "source": [
    "## Introduction to pymongo\n",
    "\n",
    "We will be using pymongo for our mongo labs. This lab focuses on queries and aggregation in MongoDB.\n",
    "\n",
    "I have inserted ``data/daily.json`` into the database in the collection called ``daily`` in a database called ``csc-369``. You may gain access to it using the following commands:"
   ]
  },
  {
   "cell_type": "code",
   "execution_count": 1,
   "metadata": {},
   "outputs": [],
   "source": [
    "from pymongo import MongoClient\n",
    "client = MongoClient()"
   ]
  },
  {
   "cell_type": "code",
   "execution_count": 2,
   "metadata": {},
   "outputs": [],
   "source": [
    "db = client[\"csc-369\"]\n",
    "\n",
    "col = db[\"daily\"]"
   ]
  },
  {
   "cell_type": "markdown",
   "metadata": {},
   "source": [
    "You can take a look at one of the records using"
   ]
  },
  {
   "cell_type": "code",
   "execution_count": 3,
   "metadata": {},
   "outputs": [
    {
     "name": "stdout",
     "output_type": "stream",
     "text": [
      "{'_id': ObjectId('60392e3656264fee961ca816'), 'state': 'AK'}\n"
     ]
    }
   ],
   "source": [
    "import pprint\n",
    "pprint.pprint(col.find_one())"
   ]
  },
  {
   "cell_type": "markdown",
   "metadata": {},
   "source": [
    "## Information about the data\n",
    "The collection contains information about COVID-19\n",
    "infections in the United States. The data comes from the COVID Tracking\n",
    "Project web site, specifically, from this URL:\n",
    "\n",
    "https://covidtracking.com/api\n",
    "\n",
    "We will be using the JSON version of the daily US States data, available\n",
    "directly at this endpoint:\n",
    "\n",
    "https://covidtracking.com/api/states/daily\n",
    "\n",
    "For the sake of reproducibility, we will be using a data file Dr. Dekhtyar downloaded\n",
    "on April 5, that includes all available data from the beginning of the tracking (March 3, 2020) through April 5, 2020. \n",
    "\n",
    "The data file is available for download from the course web site.\n",
    "The COVID Tracking project Website describes the format of each JSON\n",
    "object in the collection as follows:\n",
    "* state - State or territory postal code abbreviation.\n",
    "* positive - Total cumulative positive test results.\n",
    "* positiveIncrease - Increase from the day before.\n",
    "* negative - Total cumulative negative test results.\n",
    "* negativeIncrease - Increase from the day before.\n",
    "* pending - Tests that have been submitted to a lab but no results have\n",
    "been reported yet.\n",
    "* totalTestResults - Calculated value (positive + negative) of total test\n",
    "results.\n",
    "* totalTestResultsIncrease - Increase from the day before.\n",
    "* hospitalized - Total cumulative number of people hospitalized.\n",
    "* hospitalizedIncrease - Increase from the day before.\n",
    "* death - Total cumulative number of people that have died.\n",
    "* deathIncrease - Increase from the day before.\n",
    "* dateChecked - ISO 8601 date of the time we saved visited their website\n",
    "* total - DEPRECATED Will be removed in the future. (positive + negative + pending). Pending has been an unstable value and should not count in any totals.\n",
    "\n",
    "In addition to these attributes, the JSON objects will contain the following\n",
    "attributes (explained elsewhere in the API documentation):\n",
    "* date - date for which the data is provided in the YYYYMMDD format\n",
    "(note: JSON treats this value as a number - make sure you parse\n",
    "correctly).\n",
    "* fips - Federal Information Processing Standard state code\n",
    "* hash - the hash code of the record\n",
    "* hospitalizedCurrently - number of people currently hospitalized\n",
    "* hospitalizedCumulative - appears to be the new name for the hospitalized attribute\n",
    "* inIcuCurrently - number of people currently in the ICU\n",
    "* inIcuCumulative - total cumulative number of people who required ICU hospitalization\n",
    "* onVentilatorCurrently - number of people currently on the ventilator\n",
    "* onVentilatorCumulative - total cumulative number of people who at some point were on ventilator\n",
    "* recovered - total cumulative number of people who recovered from COVID-19\n",
    "\n",
    "Note: ”DEPRECATED” attribute means an attribute that can be found\n",
    "in some of the earlier JSON records, that that is not found in the most\n",
    "recent ones."
   ]
  },
  {
   "cell_type": "markdown",
   "metadata": {},
   "source": [
    "I've noticed during interactions that some folks are skipping the line below. It is my fault for not explaining it. In Python when you import a file it is never reloaded even if the contents change on disk. If you run the cell below before an import, then it will reload automatically for you."
   ]
  },
  {
   "cell_type": "code",
   "execution_count": 4,
   "metadata": {
    "slideshow": {
     "slide_type": "skip"
    }
   },
   "outputs": [],
   "source": [
    "%load_ext autoreload\n",
    "%autoreload 2"
   ]
  },
  {
   "cell_type": "code",
   "execution_count": 5,
   "metadata": {
    "slideshow": {
     "slide_type": "skip"
    }
   },
   "outputs": [],
   "source": [
    "# make sure your run the cell above before running this\n",
    "import Lab8_helper"
   ]
  },
  {
   "cell_type": "markdown",
   "metadata": {},
   "source": [
    "**Exercise 1:** Use find_one to find a record with an object ID equal to 60392e3656264fee961ca817. "
   ]
  },
  {
   "cell_type": "code",
   "execution_count": 6,
   "metadata": {},
   "outputs": [
    {
     "data": {
      "text/plain": [
       "{'_id': ObjectId('60392e3656264fee961ca817'),\n",
       " 'date': 20200405,\n",
       " 'state': 'AL',\n",
       " 'positive': 1796,\n",
       " 'negative': 11282,\n",
       " 'pending': None,\n",
       " 'hospitalizedCurrently': None,\n",
       " 'hospitalizedCumulative': 231,\n",
       " 'inIcuCurrently': None,\n",
       " 'inIcuCumulative': None,\n",
       " 'onVentilatorCurrently': None,\n",
       " 'onVentilatorCumulative': None,\n",
       " 'recovered': None,\n",
       " 'hash': '3f2c1f28926eeadf623d04aeb3716d29c5394d3c',\n",
       " 'dateChecked': '2020-04-05T20:00:00Z',\n",
       " 'death': 45,\n",
       " 'hospitalized': 231,\n",
       " 'total': 13078,\n",
       " 'totalTestResults': 13078,\n",
       " 'posNeg': 13078,\n",
       " 'fips': '01',\n",
       " 'deathIncrease': 2,\n",
       " 'hospitalizedIncrease': 19,\n",
       " 'negativeIncrease': 2009,\n",
       " 'positiveIncrease': 216,\n",
       " 'totalTestResultsIncrease': 2225}"
      ]
     },
     "execution_count": 6,
     "metadata": {},
     "output_type": "execute_result"
    }
   ],
   "source": [
    "record = Lab8_helper.exercise_1(col,'60392e3656264fee961ca817')\n",
    "record"
   ]
  },
  {
   "cell_type": "markdown",
   "metadata": {},
   "source": [
    "**Exercise 2:** Use count_documents to count the number of records/documents that have ``state`` equal to 'CA'. "
   ]
  },
  {
   "cell_type": "code",
   "execution_count": 7,
   "metadata": {},
   "outputs": [
    {
     "data": {
      "text/plain": [
       "33"
      ]
     },
     "execution_count": 7,
     "metadata": {},
     "output_type": "execute_result"
    }
   ],
   "source": [
    "record = Lab8_helper.exercise_2(col,'CA')\n",
    "record"
   ]
  },
  {
   "cell_type": "markdown",
   "metadata": {},
   "source": [
    "**Exercise 3:** Write a function that returns all of the documents that have a date less than ``d``. Sort the documents by the date, and convert the result to a list."
   ]
  },
  {
   "cell_type": "code",
   "execution_count": 8,
   "metadata": {
    "tags": []
   },
   "outputs": [
    {
     "data": {
      "text/plain": [
       "[{'_id': ObjectId('60392e3656264fee961caeb5'),\n",
       "  'date': 20200304,\n",
       "  'state': 'AZ',\n",
       "  'positive': 2,\n",
       "  'negative': 27,\n",
       "  'pending': 5,\n",
       "  'hash': 'f9b5336be00388e0549a6e35cfbe7ec911597df2',\n",
       "  'dateChecked': '2020-03-04T21:00:00Z',\n",
       "  'total': 34,\n",
       "  'totalTestResults': 29,\n",
       "  'posNeg': 29,\n",
       "  'fips': '04',\n",
       "  'deathIncrease': None,\n",
       "  'hospitalizedIncrease': None,\n",
       "  'negativeIncrease': None,\n",
       "  'positiveIncrease': None,\n",
       "  'totalTestResultsIncrease': None},\n",
       " {'_id': ObjectId('60392e3656264fee961caeb6'),\n",
       "  'date': 20200304,\n",
       "  'state': 'CA',\n",
       "  'positive': 53,\n",
       "  'negative': 462,\n",
       "  'hash': 'e89c69dcaf7f202257af579a58f86c340eee886a',\n",
       "  'dateChecked': '2020-03-04T21:00:00Z',\n",
       "  'total': 515,\n",
       "  'totalTestResults': 515,\n",
       "  'posNeg': 515,\n",
       "  'fips': '06',\n",
       "  'deathIncrease': None,\n",
       "  'hospitalizedIncrease': None,\n",
       "  'negativeIncrease': None,\n",
       "  'positiveIncrease': None,\n",
       "  'totalTestResultsIncrease': None},\n",
       " {'_id': ObjectId('60392e3656264fee961caeb7'),\n",
       "  'date': 20200304,\n",
       "  'state': 'FL',\n",
       "  'positive': 2,\n",
       "  'negative': 24,\n",
       "  'pending': 16,\n",
       "  'hash': '827f5f46040136c1b1901fef08f15b03805c57f5',\n",
       "  'dateChecked': '2020-03-04T21:00:00Z',\n",
       "  'total': 42,\n",
       "  'totalTestResults': 26,\n",
       "  'posNeg': 26,\n",
       "  'fips': '12',\n",
       "  'deathIncrease': None,\n",
       "  'hospitalizedIncrease': None,\n",
       "  'negativeIncrease': None,\n",
       "  'positiveIncrease': None,\n",
       "  'totalTestResultsIncrease': None}]"
      ]
     },
     "execution_count": 8,
     "metadata": {},
     "output_type": "execute_result"
    }
   ],
   "source": [
    "d = 20200315 # YYYY-MM-DD\n",
    "record = Lab8_helper.exercise_3(col,d)\n",
    "record[:3]"
   ]
  },
  {
   "cell_type": "markdown",
   "metadata": {},
   "source": [
    "**Exercise 4:** Write a function that returns the total number of positive cases and the number of new cases\n",
    "in New York state on April 1."
   ]
  },
  {
   "cell_type": "code",
   "execution_count": 9,
   "metadata": {},
   "outputs": [
    {
     "data": {
      "text/plain": [
       "83712"
      ]
     },
     "execution_count": 9,
     "metadata": {},
     "output_type": "execute_result"
    }
   ],
   "source": [
    "record = Lab8_helper.exercise_4(col)\n",
    "record"
   ]
  },
  {
   "cell_type": "markdown",
   "metadata": {},
   "source": [
    "**Exercise 5:** Write a function that returns how many deaths were in the state of New Jersey on the earliest day when the total cumulative number of deaths exceeded 500 (i.e., ``death`` column).\n",
    "\n",
    "> .sort(), in pymongo, takes key and direction as parameters.\n",
    "> So if you want to sort by, let's say, id then you should .sort(\"_id\", 1)"
   ]
  },
  {
   "cell_type": "code",
   "execution_count": 10,
   "metadata": {},
   "outputs": [
    {
     "data": {
      "text/plain": [
       "537"
      ]
     },
     "execution_count": 10,
     "metadata": {},
     "output_type": "execute_result"
    }
   ],
   "source": [
    "record = Lab8_helper.exercise_5(col)\n",
    "record"
   ]
  },
  {
   "cell_type": "markdown",
   "metadata": {},
   "source": [
    "**Exercise 6:** Write a function using ``aggregate``. The function reports the count and the cumulative increase in positive cases (when there were positive cases) within the date range (inclusive). Do not include missing days or values (i.e., positive cases > 0). I used ``$match``, ``$group``, and ``$and`` within aggregate. The columns I used are date, state, and positiveIncrease."
   ]
  },
  {
   "cell_type": "code",
   "execution_count": 11,
   "metadata": {},
   "outputs": [
    {
     "name": "stdout",
     "output_type": "stream",
     "text": [
      "[{'_id': {'state': 'NH'}, 'count': 1, 'sum': 101},\n",
      " {'_id': {'state': 'WA'}, 'count': 2, 'sum': 1088},\n",
      " {'_id': {'state': 'IA'}, 'count': 2, 'sum': 117},\n",
      " {'_id': {'state': 'VI'}, 'count': 1, 'sum': 3},\n",
      " {'_id': {'state': 'MS'}, 'count': 2, 'sum': 240},\n",
      " {'_id': {'state': 'LA'}, 'count': 2, 'sum': 3913},\n",
      " {'_id': {'state': 'KY'}, 'count': 2, 'sum': 200},\n",
      " {'_id': {'state': 'IL'}, 'count': 2, 'sum': 1701},\n",
      " {'_id': {'state': 'GA'}, 'count': 2, 'sum': 1419},\n",
      " {'_id': {'state': 'ME'}, 'count': 2, 'sum': 73},\n",
      " {'_id': {'state': 'AR'}, 'count': 2, 'sum': 120},\n",
      " {'_id': {'state': 'OH'}, 'count': 2, 'sum': 703},\n",
      " {'_id': {'state': 'MA'}, 'count': 2, 'sum': 2346},\n",
      " {'_id': {'state': 'SD'}, 'count': 2, 'sum': 57},\n",
      " {'_id': {'state': 'WY'}, 'count': 2, 'sum': 41},\n",
      " {'_id': {'state': 'ID'}, 'count': 2, 'sum': 254},\n",
      " {'_id': {'state': 'AL'}, 'count': 2, 'sum': 252},\n",
      " {'_id': {'state': 'NV'}, 'count': 2, 'sum': 345},\n",
      " {'_id': {'state': 'PA'}, 'count': 2, 'sum': 2173},\n",
      " {'_id': {'state': 'VA'}, 'count': 2, 'sum': 456},\n",
      " {'_id': {'state': 'CT'}, 'count': 2, 'sum': 696},\n",
      " {'_id': {'state': 'AZ'}, 'count': 2, 'sum': 309},\n",
      " {'_id': {'state': 'MD'}, 'count': 2, 'sum': 671},\n",
      " {'_id': {'state': 'CO'}, 'count': 2, 'sum': 715},\n",
      " {'_id': {'state': 'KS'}, 'count': 2, 'sum': 124},\n",
      " {'_id': {'state': 'IN'}, 'count': 2, 'sum': 880},\n",
      " {'_id': {'state': 'AK'}, 'count': 2, 'sum': 24},\n",
      " {'_id': {'state': 'DC'}, 'count': 2, 'sum': 158},\n",
      " {'_id': {'state': 'NC'}, 'count': 2, 'sum': 359},\n",
      " {'_id': {'state': 'VT'}, 'count': 2, 'sum': 45},\n",
      " {'_id': {'state': 'DE'}, 'count': 2, 'sum': 74},\n",
      " {'_id': {'state': 'GU'}, 'count': 2, 'sum': 13},\n",
      " {'_id': {'state': 'FL'}, 'count': 2, 'sum': 1672},\n",
      " {'_id': {'state': 'MO'}, 'count': 2, 'sum': 507},\n",
      " {'_id': {'state': 'UT'}, 'count': 2, 'sum': 187},\n",
      " {'_id': {'state': 'TN'}, 'count': 2, 'sum': 606},\n",
      " {'_id': {'state': 'MP'}, 'count': 2, 'sum': 6},\n",
      " {'_id': {'state': 'WI'}, 'count': 2, 'sum': 379},\n",
      " {'_id': {'state': 'MT'}, 'count': 2, 'sum': 43},\n",
      " {'_id': {'state': 'MI'}, 'count': 2, 'sum': 3176},\n",
      " {'_id': {'state': 'NJ'}, 'count': 2, 'sum': 6894},\n",
      " {'_id': {'state': 'ND'}, 'count': 2, 'sum': 33},\n",
      " {'_id': {'state': 'WV'}, 'count': 2, 'sum': 55},\n",
      " {'_id': {'state': 'RI'}, 'count': 2, 'sum': 169},\n",
      " {'_id': {'state': 'NE'}, 'count': 2, 'sum': 74},\n",
      " {'_id': {'state': 'PR'}, 'count': 2, 'sum': 77},\n",
      " {'_id': {'state': 'SC'}, 'count': 2, 'sum': 471},\n",
      " {'_id': {'state': 'NM'}, 'count': 2, 'sum': 82},\n",
      " {'_id': {'state': 'MN'}, 'count': 2, 'sum': 113},\n",
      " {'_id': {'state': 'NY'}, 'count': 2, 'sum': 16586},\n",
      " {'_id': {'state': 'CA'}, 'count': 2, 'sum': 1709},\n",
      " {'_id': {'state': 'HI'}, 'count': 2, 'sum': 54},\n",
      " {'_id': {'state': 'OK'}, 'count': 2, 'sum': 314},\n",
      " {'_id': {'state': 'OR'}, 'count': 2, 'sum': 136},\n",
      " {'_id': {'state': 'TX'}, 'count': 2, 'sum': 1403}]\n"
     ]
    },
    {
     "data": {
      "text/plain": [
       "{'NH': 101.0,\n",
       " 'WA': 544.0,\n",
       " 'IA': 58.5,\n",
       " 'VI': 3.0,\n",
       " 'MS': 120.0,\n",
       " 'LA': 1956.5,\n",
       " 'KY': 100.0,\n",
       " 'IL': 850.5,\n",
       " 'GA': 709.5,\n",
       " 'ME': 36.5,\n",
       " 'AR': 60.0,\n",
       " 'OH': 351.5,\n",
       " 'MA': 1173.0,\n",
       " 'SD': 28.5,\n",
       " 'WY': 20.5,\n",
       " 'ID': 127.0,\n",
       " 'AL': 126.0,\n",
       " 'NV': 172.5,\n",
       " 'PA': 1086.5,\n",
       " 'VA': 228.0,\n",
       " 'CT': 348.0,\n",
       " 'AZ': 154.5,\n",
       " 'MD': 335.5,\n",
       " 'CO': 357.5,\n",
       " 'KS': 62.0,\n",
       " 'IN': 440.0,\n",
       " 'AK': 12.0,\n",
       " 'DC': 79.0,\n",
       " 'NC': 179.5,\n",
       " 'VT': 22.5,\n",
       " 'DE': 37.0,\n",
       " 'GU': 6.5,\n",
       " 'FL': 836.0,\n",
       " 'MO': 253.5,\n",
       " 'UT': 93.5,\n",
       " 'TN': 303.0,\n",
       " 'MP': 3.0,\n",
       " 'WI': 189.5,\n",
       " 'MT': 21.5,\n",
       " 'MI': 1588.0,\n",
       " 'NJ': 3447.0,\n",
       " 'ND': 16.5,\n",
       " 'WV': 27.5,\n",
       " 'RI': 84.5,\n",
       " 'NE': 37.0,\n",
       " 'PR': 38.5,\n",
       " 'SC': 235.5,\n",
       " 'NM': 41.0,\n",
       " 'MN': 56.5,\n",
       " 'NY': 8293.0,\n",
       " 'CA': 854.5,\n",
       " 'HI': 27.0,\n",
       " 'OK': 157.0,\n",
       " 'OR': 68.0,\n",
       " 'TX': 701.5}"
      ]
     },
     "execution_count": 11,
     "metadata": {},
     "output_type": "execute_result"
    }
   ],
   "source": [
    "result = list(Lab8_helper.exercise_6(col,20200401,20200402))\n",
    "import pprint\n",
    "pprint.pprint((result))\n",
    "\n",
    "record = Lab8_helper.process_exercise_6(result)\n",
    "record"
   ]
  },
  {
   "cell_type": "code",
   "execution_count": 12,
   "metadata": {},
   "outputs": [
    {
     "data": {
      "text/plain": [
       "(154.5, 126.0)"
      ]
     },
     "execution_count": 12,
     "metadata": {},
     "output_type": "execute_result"
    }
   ],
   "source": [
    "record['AZ'],record['AL']"
   ]
  },
  {
   "cell_type": "markdown",
   "metadata": {},
   "source": [
    "**Exercise 7:** Repeat exercise 6, but instead of using aggregate you must use map-reduce."
   ]
  },
  {
   "cell_type": "code",
   "execution_count": 13,
   "metadata": {},
   "outputs": [
    {
     "name": "stdout",
     "output_type": "stream",
     "text": [
      "[{'_id': 'AK: count', 'value': 2.0},\n",
      " {'_id': 'AK: sum', 'value': 24.0},\n",
      " {'_id': 'AL: count', 'value': 2.0},\n",
      " {'_id': 'AL: sum', 'value': 252.0},\n",
      " {'_id': 'AR: count', 'value': 2.0},\n",
      " {'_id': 'AR: sum', 'value': 120.0},\n",
      " {'_id': 'AZ: count', 'value': 2.0},\n",
      " {'_id': 'AZ: sum', 'value': 309.0},\n",
      " {'_id': 'CA: count', 'value': 2.0},\n",
      " {'_id': 'CA: sum', 'value': 1709.0},\n",
      " {'_id': 'CO: count', 'value': 2.0},\n",
      " {'_id': 'CO: sum', 'value': 715.0},\n",
      " {'_id': 'CT: count', 'value': 2.0},\n",
      " {'_id': 'CT: sum', 'value': 696.0},\n",
      " {'_id': 'DC: count', 'value': 2.0},\n",
      " {'_id': 'DC: sum', 'value': 158.0},\n",
      " {'_id': 'DE: count', 'value': 2.0},\n",
      " {'_id': 'DE: sum', 'value': 74.0},\n",
      " {'_id': 'FL: count', 'value': 2.0},\n",
      " {'_id': 'FL: sum', 'value': 1672.0},\n",
      " {'_id': 'GA: count', 'value': 2.0},\n",
      " {'_id': 'GA: sum', 'value': 1419.0},\n",
      " {'_id': 'GU: count', 'value': 2.0},\n",
      " {'_id': 'GU: sum', 'value': 13.0},\n",
      " {'_id': 'HI: count', 'value': 2.0},\n",
      " {'_id': 'HI: sum', 'value': 54.0},\n",
      " {'_id': 'IA: count', 'value': 2.0},\n",
      " {'_id': 'IA: sum', 'value': 117.0},\n",
      " {'_id': 'ID: count', 'value': 2.0},\n",
      " {'_id': 'ID: sum', 'value': 254.0},\n",
      " {'_id': 'IL: count', 'value': 2.0},\n",
      " {'_id': 'IL: sum', 'value': 1701.0},\n",
      " {'_id': 'IN: count', 'value': 2.0},\n",
      " {'_id': 'IN: sum', 'value': 880.0},\n",
      " {'_id': 'KS: count', 'value': 2.0},\n",
      " {'_id': 'KS: sum', 'value': 124.0},\n",
      " {'_id': 'KY: count', 'value': 2.0},\n",
      " {'_id': 'KY: sum', 'value': 200.0},\n",
      " {'_id': 'LA: count', 'value': 2.0},\n",
      " {'_id': 'LA: sum', 'value': 3913.0},\n",
      " {'_id': 'MA: count', 'value': 2.0},\n",
      " {'_id': 'MA: sum', 'value': 2346.0},\n",
      " {'_id': 'MD: count', 'value': 2.0},\n",
      " {'_id': 'MD: sum', 'value': 671.0},\n",
      " {'_id': 'ME: count', 'value': 2.0},\n",
      " {'_id': 'ME: sum', 'value': 73.0},\n",
      " {'_id': 'MI: count', 'value': 2.0},\n",
      " {'_id': 'MI: sum', 'value': 3176.0},\n",
      " {'_id': 'MN: count', 'value': 2.0},\n",
      " {'_id': 'MN: sum', 'value': 113.0},\n",
      " {'_id': 'MO: count', 'value': 2.0},\n",
      " {'_id': 'MO: sum', 'value': 507.0},\n",
      " {'_id': 'MP: count', 'value': 2.0},\n",
      " {'_id': 'MP: sum', 'value': 6.0},\n",
      " {'_id': 'MS: count', 'value': 2.0},\n",
      " {'_id': 'MS: sum', 'value': 240.0},\n",
      " {'_id': 'MT: count', 'value': 2.0},\n",
      " {'_id': 'MT: sum', 'value': 43.0},\n",
      " {'_id': 'NC: count', 'value': 2.0},\n",
      " {'_id': 'NC: sum', 'value': 359.0},\n",
      " {'_id': 'ND: count', 'value': 2.0},\n",
      " {'_id': 'ND: sum', 'value': 33.0},\n",
      " {'_id': 'NE: count', 'value': 2.0},\n",
      " {'_id': 'NE: sum', 'value': 74.0},\n",
      " {'_id': 'NH: count', 'value': 1.0},\n",
      " {'_id': 'NH: sum', 'value': 101.0},\n",
      " {'_id': 'NJ: count', 'value': 2.0},\n",
      " {'_id': 'NJ: sum', 'value': 6894.0},\n",
      " {'_id': 'NM: count', 'value': 2.0},\n",
      " {'_id': 'NM: sum', 'value': 82.0},\n",
      " {'_id': 'NV: count', 'value': 2.0},\n",
      " {'_id': 'NV: sum', 'value': 345.0},\n",
      " {'_id': 'NY: count', 'value': 2.0},\n",
      " {'_id': 'NY: sum', 'value': 16586.0},\n",
      " {'_id': 'OH: count', 'value': 2.0},\n",
      " {'_id': 'OH: sum', 'value': 703.0},\n",
      " {'_id': 'OK: count', 'value': 2.0},\n",
      " {'_id': 'OK: sum', 'value': 314.0},\n",
      " {'_id': 'OR: count', 'value': 2.0},\n",
      " {'_id': 'OR: sum', 'value': 136.0},\n",
      " {'_id': 'PA: count', 'value': 2.0},\n",
      " {'_id': 'PA: sum', 'value': 2173.0},\n",
      " {'_id': 'PR: count', 'value': 2.0},\n",
      " {'_id': 'PR: sum', 'value': 77.0},\n",
      " {'_id': 'RI: count', 'value': 2.0},\n",
      " {'_id': 'RI: sum', 'value': 169.0},\n",
      " {'_id': 'SC: count', 'value': 2.0},\n",
      " {'_id': 'SC: sum', 'value': 471.0},\n",
      " {'_id': 'SD: count', 'value': 2.0},\n",
      " {'_id': 'SD: sum', 'value': 57.0},\n",
      " {'_id': 'TN: count', 'value': 2.0},\n",
      " {'_id': 'TN: sum', 'value': 606.0},\n",
      " {'_id': 'TX: count', 'value': 2.0},\n",
      " {'_id': 'TX: sum', 'value': 1403.0},\n",
      " {'_id': 'UT: count', 'value': 2.0},\n",
      " {'_id': 'UT: sum', 'value': 187.0},\n",
      " {'_id': 'VA: count', 'value': 2.0},\n",
      " {'_id': 'VA: sum', 'value': 456.0},\n",
      " {'_id': 'VI: count', 'value': 1.0},\n",
      " {'_id': 'VI: sum', 'value': 3.0},\n",
      " {'_id': 'VT: count', 'value': 2.0},\n",
      " {'_id': 'VT: sum', 'value': 45.0},\n",
      " {'_id': 'WA: count', 'value': 2.0},\n",
      " {'_id': 'WA: sum', 'value': 1088.0},\n",
      " {'_id': 'WI: count', 'value': 2.0},\n",
      " {'_id': 'WI: sum', 'value': 379.0},\n",
      " {'_id': 'WV: count', 'value': 2.0},\n",
      " {'_id': 'WV: sum', 'value': 55.0},\n",
      " {'_id': 'WY: count', 'value': 2.0},\n",
      " {'_id': 'WY: sum', 'value': 41.0}]\n"
     ]
    },
    {
     "data": {
      "text/plain": [
       "{'AK': 12.0,\n",
       " 'AL': 126.0,\n",
       " 'AR': 60.0,\n",
       " 'AZ': 154.5,\n",
       " 'CA': 854.5,\n",
       " 'CO': 357.5,\n",
       " 'CT': 348.0,\n",
       " 'DC': 79.0,\n",
       " 'DE': 37.0,\n",
       " 'FL': 836.0,\n",
       " 'GA': 709.5,\n",
       " 'GU': 6.5,\n",
       " 'HI': 27.0,\n",
       " 'IA': 58.5,\n",
       " 'ID': 127.0,\n",
       " 'IL': 850.5,\n",
       " 'IN': 440.0,\n",
       " 'KS': 62.0,\n",
       " 'KY': 100.0,\n",
       " 'LA': 1956.5,\n",
       " 'MA': 1173.0,\n",
       " 'MD': 335.5,\n",
       " 'ME': 36.5,\n",
       " 'MI': 1588.0,\n",
       " 'MN': 56.5,\n",
       " 'MO': 253.5,\n",
       " 'MP': 3.0,\n",
       " 'MS': 120.0,\n",
       " 'MT': 21.5,\n",
       " 'NC': 179.5,\n",
       " 'ND': 16.5,\n",
       " 'NE': 37.0,\n",
       " 'NH': 101.0,\n",
       " 'NJ': 3447.0,\n",
       " 'NM': 41.0,\n",
       " 'NV': 172.5,\n",
       " 'NY': 8293.0,\n",
       " 'OH': 351.5,\n",
       " 'OK': 157.0,\n",
       " 'OR': 68.0,\n",
       " 'PA': 1086.5,\n",
       " 'PR': 38.5,\n",
       " 'RI': 84.5,\n",
       " 'SC': 235.5,\n",
       " 'SD': 28.5,\n",
       " 'TN': 303.0,\n",
       " 'TX': 701.5,\n",
       " 'UT': 93.5,\n",
       " 'VA': 228.0,\n",
       " 'VI': 3.0,\n",
       " 'VT': 22.5,\n",
       " 'WA': 544.0,\n",
       " 'WI': 189.5,\n",
       " 'WV': 27.5,\n",
       " 'WY': 20.5}"
      ]
     },
     "execution_count": 13,
     "metadata": {},
     "output_type": "execute_result"
    }
   ],
   "source": [
    "result = list(Lab8_helper.exercise_7(col,20200401,20200402).find())\n",
    "import pprint\n",
    "pprint.pprint((result))\n",
    "\n",
    "record = Lab8_helper.process_exercise_7(result)\n",
    "record"
   ]
  },
  {
   "cell_type": "code",
   "execution_count": 14,
   "metadata": {},
   "outputs": [
    {
     "data": {
      "text/plain": [
       "(154.5, 126.0)"
      ]
     },
     "execution_count": 14,
     "metadata": {},
     "output_type": "execute_result"
    }
   ],
   "source": [
    "record['AZ'],record['AL']"
   ]
  },
  {
   "cell_type": "code",
   "execution_count": 15,
   "metadata": {},
   "outputs": [],
   "source": [
    "# Good job!\n",
    "# Don't forget to push with ./submit.sh"
   ]
  },
  {
   "cell_type": "code",
   "execution_count": null,
   "metadata": {},
   "outputs": [],
   "source": []
  }
 ],
 "metadata": {
  "celltoolbar": "Slideshow",
  "jupytext": {
   "encoding": "# -*- coding: utf-8 -*-",
   "formats": "ipynb,md,py"
  },
  "kernelspec": {
   "display_name": "Python 3",
   "language": "python",
   "name": "python3"
  },
  "language_info": {
   "codemirror_mode": {
    "name": "ipython",
    "version": 3
   },
   "file_extension": ".py",
   "mimetype": "text/x-python",
   "name": "python",
   "nbconvert_exporter": "python",
   "pygments_lexer": "ipython3",
   "version": "3.7.3"
  }
 },
 "nbformat": 4,
 "nbformat_minor": 4
}
