{
 "cells": [
  {
   "cell_type": "markdown",
   "metadata": {
    "slideshow": {
     "slide_type": "slide"
    }
   },
   "source": [
    "# Lab 1 - System introduction through tutorial\n",
    "\n",
    "In this lab, our objective is to get familiar with the remote desktops and our ability to configure them. We will do this by following a tutorial. It is not our intention to dig into the semantics of the tutorial. We want to introduce the mechanisms for this course.\n",
    "\n",
    "Here is the beginning of the tutorial: https://github.com/dask/dask-tutorial/blob/main/00_overview.ipynb \n",
    "\n",
    "Your assignment is to get this tutorial running."
   ]
  }
 ],
 "metadata": {
  "celltoolbar": "Slideshow",
  "jupytext": {
   "encoding": "# -*- coding: utf-8 -*-",
   "formats": "ipynb,md,py"
  },
  "kernelspec": {
   "display_name": "Python 3 (ipykernel)",
   "language": "python",
   "name": "python3"
  },
  "language_info": {
   "codemirror_mode": {
    "name": "ipython",
    "version": 3
   },
   "file_extension": ".py",
   "mimetype": "text/x-python",
   "name": "python",
   "nbconvert_exporter": "python",
   "pygments_lexer": "ipython3",
   "version": "3.10.12"
  }
 },
 "nbformat": 4,
 "nbformat_minor": 4
}
